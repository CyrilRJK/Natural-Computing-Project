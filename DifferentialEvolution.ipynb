{
  "nbformat": 4,
  "nbformat_minor": 0,
  "metadata": {
    "colab": {
      "name": "DifferentialEvolution.ipynb",
      "provenance": [],
      "collapsed_sections": []
    },
    "kernelspec": {
      "name": "python3",
      "display_name": "Python 3"
    }
  },
  "cells": [
    {
      "cell_type": "markdown",
      "metadata": {
        "id": "ZMTT4rOeXAkA",
        "colab_type": "text"
      },
      "source": [
        "# Install libraries with given versions"
      ]
    },
    {
      "cell_type": "code",
      "metadata": {
        "id": "Xk4C3k5tWO7X",
        "colab_type": "code",
        "colab": {
          "base_uri": "https://localhost:8080/",
          "height": 1000
        },
        "outputId": "c71303a6-2924-4e22-b4b9-4a3598c9ce59"
      },
      "source": [
        "!pip install PyDrive\n",
        "!pip install keras==2.2.4\n",
        "!pip install tensorflow==1.13.1\n",
        "!pip install git+https://github.com/darecophoenixx/wordroid.sblo.jp"
      ],
      "execution_count": 4,
      "outputs": [
        {
          "output_type": "stream",
          "text": [
            "Requirement already satisfied: PyDrive in /usr/local/lib/python3.6/dist-packages (1.3.1)\n",
            "Requirement already satisfied: PyYAML>=3.0 in /usr/local/lib/python3.6/dist-packages (from PyDrive) (3.13)\n",
            "Requirement already satisfied: oauth2client>=4.0.0 in /usr/local/lib/python3.6/dist-packages (from PyDrive) (4.1.3)\n",
            "Requirement already satisfied: google-api-python-client>=1.2 in /usr/local/lib/python3.6/dist-packages (from PyDrive) (1.7.12)\n",
            "Requirement already satisfied: httplib2>=0.9.1 in /usr/local/lib/python3.6/dist-packages (from oauth2client>=4.0.0->PyDrive) (0.17.3)\n",
            "Requirement already satisfied: six>=1.6.1 in /usr/local/lib/python3.6/dist-packages (from oauth2client>=4.0.0->PyDrive) (1.12.0)\n",
            "Requirement already satisfied: pyasn1-modules>=0.0.5 in /usr/local/lib/python3.6/dist-packages (from oauth2client>=4.0.0->PyDrive) (0.2.8)\n",
            "Requirement already satisfied: rsa>=3.1.4 in /usr/local/lib/python3.6/dist-packages (from oauth2client>=4.0.0->PyDrive) (4.0)\n",
            "Requirement already satisfied: pyasn1>=0.1.7 in /usr/local/lib/python3.6/dist-packages (from oauth2client>=4.0.0->PyDrive) (0.4.8)\n",
            "Requirement already satisfied: uritemplate<4dev,>=3.0.0 in /usr/local/lib/python3.6/dist-packages (from google-api-python-client>=1.2->PyDrive) (3.0.1)\n",
            "Requirement already satisfied: google-auth-httplib2>=0.0.3 in /usr/local/lib/python3.6/dist-packages (from google-api-python-client>=1.2->PyDrive) (0.0.3)\n",
            "Requirement already satisfied: google-auth>=1.4.1 in /usr/local/lib/python3.6/dist-packages (from google-api-python-client>=1.2->PyDrive) (1.7.2)\n",
            "Requirement already satisfied: setuptools>=40.3.0 in /usr/local/lib/python3.6/dist-packages (from google-auth>=1.4.1->google-api-python-client>=1.2->PyDrive) (46.1.3)\n",
            "Requirement already satisfied: cachetools<3.2,>=2.0.0 in /usr/local/lib/python3.6/dist-packages (from google-auth>=1.4.1->google-api-python-client>=1.2->PyDrive) (3.1.1)\n",
            "Collecting keras==2.2.4\n",
            "\u001b[?25l  Downloading https://files.pythonhosted.org/packages/5e/10/aa32dad071ce52b5502266b5c659451cfd6ffcbf14e6c8c4f16c0ff5aaab/Keras-2.2.4-py2.py3-none-any.whl (312kB)\n",
            "\u001b[K     |████████████████████████████████| 317kB 3.4MB/s \n",
            "\u001b[?25hRequirement already satisfied: scipy>=0.14 in /usr/local/lib/python3.6/dist-packages (from keras==2.2.4) (1.4.1)\n",
            "Requirement already satisfied: h5py in /usr/local/lib/python3.6/dist-packages (from keras==2.2.4) (2.10.0)\n",
            "Requirement already satisfied: keras-preprocessing>=1.0.5 in /usr/local/lib/python3.6/dist-packages (from keras==2.2.4) (1.1.0)\n",
            "Requirement already satisfied: numpy>=1.9.1 in /usr/local/lib/python3.6/dist-packages (from keras==2.2.4) (1.18.3)\n",
            "Requirement already satisfied: keras-applications>=1.0.6 in /usr/local/lib/python3.6/dist-packages (from keras==2.2.4) (1.0.8)\n",
            "Requirement already satisfied: pyyaml in /usr/local/lib/python3.6/dist-packages (from keras==2.2.4) (3.13)\n",
            "Requirement already satisfied: six>=1.9.0 in /usr/local/lib/python3.6/dist-packages (from keras==2.2.4) (1.12.0)\n",
            "Installing collected packages: keras\n",
            "  Found existing installation: Keras 2.3.1\n",
            "    Uninstalling Keras-2.3.1:\n",
            "      Successfully uninstalled Keras-2.3.1\n",
            "Successfully installed keras-2.2.4\n",
            "Collecting tensorflow==1.13.1\n",
            "\u001b[?25l  Downloading https://files.pythonhosted.org/packages/77/63/a9fa76de8dffe7455304c4ed635be4aa9c0bacef6e0633d87d5f54530c5c/tensorflow-1.13.1-cp36-cp36m-manylinux1_x86_64.whl (92.5MB)\n",
            "\u001b[K     |████████████████████████████████| 92.5MB 50kB/s \n",
            "\u001b[?25hRequirement already satisfied: grpcio>=1.8.6 in /usr/local/lib/python3.6/dist-packages (from tensorflow==1.13.1) (1.28.1)\n",
            "Requirement already satisfied: keras-preprocessing>=1.0.5 in /usr/local/lib/python3.6/dist-packages (from tensorflow==1.13.1) (1.1.0)\n",
            "Requirement already satisfied: absl-py>=0.1.6 in /usr/local/lib/python3.6/dist-packages (from tensorflow==1.13.1) (0.9.0)\n",
            "Collecting tensorflow-estimator<1.14.0rc0,>=1.13.0\n",
            "\u001b[?25l  Downloading https://files.pythonhosted.org/packages/bb/48/13f49fc3fa0fdf916aa1419013bb8f2ad09674c275b4046d5ee669a46873/tensorflow_estimator-1.13.0-py2.py3-none-any.whl (367kB)\n",
            "\u001b[K     |████████████████████████████████| 368kB 41.9MB/s \n",
            "\u001b[?25hRequirement already satisfied: termcolor>=1.1.0 in /usr/local/lib/python3.6/dist-packages (from tensorflow==1.13.1) (1.1.0)\n",
            "Requirement already satisfied: astor>=0.6.0 in /usr/local/lib/python3.6/dist-packages (from tensorflow==1.13.1) (0.8.1)\n",
            "Requirement already satisfied: gast>=0.2.0 in /usr/local/lib/python3.6/dist-packages (from tensorflow==1.13.1) (0.3.3)\n",
            "Requirement already satisfied: numpy>=1.13.3 in /usr/local/lib/python3.6/dist-packages (from tensorflow==1.13.1) (1.18.3)\n",
            "Requirement already satisfied: six>=1.10.0 in /usr/local/lib/python3.6/dist-packages (from tensorflow==1.13.1) (1.12.0)\n",
            "Requirement already satisfied: keras-applications>=1.0.6 in /usr/local/lib/python3.6/dist-packages (from tensorflow==1.13.1) (1.0.8)\n",
            "Requirement already satisfied: protobuf>=3.6.1 in /usr/local/lib/python3.6/dist-packages (from tensorflow==1.13.1) (3.10.0)\n",
            "Requirement already satisfied: wheel>=0.26 in /usr/local/lib/python3.6/dist-packages (from tensorflow==1.13.1) (0.34.2)\n",
            "Collecting tensorboard<1.14.0,>=1.13.0\n",
            "\u001b[?25l  Downloading https://files.pythonhosted.org/packages/0f/39/bdd75b08a6fba41f098b6cb091b9e8c7a80e1b4d679a581a0ccd17b10373/tensorboard-1.13.1-py3-none-any.whl (3.2MB)\n",
            "\u001b[K     |████████████████████████████████| 3.2MB 45.7MB/s \n",
            "\u001b[?25hCollecting mock>=2.0.0\n",
            "  Downloading https://files.pythonhosted.org/packages/cd/74/d72daf8dff5b6566db857cfd088907bb0355f5dd2914c4b3ef065c790735/mock-4.0.2-py3-none-any.whl\n",
            "Requirement already satisfied: h5py in /usr/local/lib/python3.6/dist-packages (from keras-applications>=1.0.6->tensorflow==1.13.1) (2.10.0)\n",
            "Requirement already satisfied: setuptools in /usr/local/lib/python3.6/dist-packages (from protobuf>=3.6.1->tensorflow==1.13.1) (46.1.3)\n",
            "Requirement already satisfied: markdown>=2.6.8 in /usr/local/lib/python3.6/dist-packages (from tensorboard<1.14.0,>=1.13.0->tensorflow==1.13.1) (3.2.1)\n",
            "Requirement already satisfied: werkzeug>=0.11.15 in /usr/local/lib/python3.6/dist-packages (from tensorboard<1.14.0,>=1.13.0->tensorflow==1.13.1) (1.0.1)\n",
            "Installing collected packages: mock, tensorflow-estimator, tensorboard, tensorflow\n",
            "  Found existing installation: tensorflow-estimator 2.2.0\n",
            "    Uninstalling tensorflow-estimator-2.2.0:\n",
            "      Successfully uninstalled tensorflow-estimator-2.2.0\n",
            "  Found existing installation: tensorboard 2.2.1\n",
            "    Uninstalling tensorboard-2.2.1:\n",
            "      Successfully uninstalled tensorboard-2.2.1\n",
            "  Found existing installation: tensorflow 2.2.0rc4\n",
            "    Uninstalling tensorflow-2.2.0rc4:\n",
            "      Successfully uninstalled tensorflow-2.2.0rc4\n",
            "Successfully installed mock-4.0.2 tensorboard-1.13.1 tensorflow-1.13.1 tensorflow-estimator-1.13.0\n",
            "Collecting git+https://github.com/darecophoenixx/wordroid.sblo.jp\n",
            "  Cloning https://github.com/darecophoenixx/wordroid.sblo.jp to /tmp/pip-req-build-b0x7_aqf\n",
            "  Running command git clone -q https://github.com/darecophoenixx/wordroid.sblo.jp /tmp/pip-req-build-b0x7_aqf\n",
            "Requirement already satisfied: gensim in /usr/local/lib/python3.6/dist-packages (from wordroid.sblo.jp==0.0.1) (3.6.0)\n",
            "Requirement already satisfied: numpy>=1.11.3 in /usr/local/lib/python3.6/dist-packages (from gensim->wordroid.sblo.jp==0.0.1) (1.18.3)\n",
            "Requirement already satisfied: smart-open>=1.2.1 in /usr/local/lib/python3.6/dist-packages (from gensim->wordroid.sblo.jp==0.0.1) (2.0.0)\n",
            "Requirement already satisfied: six>=1.5.0 in /usr/local/lib/python3.6/dist-packages (from gensim->wordroid.sblo.jp==0.0.1) (1.12.0)\n",
            "Requirement already satisfied: scipy>=0.18.1 in /usr/local/lib/python3.6/dist-packages (from gensim->wordroid.sblo.jp==0.0.1) (1.4.1)\n",
            "Requirement already satisfied: requests in /usr/local/lib/python3.6/dist-packages (from smart-open>=1.2.1->gensim->wordroid.sblo.jp==0.0.1) (2.23.0)\n",
            "Requirement already satisfied: boto in /usr/local/lib/python3.6/dist-packages (from smart-open>=1.2.1->gensim->wordroid.sblo.jp==0.0.1) (2.49.0)\n",
            "Requirement already satisfied: boto3 in /usr/local/lib/python3.6/dist-packages (from smart-open>=1.2.1->gensim->wordroid.sblo.jp==0.0.1) (1.13.1)\n",
            "Requirement already satisfied: certifi>=2017.4.17 in /usr/local/lib/python3.6/dist-packages (from requests->smart-open>=1.2.1->gensim->wordroid.sblo.jp==0.0.1) (2020.4.5.1)\n",
            "Requirement already satisfied: urllib3!=1.25.0,!=1.25.1,<1.26,>=1.21.1 in /usr/local/lib/python3.6/dist-packages (from requests->smart-open>=1.2.1->gensim->wordroid.sblo.jp==0.0.1) (1.24.3)\n",
            "Requirement already satisfied: idna<3,>=2.5 in /usr/local/lib/python3.6/dist-packages (from requests->smart-open>=1.2.1->gensim->wordroid.sblo.jp==0.0.1) (2.9)\n",
            "Requirement already satisfied: chardet<4,>=3.0.2 in /usr/local/lib/python3.6/dist-packages (from requests->smart-open>=1.2.1->gensim->wordroid.sblo.jp==0.0.1) (3.0.4)\n",
            "Requirement already satisfied: s3transfer<0.4.0,>=0.3.0 in /usr/local/lib/python3.6/dist-packages (from boto3->smart-open>=1.2.1->gensim->wordroid.sblo.jp==0.0.1) (0.3.3)\n",
            "Requirement already satisfied: jmespath<1.0.0,>=0.7.1 in /usr/local/lib/python3.6/dist-packages (from boto3->smart-open>=1.2.1->gensim->wordroid.sblo.jp==0.0.1) (0.9.5)\n",
            "Requirement already satisfied: botocore<1.17.0,>=1.16.1 in /usr/local/lib/python3.6/dist-packages (from boto3->smart-open>=1.2.1->gensim->wordroid.sblo.jp==0.0.1) (1.16.1)\n",
            "Requirement already satisfied: docutils<0.16,>=0.10 in /usr/local/lib/python3.6/dist-packages (from botocore<1.17.0,>=1.16.1->boto3->smart-open>=1.2.1->gensim->wordroid.sblo.jp==0.0.1) (0.15.2)\n",
            "Requirement already satisfied: python-dateutil<3.0.0,>=2.1 in /usr/local/lib/python3.6/dist-packages (from botocore<1.17.0,>=1.16.1->boto3->smart-open>=1.2.1->gensim->wordroid.sblo.jp==0.0.1) (2.8.1)\n",
            "Building wheels for collected packages: wordroid.sblo.jp\n",
            "  Building wheel for wordroid.sblo.jp (setup.py) ... \u001b[?25l\u001b[?25hdone\n",
            "  Created wheel for wordroid.sblo.jp: filename=wordroid.sblo.jp-0.0.1-cp36-none-any.whl size=33710 sha256=aac2a5341336221d190a4fc20c2c18f45a01146113877c14f20ddc75c741f40b\n",
            "  Stored in directory: /tmp/pip-ephem-wheel-cache-r1lh61rx/wheels/3d/6d/24/44e7d6dc47b39e74772a04beb27433ba2ebed90876394cda60\n",
            "Successfully built wordroid.sblo.jp\n",
            "Installing collected packages: wordroid.sblo.jp\n",
            "Successfully installed wordroid.sblo.jp-0.0.1\n"
          ],
          "name": "stdout"
        }
      ]
    },
    {
      "cell_type": "markdown",
      "metadata": {
        "id": "ZNgJqp_7XO6v",
        "colab_type": "text"
      },
      "source": [
        "# Import Libraries"
      ]
    },
    {
      "cell_type": "code",
      "metadata": {
        "id": "xlk2J1BGXAQY",
        "colab_type": "code",
        "colab": {
          "base_uri": "https://localhost:8080/",
          "height": 292
        },
        "outputId": "c7ba67b5-b6c3-48e4-c515-a122952f0ccf"
      },
      "source": [
        "%matplotlib inline\n",
        "from IPython.display import SVG\n",
        "from keras.utils.vis_utils import model_to_dot\n",
        "from sklearn.metrics import accuracy_score\n",
        "import numpy as np\n",
        "import pandas as pd\n",
        "import matplotlib.pyplot as plt\n",
        "import seaborn as sns\n",
        "from keras.utils import to_categorical\n",
        "import tensorflow as tf\n",
        "from keras_ex.gkernel import GaussianKernel, GaussianKernel2, GaussianKernel3\n",
        "from keras.layers import Input, Dense\n",
        "from keras.models import Model\n",
        "from sklearn.metrics import confusion_matrix\n",
        "from sklearn.metrics import precision_recall_fscore_support\n",
        "from pydrive.auth import GoogleAuth\n",
        "from pydrive.drive import GoogleDrive\n",
        "from google.colab import auth\n",
        "from oauth2client.client import GoogleCredentials\n",
        "from scipy.stats import cauchy \n",
        "from scipy import stats\n",
        "import time"
      ],
      "execution_count": 5,
      "outputs": [
        {
          "output_type": "stream",
          "text": [
            "Using TensorFlow backend.\n",
            "/usr/local/lib/python3.6/dist-packages/tensorflow/python/framework/dtypes.py:526: FutureWarning: Passing (type, 1) or '1type' as a synonym of type is deprecated; in a future version of numpy, it will be understood as (type, (1,)) / '(1,)type'.\n",
            "  _np_qint8 = np.dtype([(\"qint8\", np.int8, 1)])\n",
            "/usr/local/lib/python3.6/dist-packages/tensorflow/python/framework/dtypes.py:527: FutureWarning: Passing (type, 1) or '1type' as a synonym of type is deprecated; in a future version of numpy, it will be understood as (type, (1,)) / '(1,)type'.\n",
            "  _np_quint8 = np.dtype([(\"quint8\", np.uint8, 1)])\n",
            "/usr/local/lib/python3.6/dist-packages/tensorflow/python/framework/dtypes.py:528: FutureWarning: Passing (type, 1) or '1type' as a synonym of type is deprecated; in a future version of numpy, it will be understood as (type, (1,)) / '(1,)type'.\n",
            "  _np_qint16 = np.dtype([(\"qint16\", np.int16, 1)])\n",
            "/usr/local/lib/python3.6/dist-packages/tensorflow/python/framework/dtypes.py:529: FutureWarning: Passing (type, 1) or '1type' as a synonym of type is deprecated; in a future version of numpy, it will be understood as (type, (1,)) / '(1,)type'.\n",
            "  _np_quint16 = np.dtype([(\"quint16\", np.uint16, 1)])\n",
            "/usr/local/lib/python3.6/dist-packages/tensorflow/python/framework/dtypes.py:530: FutureWarning: Passing (type, 1) or '1type' as a synonym of type is deprecated; in a future version of numpy, it will be understood as (type, (1,)) / '(1,)type'.\n",
            "  _np_qint32 = np.dtype([(\"qint32\", np.int32, 1)])\n",
            "/usr/local/lib/python3.6/dist-packages/tensorflow/python/framework/dtypes.py:535: FutureWarning: Passing (type, 1) or '1type' as a synonym of type is deprecated; in a future version of numpy, it will be understood as (type, (1,)) / '(1,)type'.\n",
            "  np_resource = np.dtype([(\"resource\", np.ubyte, 1)])\n",
            "/usr/local/lib/python3.6/dist-packages/statsmodels/tools/_testing.py:19: FutureWarning: pandas.util.testing is deprecated. Use the functions in the public API at pandas.testing instead.\n",
            "  import pandas.util.testing as tm\n"
          ],
          "name": "stderr"
        }
      ]
    },
    {
      "cell_type": "markdown",
      "metadata": {
        "id": "IuDOUz4-XREc",
        "colab_type": "text"
      },
      "source": [
        "# Construct the RBF Network\n"
      ]
    },
    {
      "cell_type": "code",
      "metadata": {
        "id": "aueJtbj4YNvm",
        "colab_type": "code",
        "colab": {}
      },
      "source": [
        "auth.authenticate_user()\n",
        "gauth = GoogleAuth()\n",
        "gauth.credentials = GoogleCredentials.get_application_default()\n",
        "drive = GoogleDrive(gauth)\n",
        "downloaded = drive.CreateFile({'id':\"1EWNv4GOWsgGXxlkMaTVJMjEAM5jaqRse\"})   # replace the id with id of file you want to access\n",
        "downloaded.GetContentFile('rbfnn.h5')   "
      ],
      "execution_count": 0,
      "outputs": []
    },
    {
      "cell_type": "code",
      "metadata": {
        "id": "D5uhb8odXU-F",
        "colab_type": "code",
        "colab": {
          "base_uri": "https://localhost:8080/",
          "height": 88
        },
        "outputId": "0e7d88bd-0e94-4a39-9527-9050bdbf8f18"
      },
      "source": [
        "np.random.seed(0)\n",
        "num_lm0 = 100\n",
        "num_lm = num_lm0 * 10\n",
        "init_wgt = np.zeros(((1000, 784)))\n",
        "\n",
        "inp = Input(shape=(28*28,), name='inp')\n",
        "oup = GaussianKernel(num_lm, 28*28,\n",
        "                     kernel_gamma='auto', weights=[init_wgt],\n",
        "                     name='gkernel1')(inp)\n",
        "oup = Dense(10, activation='softmax')(oup)\n",
        "model = Model(inp, oup)\n",
        "model.compile(loss='categorical_crossentropy', optimizer='adam', metrics=['accuracy'])\n",
        "model.load_weights(\"rbfnn.h5\")"
      ],
      "execution_count": 7,
      "outputs": [
        {
          "output_type": "stream",
          "text": [
            "WARNING:tensorflow:From /usr/local/lib/python3.6/dist-packages/tensorflow/python/framework/op_def_library.py:263: colocate_with (from tensorflow.python.framework.ops) is deprecated and will be removed in a future version.\n",
            "Instructions for updating:\n",
            "Colocations handled automatically by placer.\n"
          ],
          "name": "stdout"
        }
      ]
    },
    {
      "cell_type": "markdown",
      "metadata": {
        "id": "SuULf1sAXwTb",
        "colab_type": "text"
      },
      "source": [
        "# Load the Data"
      ]
    },
    {
      "cell_type": "code",
      "metadata": {
        "id": "h_3O2LDIY8JD",
        "colab_type": "code",
        "colab": {
          "base_uri": "https://localhost:8080/",
          "height": 51
        },
        "outputId": "a9bb22a8-053d-4e69-81ab-05d2ccadff71"
      },
      "source": [
        "(X_train, y_train), (X_test, y_test) = tf.keras.datasets.mnist.load_data()"
      ],
      "execution_count": 8,
      "outputs": [
        {
          "output_type": "stream",
          "text": [
            "Downloading data from https://storage.googleapis.com/tensorflow/tf-keras-datasets/mnist.npz\n",
            "11493376/11490434 [==============================] - 0s 0us/step\n"
          ],
          "name": "stdout"
        }
      ]
    },
    {
      "cell_type": "code",
      "metadata": {
        "id": "xRonRoWzZB1a",
        "colab_type": "code",
        "colab": {}
      },
      "source": [
        "def prepare_data(X,y):\n",
        "  X = X.reshape((X.shape[0], -1))\n",
        "  X_sc = X / 256.0\n",
        "  y_cat = to_categorical(y)\n",
        "  return X_sc, y_cat"
      ],
      "execution_count": 0,
      "outputs": []
    },
    {
      "cell_type": "code",
      "metadata": {
        "id": "6zDLB-VvZNrt",
        "colab_type": "code",
        "colab": {}
      },
      "source": [
        "#Example usage\n",
        "#X_train, y_train = prepare_data(X_train,y_train)\n",
        "#model.predict(X_train)"
      ],
      "execution_count": 0,
      "outputs": []
    },
    {
      "cell_type": "markdown",
      "metadata": {
        "id": "PN4m0OWdZVAr",
        "colab_type": "text"
      },
      "source": [
        "# Differential Evolution"
      ]
    },
    {
      "cell_type": "code",
      "metadata": {
        "id": "ZpIngEbtq1UR",
        "colab_type": "code",
        "colab": {}
      },
      "source": [
        "import operator\n",
        "import random"
      ],
      "execution_count": 0,
      "outputs": []
    },
    {
      "cell_type": "code",
      "metadata": {
        "id": "ngt_7F6NhdXk",
        "colab_type": "code",
        "colab": {}
      },
      "source": [
        "def euclidean(s):\n",
        "    # https://stackoverflow.com/questions/1401712/how-can-the-euclidean-distance-be-calculated-with-numpy\n",
        "    # pass s=a-b as argument to the function\n",
        "    return np.linalg.norm(s)"
      ],
      "execution_count": 0,
      "outputs": []
    },
    {
      "cell_type": "code",
      "metadata": {
        "id": "X2ZHV9oDoxfK",
        "colab_type": "code",
        "colab": {}
      },
      "source": [
        "def fitness_func(individual,img):\n",
        "  return (-1)*euclidean(individual-img)\n",
        "\n",
        "def get_top_p(population,p,img):\n",
        "  num_best = int(len(population)*p)\n",
        "  fitness =  [(individual,fitness_func(individual,img)) for individual in population]\n",
        "  fitness.sort(key=lambda x: x[1])\n",
        "  fitness = fitness[-num_best:]\n",
        "  return random.choice(fitness)[0]\n",
        "  "
      ],
      "execution_count": 0,
      "outputs": []
    },
    {
      "cell_type": "markdown",
      "metadata": {
        "id": "ucn0g2ucn4s-",
        "colab_type": "text"
      },
      "source": [
        "## Initialization\n"
      ]
    },
    {
      "cell_type": "code",
      "metadata": {
        "id": "lcnO5SN5hemu",
        "colab_type": "code",
        "colab": {}
      },
      "source": [
        "#Image to be evolved\n",
        "img = X_test[0].reshape((28*28, -1))\n",
        "#Mean and std for Gaussian noise\n",
        "mean = 0.0  \n",
        "std = 1.0  \n",
        "#Range\n",
        "R_min = 0.0\n",
        "R_max = 255.0\n",
        "#Maximum number of function evaluations\n",
        "nfe_max = 10000\n",
        "nfe = 0\n",
        "#Initial population size\n",
        "PS_ini = 18\n",
        "PS_min = 4\n",
        "x = (1/3)*nfe_max\n",
        "y = (1/3)*PS_ini\n",
        "PS = PS_ini\n",
        "#Number of groups\n",
        "#theselectionprobability,thescalefactor and the crossover rate different per group\n",
        "K = 7\n",
        "p_k = np.ones((K,1))*(1/K)\n",
        "#ratio of the external archive size to the whole population PS\n",
        "rarc = 2.6\n",
        "#archive\n",
        "A_size = int(PS*rarc)\n",
        "A = np.zeros((A_size,28*28))\n",
        "A_ind = 0\n",
        "#scale factor\n",
        "f = np.ones((PS,1)) \n",
        "mu_f = np.ones((K,1)) *0.5\n",
        "#crossover p\n",
        "cr = np.ones((PS,1)) \n",
        "mu_cr = np.ones((K,1)) *0.5\n",
        "#another p\n",
        "p = 0.11\n",
        "c = 0.1\n",
        "#num gen\n",
        "G = 1\n",
        "#Initial population\n",
        "population = np.zeros((PS,28*28))\n",
        "V = np.zeros((PS,28*28))\n",
        "U = np.zeros((PS,28*28))\n",
        "for i in range(PS):\n",
        "  noisy_img = img + np.random.normal(mean, std, (28*28,1))\n",
        "  population[i] = np.clip(noisy_img, 0, 255).reshape(28*28)\n",
        "X_best = None\n",
        "X_best_fitness = None"
      ],
      "execution_count": 0,
      "outputs": []
    },
    {
      "cell_type": "code",
      "metadata": {
        "id": "TWWEoXOyoWrS",
        "colab_type": "code",
        "colab": {
          "base_uri": "https://localhost:8080/",
          "height": 1000
        },
        "outputId": "fa550411-da3b-42c2-8e74-55e98fbcc075"
      },
      "source": [
        "nfe = 0\n",
        "start = time.time()\n",
        "while nfe < nfe_max:\n",
        "  s_f = []\n",
        "  s_f_weights = []\n",
        "  s_cr = []\n",
        "  s_cr_weights = []\n",
        "  k_selections = []\n",
        "  k_success = np.zeros((K,1))\n",
        "  k_failure = np.zeros((K,1))\n",
        "\n",
        "  if G > 2:\n",
        "    #Adjust the individuals of the population; \n",
        "    for i in range(PS):\n",
        "      population[i] = np.clip(population[i], 0, 255).reshape(28*28)\n",
        "    #Adjust storage A; \n",
        "    for i in range(A_size):\n",
        "      A[i] = np.clip(A[i], 0, 255).reshape(28*28)\n",
        "    \n",
        "  \n",
        "  for i in range(PS):\n",
        "    custm = stats.rv_discrete(name='custm', values=(np.arange(K).reshape(K,1), p_k))\n",
        "    k = custm.rvs(size=1)\n",
        "    k_selections.append(k)\n",
        "    cr[i]  = np.random.normal(mu_cr[k], 0.1, 1)\n",
        "    if cr[i] < 0:\n",
        "      cr[i] = 0\n",
        "    f[i] = cauchy.rvs(mu_f[k],0.1,1)\n",
        "    while f[i] <= 0:\n",
        "      f[i] = cauchy.rvs(mu_f[k],0.1,1)\n",
        "    if f[i] > 1:\n",
        "      f[i] = 1\n",
        "\n",
        "  for i in range(PS):\n",
        "    #X_p_best denotes a certain vector selector randomly from the top 100·p% \n",
        "    #individuals of the current population \n",
        "    X_p_best =  get_top_p(population,p,img).reshape((784,1))\n",
        "    #X_r_1 denotes a random vector selection from the current population\n",
        "    X_r_1 = random.choice(population).reshape((784,1))\n",
        "    #X_hat_r_2 denotes a randomly selected solution from the union A and P\n",
        "    X_hat_r_2 = random.choice(np.concatenate((population, A), axis=0)).reshape((784,1))\n",
        "\n",
        "    #mutation\n",
        "    V[i] = (population[i].reshape((784,1)) + f[i]*(X_p_best - population[i].reshape((784,1))) + f[i]*(X_r_1 - X_hat_r_2)).reshape(784)\n",
        "    #crossover\n",
        "    U[i] = population[i]\n",
        "    for j in range(28*28):\n",
        "      if random.uniform(0, 1) <= cr[i]:\n",
        "        U[i][j] = V[i][j]\n",
        "  \n",
        "  for i in range(PS):\n",
        "    k = k_selections[i]\n",
        "    if fitness_func(population[i],img) <= fitness_func(U[i],img):\n",
        "      s_cr.append(cr[i])\n",
        "      s_cr_weights.append(np.std(np.subtract(population[i],U[i])))\n",
        "      s_f.append(f[i])\n",
        "      s_f_weights.append(fitness_func(U[i],img)-fitness_func(population[i],img))\n",
        "      population[i] = U[i]\n",
        "      k_success[k] += 1\n",
        "    else:\n",
        "      if A_ind == A_size:\n",
        "        A_ind = 0\n",
        "      A[A_ind] = population[i]\n",
        "      A_ind += 1\n",
        "      k_failure[k] += 1\n",
        "\n",
        "  #update params (mixed with Jade-like update)\n",
        "  if len(s_cr) != 0:\n",
        "    s_cr_weights = (s_cr_weights/np.sum(s_cr_weights)).reshape((len(s_cr_weights),1))\n",
        "    s_f_weights = (s_f_weights/np.sum(s_f_weights)).reshape((len(s_f_weights),1))\n",
        "    mean_cr = np.sum(np.multiply(np.square(s_cr),s_cr_weights))/np.sum(np.multiply(s_cr,s_cr_weights))\n",
        "    mean_f = np.sum(np.multiply(np.square(s_f),s_f_weights))/np.sum(np.multiply(s_f,s_f_weights))  \n",
        "    #we can make it more group specific as discussed in the paper\n",
        "    for i in range(K):\n",
        "      mu_cr[i] = (1-c)*mu_cr[i] + c*mean_cr\n",
        "      mu_f[i] = (1-c)*mu_f[i] + c*mean_f\n",
        "  \n",
        "  for i in range(K):\n",
        "    if k_success[i] != 0:\n",
        "      k_success[i] = np.square(k_success[i])/(np.sum(k_success)*(k_success[i]+k_failure[i]))\n",
        "    else:\n",
        "      p_k[i] = 0.000000001\n",
        "  p_k = p_k/np.sum(p_k)\n",
        "\n",
        "  #update pop size\n",
        "  if nfe <= x:\n",
        "    PS = int(np.ceil((((y-PS_ini)/np.square(x-PS_ini))*np.square(nfe-PS_ini)) + PS_ini))\n",
        "  else:\n",
        "    PS = int(np.ceil((((y-PS_ini)/(x-PS_min))*(nfe-nfe_max)) + PS_min))\n",
        "  G += 1\n",
        "  X_best = get_top_p(population,1/(len(population)),img)\n",
        "  X_best_fitness = fitness_func(X_best,img)\n",
        "  nfe += PS\n",
        "  print(nfe, \" : \"  ,X_best_fitness,X_best.shape)\n",
        "end = time.time()\n",
        "print(\"Time: \",end-start)"
      ],
      "execution_count": 103,
      "outputs": [
        {
          "output_type": "stream",
          "text": [
            "18  :  -73044.64287155967 (784,)\n",
            "36  :  -73042.25484294453 (784,)\n",
            "54  :  -73031.41371629393 (784,)\n",
            "72  :  -73016.58219145282 (784,)\n",
            "90  :  -72991.7385796313 (784,)\n",
            "108  :  -72961.0630296065 (784,)\n",
            "126  :  -72927.24403771067 (784,)\n",
            "144  :  -72878.161275898 (784,)\n",
            "162  :  -72776.77678059258 (784,)\n",
            "180  :  -72713.97913592217 (784,)\n",
            "198  :  -72606.30402724109 (784,)\n",
            "216  :  -72467.67616357573 (784,)\n",
            "234  :  -72115.00719901743 (784,)\n",
            "252  :  -71981.3831316308 (784,)\n",
            "270  :  -71868.512211192 (784,)\n",
            "288  :  -71639.21186383735 (784,)\n",
            "306  :  -71508.83296730882 (784,)\n",
            "324  :  -71356.33471153994 (784,)\n",
            "342  :  -71229.14900751956 (784,)\n",
            "360  :  -71224.89975346233 (784,)\n",
            "378  :  -71122.89674240569 (784,)\n",
            "396  :  -71089.51783061815 (784,)\n",
            "414  :  -70606.39539342074 (784,)\n",
            "432  :  -70583.81711472676 (784,)\n",
            "450  :  -70493.91498201474 (784,)\n",
            "468  :  -70476.00273719332 (784,)\n",
            "486  :  -70238.1346857214 (784,)\n",
            "504  :  -70069.72863734826 (784,)\n",
            "522  :  -70064.0174192156 (784,)\n",
            "540  :  -69985.53953867013 (784,)\n",
            "558  :  -69985.53953867013 (784,)\n",
            "576  :  -69882.13889456648 (784,)\n",
            "594  :  -69598.8757981959 (784,)\n",
            "612  :  -69502.03487895058 (784,)\n",
            "630  :  -69502.03487895058 (784,)\n",
            "648  :  -69365.38658995766 (784,)\n",
            "666  :  -69313.02065751012 (784,)\n",
            "684  :  -69286.14564313824 (784,)\n",
            "702  :  -69284.13800667727 (784,)\n",
            "720  :  -69078.81560671389 (784,)\n",
            "738  :  -69077.65582766003 (784,)\n",
            "756  :  -69077.65582766003 (784,)\n",
            "774  :  -69077.65582766003 (784,)\n",
            "792  :  -69038.82873272746 (784,)\n",
            "810  :  -69006.63694170747 (784,)\n",
            "828  :  -68944.79102696388 (784,)\n",
            "846  :  -68858.4354548653 (784,)\n",
            "864  :  -68855.25963928836 (784,)\n",
            "882  :  -68801.87129828118 (784,)\n",
            "900  :  -68774.08267947221 (784,)\n",
            "918  :  -68597.48458154743 (784,)\n",
            "936  :  -68577.02110829878 (784,)\n",
            "954  :  -68577.02110829878 (784,)\n",
            "972  :  -68427.13130689695 (784,)\n",
            "990  :  -68364.91307589915 (784,)\n",
            "1007  :  -68348.3036477997 (784,)\n",
            "1024  :  -68283.0447904496 (784,)\n",
            "1041  :  -68279.44093163424 (784,)\n",
            "1058  :  -68159.02305803851 (784,)\n",
            "1075  :  -68118.74061256234 (784,)\n",
            "1092  :  -68118.74061256234 (784,)\n",
            "1109  :  -68035.10434472057 (784,)\n",
            "1126  :  -67913.40430357886 (784,)\n",
            "1143  :  -67894.58908464259 (784,)\n",
            "1160  :  -67858.51644689437 (784,)\n",
            "1177  :  -67794.52932175822 (784,)\n",
            "1194  :  -67685.22651692004 (784,)\n",
            "1211  :  -67624.2602750208 (784,)\n",
            "1228  :  -67624.2602750208 (784,)\n",
            "1245  :  -67620.28538034791 (784,)\n",
            "1262  :  -67599.86040628549 (784,)\n",
            "1279  :  -67568.20730585977 (784,)\n",
            "1296  :  -67523.25927309075 (784,)\n",
            "1313  :  -67441.08807169026 (784,)\n",
            "1330  :  -67373.28084314957 (784,)\n",
            "1347  :  -67355.9025062933 (784,)\n",
            "1364  :  -67352.30027215776 (784,)\n",
            "1381  :  -67341.70014003344 (784,)\n",
            "1397  :  -67254.50430640626 (784,)\n",
            "1413  :  -67156.4653811264 (784,)\n",
            "1429  :  -67102.518984866 (784,)\n",
            "1445  :  -67046.30594466739 (784,)\n",
            "1461  :  -67030.84839489507 (784,)\n",
            "1477  :  -66894.25941115456 (784,)\n",
            "1493  :  -66884.0499722367 (784,)\n",
            "1509  :  -66845.32171521669 (784,)\n",
            "1525  :  -66798.54799105552 (784,)\n",
            "1541  :  -66718.4057904297 (784,)\n",
            "1557  :  -66715.85447095089 (784,)\n",
            "1573  :  -66606.67845308222 (784,)\n",
            "1589  :  -66546.25341343935 (784,)\n",
            "1605  :  -66466.25709429433 (784,)\n",
            "1621  :  -66453.05265076437 (784,)\n",
            "1637  :  -66358.40940149898 (784,)\n",
            "1653  :  -66281.43377940587 (784,)\n",
            "1669  :  -66231.43523297284 (784,)\n",
            "1685  :  -66167.0758689741 (784,)\n",
            "1700  :  -66125.84075401486 (784,)\n",
            "1715  :  -66101.29455430637 (784,)\n",
            "1730  :  -66081.73343378246 (784,)\n",
            "1745  :  -66070.76695080393 (784,)\n",
            "1760  :  -66027.53730323266 (784,)\n",
            "1775  :  -66000.33652942278 (784,)\n",
            "1790  :  -65986.38581863938 (784,)\n",
            "1805  :  -65907.3766630272 (784,)\n",
            "1820  :  -65907.3766630272 (784,)\n",
            "1835  :  -65852.2718556471 (784,)\n",
            "1850  :  -65839.61774295167 (784,)\n",
            "1865  :  -65810.36164074503 (784,)\n",
            "1880  :  -65732.78617050288 (784,)\n",
            "1895  :  -65708.43816558605 (784,)\n",
            "1910  :  -65653.54959680089 (784,)\n",
            "1925  :  -65641.0921833351 (784,)\n",
            "1940  :  -65597.39647732818 (784,)\n",
            "1954  :  -65557.62550804963 (784,)\n",
            "1968  :  -65515.45523408468 (784,)\n",
            "1982  :  -65514.07327377048 (784,)\n",
            "1996  :  -65491.34747176226 (784,)\n",
            "2010  :  -65468.72577297279 (784,)\n",
            "2024  :  -65439.42960513289 (784,)\n",
            "2038  :  -65437.01451845931 (784,)\n",
            "2052  :  -65383.652301262926 (784,)\n",
            "2066  :  -65352.085251408454 (784,)\n",
            "2080  :  -65323.495740782244 (784,)\n",
            "2094  :  -65285.571965691066 (784,)\n",
            "2108  :  -65261.09872573263 (784,)\n",
            "2122  :  -65250.759246691734 (784,)\n",
            "2136  :  -65210.39769302014 (784,)\n",
            "2150  :  -65210.22820859659 (784,)\n",
            "2164  :  -65208.72544880257 (784,)\n",
            "2177  :  -65191.27404292587 (784,)\n",
            "2190  :  -65186.929663632814 (784,)\n",
            "2203  :  -65109.65917664321 (784,)\n",
            "2216  :  -65105.03879983496 (784,)\n",
            "2229  :  -65105.03879983496 (784,)\n",
            "2242  :  -65029.52874586256 (784,)\n",
            "2255  :  -65029.52874586256 (784,)\n",
            "2268  :  -65022.88349880633 (784,)\n",
            "2281  :  -65014.00955240621 (784,)\n",
            "2294  :  -64965.35869176121 (784,)\n",
            "2307  :  -64944.52848973295 (784,)\n",
            "2320  :  -64915.16932435899 (784,)\n",
            "2333  :  -64915.1342862176 (784,)\n",
            "2346  :  -64875.44304694919 (784,)\n",
            "2359  :  -64816.67754091544 (784,)\n",
            "2372  :  -64784.20072270103 (784,)\n",
            "2384  :  -64775.46621077724 (784,)\n",
            "2396  :  -64771.47427993639 (784,)\n",
            "2408  :  -64693.77000038029 (784,)\n",
            "2420  :  -64636.315940209344 (784,)\n",
            "2432  :  -64636.315940209344 (784,)\n",
            "2444  :  -64636.315940209344 (784,)\n",
            "2456  :  -64636.315940209344 (784,)\n",
            "2468  :  -64636.315940209344 (784,)\n",
            "2480  :  -64628.90349619072 (784,)\n",
            "2492  :  -64531.38594021474 (784,)\n",
            "2504  :  -64530.49226066234 (784,)\n",
            "2516  :  -64506.51438760239 (784,)\n",
            "2528  :  -64506.51438401636 (784,)\n",
            "2540  :  -64506.51438401636 (784,)\n",
            "2552  :  -64491.309715926276 (784,)\n",
            "2563  :  -64490.36674964659 (784,)\n",
            "2574  :  -64454.33022257372 (784,)\n",
            "2585  :  -64387.24464885854 (784,)\n",
            "2596  :  -64373.64098961474 (784,)\n",
            "2607  :  -64345.56096863771 (784,)\n",
            "2618  :  -64334.808666946235 (784,)\n",
            "2629  :  -64330.19558714057 (784,)\n",
            "2640  :  -64325.18723152979 (784,)\n",
            "2651  :  -64319.67025151053 (784,)\n",
            "2662  :  -64319.67025151053 (784,)\n",
            "2673  :  -64319.67025151053 (784,)\n",
            "2684  :  -64319.67025151053 (784,)\n",
            "2695  :  -64299.67052858561 (784,)\n",
            "2706  :  -64291.959864658646 (784,)\n",
            "2717  :  -64273.00749140626 (784,)\n",
            "2728  :  -64272.26649399966 (784,)\n",
            "2738  :  -64272.26649399966 (784,)\n",
            "2748  :  -64272.26649399966 (784,)\n",
            "2758  :  -64263.93066421627 (784,)\n",
            "2768  :  -64244.68589327945 (784,)\n",
            "2778  :  -64239.92112554381 (784,)\n",
            "2788  :  -64231.478896820685 (784,)\n",
            "2798  :  -64231.478896820685 (784,)\n",
            "2808  :  -64231.478896820685 (784,)\n",
            "2818  :  -64201.47759362887 (784,)\n",
            "2828  :  -64200.717047454 (784,)\n",
            "2838  :  -64171.70450301881 (784,)\n",
            "2848  :  -64164.595331611934 (784,)\n",
            "2858  :  -64162.0308111936 (784,)\n",
            "2868  :  -64152.25242103404 (784,)\n",
            "2878  :  -64126.81099797362 (784,)\n",
            "2888  :  -64126.81099797362 (784,)\n",
            "2898  :  -64114.55467244365 (784,)\n",
            "2907  :  -64095.3734124108 (784,)\n",
            "2916  :  -64089.82310905579 (784,)\n",
            "2925  :  -64062.703912824036 (784,)\n",
            "2934  :  -64043.08377498127 (784,)\n",
            "2943  :  -64013.003970750564 (784,)\n",
            "2952  :  -64008.11756377891 (784,)\n",
            "2961  :  -64008.11756377891 (784,)\n",
            "2970  :  -64002.958045061285 (784,)\n",
            "2979  :  -63958.32136398914 (784,)\n",
            "2988  :  -63956.984782937296 (784,)\n",
            "2997  :  -63931.09108602141 (784,)\n",
            "3006  :  -63930.447421595636 (784,)\n",
            "3015  :  -63929.458405791935 (784,)\n",
            "3024  :  -63929.34525527934 (784,)\n",
            "3033  :  -63905.01878632988 (784,)\n",
            "3042  :  -63902.307992415204 (784,)\n",
            "3051  :  -63890.66674125345 (784,)\n",
            "3059  :  -63889.629715297364 (784,)\n",
            "3067  :  -63889.629715297364 (784,)\n",
            "3075  :  -63889.629715297364 (784,)\n",
            "3083  :  -63889.629715297364 (784,)\n",
            "3091  :  -63889.629715297364 (784,)\n",
            "3099  :  -63889.629715297364 (784,)\n",
            "3107  :  -63889.629715297364 (784,)\n",
            "3115  :  -63889.13464549632 (784,)\n",
            "3123  :  -63874.73215217067 (784,)\n",
            "3131  :  -63874.73215217067 (784,)\n",
            "3139  :  -63874.73215217067 (784,)\n",
            "3147  :  -63874.73215217067 (784,)\n",
            "3155  :  -63874.73215217067 (784,)\n",
            "3163  :  -63874.73215217067 (784,)\n",
            "3171  :  -63873.91649963731 (784,)\n",
            "3179  :  -63873.91649963731 (784,)\n",
            "3187  :  -63862.98761325778 (784,)\n",
            "3195  :  -63862.80073654721 (784,)\n",
            "3202  :  -63862.73065964939 (784,)\n",
            "3209  :  -63862.73065964939 (784,)\n",
            "3216  :  -63862.73065964939 (784,)\n",
            "3223  :  -63855.94079265585 (784,)\n",
            "3230  :  -63855.93917686129 (784,)\n",
            "3237  :  -63855.580564877026 (784,)\n",
            "3244  :  -63855.32797822504 (784,)\n",
            "3251  :  -63850.62257126752 (784,)\n",
            "3258  :  -63850.61183754942 (784,)\n",
            "3265  :  -63850.61183754942 (784,)\n",
            "3272  :  -63845.90083925826 (784,)\n",
            "3279  :  -63842.90898031962 (784,)\n",
            "3286  :  -63840.53831444455 (784,)\n",
            "3293  :  -63832.164653058426 (784,)\n",
            "3300  :  -63832.14586236165 (784,)\n",
            "3307  :  -63832.14586236165 (784,)\n",
            "3314  :  -63829.0630505208 (784,)\n",
            "3321  :  -63828.673722351865 (784,)\n",
            "3328  :  -63823.25336599819 (784,)\n",
            "3335  :  -63813.654671648845 (784,)\n",
            "3364  :  -63809.67553380867 (784,)\n"
          ],
          "name": "stdout"
        },
        {
          "output_type": "error",
          "ename": "IndexError",
          "evalue": "ignored",
          "traceback": [
            "\u001b[0;31m---------------------------------------------------------------------------\u001b[0m",
            "\u001b[0;31mIndexError\u001b[0m                                Traceback (most recent call last)",
            "\u001b[0;32m<ipython-input-103-05164639d7e7>\u001b[0m in \u001b[0;36m<module>\u001b[0;34m()\u001b[0m\n\u001b[1;32m     13\u001b[0m     \u001b[0;31m#Adjust the individuals of the population;\u001b[0m\u001b[0;34m\u001b[0m\u001b[0;34m\u001b[0m\u001b[0;34m\u001b[0m\u001b[0m\n\u001b[1;32m     14\u001b[0m     \u001b[0;32mfor\u001b[0m \u001b[0mi\u001b[0m \u001b[0;32min\u001b[0m \u001b[0mrange\u001b[0m\u001b[0;34m(\u001b[0m\u001b[0mPS\u001b[0m\u001b[0;34m)\u001b[0m\u001b[0;34m:\u001b[0m\u001b[0;34m\u001b[0m\u001b[0;34m\u001b[0m\u001b[0m\n\u001b[0;32m---> 15\u001b[0;31m       \u001b[0mpopulation\u001b[0m\u001b[0;34m[\u001b[0m\u001b[0mi\u001b[0m\u001b[0;34m]\u001b[0m \u001b[0;34m=\u001b[0m \u001b[0mnp\u001b[0m\u001b[0;34m.\u001b[0m\u001b[0mclip\u001b[0m\u001b[0;34m(\u001b[0m\u001b[0mpopulation\u001b[0m\u001b[0;34m[\u001b[0m\u001b[0mi\u001b[0m\u001b[0;34m]\u001b[0m\u001b[0;34m,\u001b[0m \u001b[0;36m0\u001b[0m\u001b[0;34m,\u001b[0m \u001b[0;36m255\u001b[0m\u001b[0;34m)\u001b[0m\u001b[0;34m.\u001b[0m\u001b[0mreshape\u001b[0m\u001b[0;34m(\u001b[0m\u001b[0;36m28\u001b[0m\u001b[0;34m*\u001b[0m\u001b[0;36m28\u001b[0m\u001b[0;34m)\u001b[0m\u001b[0;34m\u001b[0m\u001b[0;34m\u001b[0m\u001b[0m\n\u001b[0m\u001b[1;32m     16\u001b[0m     \u001b[0;31m#Adjust storage A;\u001b[0m\u001b[0;34m\u001b[0m\u001b[0;34m\u001b[0m\u001b[0;34m\u001b[0m\u001b[0m\n\u001b[1;32m     17\u001b[0m     \u001b[0;32mfor\u001b[0m \u001b[0mi\u001b[0m \u001b[0;32min\u001b[0m \u001b[0mrange\u001b[0m\u001b[0;34m(\u001b[0m\u001b[0mA_size\u001b[0m\u001b[0;34m)\u001b[0m\u001b[0;34m:\u001b[0m\u001b[0;34m\u001b[0m\u001b[0;34m\u001b[0m\u001b[0m\n",
            "\u001b[0;31mIndexError\u001b[0m: index 18 is out of bounds for axis 0 with size 18"
          ]
        }
      ]
    },
    {
      "cell_type": "markdown",
      "metadata": {
        "id": "G7XXXtWB_rDd",
        "colab_type": "text"
      },
      "source": [
        "## ToDo\n",
        "* Personalize wrt group the mu parameters.\n",
        "* The population can also increase. Try to allocate the array smartly to overcome this problem.\n",
        "* Check hyperparameters\n",
        "* Fix the loss\n"
      ]
    },
    {
      "cell_type": "code",
      "metadata": {
        "id": "KrTKUkb3BeaX",
        "colab_type": "code",
        "colab": {
          "base_uri": "https://localhost:8080/",
          "height": 34
        },
        "outputId": "5bef7e9a-a3d7-412d-c40a-3e62c375b287"
      },
      "source": [
        "#Truth:7\n",
        "y_test[0]"
      ],
      "execution_count": 133,
      "outputs": [
        {
          "output_type": "execute_result",
          "data": {
            "text/plain": [
              "7"
            ]
          },
          "metadata": {
            "tags": []
          },
          "execution_count": 133
        }
      ]
    },
    {
      "cell_type": "code",
      "metadata": {
        "id": "95itTJiCCEHb",
        "colab_type": "code",
        "colab": {
          "base_uri": "https://localhost:8080/",
          "height": 34
        },
        "outputId": "351b470b-e252-4608-8a53-69ba933a497a"
      },
      "source": [
        "#Model predicts: 7\n",
        "X_test_sc = X_test/255.0\n",
        "preds = model.predict(X_test_sc[0].reshape((1,28*28)))\n",
        "np.argmax(preds,axis=1)"
      ],
      "execution_count": 132,
      "outputs": [
        {
          "output_type": "execute_result",
          "data": {
            "text/plain": [
              "array([7])"
            ]
          },
          "metadata": {
            "tags": []
          },
          "execution_count": 132
        }
      ]
    },
    {
      "cell_type": "code",
      "metadata": {
        "id": "h2cRf_tNDN8V",
        "colab_type": "code",
        "colab": {}
      },
      "source": [
        "X_best_sc = X_best / 255.0"
      ],
      "execution_count": 0,
      "outputs": []
    },
    {
      "cell_type": "code",
      "metadata": {
        "id": "qeWTle4K_R8k",
        "colab_type": "code",
        "colab": {
          "base_uri": "https://localhost:8080/",
          "height": 68
        },
        "outputId": "835c0ff8-c827-46fa-d11c-c6b97084c5f3"
      },
      "source": [
        "#Predicts evolved example:7\n",
        "model.predict(X_best_sc.reshape((1,28*28)))"
      ],
      "execution_count": 135,
      "outputs": [
        {
          "output_type": "execute_result",
          "data": {
            "text/plain": [
              "array([[1.0185721e-04, 6.8408804e-07, 1.2421128e-04, 5.9431945e-03,\n",
              "        2.0786927e-05, 6.9741259e-04, 1.5578987e-08, 9.9124545e-01,\n",
              "        1.9608623e-04, 1.6703642e-03]], dtype=float32)"
            ]
          },
          "metadata": {
            "tags": []
          },
          "execution_count": 135
        }
      ]
    },
    {
      "cell_type": "code",
      "metadata": {
        "id": "uHLPdeBdApyy",
        "colab_type": "code",
        "colab": {
          "base_uri": "https://localhost:8080/",
          "height": 282
        },
        "outputId": "5702f3b3-2b67-46b2-dd08-06dbecb6fe88"
      },
      "source": [
        "plt.imshow(X_best.reshape((28,28)))"
      ],
      "execution_count": 111,
      "outputs": [
        {
          "output_type": "execute_result",
          "data": {
            "text/plain": [
              "<matplotlib.image.AxesImage at 0x7f258a9dadd8>"
            ]
          },
          "metadata": {
            "tags": []
          },
          "execution_count": 111
        },
        {
          "output_type": "display_data",
          "data": {
            "image/png": "[encoded data removed]",
            "text/plain": [
              "<Figure size 432x288 with 1 Axes>"
            ]
          },
          "metadata": {
            "tags": [],
            "needs_background": "light"
          }
        }
      ]
    },
    {
      "cell_type": "code",
      "metadata": {
        "id": "pdKqentyBipA",
        "colab_type": "code",
        "colab": {
          "base_uri": "https://localhost:8080/",
          "height": 282
        },
        "outputId": "6d178a86-5a7a-48bd-c8d0-322ee68f95be"
      },
      "source": [
        "plt.imshow(X_test[0].reshape((28,28)))"
      ],
      "execution_count": 116,
      "outputs": [
        {
          "output_type": "execute_result",
          "data": {
            "text/plain": [
              "<matplotlib.image.AxesImage at 0x7f2587d282b0>"
            ]
          },
          "metadata": {
            "tags": []
          },
          "execution_count": 116
        },
        {
          "output_type": "display_data",
          "data": {
            "image/png": "[encoded data removed]",
            "text/plain": [
              "<Figure size 432x288 with 1 Axes>"
            ]
          },
          "metadata": {
            "tags": [],
            "needs_background": "light"
          }
        }
      ]
    },
    {
      "cell_type": "code",
      "metadata": {
        "id": "igWazkJoDYXh",
        "colab_type": "code",
        "colab": {
          "base_uri": "https://localhost:8080/",
          "height": 282
        },
        "outputId": "33851144-1fc3-4d05-ad92-4cbbdb834e81"
      },
      "source": [
        "plt.imshow((X_best/255.0).reshape((28,28)))"
      ],
      "execution_count": 136,
      "outputs": [
        {
          "output_type": "execute_result",
          "data": {
            "text/plain": [
              "<matplotlib.image.AxesImage at 0x7f2587c51940>"
            ]
          },
          "metadata": {
            "tags": []
          },
          "execution_count": 136
        },
        {
          "output_type": "display_data",
          "data": {
            "image/png": "[encoded data removed]",
            "text/plain": [
              "<Figure size 432x288 with 1 Axes>"
            ]
          },
          "metadata": {
            "tags": [],
            "needs_background": "light"
          }
        }
      ]
    },
    {
      "cell_type": "code",
      "metadata": {
        "id": "6inVRuwHDdbf",
        "colab_type": "code",
        "colab": {
          "base_uri": "https://localhost:8080/",
          "height": 282
        },
        "outputId": "c553ffbd-98ad-4793-9477-f4aea75cc054"
      },
      "source": [
        "plt.imshow((X_test[0]/255.0).reshape((28,28)))"
      ],
      "execution_count": 137,
      "outputs": [
        {
          "output_type": "execute_result",
          "data": {
            "text/plain": [
              "<matplotlib.image.AxesImage at 0x7f2587c1da58>"
            ]
          },
          "metadata": {
            "tags": []
          },
          "execution_count": 137
        },
        {
          "output_type": "display_data",
          "data": {
            "image/png": "[encoded data removed]",
            "text/plain": [
              "<Figure size 432x288 with 1 Axes>"
            ]
          },
          "metadata": {
            "tags": [],
            "needs_background": "light"
          }
        }
      ]
    }
  ]
}