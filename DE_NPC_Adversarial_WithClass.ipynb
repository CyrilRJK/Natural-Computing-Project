{
  "nbformat": 4,
  "nbformat_minor": 0,
  "metadata": {
    "colab": {
      "name": "DE_NPC_Adversarial_WithClass_v2.ipynb",
      "provenance": [],
      "collapsed_sections": []
    },
    "kernelspec": {
      "name": "python3",
      "display_name": "Python 3"
    }
  },
  "cells": [
    {
      "cell_type": "markdown",
      "metadata": {
        "id": "FGF9AJkh34af",
        "colab_type": "text"
      },
      "source": [
        "# Introduction\n",
        "\n",
        "This notebook implements Differential Evolution with Novel Parameter Control (DE-NPC) proposed by Meng et al. (2020) [1]. \n",
        "\n",
        "Using DE-NPC and MNIST [2], an adversarial image is generated. The prediction of an RBF Network on the adversarial image and original image is displayed.\n",
        "\n",
        "[1] Meng, Z., Chen, Y., & Li, X. (2020). Enhancing differential evolution with novel parametercontrol. IEEE Access,8, 51145–51167. \\\\\n",
        "[2] LeCun, Y., Cortes, C., & Burges, C.  (2010). MNIST handwritten digit database.\n",
        "\n"
      ]
    },
    {
      "cell_type": "markdown",
      "metadata": {
        "id": "H8hyv-J132P7",
        "colab_type": "text"
      },
      "source": [
        "# Libraries"
      ]
    },
    {
      "cell_type": "code",
      "metadata": {
        "id": "nVt-cqIRwvaG",
        "colab_type": "code",
        "outputId": "e7fab688-c4bc-48e6-d6c3-0fd326ede632",
        "colab": {
          "base_uri": "https://localhost:8080/",
          "height": 1000
        }
      },
      "source": [
        "!pip install PyDrive\n",
        "!pip install keras==2.2.4\n",
        "!pip install tensorflow==1.13.1\n",
        "!pip install git+https://github.com/darecophoenixx/wordroid.sblo.jp"
      ],
      "execution_count": 1,
      "outputs": [
        {
          "output_type": "stream",
          "text": [
            "Requirement already satisfied: PyDrive in /usr/local/lib/python3.6/dist-packages (1.3.1)\n",
            "Requirement already satisfied: google-api-python-client>=1.2 in /usr/local/lib/python3.6/dist-packages (from PyDrive) (1.7.12)\n",
            "Requirement already satisfied: PyYAML>=3.0 in /usr/local/lib/python3.6/dist-packages (from PyDrive) (3.13)\n",
            "Requirement already satisfied: oauth2client>=4.0.0 in /usr/local/lib/python3.6/dist-packages (from PyDrive) (4.1.3)\n",
            "Requirement already satisfied: google-auth>=1.4.1 in /usr/local/lib/python3.6/dist-packages (from google-api-python-client>=1.2->PyDrive) (1.7.2)\n",
            "Requirement already satisfied: six<2dev,>=1.6.1 in /usr/local/lib/python3.6/dist-packages (from google-api-python-client>=1.2->PyDrive) (1.12.0)\n",
            "Requirement already satisfied: uritemplate<4dev,>=3.0.0 in /usr/local/lib/python3.6/dist-packages (from google-api-python-client>=1.2->PyDrive) (3.0.1)\n",
            "Requirement already satisfied: httplib2<1dev,>=0.17.0 in /usr/local/lib/python3.6/dist-packages (from google-api-python-client>=1.2->PyDrive) (0.17.3)\n",
            "Requirement already satisfied: google-auth-httplib2>=0.0.3 in /usr/local/lib/python3.6/dist-packages (from google-api-python-client>=1.2->PyDrive) (0.0.3)\n",
            "Requirement already satisfied: pyasn1>=0.1.7 in /usr/local/lib/python3.6/dist-packages (from oauth2client>=4.0.0->PyDrive) (0.4.8)\n",
            "Requirement already satisfied: rsa>=3.1.4 in /usr/local/lib/python3.6/dist-packages (from oauth2client>=4.0.0->PyDrive) (4.0)\n",
            "Requirement already satisfied: pyasn1-modules>=0.0.5 in /usr/local/lib/python3.6/dist-packages (from oauth2client>=4.0.0->PyDrive) (0.2.8)\n",
            "Requirement already satisfied: cachetools<3.2,>=2.0.0 in /usr/local/lib/python3.6/dist-packages (from google-auth>=1.4.1->google-api-python-client>=1.2->PyDrive) (3.1.1)\n",
            "Requirement already satisfied: setuptools>=40.3.0 in /usr/local/lib/python3.6/dist-packages (from google-auth>=1.4.1->google-api-python-client>=1.2->PyDrive) (46.3.0)\n",
            "Collecting keras==2.2.4\n",
            "\u001b[?25l  Downloading https://files.pythonhosted.org/packages/5e/10/aa32dad071ce52b5502266b5c659451cfd6ffcbf14e6c8c4f16c0ff5aaab/Keras-2.2.4-py2.py3-none-any.whl (312kB)\n",
            "\u001b[K     |████████████████████████████████| 317kB 2.8MB/s \n",
            "\u001b[?25hRequirement already satisfied: pyyaml in /usr/local/lib/python3.6/dist-packages (from keras==2.2.4) (3.13)\n",
            "Requirement already satisfied: keras-applications>=1.0.6 in /usr/local/lib/python3.6/dist-packages (from keras==2.2.4) (1.0.8)\n",
            "Requirement already satisfied: h5py in /usr/local/lib/python3.6/dist-packages (from keras==2.2.4) (2.10.0)\n",
            "Requirement already satisfied: keras-preprocessing>=1.0.5 in /usr/local/lib/python3.6/dist-packages (from keras==2.2.4) (1.1.0)\n",
            "Requirement already satisfied: six>=1.9.0 in /usr/local/lib/python3.6/dist-packages (from keras==2.2.4) (1.12.0)\n",
            "Requirement already satisfied: scipy>=0.14 in /usr/local/lib/python3.6/dist-packages (from keras==2.2.4) (1.4.1)\n",
            "Requirement already satisfied: numpy>=1.9.1 in /usr/local/lib/python3.6/dist-packages (from keras==2.2.4) (1.18.4)\n",
            "Installing collected packages: keras\n",
            "  Found existing installation: Keras 2.3.1\n",
            "    Uninstalling Keras-2.3.1:\n",
            "      Successfully uninstalled Keras-2.3.1\n",
            "Successfully installed keras-2.2.4\n",
            "Collecting tensorflow==1.13.1\n",
            "\u001b[?25l  Downloading https://files.pythonhosted.org/packages/77/63/a9fa76de8dffe7455304c4ed635be4aa9c0bacef6e0633d87d5f54530c5c/tensorflow-1.13.1-cp36-cp36m-manylinux1_x86_64.whl (92.5MB)\n",
            "\u001b[K     |████████████████████████████████| 92.5MB 63kB/s \n",
            "\u001b[?25hRequirement already satisfied: gast>=0.2.0 in /usr/local/lib/python3.6/dist-packages (from tensorflow==1.13.1) (0.3.3)\n",
            "Requirement already satisfied: grpcio>=1.8.6 in /usr/local/lib/python3.6/dist-packages (from tensorflow==1.13.1) (1.28.1)\n",
            "Collecting tensorboard<1.14.0,>=1.13.0\n",
            "\u001b[?25l  Downloading https://files.pythonhosted.org/packages/0f/39/bdd75b08a6fba41f098b6cb091b9e8c7a80e1b4d679a581a0ccd17b10373/tensorboard-1.13.1-py3-none-any.whl (3.2MB)\n",
            "\u001b[K     |████████████████████████████████| 3.2MB 23.2MB/s \n",
            "\u001b[?25hRequirement already satisfied: wheel>=0.26 in /usr/local/lib/python3.6/dist-packages (from tensorflow==1.13.1) (0.34.2)\n",
            "Collecting tensorflow-estimator<1.14.0rc0,>=1.13.0\n",
            "\u001b[?25l  Downloading https://files.pythonhosted.org/packages/bb/48/13f49fc3fa0fdf916aa1419013bb8f2ad09674c275b4046d5ee669a46873/tensorflow_estimator-1.13.0-py2.py3-none-any.whl (367kB)\n",
            "\u001b[K     |████████████████████████████████| 368kB 46.0MB/s \n",
            "\u001b[?25hRequirement already satisfied: six>=1.10.0 in /usr/local/lib/python3.6/dist-packages (from tensorflow==1.13.1) (1.12.0)\n",
            "Requirement already satisfied: protobuf>=3.6.1 in /usr/local/lib/python3.6/dist-packages (from tensorflow==1.13.1) (3.10.0)\n",
            "Requirement already satisfied: keras-preprocessing>=1.0.5 in /usr/local/lib/python3.6/dist-packages (from tensorflow==1.13.1) (1.1.0)\n",
            "Requirement already satisfied: keras-applications>=1.0.6 in /usr/local/lib/python3.6/dist-packages (from tensorflow==1.13.1) (1.0.8)\n",
            "Requirement already satisfied: numpy>=1.13.3 in /usr/local/lib/python3.6/dist-packages (from tensorflow==1.13.1) (1.18.4)\n",
            "Requirement already satisfied: astor>=0.6.0 in /usr/local/lib/python3.6/dist-packages (from tensorflow==1.13.1) (0.8.1)\n",
            "Requirement already satisfied: termcolor>=1.1.0 in /usr/local/lib/python3.6/dist-packages (from tensorflow==1.13.1) (1.1.0)\n",
            "Requirement already satisfied: absl-py>=0.1.6 in /usr/local/lib/python3.6/dist-packages (from tensorflow==1.13.1) (0.9.0)\n",
            "Requirement already satisfied: markdown>=2.6.8 in /usr/local/lib/python3.6/dist-packages (from tensorboard<1.14.0,>=1.13.0->tensorflow==1.13.1) (3.2.1)\n",
            "Requirement already satisfied: werkzeug>=0.11.15 in /usr/local/lib/python3.6/dist-packages (from tensorboard<1.14.0,>=1.13.0->tensorflow==1.13.1) (1.0.1)\n",
            "Collecting mock>=2.0.0\n",
            "  Downloading https://files.pythonhosted.org/packages/cd/74/d72daf8dff5b6566db857cfd088907bb0355f5dd2914c4b3ef065c790735/mock-4.0.2-py3-none-any.whl\n",
            "Requirement already satisfied: setuptools in /usr/local/lib/python3.6/dist-packages (from protobuf>=3.6.1->tensorflow==1.13.1) (46.3.0)\n",
            "Requirement already satisfied: h5py in /usr/local/lib/python3.6/dist-packages (from keras-applications>=1.0.6->tensorflow==1.13.1) (2.10.0)\n",
            "Installing collected packages: tensorboard, mock, tensorflow-estimator, tensorflow\n",
            "  Found existing installation: tensorboard 2.2.1\n",
            "    Uninstalling tensorboard-2.2.1:\n",
            "      Successfully uninstalled tensorboard-2.2.1\n",
            "  Found existing installation: tensorflow-estimator 2.2.0\n",
            "    Uninstalling tensorflow-estimator-2.2.0:\n",
            "      Successfully uninstalled tensorflow-estimator-2.2.0\n",
            "  Found existing installation: tensorflow 2.2.0\n",
            "    Uninstalling tensorflow-2.2.0:\n",
            "      Successfully uninstalled tensorflow-2.2.0\n",
            "Successfully installed mock-4.0.2 tensorboard-1.13.1 tensorflow-1.13.1 tensorflow-estimator-1.13.0\n",
            "Collecting git+https://github.com/darecophoenixx/wordroid.sblo.jp\n",
            "  Cloning https://github.com/darecophoenixx/wordroid.sblo.jp to /tmp/pip-req-build-n1qoo9l8\n",
            "  Running command git clone -q https://github.com/darecophoenixx/wordroid.sblo.jp /tmp/pip-req-build-n1qoo9l8\n",
            "Requirement already satisfied: gensim in /usr/local/lib/python3.6/dist-packages (from wordroid.sblo.jp==0.0.1) (3.6.0)\n",
            "Requirement already satisfied: smart-open>=1.2.1 in /usr/local/lib/python3.6/dist-packages (from gensim->wordroid.sblo.jp==0.0.1) (2.0.0)\n",
            "Requirement already satisfied: numpy>=1.11.3 in /usr/local/lib/python3.6/dist-packages (from gensim->wordroid.sblo.jp==0.0.1) (1.18.4)\n",
            "Requirement already satisfied: scipy>=0.18.1 in /usr/local/lib/python3.6/dist-packages (from gensim->wordroid.sblo.jp==0.0.1) (1.4.1)\n",
            "Requirement already satisfied: six>=1.5.0 in /usr/local/lib/python3.6/dist-packages (from gensim->wordroid.sblo.jp==0.0.1) (1.12.0)\n",
            "Requirement already satisfied: boto in /usr/local/lib/python3.6/dist-packages (from smart-open>=1.2.1->gensim->wordroid.sblo.jp==0.0.1) (2.49.0)\n",
            "Requirement already satisfied: boto3 in /usr/local/lib/python3.6/dist-packages (from smart-open>=1.2.1->gensim->wordroid.sblo.jp==0.0.1) (1.13.4)\n",
            "Requirement already satisfied: requests in /usr/local/lib/python3.6/dist-packages (from smart-open>=1.2.1->gensim->wordroid.sblo.jp==0.0.1) (2.23.0)\n",
            "Requirement already satisfied: s3transfer<0.4.0,>=0.3.0 in /usr/local/lib/python3.6/dist-packages (from boto3->smart-open>=1.2.1->gensim->wordroid.sblo.jp==0.0.1) (0.3.3)\n",
            "Requirement already satisfied: jmespath<1.0.0,>=0.7.1 in /usr/local/lib/python3.6/dist-packages (from boto3->smart-open>=1.2.1->gensim->wordroid.sblo.jp==0.0.1) (0.9.5)\n",
            "Requirement already satisfied: botocore<1.17.0,>=1.16.4 in /usr/local/lib/python3.6/dist-packages (from boto3->smart-open>=1.2.1->gensim->wordroid.sblo.jp==0.0.1) (1.16.4)\n",
            "Requirement already satisfied: idna<3,>=2.5 in /usr/local/lib/python3.6/dist-packages (from requests->smart-open>=1.2.1->gensim->wordroid.sblo.jp==0.0.1) (2.9)\n",
            "Requirement already satisfied: urllib3!=1.25.0,!=1.25.1,<1.26,>=1.21.1 in /usr/local/lib/python3.6/dist-packages (from requests->smart-open>=1.2.1->gensim->wordroid.sblo.jp==0.0.1) (1.24.3)\n",
            "Requirement already satisfied: certifi>=2017.4.17 in /usr/local/lib/python3.6/dist-packages (from requests->smart-open>=1.2.1->gensim->wordroid.sblo.jp==0.0.1) (2020.4.5.1)\n",
            "Requirement already satisfied: chardet<4,>=3.0.2 in /usr/local/lib/python3.6/dist-packages (from requests->smart-open>=1.2.1->gensim->wordroid.sblo.jp==0.0.1) (3.0.4)\n",
            "Requirement already satisfied: docutils<0.16,>=0.10 in /usr/local/lib/python3.6/dist-packages (from botocore<1.17.0,>=1.16.4->boto3->smart-open>=1.2.1->gensim->wordroid.sblo.jp==0.0.1) (0.15.2)\n",
            "Requirement already satisfied: python-dateutil<3.0.0,>=2.1 in /usr/local/lib/python3.6/dist-packages (from botocore<1.17.0,>=1.16.4->boto3->smart-open>=1.2.1->gensim->wordroid.sblo.jp==0.0.1) (2.8.1)\n",
            "Building wheels for collected packages: wordroid.sblo.jp\n",
            "  Building wheel for wordroid.sblo.jp (setup.py) ... \u001b[?25l\u001b[?25hdone\n",
            "  Created wheel for wordroid.sblo.jp: filename=wordroid.sblo.jp-0.0.1-cp36-none-any.whl size=33710 sha256=e2be5728349211ad30b474afafd7b12e8caec39917e777e81402f4a96f7343b2\n",
            "  Stored in directory: /tmp/pip-ephem-wheel-cache-errj_8hb/wheels/3d/6d/24/44e7d6dc47b39e74772a04beb27433ba2ebed90876394cda60\n",
            "Successfully built wordroid.sblo.jp\n",
            "Installing collected packages: wordroid.sblo.jp\n",
            "Successfully installed wordroid.sblo.jp-0.0.1\n"
          ],
          "name": "stdout"
        }
      ]
    },
    {
      "cell_type": "code",
      "metadata": {
        "id": "Kl-nBe6vwsi8",
        "colab_type": "code",
        "outputId": "2de33a1f-be42-45ef-e86b-f1363df90814",
        "colab": {
          "base_uri": "https://localhost:8080/",
          "height": 292
        }
      },
      "source": [
        "%matplotlib inline\n",
        "from IPython.display import SVG\n",
        "from keras.utils.vis_utils import model_to_dot\n",
        "from sklearn.metrics import accuracy_score\n",
        "import numpy as np\n",
        "import pandas as pd\n",
        "import matplotlib.pyplot as plt\n",
        "import seaborn as sns\n",
        "from keras.utils import to_categorical\n",
        "import tensorflow as tf\n",
        "from keras_ex.gkernel import GaussianKernel, GaussianKernel2, GaussianKernel3\n",
        "from keras.layers import Input, Dense\n",
        "from keras.models import Model\n",
        "from sklearn.metrics import confusion_matrix\n",
        "from sklearn.metrics import precision_recall_fscore_support\n",
        "from pydrive.auth import GoogleAuth\n",
        "from pydrive.drive import GoogleDrive\n",
        "from google.colab import auth\n",
        "from oauth2client.client import GoogleCredentials\n",
        "from scipy.stats import cauchy \n",
        "from scipy import stats\n",
        "import time\n",
        "import operator\n",
        "import random\n",
        "\n",
        "#Set seeds\n",
        "random.seed(0)\n",
        "np.random.seed(0)"
      ],
      "execution_count": 2,
      "outputs": [
        {
          "output_type": "stream",
          "text": [
            "Using TensorFlow backend.\n",
            "/usr/local/lib/python3.6/dist-packages/tensorflow/python/framework/dtypes.py:526: FutureWarning: Passing (type, 1) or '1type' as a synonym of type is deprecated; in a future version of numpy, it will be understood as (type, (1,)) / '(1,)type'.\n",
            "  _np_qint8 = np.dtype([(\"qint8\", np.int8, 1)])\n",
            "/usr/local/lib/python3.6/dist-packages/tensorflow/python/framework/dtypes.py:527: FutureWarning: Passing (type, 1) or '1type' as a synonym of type is deprecated; in a future version of numpy, it will be understood as (type, (1,)) / '(1,)type'.\n",
            "  _np_quint8 = np.dtype([(\"quint8\", np.uint8, 1)])\n",
            "/usr/local/lib/python3.6/dist-packages/tensorflow/python/framework/dtypes.py:528: FutureWarning: Passing (type, 1) or '1type' as a synonym of type is deprecated; in a future version of numpy, it will be understood as (type, (1,)) / '(1,)type'.\n",
            "  _np_qint16 = np.dtype([(\"qint16\", np.int16, 1)])\n",
            "/usr/local/lib/python3.6/dist-packages/tensorflow/python/framework/dtypes.py:529: FutureWarning: Passing (type, 1) or '1type' as a synonym of type is deprecated; in a future version of numpy, it will be understood as (type, (1,)) / '(1,)type'.\n",
            "  _np_quint16 = np.dtype([(\"quint16\", np.uint16, 1)])\n",
            "/usr/local/lib/python3.6/dist-packages/tensorflow/python/framework/dtypes.py:530: FutureWarning: Passing (type, 1) or '1type' as a synonym of type is deprecated; in a future version of numpy, it will be understood as (type, (1,)) / '(1,)type'.\n",
            "  _np_qint32 = np.dtype([(\"qint32\", np.int32, 1)])\n",
            "/usr/local/lib/python3.6/dist-packages/tensorflow/python/framework/dtypes.py:535: FutureWarning: Passing (type, 1) or '1type' as a synonym of type is deprecated; in a future version of numpy, it will be understood as (type, (1,)) / '(1,)type'.\n",
            "  np_resource = np.dtype([(\"resource\", np.ubyte, 1)])\n",
            "/usr/local/lib/python3.6/dist-packages/statsmodels/tools/_testing.py:19: FutureWarning: pandas.util.testing is deprecated. Use the functions in the public API at pandas.testing instead.\n",
            "  import pandas.util.testing as tm\n"
          ],
          "name": "stderr"
        }
      ]
    },
    {
      "cell_type": "markdown",
      "metadata": {
        "id": "D0TUQU9c4FTf",
        "colab_type": "text"
      },
      "source": [
        "# DE_NPC Class"
      ]
    },
    {
      "cell_type": "code",
      "metadata": {
        "id": "pycYsmNb4Bs3",
        "colab_type": "code",
        "colab": {}
      },
      "source": [
        "# https://stackoverflow.com/questions/1401712/how-can-the-euclidean-distance-be-calculated-with-numpy\n",
        "def euclidean(s):\n",
        "    # pass s=a-b as argument to the function\n",
        "    return np.linalg.norm(s)"
      ],
      "execution_count": 0,
      "outputs": []
    },
    {
      "cell_type": "code",
      "metadata": {
        "id": "hIyNyt_4sUj2",
        "colab_type": "code",
        "colab": {}
      },
      "source": [
        "class DE_NPC:\n",
        "  def __init__(self,param_dict):\n",
        "    ###Load Params##\n",
        "    self.img = param_dict[\"input\"]\n",
        "    self.imsize = param_dict[\"input_size\"]\n",
        "    self.imclass = param_dict[\"imclass\"]\n",
        "    self.mean = param_dict[\"mean\"]\n",
        "    self.std = param_dict[\"std\"]\n",
        "    self.R_min = param_dict[\"R_min\"]\n",
        "    self.R_max = param_dict[\"R_max\"]\n",
        "    self.nfe_max = param_dict[\"nfe_max\"]\n",
        "    self.PS_ini = param_dict[\"PS_ini\"]\n",
        "    self.PS_min = param_dict[\"PS_min\"]\n",
        "    self.K = param_dict[\"K\"]\n",
        "    self.rarc = param_dict[\"rarc\"]\n",
        "    self.p = param_dict[\"p\"]\n",
        "    self.model = param_dict[\"model\"]\n",
        "\n",
        "    ####Initialize Params####\n",
        "    self.set_params()\n",
        "\n",
        "  #Fitness function\n",
        "  def fitness_func(self,individual):\n",
        "    individual = individual.reshape(1,self.imsize)\n",
        "    pred = self.model.predict(individual  / 255.0)\n",
        "    pred = pred[0]\n",
        "    po = pred[self.imclass]\n",
        "    pred[self.imclass] = 0\n",
        "    pd = np.max(pred)\n",
        "    diff = pd-po\n",
        "    return (0.5)*diff + (-0.5)*euclidean(individual-self.img.reshape(1,self.imsize))/self.imsize\n",
        "\n",
        "  #Given the population and img(whihc is necessary to calculate the fitness function)\n",
        "  #choose one individual whose fitness value is in top p percent.\n",
        "  def get_top_p(self,PS,p):\n",
        "    num_best = int(PS*p)\n",
        "    fitness =  [(individual,self.fitness_func(individual)) for individual in self.population[0:PS]]\n",
        "    fitness.sort(key=lambda x: x[1])\n",
        "    fitness = fitness[-num_best:]\n",
        "    return random.choice(fitness)[0]\n",
        "\n",
        "  def execute(self, model):\n",
        "    nfe = 0\n",
        "    PS = self.PS_ini\n",
        "    A_ind = 0\n",
        "    G = 1\n",
        "    start = time.time()\n",
        "    while nfe < self.nfe_max:\n",
        "      #############################INITIALIZATION###################################\n",
        "      #Sets of successfull f and cr values\n",
        "      #with the corresponding weights\n",
        "      s_f = [[] for i in range(self.K)]\n",
        "      s_f_weights = [[] for i in range(self.K)]\n",
        "      s_cr = [[] for i in range(self.K)]\n",
        "      s_cr_weights = [[] for i in range(self.K)]\n",
        "      #the selected k values for this iteration\n",
        "      k_selections = np.zeros((self.K,PS))\n",
        "      #how many times the specific k value was a success/failure\n",
        "      k_success = np.zeros((self.K,1))\n",
        "      k_failure = np.zeros((self.K,1))\n",
        "\n",
        "      ####################ADJUST POPULATION AND A###################################\n",
        "      #Adjustment done due to keep the individuals' values in range.\n",
        "      #and to reduce the array sizes. However, even if the population size gets \n",
        "      #smaller than PS, since the loops are in range(PS), the individuals stored in \n",
        "      #the population vector in indices > PS will not be reached. \n",
        "      #Instead of picking discarded individuals randomly, we shuffle the population\n",
        "      #and archive array. It should amount to picking random.\n",
        "      if G > 2:\n",
        "        #Adjust the individuals of the population; \n",
        "        for i in range(PS):\n",
        "          self.population[i] = np.clip(self.population[i], self.R_min, self.R_max).reshape(self.imsize)\n",
        "        #Adjust storage A; \n",
        "        for i in range(self.A_size):\n",
        "          self.A[i] = np.clip(self.A[i], self.R_min, self.R_max).reshape(self.imsize)\n",
        "        np.random.shuffle(self.A)\n",
        "        np.random.shuffle(self.population)\n",
        "\n",
        "      #############################SELECT K,F,CR'S##################################  \n",
        "      #We select a k value for each individual in the population\n",
        "      #with respect to the selection probabilities (p_k) of each k.\n",
        "      custm = stats.rv_discrete(name='custm', values=(np.arange(self.K).reshape(self.K,1), self.p_k))\n",
        "      k_selections = custm.rvs(size=PS)\n",
        "      #Get f and cr values for each individual\n",
        "      for i in range(PS):\n",
        "        self.cr[i]  = np.random.normal(self.mu_cr[k_selections[i]], 0.1, 1)\n",
        "        if self.cr[i] < 0:\n",
        "          self.cr[i] = 0\n",
        "        self.f[i] = cauchy.rvs(self.mu_f[k_selections[i]],0.1,1)\n",
        "        while self.f[i] <= 0:\n",
        "          self.f[i] = cauchy.rvs(self.mu_f[k_selections[i]],0.1,1)\n",
        "        if self.f[i] > 1:\n",
        "          self.f[i] = 1\n",
        "      \n",
        "      ####################GENERATE U,V AND CALCULATE FITNESS########################\n",
        "      #Generate donor and trial (U and V) vectors\n",
        "      #Calculate the fitness values\n",
        "      for i in range(PS):\n",
        "        X_p_best =  self.get_top_p(PS,self.p).reshape((self.imsize,1))\n",
        "        #X_r_1 denotes a random vector selection from the current population\n",
        "        X_r_1 = random.choice(self.population[:PS]).reshape((self.imsize,1))\n",
        "        #X_hat_r_2 denotes a randomly selected solution from the union A and P\n",
        "        X_hat_r_2 = random.choice(np.concatenate((self.population[:PS], self.A[:self.A_size]), axis=0)).reshape((self.imsize,1))\n",
        "        #mutation, generate trial vector\n",
        "        self.V[i] = (self.population[i].reshape((self.imsize,1)) + self.f[i]*(X_p_best - self.population[i].reshape((self.imsize,1)))\n",
        "               + self.f[i]*(X_r_1 - X_hat_r_2)).reshape(self.imsize)\n",
        "        #crossover, generate donor vector\n",
        "        self.U[i] = self.population[i]\n",
        "        for j in range(self.imsize):\n",
        "          if random.uniform(0, 1) <= self.cr[i]:\n",
        "            self.U[i][j] = self.V[i][j]\n",
        "        self.fitness_ind[i] = self.fitness_func(self.population[i])\n",
        "        self.fitness_U[i] = self.fitness_func(self.U[i])\n",
        "\n",
        "      ################################INCREMENT nfe#################################\n",
        "      #Increment nfe\n",
        "      nfe += PS\n",
        "\n",
        "      #####################DETERMINE UN/SUCCESSFULL#################################\n",
        "      #Determine the successful and unsuccessful cr,f,k values.\n",
        "      #Add unsuccessful individuals to the archive\n",
        "      for i in range(PS):\n",
        "        k = k_selections[i]\n",
        "        if self.fitness_ind[i] <= self.fitness_U[i]:\n",
        "          s_cr[k].append(self.cr[i])\n",
        "          s_cr_weights[k].append(np.std(np.subtract(self.population[i],self.U[i])))\n",
        "          s_f[k].append(self.f[i])\n",
        "          s_f_weights[k].append(self.fitness_U[i]-self.fitness_ind[i])\n",
        "          self.population[i] = self.U[i]\n",
        "          k_success[k] += 1\n",
        "        else:\n",
        "          if A_ind >= self.A_size:\n",
        "            A_ind = 0\n",
        "          self.A[A_ind] = self.population[i]\n",
        "          A_ind += 1\n",
        "          k_failure[k] += 1\n",
        "\n",
        "      ######################UPDATE MU_CR AND MU_F's#################################\n",
        "      #update params (mixed with Jade-like update)\n",
        "      for k in range(self.K):\n",
        "        if len(s_cr[k]) != 0:\n",
        "          s_cr_weights[k] = s_cr_weights[k]/np.sum(s_cr_weights[k])\n",
        "          s_f_weights[k] = s_f_weights[k]/np.sum(s_f_weights[k])\n",
        "          mean_cr = np.sum(np.multiply(np.square(s_cr[k]),s_cr_weights[k]))/np.sum(np.multiply(s_cr[k],s_cr_weights[k]))\n",
        "          mean_f = np.sum(np.multiply(np.square(s_f[k]),s_f_weights[k]))/np.sum(np.multiply(s_f[k],s_f_weights[k]))  \n",
        "          #update mu_cr\n",
        "          if (np.max(s_cr[k]) > 0) and (self.mu_cr[k] != 0):\n",
        "            self.mu_cr[k] = mean_cr\n",
        "          #update mu_f\n",
        "          self.mu_f[k] = mean_f\n",
        "\n",
        "      ###########################UPDATE GROUP PROBS#################################\n",
        "      #Update group probabilities\n",
        "      for k in range(self.K):\n",
        "        if k_success[k] != 0:\n",
        "          k_success[k] = np.square(k_success[k])/(np.sum(k_success[k])*(k_success[k]+k_failure[k]))\n",
        "        else:\n",
        "          self.p_k[k] = 0.000000001\n",
        "      self.p_k = self.p_k/np.sum(self.p_k)\n",
        "\n",
        "      ###########################END ITERATION######################################\n",
        "      #increment generation count\n",
        "      G += 1\n",
        "      #Get the best individual\n",
        "      self.X_best = self.get_top_p(PS,1/PS)\n",
        "      #Get the fitness of best individual\n",
        "      self.X_best_fitness = self.fitness_func(self.X_best)\n",
        "      #Give feedback\n",
        "      print(nfe, \" : \"  ,self.X_best_fitness,PS)\n",
        "\n",
        "      ######################ADJUST POPULATION SIZE##################################\n",
        "      #adjust population size \n",
        "      #else part changed. there is something wrong with the formula on the paper.\n",
        "      #since the ends of the two partial functions do not meet, when nfe > x the \n",
        "      #population increases. change is to fix this.\n",
        "      if nfe <= self.x:\n",
        "        PS = int(np.ceil((((self.y-self.PS_ini)/np.square(self.x-self.PS_ini))*np.square(nfe-self.PS_ini)) + self.PS_ini))\n",
        "      else:\n",
        "        initial_formula = int(np.floor((((self.y-self.PS_ini)/(self.x-self.PS_min))*(nfe-self.nfe_max)) + self.PS_min))\n",
        "        if initial_formula < PS:\n",
        "          PS = initial_formula\n",
        "      #adjust archive size according to the new population\n",
        "      self.A_size = int(self.rarc*PS)\n",
        "      #Note: archive update moved within \"Determine un/successful\" as the computation\n",
        "      #would be too redundant.  \n",
        "    end = time.time()\n",
        "    print(\"Time: \",end-start ,\" seconds\")\n",
        "\n",
        "\n",
        "  def change_input(self,img,imsize):\n",
        "    self.img = img\n",
        "    self.imsize = imsize\n",
        "    self.set_params()\n",
        "\n",
        "  def set_params(self):\n",
        "    #Calculate pivot for dynamic population change\n",
        "    self.x = (1/3)*self.nfe_max\n",
        "    self.y = (2/3)*self.PS_ini     \n",
        "    #probability of belonging to a group\n",
        "    self.p_k = np.ones((self.K,1))*(1/self.K)   \n",
        "    #archive\n",
        "    self.A_size = int(self.PS_ini*self.rarc)\n",
        "    self.A = np.zeros((self.A_size,self.imsize))\n",
        "    #scale factor\n",
        "    self.f = np.ones((self.PS_ini,1)) \n",
        "    self.mu_f = np.ones((self.K,1)) *0.5\n",
        "    #crossover probability\n",
        "    self.cr = np.ones((self.PS_ini,1)) \n",
        "    self.mu_cr = np.ones((self.K,1)) *0.5\n",
        "    #Initial population\n",
        "    self.population = np.zeros((self.PS_ini,self.imsize))\n",
        "    #Fitness functions\n",
        "    self.fitness_ind = np.zeros((self.PS_ini,1))\n",
        "    self.fitness_U = np.zeros((self.PS_ini,1))\n",
        "    #donor and trial vectors\n",
        "    self.V = np.zeros((self.PS_ini,self.imsize))\n",
        "    self.U = np.zeros((self.PS_ini,self.imsize))\n",
        "    for i in range(self.PS_ini):\n",
        "      noisy_img = self.img + np.random.normal(self.mean, self.std, (self.imsize,1))\n",
        "      self.population[i] = np.clip(noisy_img, 0, 255).reshape(self.imsize)\n",
        "    self.X_best = None\n",
        "    self.X_best_fitness = None"
      ],
      "execution_count": 0,
      "outputs": []
    },
    {
      "cell_type": "markdown",
      "metadata": {
        "id": "fs25gWBy4W4l",
        "colab_type": "text"
      },
      "source": [
        "# Download Neural Network"
      ]
    },
    {
      "cell_type": "code",
      "metadata": {
        "id": "jJPEejMZ4dwe",
        "colab_type": "code",
        "outputId": "cde82ab0-823b-4b25-d496-8347d7eb82d8",
        "colab": {
          "base_uri": "https://localhost:8080/",
          "height": 88
        }
      },
      "source": [
        "auth.authenticate_user()\n",
        "gauth = GoogleAuth()\n",
        "gauth.credentials = GoogleCredentials.get_application_default()\n",
        "drive = GoogleDrive(gauth)\n",
        "downloaded = drive.CreateFile({'id':\"16oao6c9BTb33sbaFzCDJ1sGQn4Z0ILS7\"}) \n",
        "downloaded.GetContentFile('rbfnn_v2.h5')   \n",
        "\n",
        "num_lm0 = 100\n",
        "num_lm = num_lm0 * 10\n",
        "init_wgt = np.zeros(((1000, 784)))\n",
        "\n",
        "inp = Input(shape=(28*28,), name='inp')\n",
        "oup = GaussianKernel(num_lm, 28*28,\n",
        "                     kernel_gamma='auto', weights=[init_wgt],\n",
        "                     name='gkernel1')(inp)\n",
        "oup = Dense(10, activation='softmax')(oup)\n",
        "model = Model(inp, oup)\n",
        "model.compile(loss='categorical_crossentropy', optimizer='adam', metrics=['accuracy'])\n",
        "model.load_weights(\"rbfnn_v2.h5\")"
      ],
      "execution_count": 5,
      "outputs": [
        {
          "output_type": "stream",
          "text": [
            "WARNING:tensorflow:From /usr/local/lib/python3.6/dist-packages/tensorflow/python/framework/op_def_library.py:263: colocate_with (from tensorflow.python.framework.ops) is deprecated and will be removed in a future version.\n",
            "Instructions for updating:\n",
            "Colocations handled automatically by placer.\n"
          ],
          "name": "stdout"
        }
      ]
    },
    {
      "cell_type": "markdown",
      "metadata": {
        "id": "UDE9UySP4KBR",
        "colab_type": "text"
      },
      "source": [
        "# Prepare Data"
      ]
    },
    {
      "cell_type": "code",
      "metadata": {
        "id": "B9ma_QiOxYT4",
        "colab_type": "code",
        "colab": {
          "base_uri": "https://localhost:8080/",
          "height": 51
        },
        "outputId": "1e2f47ed-ef45-4749-c895-6e1d5c20e480"
      },
      "source": [
        "(X_train, y_train), (X_test, y_test) = tf.keras.datasets.mnist.load_data()"
      ],
      "execution_count": 6,
      "outputs": [
        {
          "output_type": "stream",
          "text": [
            "Downloading data from https://storage.googleapis.com/tensorflow/tf-keras-datasets/mnist.npz\n",
            "11493376/11490434 [==============================] - 0s 0us/step\n"
          ],
          "name": "stdout"
        }
      ]
    },
    {
      "cell_type": "code",
      "metadata": {
        "id": "WAhJflWExaaw",
        "colab_type": "code",
        "colab": {}
      },
      "source": [
        "def prepare_data(X,y):\n",
        "  X = X.reshape((X.shape[0], -1))\n",
        "  X_sc = X / 255.0\n",
        "  y_cat = to_categorical(y)\n",
        "  return X_sc, y_cat"
      ],
      "execution_count": 0,
      "outputs": []
    },
    {
      "cell_type": "code",
      "metadata": {
        "id": "iIGHNK7C5_Zi",
        "colab_type": "code",
        "outputId": "11604a0e-e09e-4f1f-f18e-eb11cde8f845",
        "colab": {
          "base_uri": "https://localhost:8080/",
          "height": 51
        }
      },
      "source": [
        "from sklearn.metrics import accuracy_score\n",
        "X_train = X_train.reshape((X_train.shape[0], -1))\n",
        "X_sc = X_train / 255.0\n",
        "X_sc.shape\n",
        "y_cat = to_categorical(y_train)\n",
        "X_test = X_test.reshape((X_test.shape[0], -1))\n",
        "X_test_sc = X_test / 255.0\n",
        "y_pred_test = model.predict(X_test_sc)\n",
        "y_pred_train = model.predict(X_sc)\n",
        "print(\"Training accuracy: \",accuracy_score(y_train,np.argmax(y_pred_train,axis=1)))\n",
        "print(\"Test accuracy: \",accuracy_score(y_test,np.argmax(y_pred_test,axis=1)))"
      ],
      "execution_count": 8,
      "outputs": [
        {
          "output_type": "stream",
          "text": [
            "Training accuracy:  0.93305\n",
            "Test accuracy:  0.9297\n"
          ],
          "name": "stdout"
        }
      ]
    },
    {
      "cell_type": "markdown",
      "metadata": {
        "id": "004hGX8X4LnL",
        "colab_type": "text"
      },
      "source": [
        "# Usage"
      ]
    },
    {
      "cell_type": "code",
      "metadata": {
        "id": "46jftR2PsnTQ",
        "colab_type": "code",
        "colab": {}
      },
      "source": [
        "param_dict = {\n",
        "    \"model\" : model,\n",
        "    #Image to be evolved\n",
        "    \"input\" : X_test[0].reshape((28*28, -1)),\n",
        "    \"input_size\" : 28*28,\n",
        "    \"imclass\" : y_test[0],\n",
        "    #Mean and std for Gaussian noise\n",
        "    \"mean\" : 150,  \n",
        "    \"std\" : np.sqrt(200),\n",
        "    #Range\n",
        "    \"R_min\" : 0.0,\n",
        "    \"R_max\" : 255.0,\n",
        "    #Maximum number of function evaluations\n",
        "    \"nfe_max\" : 1000,\n",
        "    #Initial and minimum population size\n",
        "    \"PS_ini\" : 100,\n",
        "    \"PS_min\" : 4,\n",
        "    #Number of groups\n",
        "    \"K\" : 7,\n",
        "    #ratio of the external archive size to the whole population PS\n",
        "    \"rarc\" : 1.6,\n",
        "    #percentage p when we select an individual among top p fits\n",
        "    \"p\" : 0.11\n",
        "}"
      ],
      "execution_count": 0,
      "outputs": []
    },
    {
      "cell_type": "code",
      "metadata": {
        "id": "t6hkWWKVxNJX",
        "colab_type": "code",
        "colab": {}
      },
      "source": [
        "de_npc = DE_NPC(param_dict)"
      ],
      "execution_count": 0,
      "outputs": []
    },
    {
      "cell_type": "code",
      "metadata": {
        "id": "it4jWfdK2aR4",
        "colab_type": "code",
        "outputId": "bd28340a-443d-48a9-a089-7cb8348f94d5",
        "colab": {
          "base_uri": "https://localhost:8080/",
          "height": 578
        }
      },
      "source": [
        "de_npc.execute(model)"
      ],
      "execution_count": 11,
      "outputs": [
        {
          "output_type": "stream",
          "text": [
            "100  :  -2.1091910158745573 100\n",
            "200  :  -2.1004572709008666 100\n",
            "294  :  -2.099798757441826 94\n",
            "371  :  -2.068257015435955 77\n",
            "438  :  -2.068257015435955 67\n",
            "498  :  -2.0788613530812357 60\n",
            "552  :  -2.052495566561571 54\n",
            "601  :  -2.0986651288018234 49\n",
            "645  :  -2.0355932770585934 44\n",
            "684  :  -2.0334817317658 39\n",
            "719  :  -2.0132802936055825 35\n",
            "751  :  -2.0006481086706716 32\n",
            "780  :  -1.9859541902162463 29\n",
            "806  :  -1.9900703302928417 26\n",
            "829  :  -1.980734177187951 23\n",
            "850  :  -1.9751795870851696 21\n",
            "869  :  -1.9625307833342052 19\n",
            "886  :  -1.9673666497286257 17\n",
            "901  :  -1.9806006885619745 15\n",
            "915  :  -1.9547660346553823 14\n",
            "927  :  -1.9726950838370474 12\n",
            "938  :  -1.9498398545797797 11\n",
            "948  :  -1.9635548889880723 10\n",
            "957  :  -1.948943124969777 9\n",
            "965  :  -1.9739762549671416 8\n",
            "972  :  -1.9636391351128655 7\n",
            "978  :  -1.948943124969777 6\n",
            "984  :  -1.9638520845329448 6\n",
            "989  :  -1.9638520845329448 5\n",
            "994  :  -1.9707223113625538 5\n",
            "998  :  -1.948943124969777 4\n",
            "1002  :  -1.9752116271974116 4\n",
            "Time:  260.5479440689087  seconds\n"
          ],
          "name": "stdout"
        }
      ]
    },
    {
      "cell_type": "markdown",
      "metadata": {
        "id": "AlkkVPsC4gOU",
        "colab_type": "text"
      },
      "source": [
        "# Predict on Adversarial Example"
      ]
    },
    {
      "cell_type": "code",
      "metadata": {
        "id": "pCcWqnlt4v5_",
        "colab_type": "code",
        "outputId": "3c00852f-906e-40af-bd21-88e79a87e4ec",
        "colab": {
          "base_uri": "https://localhost:8080/",
          "height": 34
        }
      },
      "source": [
        "adv = np.clip(de_npc.X_best, 0, 255)\n",
        "preds_adv = model.predict(adv.reshape(1,28*28) / 255.0)\n",
        "np.argmax(preds_adv,axis=1)"
      ],
      "execution_count": 12,
      "outputs": [
        {
          "output_type": "execute_result",
          "data": {
            "text/plain": [
              "array([5])"
            ]
          },
          "metadata": {
            "tags": []
          },
          "execution_count": 12
        }
      ]
    },
    {
      "cell_type": "code",
      "metadata": {
        "id": "luOUUa5g60fT",
        "colab_type": "code",
        "outputId": "a96d1db2-4afc-46ea-c479-082d67457b42",
        "colab": {
          "base_uri": "https://localhost:8080/",
          "height": 34
        }
      },
      "source": [
        "preds = model.predict(X_test[0].reshape(1,28*28) / 255.0)\n",
        "np.argmax(preds,axis=1)"
      ],
      "execution_count": 13,
      "outputs": [
        {
          "output_type": "execute_result",
          "data": {
            "text/plain": [
              "array([7])"
            ]
          },
          "metadata": {
            "tags": []
          },
          "execution_count": 13
        }
      ]
    },
    {
      "cell_type": "code",
      "metadata": {
        "id": "tJIWGLTf7HqC",
        "colab_type": "code",
        "outputId": "ae926a69-f482-4b3a-9440-f8582651404b",
        "colab": {
          "base_uri": "https://localhost:8080/",
          "height": 282
        }
      },
      "source": [
        "plt.imshow(X_test[0].reshape(28,28))"
      ],
      "execution_count": 14,
      "outputs": [
        {
          "output_type": "execute_result",
          "data": {
            "text/plain": [
              "<matplotlib.image.AxesImage at 0x7fe7efceb9b0>"
            ]
          },
          "metadata": {
            "tags": []
          },
          "execution_count": 14
        },
        {
          "output_type": "display_data",
          "data": {
            "image/png": "[encoded data removed]",
            "text/plain": [
              "<Figure size 432x288 with 1 Axes>"
            ]
          },
          "metadata": {
            "tags": [],
            "needs_background": "light"
          }
        }
      ]
    },
    {
      "cell_type": "code",
      "metadata": {
        "id": "0xtsEVse7KOR",
        "colab_type": "code",
        "outputId": "c214c4dd-e010-47b2-f782-7de10d7e6286",
        "colab": {
          "base_uri": "https://localhost:8080/",
          "height": 282
        }
      },
      "source": [
        "plt.imshow(de_npc.X_best.reshape(28,28))"
      ],
      "execution_count": 15,
      "outputs": [
        {
          "output_type": "execute_result",
          "data": {
            "text/plain": [
              "<matplotlib.image.AxesImage at 0x7fe7efc7dfd0>"
            ]
          },
          "metadata": {
            "tags": []
          },
          "execution_count": 15
        },
        {
          "output_type": "display_data",
          "data": {
            "image/png": "[encoded data removed]",
            "text/plain": [
              "<Figure size 432x288 with 1 Axes>"
            ]
          },
          "metadata": {
            "tags": [],
            "needs_background": "light"
          }
        }
      ]
    }
  ]
}