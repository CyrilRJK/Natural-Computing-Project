{
  "nbformat": 4,
  "nbformat_minor": 0,
  "metadata": {
    "colab": {
      "name": "DE_NPC_Adversarial_WithClass.ipynb",
      "provenance": [],
      "collapsed_sections": []
    },
    "kernelspec": {
      "name": "python3",
      "display_name": "Python 3"
    }
  },
  "cells": [
    {
      "cell_type": "markdown",
      "metadata": {
        "id": "FGF9AJkh34af",
        "colab_type": "text"
      },
      "source": [
        "# Introduction\n",
        "\n",
        "This notebook implements Differential Evolution with Novel Parameter Control (DE-NPC) proposed by Meng et al. (2020) [1]. \n",
        "\n",
        "Using DE-NPC and MNIST [2], an adversarial image is generated. The prediction of an RBF Network on the adversarial image and original image is displayed.\n",
        "\n",
        "[1] Meng, Z., Chen, Y., & Li, X. (2020). Enhancing differential evolution with novel parametercontrol. IEEE Access,8, 51145–51167. \\\\\n",
        "[2] LeCun, Y., Cortes, C., & Burges, C.  (2010). MNIST handwritten digit database.\n",
        "\n"
      ]
    },
    {
      "cell_type": "markdown",
      "metadata": {
        "id": "H8hyv-J132P7",
        "colab_type": "text"
      },
      "source": [
        "# Libraries"
      ]
    },
    {
      "cell_type": "code",
      "metadata": {
        "id": "nVt-cqIRwvaG",
        "colab_type": "code",
        "colab": {}
      },
      "source": [
        "!pip install PyDrive\n",
        "!pip install keras==2.2.4\n",
        "!pip install tensorflow==1.13.1\n",
        "!pip install git+https://github.com/darecophoenixx/wordroid.sblo.jp"
      ],
      "execution_count": 0,
      "outputs": []
    },
    {
      "cell_type": "code",
      "metadata": {
        "id": "Kl-nBe6vwsi8",
        "colab_type": "code",
        "colab": {
          "base_uri": "https://localhost:8080/",
          "height": 292
        },
        "outputId": "9c4c028c-a3b9-47ee-d8c7-99e7cb4fb317"
      },
      "source": [
        "%matplotlib inline\n",
        "from IPython.display import SVG\n",
        "from keras.utils.vis_utils import model_to_dot\n",
        "from sklearn.metrics import accuracy_score\n",
        "import numpy as np\n",
        "import pandas as pd\n",
        "import matplotlib.pyplot as plt\n",
        "import seaborn as sns\n",
        "from keras.utils import to_categorical\n",
        "import tensorflow as tf\n",
        "from keras_ex.gkernel import GaussianKernel, GaussianKernel2, GaussianKernel3\n",
        "from keras.layers import Input, Dense\n",
        "from keras.models import Model\n",
        "from sklearn.metrics import confusion_matrix\n",
        "from sklearn.metrics import precision_recall_fscore_support\n",
        "from pydrive.auth import GoogleAuth\n",
        "from pydrive.drive import GoogleDrive\n",
        "from google.colab import auth\n",
        "from oauth2client.client import GoogleCredentials\n",
        "from scipy.stats import cauchy \n",
        "from scipy import stats\n",
        "import time\n",
        "import operator\n",
        "import random\n",
        "\n",
        "#Set seeds\n",
        "random.seed(0)\n",
        "np.random.seed(0)"
      ],
      "execution_count": 2,
      "outputs": [
        {
          "output_type": "stream",
          "text": [
            "Using TensorFlow backend.\n",
            "/usr/local/lib/python3.6/dist-packages/tensorflow/python/framework/dtypes.py:526: FutureWarning: Passing (type, 1) or '1type' as a synonym of type is deprecated; in a future version of numpy, it will be understood as (type, (1,)) / '(1,)type'.\n",
            "  _np_qint8 = np.dtype([(\"qint8\", np.int8, 1)])\n",
            "/usr/local/lib/python3.6/dist-packages/tensorflow/python/framework/dtypes.py:527: FutureWarning: Passing (type, 1) or '1type' as a synonym of type is deprecated; in a future version of numpy, it will be understood as (type, (1,)) / '(1,)type'.\n",
            "  _np_quint8 = np.dtype([(\"quint8\", np.uint8, 1)])\n",
            "/usr/local/lib/python3.6/dist-packages/tensorflow/python/framework/dtypes.py:528: FutureWarning: Passing (type, 1) or '1type' as a synonym of type is deprecated; in a future version of numpy, it will be understood as (type, (1,)) / '(1,)type'.\n",
            "  _np_qint16 = np.dtype([(\"qint16\", np.int16, 1)])\n",
            "/usr/local/lib/python3.6/dist-packages/tensorflow/python/framework/dtypes.py:529: FutureWarning: Passing (type, 1) or '1type' as a synonym of type is deprecated; in a future version of numpy, it will be understood as (type, (1,)) / '(1,)type'.\n",
            "  _np_quint16 = np.dtype([(\"quint16\", np.uint16, 1)])\n",
            "/usr/local/lib/python3.6/dist-packages/tensorflow/python/framework/dtypes.py:530: FutureWarning: Passing (type, 1) or '1type' as a synonym of type is deprecated; in a future version of numpy, it will be understood as (type, (1,)) / '(1,)type'.\n",
            "  _np_qint32 = np.dtype([(\"qint32\", np.int32, 1)])\n",
            "/usr/local/lib/python3.6/dist-packages/tensorflow/python/framework/dtypes.py:535: FutureWarning: Passing (type, 1) or '1type' as a synonym of type is deprecated; in a future version of numpy, it will be understood as (type, (1,)) / '(1,)type'.\n",
            "  np_resource = np.dtype([(\"resource\", np.ubyte, 1)])\n",
            "/usr/local/lib/python3.6/dist-packages/statsmodels/tools/_testing.py:19: FutureWarning: pandas.util.testing is deprecated. Use the functions in the public API at pandas.testing instead.\n",
            "  import pandas.util.testing as tm\n"
          ],
          "name": "stderr"
        }
      ]
    },
    {
      "cell_type": "markdown",
      "metadata": {
        "id": "D0TUQU9c4FTf",
        "colab_type": "text"
      },
      "source": [
        "# DE_NPC Class"
      ]
    },
    {
      "cell_type": "code",
      "metadata": {
        "id": "pycYsmNb4Bs3",
        "colab_type": "code",
        "colab": {}
      },
      "source": [
        "# https://stackoverflow.com/questions/1401712/how-can-the-euclidean-distance-be-calculated-with-numpy\n",
        "def euclidean(s):\n",
        "    # pass s=a-b as argument to the function\n",
        "    return np.linalg.norm(s)  "
      ],
      "execution_count": 0,
      "outputs": []
    },
    {
      "cell_type": "code",
      "metadata": {
        "id": "hIyNyt_4sUj2",
        "colab_type": "code",
        "colab": {}
      },
      "source": [
        "class DE_NPC:\n",
        "  def __init__(self,param_dict):\n",
        "    ###Load Params##\n",
        "    self.img = param_dict[\"input\"]\n",
        "    self.imsize = param_dict[\"input_size\"]\n",
        "    self.mean = param_dict[\"mean\"]\n",
        "    self.std = param_dict[\"std\"]\n",
        "    self.R_min = param_dict[\"R_min\"]\n",
        "    self.R_max = param_dict[\"R_max\"]\n",
        "    self.nfe_max = param_dict[\"nfe_max\"]\n",
        "    self.PS_ini = param_dict[\"PS_ini\"]\n",
        "    self.PS_min = param_dict[\"PS_min\"]\n",
        "    self.K = param_dict[\"K\"]\n",
        "    self.rarc = param_dict[\"rarc\"]\n",
        "    self.p = param_dict[\"p\"]\n",
        "\n",
        "    ####Initialize Params####\n",
        "    self.set_params()\n",
        "\n",
        "  #Fitness function\n",
        "  def fitness_func(self,individual):\n",
        "    return (-1)*euclidean(individual-self.img)\n",
        "\n",
        "  #Given the population and img(whihc is necessary to calculate the fitness function)\n",
        "  #choose one individual whose fitness value is in top p percent.\n",
        "  def get_top_p(self,PS,p):\n",
        "    num_best = int(PS*p)\n",
        "    fitness =  [(individual,self.fitness_func(individual)) for individual in self.population[0:PS]]\n",
        "    fitness.sort(key=lambda x: x[1])\n",
        "    fitness = fitness[-num_best:]\n",
        "    return random.choice(fitness)[0]\n",
        "\n",
        "  def execute(self):\n",
        "    nfe = 0\n",
        "    PS = self.PS_ini\n",
        "    A_ind = 0\n",
        "    G = 1\n",
        "    start = time.time()\n",
        "    while nfe < self.nfe_max:\n",
        "      #############################INITIALIZATION###################################\n",
        "      #Sets of successfull f and cr values\n",
        "      #with the corresponding weights\n",
        "      s_f = [[] for i in range(self.K)]\n",
        "      s_f_weights = [[] for i in range(self.K)]\n",
        "      s_cr = [[] for i in range(self.K)]\n",
        "      s_cr_weights = [[] for i in range(self.K)]\n",
        "      #the selected k values for this iteration\n",
        "      k_selections = np.zeros((self.K,PS))\n",
        "      #how many times the specific k value was a success/failure\n",
        "      k_success = np.zeros((self.K,1))\n",
        "      k_failure = np.zeros((self.K,1))\n",
        "\n",
        "      ####################ADJUST POPULATION AND A###################################\n",
        "      #Adjustment done due to keep the individuals' values in range.\n",
        "      #and to reduce the array sizes. However, even if the population size gets \n",
        "      #smaller than PS, since the loops are in range(PS), the individuals stored in \n",
        "      #the population vector in indices > PS will not be reached. \n",
        "      #Instead of picking discarded individuals randomly, we shuffle the population\n",
        "      #and archive array. It should amount to picking random.\n",
        "      if G > 2:\n",
        "        #Adjust the individuals of the population; \n",
        "        for i in range(PS):\n",
        "          self.population[i] = np.clip(self.population[i], self.R_min, self.R_max).reshape(self.imsize)\n",
        "        #Adjust storage A; \n",
        "        for i in range(self.A_size):\n",
        "          self.A[i] = np.clip(self.A[i], self.R_min, self.R_max).reshape(self.imsize)\n",
        "        np.random.shuffle(self.A)\n",
        "        np.random.shuffle(self.population)\n",
        "\n",
        "      #############################SELECT K,F,CR'S##################################  \n",
        "      #We select a k value for each individual in the population\n",
        "      #with respect to the selection probabilities (p_k) of each k.\n",
        "      custm = stats.rv_discrete(name='custm', values=(np.arange(self.K).reshape(self.K,1), self.p_k))\n",
        "      k_selections = custm.rvs(size=PS)\n",
        "      #Get f and cr values for each individual\n",
        "      for i in range(PS):\n",
        "        self.cr[i]  = np.random.normal(self.mu_cr[k_selections[i]], 0.1, 1)\n",
        "        if self.cr[i] < 0:\n",
        "          self.cr[i] = 0\n",
        "        self.f[i] = cauchy.rvs(self.mu_f[k_selections[i]],0.1,1)\n",
        "        while self.f[i] <= 0:\n",
        "          self.f[i] = cauchy.rvs(self.mu_f[k_selections[i]],0.1,1)\n",
        "        if self.f[i] > 1:\n",
        "          self.f[i] = 1\n",
        "      \n",
        "      ####################GENERATE U,V AND CALCULATE FITNESS########################\n",
        "      #Generate donor and trial (U and V) vectors\n",
        "      #Calculate the fitness values\n",
        "      for i in range(PS):\n",
        "        X_p_best =  self.get_top_p(PS,self.p).reshape((self.imsize,1))\n",
        "        #X_r_1 denotes a random vector selection from the current population\n",
        "        X_r_1 = random.choice(self.population[:PS]).reshape((self.imsize,1))\n",
        "        #X_hat_r_2 denotes a randomly selected solution from the union A and P\n",
        "        X_hat_r_2 = random.choice(np.concatenate((self.population[:PS], self.A[:self.A_size]), axis=0)).reshape((self.imsize,1))\n",
        "        #mutation, generate trial vector\n",
        "        self.V[i] = (self.population[i].reshape((self.imsize,1)) + self.f[i]*(X_p_best - self.population[i].reshape((self.imsize,1)))\n",
        "               + self.f[i]*(X_r_1 - X_hat_r_2)).reshape(self.imsize)\n",
        "        #crossover, generate donor vector\n",
        "        self.U[i] = self.population[i]\n",
        "        for j in range(self.imsize):\n",
        "          if random.uniform(0, 1) <= self.cr[i]:\n",
        "            self.U[i][j] = self.V[i][j]\n",
        "        self.fitness_ind[i] = self.fitness_func(self.population[i])\n",
        "        self.fitness_U[i] = self.fitness_func(self.U[i])\n",
        "\n",
        "      ################################INCREMENT nfe#################################\n",
        "      #Increment nfe\n",
        "      nfe += PS\n",
        "\n",
        "      #####################DETERMINE UN/SUCCESSFULL#################################\n",
        "      #Determine the successful and unsuccessful cr,f,k values.\n",
        "      #Add unsuccessful individuals to the archive\n",
        "      for i in range(PS):\n",
        "        k = k_selections[i]\n",
        "        if self.fitness_ind[i] <= self.fitness_U[i]:\n",
        "          s_cr[k].append(self.cr[i])\n",
        "          s_cr_weights[k].append(np.std(np.subtract(self.population[i],self.U[i])))\n",
        "          s_f[k].append(self.f[i])\n",
        "          s_f_weights[k].append(self.fitness_U[i]-self.fitness_ind[i])\n",
        "          self.population[i] = self.U[i]\n",
        "          k_success[k] += 1\n",
        "        else:\n",
        "          if A_ind >= self.A_size:\n",
        "            A_ind = 0\n",
        "          self.A[A_ind] = self.population[i]\n",
        "          A_ind += 1\n",
        "          k_failure[k] += 1\n",
        "\n",
        "      ######################UPDATE MU_CR AND MU_F's#################################\n",
        "      #update params (mixed with Jade-like update)\n",
        "      for k in range(self.K):\n",
        "        if len(s_cr[k]) != 0:\n",
        "          s_cr_weights[k] = s_cr_weights[k]/np.sum(s_cr_weights[k])\n",
        "          s_f_weights[k] = s_f_weights[k]/np.sum(s_f_weights[k])\n",
        "          mean_cr = np.sum(np.multiply(np.square(s_cr[k]),s_cr_weights[k]))/np.sum(np.multiply(s_cr[k],s_cr_weights[k]))\n",
        "          mean_f = np.sum(np.multiply(np.square(s_f[k]),s_f_weights[k]))/np.sum(np.multiply(s_f[k],s_f_weights[k]))  \n",
        "          #update mu_cr\n",
        "          if (np.max(s_cr[k]) > 0) and (self.mu_cr[k] != 0):\n",
        "            self.mu_cr[k] = mean_cr\n",
        "          #update mu_f\n",
        "          self.mu_f[k] = mean_f\n",
        "\n",
        "      ###########################UPDATE GROUP PROBS#################################\n",
        "      #Update group probabilities\n",
        "      for k in range(self.K):\n",
        "        if k_success[k] != 0:\n",
        "          k_success[k] = np.square(k_success[k])/(np.sum(k_success[k])*(k_success[k]+k_failure[k]))\n",
        "        else:\n",
        "          self.p_k[k] = 0.000000001\n",
        "      self.p_k = self.p_k/np.sum(self.p_k)\n",
        "\n",
        "      ###########################END ITERATION######################################\n",
        "      #increment generation count\n",
        "      G += 1\n",
        "      #Get the best individual\n",
        "      self.X_best = self.get_top_p(PS,1/PS)\n",
        "      #Get the fitness of best individual\n",
        "      self.X_best_fitness = self.fitness_func(self.X_best)\n",
        "      #Give feedback\n",
        "      print(nfe, \" : \"  ,self.X_best_fitness,PS)\n",
        "\n",
        "      ######################ADJUST POPULATION SIZE##################################\n",
        "      #adjust population size \n",
        "      #else part changed. there is something wrong with the formula on the paper.\n",
        "      #since the ends of the two partial functions do not meet, when nfe > x the \n",
        "      #population increases. change is to fix this.\n",
        "      if nfe <= self.x:\n",
        "        PS = int(np.ceil((((self.y-self.PS_ini)/np.square(self.x-self.PS_ini))*np.square(nfe-self.PS_ini)) + self.PS_ini))\n",
        "      else:\n",
        "        initial_formula = int(np.floor((((self.y-self.PS_ini)/(self.x-self.PS_min))*(nfe-self.nfe_max)) + self.PS_min))\n",
        "        if initial_formula < PS:\n",
        "          PS = initial_formula\n",
        "      #adjust archive size according to the new population\n",
        "      self.A_size = int(self.rarc*PS)\n",
        "      #Note: archive update moved within \"Determine un/successful\" as the computation\n",
        "      #would be too redundant.  \n",
        "    end = time.time()\n",
        "    print(\"Time: \",end-start ,\" seconds\")\n",
        "\n",
        "\n",
        "  def change_input(self,img,imsize):\n",
        "    self.img = img\n",
        "    self.imsize = imsize\n",
        "    self.set_params()\n",
        "\n",
        "  def set_params(self):\n",
        "    #Calculate pivot for dynamic population change\n",
        "    self.x = (1/3)*self.nfe_max\n",
        "    self.y = (2/3)*self.PS_ini     \n",
        "    #probability of belonging to a group\n",
        "    self.p_k = np.ones((self.K,1))*(1/self.K)   \n",
        "    #archive\n",
        "    self.A_size = int(self.PS_ini*self.rarc)\n",
        "    self.A = np.zeros((self.A_size,self.imsize))\n",
        "    #scale factor\n",
        "    self.f = np.ones((self.PS_ini,1)) \n",
        "    self.mu_f = np.ones((self.K,1)) *0.5\n",
        "    #crossover probability\n",
        "    self.cr = np.ones((self.PS_ini,1)) \n",
        "    self.mu_cr = np.ones((self.K,1)) *0.5\n",
        "    #Initial population\n",
        "    self.population = np.zeros((self.PS_ini,self.imsize))\n",
        "    #Fitness functions\n",
        "    self.fitness_ind = np.zeros((self.PS_ini,1))\n",
        "    self.fitness_U = np.zeros((self.PS_ini,1))\n",
        "    #donor and trial vectors\n",
        "    self.V = np.zeros((self.PS_ini,self.imsize))\n",
        "    self.U = np.zeros((self.PS_ini,self.imsize))\n",
        "    for i in range(self.PS_ini):\n",
        "      noisy_img = self.img + np.random.normal(self.mean, self.std, (self.imsize,1))\n",
        "      self.population[i] = np.clip(noisy_img, 0, 255).reshape(self.imsize)\n",
        "    self.X_best = None\n",
        "    self.X_best_fitness = None"
      ],
      "execution_count": 0,
      "outputs": []
    },
    {
      "cell_type": "markdown",
      "metadata": {
        "id": "UDE9UySP4KBR",
        "colab_type": "text"
      },
      "source": [
        "# Prepare Data"
      ]
    },
    {
      "cell_type": "code",
      "metadata": {
        "id": "B9ma_QiOxYT4",
        "colab_type": "code",
        "colab": {}
      },
      "source": [
        "(X_train, y_train), (X_test, y_test) = tf.keras.datasets.mnist.load_data()"
      ],
      "execution_count": 0,
      "outputs": []
    },
    {
      "cell_type": "code",
      "metadata": {
        "id": "WAhJflWExaaw",
        "colab_type": "code",
        "colab": {}
      },
      "source": [
        "def prepare_data(X,y):\n",
        "  X = X.reshape((X.shape[0], -1))\n",
        "  X_sc = X / 256.0\n",
        "  y_cat = to_categorical(y)\n",
        "  return X_sc, y_cat"
      ],
      "execution_count": 0,
      "outputs": []
    },
    {
      "cell_type": "markdown",
      "metadata": {
        "id": "004hGX8X4LnL",
        "colab_type": "text"
      },
      "source": [
        "# Usage"
      ]
    },
    {
      "cell_type": "code",
      "metadata": {
        "id": "46jftR2PsnTQ",
        "colab_type": "code",
        "colab": {}
      },
      "source": [
        "param_dict = {\n",
        "    #Image to be evolved\n",
        "    \"input\" : X_test[0].reshape((28*28, -1)),\n",
        "    \"input_size\" : 28*28,\n",
        "    #Mean and std for Gaussian noise\n",
        "    \"mean\" : 0.0,  \n",
        "    \"std\" : 1.0,\n",
        "    #Range\n",
        "    \"R_min\" : 0.0,\n",
        "    \"R_max\" : 255.0,\n",
        "    #Maximum number of function evaluations\n",
        "    \"nfe_max\" : 1000,\n",
        "    #Initial and minimum population size\n",
        "    \"PS_ini\" : 25,\n",
        "    \"PS_min\" : 4,\n",
        "    #Number of groups\n",
        "    \"K\" : 7,\n",
        "    #ratio of the external archive size to the whole population PS\n",
        "    \"rarc\" : 1.6,\n",
        "    #percentage p when we select an individual among top p fits\n",
        "    \"p\" : 0.11\n",
        "}"
      ],
      "execution_count": 0,
      "outputs": []
    },
    {
      "cell_type": "code",
      "metadata": {
        "id": "t6hkWWKVxNJX",
        "colab_type": "code",
        "colab": {}
      },
      "source": [
        "de_npc = DE_NPC(param_dict)"
      ],
      "execution_count": 0,
      "outputs": []
    },
    {
      "cell_type": "code",
      "metadata": {
        "id": "it4jWfdK2aR4",
        "colab_type": "code",
        "colab": {
          "base_uri": "https://localhost:8080/",
          "height": 1000
        },
        "outputId": "e7e0f2a4-c5b7-43ff-cf45-ffe03702df26"
      },
      "source": [
        "de_npc.execute()"
      ],
      "execution_count": 9,
      "outputs": [
        {
          "output_type": "stream",
          "text": [
            "25  :  -73059.76546730741 25\n",
            "50  :  -73055.21309457839 25\n",
            "75  :  -73042.82103247642 25\n",
            "100  :  -73027.19296229597 25\n",
            "125  :  -72975.31902280053 25\n",
            "150  :  -72964.7225424171 25\n",
            "174  :  -72945.9519799718 24\n",
            "198  :  -72895.64991534853 24\n",
            "221  :  -72860.31166155887 23\n",
            "243  :  -72795.45935441527 22\n",
            "264  :  -72671.4741669759 21\n",
            "284  :  -72600.85468567675 20\n",
            "304  :  -72362.65301316787 20\n",
            "323  :  -72024.48364659266 19\n",
            "341  :  -71532.97266417627 18\n",
            "359  :  -71033.60574634482 18\n",
            "377  :  -70475.12205405401 18\n",
            "395  :  -70288.0011871442 18\n",
            "413  :  -70234.99409948362 18\n",
            "431  :  -70234.99409948362 18\n",
            "449  :  -70249.35599981711 18\n",
            "466  :  -69952.16182631683 17\n",
            "483  :  -69780.28995087661 17\n",
            "500  :  -69732.71117844044 17\n",
            "516  :  -69732.09126998337 16\n",
            "532  :  -69696.8269906283 16\n",
            "547  :  -69530.54292659485 15\n",
            "562  :  -69519.89754794803 15\n",
            "577  :  -69516.17346095061 15\n",
            "591  :  -69409.77077852309 14\n",
            "605  :  -69359.98234934919 14\n",
            "618  :  -69378.45641759793 13\n",
            "631  :  -69378.45641759793 13\n",
            "644  :  -69225.04403802694 13\n",
            "657  :  -69168.10641296051 13\n",
            "669  :  -69189.52762424767 12\n",
            "681  :  -69225.04403802694 12\n",
            "693  :  -69133.51857851952 12\n",
            "704  :  -69128.61354349619 11\n",
            "715  :  -69069.89945820282 11\n",
            "726  :  -69032.97474931533 11\n",
            "736  :  -69024.8275637407 10\n",
            "746  :  -68979.50633674621 10\n",
            "756  :  -68977.98659910215 10\n",
            "766  :  -68902.2579312411 10\n",
            "775  :  -68886.82706277531 9\n",
            "784  :  -68943.88377827409 9\n",
            "793  :  -68886.59902034025 9\n",
            "802  :  -68879.5182008356 9\n",
            "811  :  -68879.49959271094 9\n",
            "819  :  -68935.01544355844 8\n",
            "827  :  -68873.0129772334 8\n",
            "835  :  -68849.80443532072 8\n",
            "843  :  -68879.49959271094 8\n",
            "850  :  -68884.26111427133 7\n",
            "857  :  -68884.26111427133 7\n",
            "864  :  -68879.49959271094 7\n",
            "871  :  -68850.09256976833 7\n",
            "878  :  -68880.26410064318 7\n",
            "885  :  -68850.09244388423 7\n",
            "891  :  -68850.09244388423 6\n",
            "897  :  -68850.09244388423 6\n",
            "903  :  -68849.38890612086 6\n",
            "909  :  -68838.00617130402 6\n",
            "915  :  -68831.11870432443 6\n",
            "921  :  -68831.11870432443 6\n",
            "926  :  -68830.72842948098 5\n",
            "931  :  -68850.09244388423 5\n",
            "936  :  -68850.09244388423 5\n",
            "941  :  -68850.09244388423 5\n",
            "946  :  -68858.41726263694 5\n",
            "951  :  -68860.98250053423 5\n",
            "956  :  -68840.380659311 5\n",
            "961  :  -68825.68973327421 5\n",
            "965  :  -68832.55426312362 4\n",
            "969  :  -68834.19821445353 4\n",
            "973  :  -68871.58939718666 4\n",
            "977  :  -68836.1567178646 4\n",
            "981  :  -68825.68973327421 4\n",
            "985  :  -68861.65193674043 4\n",
            "989  :  -68852.65988656748 4\n",
            "993  :  -68821.64664176555 4\n",
            "997  :  -68805.89110437791 4\n",
            "1001  :  -68840.39472382692 4\n",
            "Time:  47.06420874595642  seconds\n"
          ],
          "name": "stdout"
        }
      ]
    },
    {
      "cell_type": "markdown",
      "metadata": {
        "id": "fs25gWBy4W4l",
        "colab_type": "text"
      },
      "source": [
        "# Download Neural Network"
      ]
    },
    {
      "cell_type": "code",
      "metadata": {
        "id": "jJPEejMZ4dwe",
        "colab_type": "code",
        "colab": {
          "base_uri": "https://localhost:8080/",
          "height": 88
        },
        "outputId": "d9bb57f0-ede3-4c28-ec6a-61e8df263d7f"
      },
      "source": [
        "auth.authenticate_user()\n",
        "gauth = GoogleAuth()\n",
        "gauth.credentials = GoogleCredentials.get_application_default()\n",
        "drive = GoogleDrive(gauth)\n",
        "downloaded = drive.CreateFile({'id':\"1EWNv4GOWsgGXxlkMaTVJMjEAM5jaqRse\"}) \n",
        "downloaded.GetContentFile('rbfnn.h5')   \n",
        "\n",
        "num_lm0 = 100\n",
        "num_lm = num_lm0 * 10\n",
        "init_wgt = np.zeros(((1000, 784)))\n",
        "\n",
        "inp = Input(shape=(28*28,), name='inp')\n",
        "oup = GaussianKernel(num_lm, 28*28,\n",
        "                     kernel_gamma='auto', weights=[init_wgt],\n",
        "                     name='gkernel1')(inp)\n",
        "oup = Dense(10, activation='softmax')(oup)\n",
        "model = Model(inp, oup)\n",
        "model.compile(loss='categorical_crossentropy', optimizer='adam', metrics=['accuracy'])\n",
        "model.load_weights(\"rbfnn.h5\")"
      ],
      "execution_count": 10,
      "outputs": [
        {
          "output_type": "stream",
          "text": [
            "WARNING:tensorflow:From /usr/local/lib/python3.6/dist-packages/tensorflow/python/framework/op_def_library.py:263: colocate_with (from tensorflow.python.framework.ops) is deprecated and will be removed in a future version.\n",
            "Instructions for updating:\n",
            "Colocations handled automatically by placer.\n"
          ],
          "name": "stdout"
        }
      ]
    },
    {
      "cell_type": "markdown",
      "metadata": {
        "id": "AlkkVPsC4gOU",
        "colab_type": "text"
      },
      "source": [
        "# Predict on Adversarial Example"
      ]
    },
    {
      "cell_type": "code",
      "metadata": {
        "id": "pCcWqnlt4v5_",
        "colab_type": "code",
        "colab": {
          "base_uri": "https://localhost:8080/",
          "height": 34
        },
        "outputId": "59dda18e-9766-4117-b8c5-9fd3554215d5"
      },
      "source": [
        "preds = model.predict(de_npc.X_best.reshape(1,28*28))\n",
        "np.argmax(preds,axis=1)"
      ],
      "execution_count": 11,
      "outputs": [
        {
          "output_type": "execute_result",
          "data": {
            "text/plain": [
              "array([5])"
            ]
          },
          "metadata": {
            "tags": []
          },
          "execution_count": 11
        }
      ]
    },
    {
      "cell_type": "code",
      "metadata": {
        "id": "aHTVJ4F27DvA",
        "colab_type": "code",
        "colab": {
          "base_uri": "https://localhost:8080/",
          "height": 34
        },
        "outputId": "8383a7eb-d813-42ab-f255-36f682fcf61a"
      },
      "source": [
        "preds = model.predict(X_test[0].reshape(1,28*28))\n",
        "np.argmax(preds,axis=1)"
      ],
      "execution_count": 12,
      "outputs": [
        {
          "output_type": "execute_result",
          "data": {
            "text/plain": [
              "array([5])"
            ]
          },
          "metadata": {
            "tags": []
          },
          "execution_count": 12
        }
      ]
    },
    {
      "cell_type": "code",
      "metadata": {
        "id": "tJIWGLTf7HqC",
        "colab_type": "code",
        "colab": {
          "base_uri": "https://localhost:8080/",
          "height": 282
        },
        "outputId": "7ca904a9-1252-429d-9835-1d75948ba93b"
      },
      "source": [
        "plt.imshow(X_test[0])"
      ],
      "execution_count": 13,
      "outputs": [
        {
          "output_type": "execute_result",
          "data": {
            "text/plain": [
              "<matplotlib.image.AxesImage at 0x7f2a744c18d0>"
            ]
          },
          "metadata": {
            "tags": []
          },
          "execution_count": 13
        },
        {
          "output_type": "display_data",
          "data": {
            "image/png": "[encoded data removed]",
            "text/plain": [
              "<Figure size 432x288 with 1 Axes>"
            ]
          },
          "metadata": {
            "tags": [],
            "needs_background": "light"
          }
        }
      ]
    },
    {
      "cell_type": "code",
      "metadata": {
        "id": "0xtsEVse7KOR",
        "colab_type": "code",
        "colab": {
          "base_uri": "https://localhost:8080/",
          "height": 282
        },
        "outputId": "bf411e69-09d2-43ce-c629-1fef5e046726"
      },
      "source": [
        "plt.imshow(de_npc.X_best.reshape(28,28))"
      ],
      "execution_count": 14,
      "outputs": [
        {
          "output_type": "execute_result",
          "data": {
            "text/plain": [
              "<matplotlib.image.AxesImage at 0x7f2a73f99160>"
            ]
          },
          "metadata": {
            "tags": []
          },
          "execution_count": 14
        },
        {
          "output_type": "display_data",
          "data": {
            "image/png": "[encoded data removed]",
            "text/plain": [
              "<Figure size 432x288 with 1 Axes>"
            ]
          },
          "metadata": {
            "tags": [],
            "needs_background": "light"
          }
        }
      ]
    }
  ]
}