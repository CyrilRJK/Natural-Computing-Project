{
  "nbformat": 4,
  "nbformat_minor": 0,
  "metadata": {
    "colab": {
      "name": "DE_NPC_Adversarial_WithClass_v2.ipynb",
      "provenance": [],
      "collapsed_sections": []
    },
    "kernelspec": {
      "name": "python3",
      "display_name": "Python 3"
    }
  },
  "cells": [
    {
      "cell_type": "markdown",
      "metadata": {
        "id": "FGF9AJkh34af",
        "colab_type": "text"
      },
      "source": [
        "# Introduction\n",
        "\n",
        "This notebook implements Differential Evolution with Novel Parameter Control (DE-NPC) proposed by Meng et al. (2020) [1]. \n",
        "\n",
        "Using DE-NPC and MNIST [2], an adversarial image is generated. The prediction of an RBF Network on the adversarial image and original image is displayed.\n",
        "\n",
        "[1] Meng, Z., Chen, Y., & Li, X. (2020). Enhancing differential evolution with novel parametercontrol. IEEE Access,8, 51145–51167. \\\\\n",
        "[2] LeCun, Y., Cortes, C., & Burges, C.  (2010). MNIST handwritten digit database.\n",
        "\n"
      ]
    },
    {
      "cell_type": "markdown",
      "metadata": {
        "id": "H8hyv-J132P7",
        "colab_type": "text"
      },
      "source": [
        "# Libraries"
      ]
    },
    {
      "cell_type": "code",
      "metadata": {
        "id": "nVt-cqIRwvaG",
        "colab_type": "code",
        "outputId": "6c32bedd-8fbf-488a-ffb2-fad8bbe136cc",
        "colab": {
          "base_uri": "https://localhost:8080/",
          "height": 1000
        }
      },
      "source": [
        "!pip install PyDrive\n",
        "!pip install keras==2.2.4\n",
        "!pip install tensorflow==1.13.1\n",
        "!pip install git+https://github.com/darecophoenixx/wordroid.sblo.jp"
      ],
      "execution_count": 16,
      "outputs": [
        {
          "output_type": "stream",
          "text": [
            "Requirement already satisfied: PyDrive in /usr/local/lib/python3.6/dist-packages (1.3.1)\n",
            "Requirement already satisfied: google-api-python-client>=1.2 in /usr/local/lib/python3.6/dist-packages (from PyDrive) (1.7.12)\n",
            "Requirement already satisfied: oauth2client>=4.0.0 in /usr/local/lib/python3.6/dist-packages (from PyDrive) (4.1.3)\n",
            "Requirement already satisfied: PyYAML>=3.0 in /usr/local/lib/python3.6/dist-packages (from PyDrive) (3.13)\n",
            "Requirement already satisfied: google-auth-httplib2>=0.0.3 in /usr/local/lib/python3.6/dist-packages (from google-api-python-client>=1.2->PyDrive) (0.0.3)\n",
            "Requirement already satisfied: httplib2<1dev,>=0.17.0 in /usr/local/lib/python3.6/dist-packages (from google-api-python-client>=1.2->PyDrive) (0.17.3)\n",
            "Requirement already satisfied: google-auth>=1.4.1 in /usr/local/lib/python3.6/dist-packages (from google-api-python-client>=1.2->PyDrive) (1.7.2)\n",
            "Requirement already satisfied: six<2dev,>=1.6.1 in /usr/local/lib/python3.6/dist-packages (from google-api-python-client>=1.2->PyDrive) (1.12.0)\n",
            "Requirement already satisfied: uritemplate<4dev,>=3.0.0 in /usr/local/lib/python3.6/dist-packages (from google-api-python-client>=1.2->PyDrive) (3.0.1)\n",
            "Requirement already satisfied: pyasn1>=0.1.7 in /usr/local/lib/python3.6/dist-packages (from oauth2client>=4.0.0->PyDrive) (0.4.8)\n",
            "Requirement already satisfied: pyasn1-modules>=0.0.5 in /usr/local/lib/python3.6/dist-packages (from oauth2client>=4.0.0->PyDrive) (0.2.8)\n",
            "Requirement already satisfied: rsa>=3.1.4 in /usr/local/lib/python3.6/dist-packages (from oauth2client>=4.0.0->PyDrive) (4.0)\n",
            "Requirement already satisfied: setuptools>=40.3.0 in /usr/local/lib/python3.6/dist-packages (from google-auth>=1.4.1->google-api-python-client>=1.2->PyDrive) (46.3.0)\n",
            "Requirement already satisfied: cachetools<3.2,>=2.0.0 in /usr/local/lib/python3.6/dist-packages (from google-auth>=1.4.1->google-api-python-client>=1.2->PyDrive) (3.1.1)\n",
            "Requirement already satisfied: keras==2.2.4 in /usr/local/lib/python3.6/dist-packages (2.2.4)\n",
            "Requirement already satisfied: h5py in /usr/local/lib/python3.6/dist-packages (from keras==2.2.4) (2.10.0)\n",
            "Requirement already satisfied: keras-applications>=1.0.6 in /usr/local/lib/python3.6/dist-packages (from keras==2.2.4) (1.0.8)\n",
            "Requirement already satisfied: six>=1.9.0 in /usr/local/lib/python3.6/dist-packages (from keras==2.2.4) (1.12.0)\n",
            "Requirement already satisfied: scipy>=0.14 in /usr/local/lib/python3.6/dist-packages (from keras==2.2.4) (1.4.1)\n",
            "Requirement already satisfied: pyyaml in /usr/local/lib/python3.6/dist-packages (from keras==2.2.4) (3.13)\n",
            "Requirement already satisfied: keras-preprocessing>=1.0.5 in /usr/local/lib/python3.6/dist-packages (from keras==2.2.4) (1.1.0)\n",
            "Requirement already satisfied: numpy>=1.9.1 in /usr/local/lib/python3.6/dist-packages (from keras==2.2.4) (1.18.4)\n",
            "Requirement already satisfied: tensorflow==1.13.1 in /usr/local/lib/python3.6/dist-packages (1.13.1)\n",
            "Requirement already satisfied: protobuf>=3.6.1 in /usr/local/lib/python3.6/dist-packages (from tensorflow==1.13.1) (3.10.0)\n",
            "Requirement already satisfied: wheel>=0.26 in /usr/local/lib/python3.6/dist-packages (from tensorflow==1.13.1) (0.34.2)\n",
            "Requirement already satisfied: six>=1.10.0 in /usr/local/lib/python3.6/dist-packages (from tensorflow==1.13.1) (1.12.0)\n",
            "Requirement already satisfied: gast>=0.2.0 in /usr/local/lib/python3.6/dist-packages (from tensorflow==1.13.1) (0.3.3)\n",
            "Requirement already satisfied: keras-preprocessing>=1.0.5 in /usr/local/lib/python3.6/dist-packages (from tensorflow==1.13.1) (1.1.0)\n",
            "Requirement already satisfied: astor>=0.6.0 in /usr/local/lib/python3.6/dist-packages (from tensorflow==1.13.1) (0.8.1)\n",
            "Requirement already satisfied: termcolor>=1.1.0 in /usr/local/lib/python3.6/dist-packages (from tensorflow==1.13.1) (1.1.0)\n",
            "Requirement already satisfied: keras-applications>=1.0.6 in /usr/local/lib/python3.6/dist-packages (from tensorflow==1.13.1) (1.0.8)\n",
            "Requirement already satisfied: absl-py>=0.1.6 in /usr/local/lib/python3.6/dist-packages (from tensorflow==1.13.1) (0.9.0)\n",
            "Requirement already satisfied: numpy>=1.13.3 in /usr/local/lib/python3.6/dist-packages (from tensorflow==1.13.1) (1.18.4)\n",
            "Requirement already satisfied: tensorflow-estimator<1.14.0rc0,>=1.13.0 in /usr/local/lib/python3.6/dist-packages (from tensorflow==1.13.1) (1.13.0)\n",
            "Requirement already satisfied: grpcio>=1.8.6 in /usr/local/lib/python3.6/dist-packages (from tensorflow==1.13.1) (1.28.1)\n",
            "Requirement already satisfied: tensorboard<1.14.0,>=1.13.0 in /usr/local/lib/python3.6/dist-packages (from tensorflow==1.13.1) (1.13.1)\n",
            "Requirement already satisfied: setuptools in /usr/local/lib/python3.6/dist-packages (from protobuf>=3.6.1->tensorflow==1.13.1) (46.3.0)\n",
            "Requirement already satisfied: h5py in /usr/local/lib/python3.6/dist-packages (from keras-applications>=1.0.6->tensorflow==1.13.1) (2.10.0)\n",
            "Requirement already satisfied: mock>=2.0.0 in /usr/local/lib/python3.6/dist-packages (from tensorflow-estimator<1.14.0rc0,>=1.13.0->tensorflow==1.13.1) (4.0.2)\n",
            "Requirement already satisfied: markdown>=2.6.8 in /usr/local/lib/python3.6/dist-packages (from tensorboard<1.14.0,>=1.13.0->tensorflow==1.13.1) (3.2.1)\n",
            "Requirement already satisfied: werkzeug>=0.11.15 in /usr/local/lib/python3.6/dist-packages (from tensorboard<1.14.0,>=1.13.0->tensorflow==1.13.1) (1.0.1)\n",
            "Collecting git+https://github.com/darecophoenixx/wordroid.sblo.jp\n",
            "  Cloning https://github.com/darecophoenixx/wordroid.sblo.jp to /tmp/pip-req-build-19n9zyx5\n",
            "  Running command git clone -q https://github.com/darecophoenixx/wordroid.sblo.jp /tmp/pip-req-build-19n9zyx5\n",
            "Requirement already satisfied (use --upgrade to upgrade): wordroid.sblo.jp==0.0.1 from git+https://github.com/darecophoenixx/wordroid.sblo.jp in /usr/local/lib/python3.6/dist-packages\n",
            "Requirement already satisfied: gensim in /usr/local/lib/python3.6/dist-packages (from wordroid.sblo.jp==0.0.1) (3.6.0)\n",
            "Requirement already satisfied: scipy>=0.18.1 in /usr/local/lib/python3.6/dist-packages (from gensim->wordroid.sblo.jp==0.0.1) (1.4.1)\n",
            "Requirement already satisfied: smart-open>=1.2.1 in /usr/local/lib/python3.6/dist-packages (from gensim->wordroid.sblo.jp==0.0.1) (2.0.0)\n",
            "Requirement already satisfied: numpy>=1.11.3 in /usr/local/lib/python3.6/dist-packages (from gensim->wordroid.sblo.jp==0.0.1) (1.18.4)\n",
            "Requirement already satisfied: six>=1.5.0 in /usr/local/lib/python3.6/dist-packages (from gensim->wordroid.sblo.jp==0.0.1) (1.12.0)\n",
            "Requirement already satisfied: boto in /usr/local/lib/python3.6/dist-packages (from smart-open>=1.2.1->gensim->wordroid.sblo.jp==0.0.1) (2.49.0)\n",
            "Requirement already satisfied: requests in /usr/local/lib/python3.6/dist-packages (from smart-open>=1.2.1->gensim->wordroid.sblo.jp==0.0.1) (2.23.0)\n",
            "Requirement already satisfied: boto3 in /usr/local/lib/python3.6/dist-packages (from smart-open>=1.2.1->gensim->wordroid.sblo.jp==0.0.1) (1.13.4)\n",
            "Requirement already satisfied: idna<3,>=2.5 in /usr/local/lib/python3.6/dist-packages (from requests->smart-open>=1.2.1->gensim->wordroid.sblo.jp==0.0.1) (2.9)\n",
            "Requirement already satisfied: urllib3!=1.25.0,!=1.25.1,<1.26,>=1.21.1 in /usr/local/lib/python3.6/dist-packages (from requests->smart-open>=1.2.1->gensim->wordroid.sblo.jp==0.0.1) (1.24.3)\n",
            "Requirement already satisfied: chardet<4,>=3.0.2 in /usr/local/lib/python3.6/dist-packages (from requests->smart-open>=1.2.1->gensim->wordroid.sblo.jp==0.0.1) (3.0.4)\n",
            "Requirement already satisfied: certifi>=2017.4.17 in /usr/local/lib/python3.6/dist-packages (from requests->smart-open>=1.2.1->gensim->wordroid.sblo.jp==0.0.1) (2020.4.5.1)\n",
            "Requirement already satisfied: botocore<1.17.0,>=1.16.4 in /usr/local/lib/python3.6/dist-packages (from boto3->smart-open>=1.2.1->gensim->wordroid.sblo.jp==0.0.1) (1.16.4)\n",
            "Requirement already satisfied: jmespath<1.0.0,>=0.7.1 in /usr/local/lib/python3.6/dist-packages (from boto3->smart-open>=1.2.1->gensim->wordroid.sblo.jp==0.0.1) (0.9.5)\n",
            "Requirement already satisfied: s3transfer<0.4.0,>=0.3.0 in /usr/local/lib/python3.6/dist-packages (from boto3->smart-open>=1.2.1->gensim->wordroid.sblo.jp==0.0.1) (0.3.3)\n",
            "Requirement already satisfied: python-dateutil<3.0.0,>=2.1 in /usr/local/lib/python3.6/dist-packages (from botocore<1.17.0,>=1.16.4->boto3->smart-open>=1.2.1->gensim->wordroid.sblo.jp==0.0.1) (2.8.1)\n",
            "Requirement already satisfied: docutils<0.16,>=0.10 in /usr/local/lib/python3.6/dist-packages (from botocore<1.17.0,>=1.16.4->boto3->smart-open>=1.2.1->gensim->wordroid.sblo.jp==0.0.1) (0.15.2)\n",
            "Building wheels for collected packages: wordroid.sblo.jp\n",
            "  Building wheel for wordroid.sblo.jp (setup.py) ... \u001b[?25l\u001b[?25hdone\n",
            "  Created wheel for wordroid.sblo.jp: filename=wordroid.sblo.jp-0.0.1-cp36-none-any.whl size=33710 sha256=3bd0d7344de35c4d50331763af683000f70e0d0083c8091443c5e81ef0e41135\n",
            "  Stored in directory: /tmp/pip-ephem-wheel-cache-fyqmxlc2/wheels/3d/6d/24/44e7d6dc47b39e74772a04beb27433ba2ebed90876394cda60\n",
            "Successfully built wordroid.sblo.jp\n"
          ],
          "name": "stdout"
        }
      ]
    },
    {
      "cell_type": "code",
      "metadata": {
        "id": "Kl-nBe6vwsi8",
        "colab_type": "code",
        "colab": {}
      },
      "source": [
        "%matplotlib inline\n",
        "from IPython.display import SVG\n",
        "from keras.utils.vis_utils import model_to_dot\n",
        "from sklearn.metrics import accuracy_score\n",
        "import numpy as np\n",
        "import pandas as pd\n",
        "import matplotlib.pyplot as plt\n",
        "import seaborn as sns\n",
        "from keras.utils import to_categorical\n",
        "import tensorflow as tf\n",
        "from keras_ex.gkernel import GaussianKernel, GaussianKernel2, GaussianKernel3\n",
        "from keras.layers import Input, Dense\n",
        "from keras.models import Model\n",
        "from sklearn.metrics import confusion_matrix\n",
        "from sklearn.metrics import precision_recall_fscore_support\n",
        "from pydrive.auth import GoogleAuth\n",
        "from pydrive.drive import GoogleDrive\n",
        "from google.colab import auth\n",
        "from oauth2client.client import GoogleCredentials\n",
        "from scipy.stats import cauchy \n",
        "from scipy import stats\n",
        "import time\n",
        "import operator\n",
        "import random\n",
        "\n",
        "#Set seeds\n",
        "random.seed(0)\n",
        "np.random.seed(0)"
      ],
      "execution_count": 0,
      "outputs": []
    },
    {
      "cell_type": "markdown",
      "metadata": {
        "id": "D0TUQU9c4FTf",
        "colab_type": "text"
      },
      "source": [
        "# DE_NPC Class"
      ]
    },
    {
      "cell_type": "code",
      "metadata": {
        "id": "pycYsmNb4Bs3",
        "colab_type": "code",
        "colab": {}
      },
      "source": [
        "# https://stackoverflow.com/questions/1401712/how-can-the-euclidean-distance-be-calculated-with-numpy\n",
        "def euclidean(s):\n",
        "    # pass s=a-b as argument to the function\n",
        "    return np.linalg.norm(s)"
      ],
      "execution_count": 0,
      "outputs": []
    },
    {
      "cell_type": "code",
      "metadata": {
        "id": "hIyNyt_4sUj2",
        "colab_type": "code",
        "colab": {}
      },
      "source": [
        "class DE_NPC:\n",
        "  def __init__(self,param_dict):\n",
        "    ###Load Params##\n",
        "    self.img = param_dict[\"input\"]\n",
        "    self.imsize = param_dict[\"input_size\"]\n",
        "    self.imclass = param_dict[\"imclass\"]\n",
        "    self.mean = param_dict[\"mean\"]\n",
        "    self.std = param_dict[\"std\"]\n",
        "    self.R_min = param_dict[\"R_min\"]\n",
        "    self.R_max = param_dict[\"R_max\"]\n",
        "    self.nfe_max = param_dict[\"nfe_max\"]\n",
        "    self.PS_ini = param_dict[\"PS_ini\"]\n",
        "    self.PS_min = param_dict[\"PS_min\"]\n",
        "    self.K = param_dict[\"K\"]\n",
        "    self.rarc = param_dict[\"rarc\"]\n",
        "    self.p = param_dict[\"p\"]\n",
        "    self.model = param_dict[\"model\"]\n",
        "\n",
        "    ####Initialize Params####\n",
        "    self.set_params()\n",
        "\n",
        "  #Fitness function\n",
        "  def fitness_func(self,individual):\n",
        "    individual = individual.reshape(1,self.imsize)\n",
        "    pred = self.model.predict(individual  / 255.0)\n",
        "    pred = pred[0]\n",
        "    po = pred[self.imclass]\n",
        "    pred[self.imclass] = 0\n",
        "    pd = np.max(pred)\n",
        "    diff = pd-po\n",
        "    return (0.5)*diff + (-0.5)*euclidean(individual-self.img.reshape(1,self.imsize))/self.imsize\n",
        "\n",
        "  #Given the population and img(whihc is necessary to calculate the fitness function)\n",
        "  #choose one individual whose fitness value is in top p percent.\n",
        "  def get_top_p(self,PS,p):\n",
        "    num_best = int(PS*p)\n",
        "    fitness =  [(individual,self.fitness_func(individual)) for individual in self.population[0:PS]]\n",
        "    fitness.sort(key=lambda x: x[1])\n",
        "    fitness = fitness[-num_best:]\n",
        "    return random.choice(fitness)[0]\n",
        "\n",
        "  def execute(self, model):\n",
        "    nfe = 0\n",
        "    PS = self.PS_ini\n",
        "    A_ind = 0\n",
        "    G = 1\n",
        "    start = time.time()\n",
        "    while nfe < self.nfe_max:\n",
        "      #############################INITIALIZATION###################################\n",
        "      #Sets of successfull f and cr values\n",
        "      #with the corresponding weights\n",
        "      s_f = [[] for i in range(self.K)]\n",
        "      s_f_weights = [[] for i in range(self.K)]\n",
        "      s_cr = [[] for i in range(self.K)]\n",
        "      s_cr_weights = [[] for i in range(self.K)]\n",
        "      #the selected k values for this iteration\n",
        "      k_selections = np.zeros((self.K,PS))\n",
        "      #how many times the specific k value was a success/failure\n",
        "      k_success = np.zeros((self.K,1))\n",
        "      k_failure = np.zeros((self.K,1))\n",
        "\n",
        "      ####################ADJUST POPULATION AND A###################################\n",
        "      #Adjustment done due to keep the individuals' values in range.\n",
        "      #and to reduce the array sizes. However, even if the population size gets \n",
        "      #smaller than PS, since the loops are in range(PS), the individuals stored in \n",
        "      #the population vector in indices > PS will not be reached. \n",
        "      #Instead of picking discarded individuals randomly, we shuffle the population\n",
        "      #and archive array. It should amount to picking random.\n",
        "      if G > 2:\n",
        "        #Adjust the individuals of the population; \n",
        "        for i in range(PS):\n",
        "          self.population[i] = np.clip(self.population[i], self.R_min, self.R_max).reshape(self.imsize)\n",
        "        #Adjust storage A; \n",
        "        for i in range(self.A_size):\n",
        "          self.A[i] = np.clip(self.A[i], self.R_min, self.R_max).reshape(self.imsize)\n",
        "        np.random.shuffle(self.A)\n",
        "        np.random.shuffle(self.population)\n",
        "\n",
        "      #############################SELECT K,F,CR'S##################################  \n",
        "      #We select a k value for each individual in the population\n",
        "      #with respect to the selection probabilities (p_k) of each k.\n",
        "      custm = stats.rv_discrete(name='custm', values=(np.arange(self.K).reshape(self.K,1), self.p_k))\n",
        "      k_selections = custm.rvs(size=PS)\n",
        "      #Get f and cr values for each individual\n",
        "      for i in range(PS):\n",
        "        self.cr[i]  = np.random.normal(self.mu_cr[k_selections[i]], 0.1, 1)\n",
        "        if self.cr[i] < 0:\n",
        "          self.cr[i] = 0\n",
        "        self.f[i] = cauchy.rvs(self.mu_f[k_selections[i]],0.1,1)\n",
        "        while self.f[i] <= 0:\n",
        "          self.f[i] = cauchy.rvs(self.mu_f[k_selections[i]],0.1,1)\n",
        "        if self.f[i] > 1:\n",
        "          self.f[i] = 1\n",
        "      \n",
        "      ####################GENERATE U,V AND CALCULATE FITNESS########################\n",
        "      #Generate donor and trial (U and V) vectors\n",
        "      #Calculate the fitness values\n",
        "      for i in range(PS):\n",
        "        X_p_best =  self.get_top_p(PS,self.p).reshape((self.imsize,1))\n",
        "        #X_r_1 denotes a random vector selection from the current population\n",
        "        X_r_1 = random.choice(self.population[:PS]).reshape((self.imsize,1))\n",
        "        #X_hat_r_2 denotes a randomly selected solution from the union A and P\n",
        "        X_hat_r_2 = random.choice(np.concatenate((self.population[:PS], self.A[:self.A_size]), axis=0)).reshape((self.imsize,1))\n",
        "        #mutation, generate trial vector\n",
        "        self.V[i] = (self.population[i].reshape((self.imsize,1)) + self.f[i]*(X_p_best - self.population[i].reshape((self.imsize,1)))\n",
        "               + self.f[i]*(X_r_1 - X_hat_r_2)).reshape(self.imsize)\n",
        "        #crossover, generate donor vector\n",
        "        self.U[i] = self.population[i]\n",
        "        for j in range(self.imsize):\n",
        "          if random.uniform(0, 1) <= self.cr[i]:\n",
        "            self.U[i][j] = self.V[i][j]\n",
        "        self.fitness_ind[i] = self.fitness_func(self.population[i])\n",
        "        self.fitness_U[i] = self.fitness_func(self.U[i])\n",
        "\n",
        "      ################################INCREMENT nfe#################################\n",
        "      #Increment nfe\n",
        "      nfe += PS\n",
        "\n",
        "      #####################DETERMINE UN/SUCCESSFULL#################################\n",
        "      #Determine the successful and unsuccessful cr,f,k values.\n",
        "      #Add unsuccessful individuals to the archive\n",
        "      for i in range(PS):\n",
        "        k = k_selections[i]\n",
        "        if self.fitness_ind[i] <= self.fitness_U[i]:\n",
        "          s_cr[k].append(self.cr[i])\n",
        "          s_cr_weights[k].append(np.std(np.subtract(self.population[i],self.U[i])))\n",
        "          s_f[k].append(self.f[i])\n",
        "          s_f_weights[k].append(self.fitness_U[i]-self.fitness_ind[i])\n",
        "          self.population[i] = self.U[i]\n",
        "          k_success[k] += 1\n",
        "        else:\n",
        "          if A_ind >= self.A_size:\n",
        "            A_ind = 0\n",
        "          self.A[A_ind] = self.population[i]\n",
        "          A_ind += 1\n",
        "          k_failure[k] += 1\n",
        "\n",
        "      ######################UPDATE MU_CR AND MU_F's#################################\n",
        "      #update params (mixed with Jade-like update)\n",
        "      for k in range(self.K):\n",
        "        if len(s_cr[k]) != 0:\n",
        "          s_cr_weights[k] = s_cr_weights[k]/np.sum(s_cr_weights[k])\n",
        "          s_f_weights[k] = s_f_weights[k]/np.sum(s_f_weights[k])\n",
        "          mean_cr = np.sum(np.multiply(np.square(s_cr[k]),s_cr_weights[k]))/np.sum(np.multiply(s_cr[k],s_cr_weights[k]))\n",
        "          mean_f = np.sum(np.multiply(np.square(s_f[k]),s_f_weights[k]))/np.sum(np.multiply(s_f[k],s_f_weights[k]))  \n",
        "          #update mu_cr\n",
        "          if (np.max(s_cr[k]) > 0) and (self.mu_cr[k] != 0):\n",
        "            self.mu_cr[k] = mean_cr\n",
        "          #update mu_f\n",
        "          self.mu_f[k] = mean_f\n",
        "\n",
        "      ###########################UPDATE GROUP PROBS#################################\n",
        "      #Update group probabilities\n",
        "      for k in range(self.K):\n",
        "        if k_success[k] != 0:\n",
        "          k_success[k] = np.square(k_success[k])/(np.sum(k_success[k])*(k_success[k]+k_failure[k]))\n",
        "        else:\n",
        "          self.p_k[k] = 0.000000001\n",
        "      self.p_k = self.p_k/np.sum(self.p_k)\n",
        "\n",
        "      ###########################END ITERATION######################################\n",
        "      #increment generation count\n",
        "      G += 1\n",
        "      #Get the best individual\n",
        "      self.X_best = self.get_top_p(PS,1/PS)\n",
        "      #Get the fitness of best individual\n",
        "      self.X_best_fitness = self.fitness_func(self.X_best)\n",
        "      #Give feedback\n",
        "      print(nfe, \" : \"  ,self.X_best_fitness,PS)\n",
        "\n",
        "      ######################ADJUST POPULATION SIZE##################################\n",
        "      #adjust population size \n",
        "      #else part changed. there is something wrong with the formula on the paper.\n",
        "      #since the ends of the two partial functions do not meet, when nfe > x the \n",
        "      #population increases. change is to fix this.\n",
        "      if nfe <= self.x:\n",
        "        PS = int(np.ceil((((self.y-self.PS_ini)/np.square(self.x-self.PS_ini))*np.square(nfe-self.PS_ini)) + self.PS_ini))\n",
        "      else:\n",
        "        initial_formula = int(np.floor((((self.y-self.PS_ini)/(self.x-self.PS_min))*(nfe-self.nfe_max)) + self.PS_min))\n",
        "        if initial_formula < PS:\n",
        "          PS = initial_formula\n",
        "      #adjust archive size according to the new population\n",
        "      self.A_size = int(self.rarc*PS)\n",
        "      #Note: archive update moved within \"Determine un/successful\" as the computation\n",
        "      #would be too redundant.  \n",
        "    end = time.time()\n",
        "    print(\"Time: \",end-start ,\" seconds\")\n",
        "\n",
        "\n",
        "  def change_input(self,img,imsize):\n",
        "    self.img = img\n",
        "    self.imsize = imsize\n",
        "    self.set_params()\n",
        "\n",
        "  def set_params(self):\n",
        "    #Calculate pivot for dynamic population change\n",
        "    self.x = (1/3)*self.nfe_max\n",
        "    self.y = (2/3)*self.PS_ini     \n",
        "    #probability of belonging to a group\n",
        "    self.p_k = np.ones((self.K,1))*(1/self.K)   \n",
        "    #archive\n",
        "    self.A_size = int(self.PS_ini*self.rarc)\n",
        "    self.A = np.zeros((self.A_size,self.imsize))\n",
        "    #scale factor\n",
        "    self.f = np.ones((self.PS_ini,1)) \n",
        "    self.mu_f = np.ones((self.K,1)) *0.5\n",
        "    #crossover probability\n",
        "    self.cr = np.ones((self.PS_ini,1)) \n",
        "    self.mu_cr = np.ones((self.K,1)) *0.5\n",
        "    #Initial population\n",
        "    self.population = np.zeros((self.PS_ini,self.imsize))\n",
        "    #Fitness functions\n",
        "    self.fitness_ind = np.zeros((self.PS_ini,1))\n",
        "    self.fitness_U = np.zeros((self.PS_ini,1))\n",
        "    #donor and trial vectors\n",
        "    self.V = np.zeros((self.PS_ini,self.imsize))\n",
        "    self.U = np.zeros((self.PS_ini,self.imsize))\n",
        "    for i in range(self.PS_ini):\n",
        "      noisy_img = self.img + np.random.normal(self.mean, self.std, (self.imsize,1))\n",
        "      self.population[i] = np.clip(noisy_img, 0, 255).reshape(self.imsize)\n",
        "    self.X_best = None\n",
        "    self.X_best_fitness = None"
      ],
      "execution_count": 0,
      "outputs": []
    },
    {
      "cell_type": "markdown",
      "metadata": {
        "id": "fs25gWBy4W4l",
        "colab_type": "text"
      },
      "source": [
        "# Download Neural Network"
      ]
    },
    {
      "cell_type": "code",
      "metadata": {
        "id": "jJPEejMZ4dwe",
        "colab_type": "code",
        "colab": {}
      },
      "source": [
        "auth.authenticate_user()\n",
        "gauth = GoogleAuth()\n",
        "gauth.credentials = GoogleCredentials.get_application_default()\n",
        "drive = GoogleDrive(gauth)\n",
        "downloaded = drive.CreateFile({'id':\"16oao6c9BTb33sbaFzCDJ1sGQn4Z0ILS7\"}) \n",
        "downloaded.GetContentFile('rbfnn_v2.h5')   \n",
        "\n",
        "num_lm0 = 100\n",
        "num_lm = num_lm0 * 10\n",
        "init_wgt = np.zeros(((1000, 784)))\n",
        "\n",
        "inp = Input(shape=(28*28,), name='inp')\n",
        "oup = GaussianKernel(num_lm, 28*28,\n",
        "                     kernel_gamma='auto', weights=[init_wgt],\n",
        "                     name='gkernel1')(inp)\n",
        "oup = Dense(10, activation='softmax')(oup)\n",
        "model = Model(inp, oup)\n",
        "model.compile(loss='categorical_crossentropy', optimizer='adam', metrics=['accuracy'])\n",
        "model.load_weights(\"rbfnn_v2.h5\")"
      ],
      "execution_count": 0,
      "outputs": []
    },
    {
      "cell_type": "markdown",
      "metadata": {
        "id": "UDE9UySP4KBR",
        "colab_type": "text"
      },
      "source": [
        "# Prepare Data"
      ]
    },
    {
      "cell_type": "code",
      "metadata": {
        "id": "B9ma_QiOxYT4",
        "colab_type": "code",
        "colab": {}
      },
      "source": [
        "(X_train, y_train), (X_test, y_test) = tf.keras.datasets.mnist.load_data()"
      ],
      "execution_count": 0,
      "outputs": []
    },
    {
      "cell_type": "code",
      "metadata": {
        "id": "WAhJflWExaaw",
        "colab_type": "code",
        "colab": {}
      },
      "source": [
        "def prepare_data(X,y):\n",
        "  X = X.reshape((X.shape[0], -1))\n",
        "  X_sc = X / 255.0\n",
        "  y_cat = to_categorical(y)\n",
        "  return X_sc, y_cat"
      ],
      "execution_count": 0,
      "outputs": []
    },
    {
      "cell_type": "code",
      "metadata": {
        "id": "iIGHNK7C5_Zi",
        "colab_type": "code",
        "outputId": "3cde7ef9-dc44-409a-8d52-e3acf5354159",
        "colab": {
          "base_uri": "https://localhost:8080/",
          "height": 51
        }
      },
      "source": [
        "from sklearn.metrics import accuracy_score\n",
        "X_train = X_train.reshape((X_train.shape[0], -1))\n",
        "X_sc = X_train / 255.0\n",
        "X_sc.shape\n",
        "y_cat = to_categorical(y_train)\n",
        "X_test = X_test.reshape((X_test.shape[0], -1))\n",
        "X_test_sc = X_test / 255.0\n",
        "y_pred_test = model.predict(X_test_sc)\n",
        "y_pred_train = model.predict(X_sc)\n",
        "print(\"Training accuracy: \",accuracy_score(y_train,np.argmax(y_pred_train,axis=1)))\n",
        "print(\"Test accuracy: \",accuracy_score(y_test,np.argmax(y_pred_test,axis=1)))"
      ],
      "execution_count": 23,
      "outputs": [
        {
          "output_type": "stream",
          "text": [
            "Training accuracy:  0.93305\n",
            "Test accuracy:  0.9297\n"
          ],
          "name": "stdout"
        }
      ]
    },
    {
      "cell_type": "markdown",
      "metadata": {
        "id": "004hGX8X4LnL",
        "colab_type": "text"
      },
      "source": [
        "# Usage"
      ]
    },
    {
      "cell_type": "code",
      "metadata": {
        "id": "46jftR2PsnTQ",
        "colab_type": "code",
        "colab": {}
      },
      "source": [
        "param_dict = {\n",
        "    \"model\" : model,\n",
        "    #Image to be evolved\n",
        "    \"input\" : X_test[0].reshape((28*28, -1)),\n",
        "    \"input_size\" : 28*28,\n",
        "    \"imclass\" : y_test[0],\n",
        "    #Mean and std for Gaussian noise\n",
        "    \"mean\" : 150,  \n",
        "    \"std\" : np.sqrt(200),\n",
        "    #Range\n",
        "    \"R_min\" : 0.0,\n",
        "    \"R_max\" : 255.0,\n",
        "    #Maximum number of function evaluations\n",
        "    \"nfe_max\" : 10000,\n",
        "    #Initial and minimum population size\n",
        "    \"PS_ini\" : 200,\n",
        "    \"PS_min\" : 4,\n",
        "    #Number of groups\n",
        "    \"K\" : 7,\n",
        "    #ratio of the external archive size to the whole population PS\n",
        "    \"rarc\" : 1.6,\n",
        "    #percentage p when we select an individual among top p fits\n",
        "    \"p\" : 0.11\n",
        "}"
      ],
      "execution_count": 0,
      "outputs": []
    },
    {
      "cell_type": "code",
      "metadata": {
        "id": "t6hkWWKVxNJX",
        "colab_type": "code",
        "colab": {}
      },
      "source": [
        "de_npc = DE_NPC(param_dict)"
      ],
      "execution_count": 0,
      "outputs": []
    },
    {
      "cell_type": "code",
      "metadata": {
        "id": "it4jWfdK2aR4",
        "colab_type": "code",
        "outputId": "008dab7d-3067-4351-ada2-e76e44d6b928",
        "colab": {
          "base_uri": "https://localhost:8080/",
          "height": 1000
        }
      },
      "source": [
        "de_npc.execute(model)"
      ],
      "execution_count": 26,
      "outputs": [
        {
          "output_type": "stream",
          "text": [
            "200  :  -2.10669158481919 200\n",
            "400  :  -2.10669158481919 200\n",
            "600  :  -2.101691217597661 200\n",
            "799  :  -2.0811328423260047 199\n",
            "997  :  -2.0674388846446896 198\n",
            "1193  :  -2.112538382367745 196\n",
            "1387  :  -2.0457141888258756 194\n",
            "1578  :  -2.0334390789373757 191\n",
            "1766  :  -2.0041682897934474 188\n",
            "1950  :  -1.9743986464069652 184\n",
            "2130  :  -1.9332972430971873 180\n",
            "2305  :  -1.8951256934055971 175\n",
            "2475  :  -1.8682313075874397 170\n",
            "2640  :  -1.848207423863157 165\n",
            "2800  :  -1.835324662049994 160\n",
            "2955  :  -1.8024432268003068 155\n",
            "3104  :  -1.7849659097993258 149\n",
            "3247  :  -1.7579178003480735 143\n",
            "3384  :  -1.7371714718860454 137\n",
            "3520  :  -1.6952472247447181 136\n",
            "3653  :  -1.6890698923486047 133\n",
            "3784  :  -1.6715216919628562 131\n",
            "3912  :  -1.6656849661775195 128\n",
            "4037  :  -1.6398540266351525 125\n",
            "4160  :  -1.6106874749131213 123\n",
            "4280  :  -1.598527416324091 120\n",
            "4398  :  -1.5812626530787455 118\n",
            "4514  :  -1.583158701773499 116\n",
            "4627  :  -1.5606052192055984 113\n",
            "4738  :  -1.5552092865855895 111\n",
            "4847  :  -1.539539768275608 109\n",
            "4954  :  -1.582619446785285 107\n",
            "5059  :  -1.5182360351139264 105\n",
            "5161  :  -1.509272175117605 102\n",
            "5261  :  -1.5067534574729393 100\n",
            "5359  :  -1.5537509484537582 98\n",
            "5455  :  -1.4602428807433543 96\n",
            "5550  :  -1.4564122194869886 95\n",
            "5643  :  -1.449354727276179 93\n",
            "5734  :  -1.449046976361498 91\n",
            "5823  :  -1.4341919938178826 89\n",
            "5910  :  -1.4200643806587987 87\n",
            "5995  :  -1.419899596636958 85\n",
            "6079  :  -1.419899596636958 84\n",
            "6161  :  -1.4111232567233987 82\n",
            "6241  :  -1.416869188207638 80\n",
            "6320  :  -1.4131646435839589 79\n",
            "6397  :  -1.4042459711008548 77\n",
            "6473  :  -1.4001441612387882 76\n",
            "6547  :  -1.3957826451777908 74\n",
            "6620  :  -1.3907719916651955 73\n",
            "6691  :  -1.3874537132191314 71\n",
            "6761  :  -1.374456385735878 70\n",
            "6829  :  -1.3785926409771085 68\n",
            "6896  :  -1.3735811662755972 67\n",
            "6962  :  -1.3695200971605415 66\n",
            "7026  :  -1.3554966946805591 64\n",
            "7089  :  -1.354489967867167 63\n",
            "7151  :  -1.3645315418685813 62\n",
            "7212  :  -1.354489967867167 61\n",
            "7271  :  -1.3485728343429981 59\n",
            "7329  :  -1.3483900285252473 58\n",
            "7386  :  -1.3469704010060237 57\n",
            "7442  :  -1.3429892651634825 56\n",
            "7497  :  -1.3474216228168236 55\n",
            "7551  :  -1.3425935695418496 54\n",
            "7604  :  -1.3429653106393327 53\n",
            "7655  :  -1.332761729859073 51\n",
            "7705  :  -1.3348805869597056 50\n",
            "7754  :  -1.35329044846416 49\n",
            "7802  :  -1.3232929305374013 48\n",
            "7850  :  -1.3297875638360401 48\n",
            "7897  :  -1.3232929305374013 47\n",
            "7943  :  -1.3224821915122862 46\n",
            "7988  :  -1.3211109079209886 45\n",
            "8032  :  -1.32057742393221 44\n",
            "8075  :  -1.3211064706595796 43\n",
            "8117  :  -1.305869380998246 42\n",
            "8158  :  -1.3057579133689718 41\n",
            "8198  :  -1.3057579133689718 40\n",
            "8238  :  -1.3133230032604502 40\n",
            "8277  :  -1.3080264441757254 39\n",
            "8315  :  -1.3095750716551906 38\n",
            "8352  :  -1.3079669819926936 37\n",
            "8388  :  -1.3057579133689718 36\n",
            "8424  :  -1.3055175115739628 36\n",
            "8459  :  -1.3094679502912405 35\n",
            "8493  :  -1.304077757901333 34\n",
            "8527  :  -1.3041291919202953 34\n",
            "8560  :  -1.3036492110364066 33\n",
            "8592  :  -1.2965401093378732 32\n",
            "8624  :  -1.2979888146014291 32\n",
            "8655  :  -1.2988927187379002 31\n",
            "8685  :  -1.2980847552205772 30\n",
            "8715  :  -1.2960472122647901 30\n",
            "8744  :  -1.2971177467023078 29\n",
            "8773  :  -1.2984774246201813 29\n",
            "8801  :  -1.2915347272716287 28\n",
            "8829  :  -1.2915542433146947 28\n",
            "8856  :  -1.291667707842912 27\n",
            "8882  :  -1.2948205046472376 26\n",
            "8908  :  -1.2903440376274329 26\n",
            "8933  :  -1.287531828907729 25\n",
            "8958  :  -1.2875211216284457 25\n",
            "8982  :  -1.2890191209406414 24\n",
            "9006  :  -1.291667707842912 24\n",
            "9029  :  -1.2862071658823044 23\n",
            "9052  :  -1.2859915821644676 23\n",
            "9074  :  -1.2889032173101211 22\n",
            "9096  :  -1.291518003763494 22\n",
            "9118  :  -1.2917093921569944 22\n",
            "9139  :  -1.2845773659230189 21\n",
            "9160  :  -1.282047263399523 21\n",
            "9180  :  -1.2890748000211563 20\n",
            "9200  :  -1.2847251396567876 20\n",
            "9220  :  -1.2744711566658862 20\n",
            "9239  :  -1.2821212390717702 19\n",
            "9258  :  -1.2908816635273588 19\n",
            "9276  :  -1.2842237780667174 18\n",
            "9294  :  -1.2882435451777328 18\n",
            "9312  :  -1.280325543788218 18\n",
            "9329  :  -1.2775524650779773 17\n",
            "9346  :  -1.280325543788218 17\n",
            "9363  :  -1.2856097684774612 17\n",
            "9379  :  -1.2775669507207283 16\n",
            "9395  :  -1.2813718004239338 16\n",
            "9411  :  -1.2813961459546996 16\n",
            "9426  :  -1.2775669507207283 15\n",
            "9441  :  -1.281404631579554 15\n",
            "9456  :  -1.274305812354932 15\n",
            "9470  :  -1.2749935860548183 14\n",
            "9484  :  -1.2733409788228123 14\n",
            "9498  :  -1.2820420890359343 14\n",
            "9512  :  -1.2758240457079513 14\n",
            "9525  :  -1.2811227218495984 13\n",
            "9538  :  -1.274305812354932 13\n",
            "9551  :  -1.279051988689971 13\n",
            "9563  :  -1.2789883890846756 12\n",
            "9575  :  -1.2694600261896831 12\n",
            "9587  :  -1.2785047117653876 12\n",
            "9599  :  -1.2665012679873453 12\n",
            "9611  :  -1.2797419857272143 12\n",
            "9622  :  -1.2765084659433523 11\n",
            "9633  :  -1.2683979524336824 11\n",
            "9644  :  -1.2701394702920707 11\n",
            "9655  :  -1.2722596100918508 11\n",
            "9665  :  -1.2692444025123137 10\n",
            "9675  :  -1.2690583054907856 10\n",
            "9685  :  -1.2693208800989848 10\n",
            "9695  :  -1.2706478070550553 10\n",
            "9705  :  -1.2732137626800293 10\n",
            "9714  :  -1.2735184516549312 9\n",
            "9723  :  -1.2785719042910841 9\n",
            "9732  :  -1.2722877193145314 9\n",
            "9741  :  -1.2725069183581563 9\n",
            "9750  :  -1.2699733552562569 9\n",
            "9759  :  -1.2724034468946317 9\n",
            "9767  :  -1.2667949474578026 8\n",
            "9775  :  -1.2784895635985853 8\n",
            "9783  :  -1.2683337470685834 8\n",
            "9791  :  -1.2768007998804443 8\n",
            "9799  :  -1.2716649369994966 8\n",
            "9807  :  -1.2641308194448488 8\n",
            "9814  :  -1.2747582391784438 7\n",
            "9821  :  -1.281891316452925 7\n",
            "9828  :  -1.2783668652179765 7\n",
            "9835  :  -1.2685329271535393 7\n",
            "9842  :  -1.2685329271535393 7\n",
            "9849  :  -1.2687632879802282 7\n",
            "9856  :  -1.2706478070550553 7\n",
            "9862  :  -1.2741083082806155 6\n",
            "9868  :  -1.2706562188959991 6\n",
            "9874  :  -1.2673832959699514 6\n",
            "9880  :  -1.2677449171266935 6\n",
            "9886  :  -1.2707644190587153 6\n",
            "9892  :  -1.2682691227776575 6\n",
            "9898  :  -1.2740657362367773 6\n",
            "9904  :  -1.2678081385022661 6\n",
            "9909  :  -1.2672569611050115 5\n",
            "9914  :  -1.2698470508413178 5\n",
            "9919  :  -1.26541812140331 5\n",
            "9924  :  -1.2720528501919677 5\n",
            "9929  :  -1.271254460413192 5\n",
            "9934  :  -1.2604550174929716 5\n",
            "9939  :  -1.2656711876076578 5\n",
            "9944  :  -1.2693225089227476 5\n",
            "9949  :  -1.2688042709831082 5\n",
            "9954  :  -1.2668013606154662 5\n",
            "9958  :  -1.268451444440557 4\n",
            "9962  :  -1.2623954045374186 4\n",
            "9966  :  -1.2729030287813887 4\n",
            "9970  :  -1.276718719582891 4\n",
            "9974  :  -1.2693659385294136 4\n",
            "9978  :  -1.2712425603152808 4\n",
            "9982  :  -1.2769293556618841 4\n"
          ],
          "name": "stdout"
        },
        {
          "output_type": "stream",
          "text": [
            "/usr/local/lib/python3.6/dist-packages/ipykernel_launcher.py:143: RuntimeWarning: invalid value encountered in true_divide\n"
          ],
          "name": "stderr"
        },
        {
          "output_type": "stream",
          "text": [
            "9986  :  -1.2693225089227476 4\n",
            "9990  :  -1.2701394702920707 4\n",
            "9994  :  -1.2682691227776575 4\n",
            "9998  :  -1.2649046988310684 4\n",
            "10002  :  -1.2664704699558256 4\n",
            "Time:  4168.61838722229  seconds\n"
          ],
          "name": "stdout"
        }
      ]
    },
    {
      "cell_type": "markdown",
      "metadata": {
        "id": "AlkkVPsC4gOU",
        "colab_type": "text"
      },
      "source": [
        "# Predict on Adversarial Example"
      ]
    },
    {
      "cell_type": "code",
      "metadata": {
        "id": "pCcWqnlt4v5_",
        "colab_type": "code",
        "outputId": "0ebc00a7-1f00-4ee3-8d07-bcd9c769880c",
        "colab": {
          "base_uri": "https://localhost:8080/",
          "height": 34
        }
      },
      "source": [
        "adv = np.clip(de_npc.X_best, 0, 255)\n",
        "preds_adv = model.predict(adv.reshape(1,28*28) / 255.0)\n",
        "np.argmax(preds_adv,axis=1)"
      ],
      "execution_count": 31,
      "outputs": [
        {
          "output_type": "execute_result",
          "data": {
            "text/plain": [
              "array([5])"
            ]
          },
          "metadata": {
            "tags": []
          },
          "execution_count": 31
        }
      ]
    },
    {
      "cell_type": "code",
      "metadata": {
        "id": "luOUUa5g60fT",
        "colab_type": "code",
        "outputId": "fa498709-67f9-4907-9834-bbda2e09647e",
        "colab": {
          "base_uri": "https://localhost:8080/",
          "height": 34
        }
      },
      "source": [
        "preds = model.predict(X_test[0].reshape(1,28*28) / 255.0)\n",
        "np.argmax(preds,axis=1)"
      ],
      "execution_count": 32,
      "outputs": [
        {
          "output_type": "execute_result",
          "data": {
            "text/plain": [
              "array([7])"
            ]
          },
          "metadata": {
            "tags": []
          },
          "execution_count": 32
        }
      ]
    },
    {
      "cell_type": "code",
      "metadata": {
        "id": "tJIWGLTf7HqC",
        "colab_type": "code",
        "outputId": "3b3cdd3c-1cef-4215-ffd8-776ebfbf4a01",
        "colab": {
          "base_uri": "https://localhost:8080/",
          "height": 282
        }
      },
      "source": [
        "plt.imshow(X_test[0].reshape(28,28),cmap=\"gray\")"
      ],
      "execution_count": 35,
      "outputs": [
        {
          "output_type": "execute_result",
          "data": {
            "text/plain": [
              "<matplotlib.image.AxesImage at 0x7fe7ef42e898>"
            ]
          },
          "metadata": {
            "tags": []
          },
          "execution_count": 35
        },
        {
          "output_type": "display_data",
          "data": {
            "image/png": "[encoded data removed]",
            "text/plain": [
              "<Figure size 432x288 with 1 Axes>"
            ]
          },
          "metadata": {
            "tags": [],
            "needs_background": "light"
          }
        }
      ]
    },
    {
      "cell_type": "code",
      "metadata": {
        "id": "0xtsEVse7KOR",
        "colab_type": "code",
        "outputId": "60fe867e-b13b-4fa3-ac1f-09d57630a6f4",
        "colab": {
          "base_uri": "https://localhost:8080/",
          "height": 282
        }
      },
      "source": [
        "plt.imshow(de_npc.X_best.reshape(28,28),cmap=\"gray\")"
      ],
      "execution_count": 34,
      "outputs": [
        {
          "output_type": "execute_result",
          "data": {
            "text/plain": [
              "<matplotlib.image.AxesImage at 0x7fe7ef44f5f8>"
            ]
          },
          "metadata": {
            "tags": []
          },
          "execution_count": 34
        },
        {
          "output_type": "display_data",
          "data": {
            "image/png": "[encoded data removed]",
            "text/plain": [
              "<Figure size 432x288 with 1 Axes>"
            ]
          },
          "metadata": {
            "tags": [],
            "needs_background": "light"
          }
        }
      ]
    }
  ]
}