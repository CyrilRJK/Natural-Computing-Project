{
  "nbformat": 4,
  "nbformat_minor": 0,
  "metadata": {
    "kernelspec": {
      "display_name": "Python 3",
      "language": "python",
      "name": "python3"
    },
    "language_info": {
      "codemirror_mode": {
        "name": "ipython",
        "version": 3
      },
      "file_extension": ".py",
      "mimetype": "text/x-python",
      "name": "python",
      "nbconvert_exporter": "python",
      "pygments_lexer": "ipython3",
      "version": "3.6.10"
    },
    "colab": {
      "name": "Improved Ga.ipynb",
      "provenance": [],
      "collapsed_sections": []
    }
  },
  "cells": [
    {
      "cell_type": "markdown",
      "metadata": {
        "id": "jfyOYMPfEVGt",
        "colab_type": "text"
      },
      "source": [
        "# **IMPORT**"
      ]
    },
    {
      "cell_type": "code",
      "metadata": {
        "id": "TvU-aLRJ4qqL",
        "colab_type": "code",
        "colab": {
          "base_uri": "https://localhost:8080/",
          "height": 87
        },
        "outputId": "7cff0662-e023-4d86-a816-e6c8e9f0ce7e"
      },
      "source": [
        "import tensorflow as tf\n",
        "import numpy as np \n",
        "import matplotlib.pyplot as plt\n",
        "import seaborn as sns\n",
        "from sklearn.svm import SVC\n",
        "import pickle\n",
        "import time\n",
        "from skimage.measure import compare_ssim\n",
        "import tensorflow as tf\n",
        "from keras.models import Model,load_model\n",
        "from keras.layers import Dense, Conv2D, Dropout, Flatten, MaxPooling2D, Input, Activation\n",
        "from keras.utils import to_categorical\n",
        "import keras"
      ],
      "execution_count": 2,
      "outputs": [
        {
          "output_type": "stream",
          "text": [
            "/usr/local/lib/python3.6/dist-packages/statsmodels/tools/_testing.py:19: FutureWarning: pandas.util.testing is deprecated. Use the functions in the public API at pandas.testing instead.\n",
            "  import pandas.util.testing as tm\n",
            "Using TensorFlow backend.\n"
          ],
          "name": "stderr"
        }
      ]
    },
    {
      "cell_type": "code",
      "metadata": {
        "id": "Svt-7VSI4qqR",
        "colab_type": "code",
        "colab": {}
      },
      "source": [
        "np.random.seed(0)"
      ],
      "execution_count": 0,
      "outputs": []
    },
    {
      "cell_type": "markdown",
      "metadata": {
        "id": "TdlT3tdFEaFn",
        "colab_type": "text"
      },
      "source": [
        "# **GLOBAL VARIABLES**"
      ]
    },
    {
      "cell_type": "markdown",
      "metadata": {
        "id": "8KwGNDu1EdjD",
        "colab_type": "text"
      },
      "source": [
        "Values given in the paper\n"
      ]
    },
    {
      "cell_type": "code",
      "metadata": {
        "id": "PBkLRXwe4qqT",
        "colab_type": "code",
        "colab": {}
      },
      "source": [
        "INDIVIDUALS = 50\n",
        "P_CROSS = 0.6\n",
        "P_MUTATION = 0.1"
      ],
      "execution_count": 0,
      "outputs": []
    },
    {
      "cell_type": "markdown",
      "metadata": {
        "id": "nfaCT_L4HQnk",
        "colab_type": "text"
      },
      "source": [
        "# **THE DATA**"
      ]
    },
    {
      "cell_type": "markdown",
      "metadata": {
        "id": "8w5a46DoHaR6",
        "colab_type": "text"
      },
      "source": [
        "1. MNIST"
      ]
    },
    {
      "cell_type": "markdown",
      "metadata": {
        "id": "1eHlDySEHe-o",
        "colab_type": "text"
      },
      "source": [
        "Pre-processing necessary before training the network"
      ]
    },
    {
      "cell_type": "code",
      "metadata": {
        "id": "UTnfzwZIHoGu",
        "colab_type": "code",
        "outputId": "b93a88b0-7f95-4b9f-d266-8b27855d9a42",
        "colab": {
          "base_uri": "https://localhost:8080/",
          "height": 133
        }
      },
      "source": [
        "# load mnist\n",
        "(x_train, y), (x_test, y_t) = tf.keras.datasets.mnist.load_data()\n",
        "\n",
        "# Reshaping the array to 4-dims so that it can work with the Keras API\n",
        "x_train = x_train.reshape(x_train.shape[0], 28, 28, 1)\n",
        "x_test = x_test.reshape(x_test.shape[0], 28, 28, 1)\n",
        "input_shape = (28, 28, 1)\n",
        "# Making sure that the values are float so that we can get decimal points after division\n",
        "x_train = x_train.astype('float32')\n",
        "x_test = x_test.astype('float32')\n",
        "# Normalizing the RGB codes by dividing it to the max RGB value.\n",
        "x_train /= 255\n",
        "x_test /= 255\n",
        "print('x_train shape:', x_train.shape)\n",
        "print('Number of images in x_train', x_train.shape[0])\n",
        "print('Number of images in x_test', x_test.shape[0])\n",
        "print('y_train shape:', y.shape)\n",
        "print('y_test shape:', y_t.shape)\n"
      ],
      "execution_count": 5,
      "outputs": [
        {
          "output_type": "stream",
          "text": [
            "Downloading data from https://storage.googleapis.com/tensorflow/tf-keras-datasets/mnist.npz\n",
            "11493376/11490434 [==============================] - 0s 0us/step\n",
            "x_train shape: (60000, 28, 28, 1)\n",
            "Number of images in x_train 60000\n",
            "Number of images in x_test 10000\n",
            "y_train shape: (60000,)\n",
            "y_test shape: (10000,)\n"
          ],
          "name": "stdout"
        }
      ]
    },
    {
      "cell_type": "markdown",
      "metadata": {
        "id": "MB8DN2uXJMb-",
        "colab_type": "text"
      },
      "source": [
        "2. CIFAR 10 "
      ]
    },
    {
      "cell_type": "code",
      "metadata": {
        "id": "ZZTtcGJAJLuM",
        "colab_type": "code",
        "outputId": "136373d3-2a3c-4229-fb0f-33a0c89e5ea8",
        "colab": {
          "base_uri": "https://localhost:8080/",
          "height": 150
        }
      },
      "source": [
        "from keras.datasets import cifar10\n",
        "\n",
        "# The data, split between train and test sets:\n",
        "(x_train_C, y_train_C), (x_test_C, y_test_C) = cifar10.load_data()\n",
        "print('x_train shape:', x_train_C.shape)\n",
        "print(x_train_C.shape[0], 'train samples')\n",
        "print(x_test_C.shape[0], 'test samples')\n",
        "\n",
        "# Convert class vectors to binary class matrices.\n",
        "num_classes=10\n",
        "epochs=10\n",
        "img_shape=32 \n",
        "y_train_C = to_categorical(y_train_C, num_classes)\n",
        "y_test_C = to_categorical(y_test_C, num_classes)\n",
        "\n",
        "\n",
        "input_shape=(32,32,1)\n",
        "\n",
        "x_train_C = x_train_C.astype('float32')\n",
        "x_test_C = x_test_C.astype('float32')\n",
        "x_train_C /= 255\n",
        "x_test_C /= 255\n",
        "\n",
        "\n",
        "print('x_train shape:', x_train_C.shape)\n",
        "print('Number of images in x_train', x_train_C.shape[0])\n",
        "print('Number of images in x_test', x_test_C.shape[0])\n",
        "print('y_train shape:', y_train_C.shape)\n",
        "print(\"input shape: \",input_shape)\n",
        "\n",
        "\n",
        "# CONVERT TO GRAY SCALE\n",
        "\n",
        "import matplotlib.pyplot as plt\n",
        "import numpy as np\n",
        "\n",
        "def grayscale(data, dtype='float32'):\n",
        "    # luma coding weighted average in video systems\n",
        "    r, g, b = np.asarray(.3, dtype=dtype), np.asarray(.59, dtype=dtype), np.asarray(.11, dtype=dtype)\n",
        "    rst = r * data[:, :, :, 0] + g * data[:, :, :, 1] + b * data[:, :, :, 2]\n",
        "    # add channel dimension\n",
        "    rst = np.expand_dims(rst, axis=3)\n",
        "    return rst\n",
        "\n",
        "x_train_C = grayscale(x_train_C)\n",
        "x_test_C = grayscale(x_test_C)\n",
        "\n",
        "# now we have only one channel in the images\n",
        "img_channels = 1\n",
        "\n"
      ],
      "execution_count": 0,
      "outputs": [
        {
          "output_type": "stream",
          "text": [
            "x_train shape: (50000, 32, 32, 3)\n",
            "50000 train samples\n",
            "10000 test samples\n",
            "x_train shape: (50000, 32, 32, 3)\n",
            "Number of images in x_train 50000\n",
            "Number of images in x_test 10000\n",
            "y_train shape: (50000, 10)\n",
            "input shape:  (32, 32, 1)\n"
          ],
          "name": "stdout"
        }
      ]
    },
    {
      "cell_type": "markdown",
      "metadata": {
        "id": "IHZNORWtsz1T",
        "colab_type": "text"
      },
      "source": [
        "\n",
        "# **READY PICKLE FILE**"
      ]
    },
    {
      "cell_type": "code",
      "metadata": {
        "id": "_1VZlVj8s2Pz",
        "colab_type": "code",
        "colab": {}
      },
      "source": [
        "with open('subset', 'rb') as f:\n",
        "    original = pickle.load(f)\n",
        "    adversarial= pickle.load(f)\n",
        "    original_y = pickle.load(f)\n",
        "    adversarial_y = pickle.load(f)"
      ],
      "execution_count": 0,
      "outputs": []
    },
    {
      "cell_type": "code",
      "metadata": {
        "id": "S45uNdjYs5bB",
        "colab_type": "code",
        "outputId": "9e979cab-0a24-4a85-c99b-cfc71bbd7304",
        "colab": {
          "base_uri": "https://localhost:8080/",
          "height": 83
        }
      },
      "source": [
        "print(f\"Original shape {original.shape}\")\n",
        "print(f\"Adversarial shape {adversarial.shape}\")\n",
        "print(f\"Original labels shape {original_y.shape}\")\n",
        "print(f\"Adversarial labels shape {adversarial_y.shape}\")"
      ],
      "execution_count": 123,
      "outputs": [
        {
          "output_type": "stream",
          "text": [
            "Original shape (895, 784)\n",
            "Adversarial shape (126, 784)\n",
            "Original labels shape (895,)\n",
            "Adversarial labels shape (126,)\n"
          ],
          "name": "stdout"
        }
      ]
    },
    {
      "cell_type": "markdown",
      "metadata": {
        "id": "Uf8CzEfu167e",
        "colab_type": "text"
      },
      "source": [
        "Normalize images"
      ]
    },
    {
      "cell_type": "code",
      "metadata": {
        "id": "5TtZhF8f16Ai",
        "colab_type": "code",
        "colab": {}
      },
      "source": [
        "adversarial = adversarial / 255."
      ],
      "execution_count": 0,
      "outputs": []
    },
    {
      "cell_type": "code",
      "metadata": {
        "id": "6cohQDz9taIP",
        "colab_type": "code",
        "outputId": "5c04bbaf-336d-4a82-cc67-941382f858d3",
        "colab": {
          "base_uri": "https://localhost:8080/",
          "height": 315
        }
      },
      "source": [
        "print(\"Original images\\n\")\n",
        "plt.imshow(original[0].reshape(28,28))\n",
        "print(f\"Label {original_y[0]}\")"
      ],
      "execution_count": 125,
      "outputs": [
        {
          "output_type": "stream",
          "text": [
            "Original images\n",
            "\n",
            "Label 0\n"
          ],
          "name": "stdout"
        },
        {
          "output_type": "display_data",
          "data": {
            "image/png": "[encoded data removed]",
            "text/plain": [
              "<Figure size 432x288 with 1 Axes>"
            ]
          },
          "metadata": {
            "tags": [],
            "needs_background": "light"
          }
        }
      ]
    },
    {
      "cell_type": "code",
      "metadata": {
        "id": "Cz5MrlRtuTqR",
        "colab_type": "code",
        "outputId": "0f99a5b4-1b5e-4e17-ce33-c7b37669dca0",
        "colab": {
          "base_uri": "https://localhost:8080/",
          "height": 315
        }
      },
      "source": [
        "print(\"Adversarial images\\n\")\n",
        "plt.imshow(adversarial[0].reshape(28,28))\n",
        "print(f\"Label {adversarial_y[0]}\")"
      ],
      "execution_count": 64,
      "outputs": [
        {
          "output_type": "stream",
          "text": [
            "Adversarial images\n",
            "\n",
            "Label 0\n"
          ],
          "name": "stdout"
        },
        {
          "output_type": "display_data",
          "data": {
            "image/png": "[encoded data removed]",
            "text/plain": [
              "<Figure size 432x288 with 1 Axes>"
            ]
          },
          "metadata": {
            "tags": [],
            "needs_background": "light"
          }
        }
      ]
    },
    {
      "cell_type": "markdown",
      "metadata": {
        "id": "js4LsTuoHvIp",
        "colab_type": "text"
      },
      "source": [
        "# **LOAD/TRAIN MODEL**"
      ]
    },
    {
      "cell_type": "markdown",
      "metadata": {
        "id": "LelZQIyzH4tK",
        "colab_type": "text"
      },
      "source": [
        "1. SVM"
      ]
    },
    {
      "cell_type": "code",
      "metadata": {
        "id": "3wYAFggaHuOe",
        "colab_type": "code",
        "colab": {}
      },
      "source": [
        "'''svm = SVC(C=1, kernel='rbf')\n",
        "svm.fit(X, y)\n",
        "svm.score(X_t, y_t)\n",
        "save_model(svm)\n",
        "'''\n",
        "\n",
        "# first ran the function downstairs to initialize load_trained_model\n",
        "\n",
        "model = load_trained_model(\"SVC_model.sav\")\n"
      ],
      "execution_count": 0,
      "outputs": []
    },
    {
      "cell_type": "markdown",
      "metadata": {
        "id": "h9mdiOCcH7CW",
        "colab_type": "text"
      },
      "source": [
        "2. Original CNN\n",
        "\n",
        "The network from Petra's 2020 paper, from the Appendix. This network is used for training MNIST, and has training accuracy 0.9871, test accuracy 0.9907 . "
      ]
    },
    {
      "cell_type": "code",
      "metadata": {
        "id": "_IrmtUreH8pF",
        "colab_type": "code",
        "outputId": "149a762f-237c-430e-c2ec-cf9077615018",
        "colab": {
          "base_uri": "https://localhost:8080/",
          "height": 467
        }
      },
      "source": [
        "# change labels to categorical before training\n",
        "num_classes=10\n",
        "y_train = to_categorical(y, num_classes)\n",
        "y_test = to_categorical(y_t, num_classes)\n",
        "\n",
        "# CNN from the Appendix of the 2020 paper \n",
        "\n",
        "\n",
        "inp = Input(shape=input_shape)\n",
        "conv1 = Conv2D(32, (3,3),activation='relu')(inp)\n",
        "conv2 = Conv2D(32, (3,3),activation='relu')(conv1)\n",
        "max_pool1 = MaxPooling2D(pool_size=(2, 2))(conv2)\n",
        "drop = Dropout(0.25)(max_pool1)\n",
        "flat =  Flatten()(drop)\n",
        "dense1 = Dense(128,activation=\"relu\")(flat)\n",
        "drop = Dropout(0.5)(dense1)\n",
        "predictions = Dense(10,activation=\"softmax\")(drop) # softmax layer \n",
        "model = Model(inputs=[inp], outputs=[predictions])\n",
        "\n",
        "model.summary() \n",
        "\n",
        "model.compile(optimizer='Adadelta', \n",
        "              loss='categorical_crossentropy', \n",
        "              metrics=['accuracy'])\n",
        "\n",
        "'''\n",
        "history = model.fit(x=x_train,y=y_train, epochs=10, validation_data=[x_test,y_test])\n",
        "\n",
        "score= model.evaluate(x_test, y_test,verbose=0)\n",
        "print('Test loss:', score[0])\n",
        "print('Test accuracy:', score[1])\n",
        "\n",
        "'''\n",
        "'''\n",
        "model.save_weights(\"CNN_MNIST.h5\")\n",
        "model.save(\"MNIST_CNN.h5\")\n",
        "'''\n"
      ],
      "execution_count": 10,
      "outputs": [
        {
          "output_type": "stream",
          "text": [
            "Model: \"model_1\"\n",
            "_________________________________________________________________\n",
            "Layer (type)                 Output Shape              Param #   \n",
            "=================================================================\n",
            "input_1 (InputLayer)         (None, 28, 28, 1)         0         \n",
            "_________________________________________________________________\n",
            "conv2d_1 (Conv2D)            (None, 26, 26, 32)        320       \n",
            "_________________________________________________________________\n",
            "conv2d_2 (Conv2D)            (None, 24, 24, 32)        9248      \n",
            "_________________________________________________________________\n",
            "max_pooling2d_1 (MaxPooling2 (None, 12, 12, 32)        0         \n",
            "_________________________________________________________________\n",
            "dropout_1 (Dropout)          (None, 12, 12, 32)        0         \n",
            "_________________________________________________________________\n",
            "flatten_1 (Flatten)          (None, 4608)              0         \n",
            "_________________________________________________________________\n",
            "dense_1 (Dense)              (None, 128)               589952    \n",
            "_________________________________________________________________\n",
            "dropout_2 (Dropout)          (None, 128)               0         \n",
            "_________________________________________________________________\n",
            "dense_2 (Dense)              (None, 10)                1290      \n",
            "=================================================================\n",
            "Total params: 600,810\n",
            "Trainable params: 600,810\n",
            "Non-trainable params: 0\n",
            "_________________________________________________________________\n"
          ],
          "name": "stdout"
        },
        {
          "output_type": "execute_result",
          "data": {
            "text/plain": [
              "'\\nmodel.save_weights(\"CNN_MNIST.h5\")\\nmodel.save(\"MNIST_CNN.h5\")\\n'"
            ]
          },
          "metadata": {
            "tags": []
          },
          "execution_count": 10
        }
      ]
    },
    {
      "cell_type": "code",
      "metadata": {
        "id": "gP9xUD1xkQwG",
        "colab_type": "code",
        "colab": {}
      },
      "source": [
        "\n",
        "model = load_model(\"MNIST_CNN.h5\")"
      ],
      "execution_count": 0,
      "outputs": []
    },
    {
      "cell_type": "markdown",
      "metadata": {
        "id": "Ow79O__nJxd1",
        "colab_type": "text"
      },
      "source": [
        "3. CNN v2\n",
        "\n",
        "This network is made for CIFAR 10. The network is taken from [this blog]( https://appliedmachinelearning.blog/2018/03/24/achieving-90-accuracy-in-object-recognition-task-on-cifar-10-dataset-with-keras-convolutional-neural-networks/) . In this version below I didn't use some things used in the blog e.g. z-score and data augmentation.\n",
        "\n",
        "\n",
        "This network has training accuracy: 0.8940 , validation accuracy: 0.8245.\n",
        "\n",
        "**NOTE:** Training really slow, try to avoid it.\n"
      ]
    },
    {
      "cell_type": "code",
      "metadata": {
        "id": "DjDjKgyWJwqY",
        "colab_type": "code",
        "colab": {}
      },
      "source": [
        "# Network 3 \n",
        "import keras\n",
        "from keras.models import Sequential\n",
        "from keras.utils import np_utils\n",
        "from keras.preprocessing.image import ImageDataGenerator\n",
        "from keras.layers import Dense, Activation, Flatten, Dropout, BatchNormalization\n",
        "from keras.layers import Conv2D, MaxPooling2D\n",
        "from keras.datasets import cifar10\n",
        "from keras import regularizers\n",
        "from keras.callbacks import LearningRateScheduler\n",
        "import numpy as np\n",
        "\n",
        "weight_decay = 1e-4\n",
        "model = Sequential()\n",
        "model.add(Conv2D(32, (3,3), padding='same', kernel_regularizer=regularizers.l2(weight_decay), input_shape=input_shape))\n",
        "model.add(Activation('elu'))\n",
        "model.add(BatchNormalization())\n",
        "model.add(Conv2D(32, (3,3), padding='same', kernel_regularizer=regularizers.l2(weight_decay)))\n",
        "model.add(Activation('elu'))\n",
        "model.add(BatchNormalization())\n",
        "model.add(MaxPooling2D(pool_size=(2,2)))\n",
        "model.add(Dropout(0.2))\n",
        " \n",
        "model.add(Conv2D(64, (3,3), padding='same', kernel_regularizer=regularizers.l2(weight_decay)))\n",
        "model.add(Activation('elu'))\n",
        "model.add(BatchNormalization())\n",
        "model.add(Conv2D(64, (3,3), padding='same', kernel_regularizer=regularizers.l2(weight_decay)))\n",
        "model.add(Activation('elu'))\n",
        "model.add(BatchNormalization())\n",
        "model.add(MaxPooling2D(pool_size=(2,2)))\n",
        "model.add(Dropout(0.3))\n",
        " \n",
        "model.add(Conv2D(128, (3,3), padding='same', kernel_regularizer=regularizers.l2(weight_decay)))\n",
        "model.add(Activation('elu'))\n",
        "model.add(BatchNormalization())\n",
        "model.add(Conv2D(128, (3,3), padding='same', kernel_regularizer=regularizers.l2(weight_decay)))\n",
        "model.add(Activation('elu'))\n",
        "model.add(BatchNormalization())\n",
        "model.add(MaxPooling2D(pool_size=(2,2)))\n",
        "model.add(Dropout(0.4))\n",
        " \n",
        "model.add(Flatten())\n",
        "model.add(Dense(10, activation='softmax'))\n",
        " \n",
        "model.summary()\n",
        "\n",
        "\n",
        "model.compile(loss='categorical_crossentropy', optimizer='adam', metrics=['accuracy'])\n",
        "\n",
        "\n",
        "'''\n",
        "history = model.fit(x=x_train_C,y=y_train_C, epochs=150, batch_size=64, validation_data=[x_test_C,y_test_C])\n",
        "\n",
        "score= model.evaluate(x_test_C, y_test_C,verbose=0)\n",
        "print('Test loss:', score[0])\n",
        "print('Test accuracy:', score[1])\n",
        "\n",
        "model.save_weights(\"CNN_CIFAR10_net3.h5\")\n",
        "files.download('CNN_CIFAR10_net3.h5')\n",
        "'''\n",
        "\n",
        "model = load_model(\"CNN_CIFAR10_net3.h5\")"
      ],
      "execution_count": 0,
      "outputs": []
    },
    {
      "cell_type": "code",
      "metadata": {
        "id": "81daef_K5-DN",
        "colab_type": "code",
        "colab": {}
      },
      "source": [
        ""
      ],
      "execution_count": 0,
      "outputs": []
    },
    {
      "cell_type": "markdown",
      "metadata": {
        "id": "6J3bNbWgEua_",
        "colab_type": "text"
      },
      "source": [
        "# **OPERATOR FUNCTIONS**"
      ]
    },
    {
      "cell_type": "code",
      "metadata": {
        "id": "TQuqZrKL4qqW",
        "colab_type": "code",
        "outputId": "e3bddd0c-7336-46dc-829c-abaa32e8498b",
        "colab": {
          "base_uri": "https://localhost:8080/",
          "height": 53
        }
      },
      "source": [
        "\n",
        "'''\n",
        "def euclidean(s):\n",
        "    # https://stackoverflow.com/questions/1401712/how-can-the-euclidean-distance-be-calculated-with-numpy\n",
        "    # pass s=a-b as argument to the function\n",
        "    return np.linalg.norm(s)\n",
        "\n",
        "def euc_fitness(individual, target, pred, label, l1=0.5, l2=0.5, N = 50, n_classes=10):\n",
        "    # petras fitness fucntion\n",
        "    return -(l1*euclidean(individual-target)/N + l2*euclidean(pred-label)/n_classes)\n",
        "'''\n",
        "\n",
        "def computing_SSIM(individual,target):\n",
        "    (score, diff) = compare_ssim(individual, target, full=True)\n",
        "    #diff = (diff * 255).astype(\"uint8\")\n",
        "    return score\n",
        "\n",
        "def calculate_fitness(model,ind,target_image,label,l1=0.5, l2=0.5, N=50, num_classes=10):\n",
        "  # predict the population\n",
        "  predictions=model.predict(ind.reshape(1,28,28,1)) \n",
        "  # po is the ground truth prediction, so for label = 0, it will be prediciton[0]\n",
        "  predictions=predictions[0]\n",
        "  po=predictions[label]\n",
        "  # set that value to 0\n",
        "  predictions[label]=0\n",
        "  # take next highest one\n",
        "  pd = np.max(predictions)\n",
        "  diff=pd-po\n",
        "  return -(l1*computing_SSIM(ind.reshape(28,28),target_image)/N + l2*(diff)/num_classes)\n",
        "\n",
        "\n",
        "def pop_fitness(model,pop,target,label):\n",
        "    return [calculate_fitness(model, p, target, label) for p in pop]\n",
        "\n",
        "def flatten(imgs):\n",
        "    # flatten all images in np array or list\n",
        "    return np.array([im.flatten() for im in imgs])\n",
        "\n",
        "def gaussian_noise():\n",
        "    # draw one sample of noise from zero mean 1 variance Gaussian\n",
        "    return np.random.normal(0, np.sqrt(0.1))\n",
        "\n",
        "def p_noise(x):\n",
        "  if P_MUTATION > np.random.uniform():\n",
        "    return x + gaussian_noise()\n",
        "  else:\n",
        "    return x\n",
        "    \n",
        "def add_noise(image):\n",
        "    noise_v=np.vectorize(p_noise)\n",
        "    return noise_v(image) #np.array([x + gaussian_noise() if P_MUTATION > np.random.uniform(0.0, 1.0) else x+0 for x in image])\n",
        "\n",
        "def k_crossover(im1, im2, k=2):\n",
        "    c1, c2 = [], []\n",
        "    # get k crossover points\n",
        "    points = sorted([np.random.randint(0, 783, 1) for p in range(k)])\n",
        "    im_1_split = np.split(im1, [int(p) for p in points])\n",
        "    im_2_split = np.split(im2, [int(p) for p in points])\n",
        "    \n",
        "    # alternate between lists to realise crossover (theres got to be a more clever way to do this)\n",
        "    for i in range(k+1):\n",
        "        if i % 2 == 0:\n",
        "            c1.append(im_1_split[i])\n",
        "            c2.append(im_2_split[i])\n",
        "        else:\n",
        "            c1.append(im_2_split[i])\n",
        "            c2.append(im_1_split[i])\n",
        "    return np.concatenate(c1, axis=0), np.concatenate(c2, axis=0)\n",
        "\n",
        "def tournament(pop, model, ground_truth, target, k=3):\n",
        "    #predictions=model.predict(pop.reshape(50,28,28,1))\n",
        "    #predictions=predictions[0]\n",
        "    indices = np.random.choice(range(len(pop)), k, replace=False) #we get 3 indxes [2 34 46]\n",
        "    individuals = pop.take(indices,axis=0)\n",
        "    scores = [pop_fitness(model,np.expand_dims(individuals.reshape(individuals.shape[0],28,28),axis=3), ground_truth.reshape(28,28), target)]\n",
        "    \n",
        "    index_min = max(range(len(scores[0])), key=scores[0].__getitem__)\n",
        "   \n",
        "    return pop[index_min]\n",
        "\n",
        "def check_adverserial(pop, model, fitness, target):\n",
        "    preds=model.predict(pop.reshape(50,28,28,1))\n",
        "    preds=preds[0]\n",
        "    for ind, pred, f in zip(pop, preds, fitness):\n",
        "        if pred == target and f < 0.01:\n",
        "            return ind\n",
        "        return None\n",
        "\n",
        "def init_pop(n, num, data, labels):\n",
        "    indices = np.where(labels==num)[0]\n",
        "    n_indices = np.random.choice(indices, n, replace=True)\n",
        "    sample = np.take(data, n_indices, axis=0)\n",
        "    return sample, np.full((n), num, dtype=int) # return sample+array of labels\n",
        "\n",
        "def init_pop_from_sample(n,img,label):\n",
        "    #indices = np.where(labels==num)[0]\n",
        "    #index = np.random.choice(indices, 1)\n",
        "    #sample = np.take(data, index, axis=0)\n",
        "    x = np.array([add_noise(img) for i in range(n)])\n",
        "    return x.reshape(n, 784)\n",
        "'''\n",
        "Cyrils model\n",
        "\n",
        "def save_trained_model(model, filename='SVC_model.sav'):\n",
        "    pickle.dump(model, open(filename, 'wb'))\n",
        "    \n",
        "def load_trained_model(filename='SVC_model.sav'):\n",
        "    return pickle.load(open(filename, 'rb'))\n",
        "\n",
        "'''"
      ],
      "execution_count": 181,
      "outputs": [
        {
          "output_type": "execute_result",
          "data": {
            "text/plain": [
              "\"\\nCyrils model\\n\\ndef save_trained_model(model, filename='SVC_model.sav'):\\n    pickle.dump(model, open(filename, 'wb'))\\n    \\ndef load_trained_model(filename='SVC_model.sav'):\\n    return pickle.load(open(filename, 'rb'))\\n\\n\""
            ]
          },
          "metadata": {
            "tags": []
          },
          "execution_count": 181
        }
      ]
    },
    {
      "cell_type": "code",
      "metadata": {
        "id": "FOEo4wAfggNs",
        "colab_type": "code",
        "colab": {}
      },
      "source": [
        "''' my part of the code ''' \n",
        "''' I know it is ugly, I will fix it . this is the intial version'''\n",
        "# from Goorge Clooney paper\n",
        "def quadrant_crossover(parent_1,parent_2):\n",
        "\n",
        "  # reshape parents\n",
        "  parent_1,parent_2= parent_1.reshape((28,28)), parent_2.reshape((28,28))\n",
        "  # quadrants for both parents\n",
        "  p1,p2,p3,p4,q1,q2,q3,q4 = [],[],[],[],[],[],[],[]\n",
        "  child1, child2 = [],[]\n",
        "  # getting random (x,y) point in 2D matrix\n",
        "  x,y = np.random.randint(0,27), np.random.randint(0,27)  ## here to pun len of row and len of column \n",
        "\n",
        "  # choose which quadrant we want to crossover\n",
        "  N = np.random.randint(0,3)\n",
        "  #make quadrants\n",
        "  for i in range(28):\n",
        "    if (i<=x):\n",
        "      p1.append(parent_1[i][:y+1])\n",
        "      p2.append(parent_1[i][y+1:])\n",
        "      q1.append(parent_2[i][:y+1])\n",
        "      q2.append(parent_2[i][y+1:])\n",
        "    else:\n",
        "      p3.append(parent_1[i][:y+1])\n",
        "      p4.append(parent_1[i][y+1:])\n",
        "      q3.append(parent_2[i][:y+1])\n",
        "      q4.append(parent_2[i][y+1:])\n",
        "\n",
        "  helper=[]\n",
        "  if (N==0):\n",
        "    ch1 = connect_quadrants(p1,q2,q3,q4)\n",
        "    ch2 = connect_quadrants(q1,p2,p3,p4)\n",
        "  elif (N==1):\n",
        "    ch1 = connect_quadrants(q1,p2,q3,q4)\n",
        "    ch2 = connect_quadrants(p1,q2,p3,p4)\n",
        "  elif (N==2):\n",
        "    ch1 = connect_quadrants(q1,q2,p3,q4)\n",
        "    ch2 = connect_quadrants(p1,p2,q3,p4)\n",
        "  else:\n",
        "    ch1 = connect_quadrants(q1,q2,q3,p4)\n",
        "    ch2 = connect_quadrants(p1,p2,p3,q4)\n",
        "\n",
        "  return ch1,ch2\n",
        "\n",
        "def connect_quadrants(q1,q2,q3,q4):\n",
        "  left = np.concatenate((q1,q3))\n",
        "  right = np.concatenate((q2,q4))\n",
        "  image = np.concatenate((left,right),axis=1)\n",
        "  return image.flatten()\n",
        "\n",
        "\n",
        "def multi_crossover(parent1,parent2,target):\n",
        "  pop= []\n",
        "  # 2-k crossover\n",
        "  pop.append(k_crossover(parent1, parent2))\n",
        "  # Gorge Clooney crossover\n",
        "  pop.append(quadrant_crossover(parent1,parent2))\n",
        "  # uniform crossover\n",
        "  pop.append(k_crossover(parent1, parent2,1))\n",
        "  # SSIM similarity \n",
        "  flattened_list = [y for x in pop for y in x] # need to flatten the list because pop is list of lists, cause every crossover function returns 2 obj\n",
        "  len(flattened_list)\n",
        "  ssim = [computing_SSIM(ind,target) for ind in flattened_list ]\n",
        "  ids = np.argpartition(ssim, 2)[:2]\n",
        "\n",
        "  return flattened_list[ids[0]],flattened_list[ids[1]]\n",
        "  \n"
      ],
      "execution_count": 0,
      "outputs": []
    },
    {
      "cell_type": "markdown",
      "metadata": {
        "id": "hZ3PRzI5S3cv",
        "colab_type": "text"
      },
      "source": [
        "# **THE MAIN FUNCTION**"
      ]
    },
    {
      "cell_type": "markdown",
      "metadata": {
        "id": "9UhN4JnaS5H7",
        "colab_type": "text"
      },
      "source": [
        "Flatten data before evolving"
      ]
    },
    {
      "cell_type": "code",
      "metadata": {
        "id": "T-8hS44GPb2B",
        "colab_type": "code",
        "outputId": "527e2583-2322-430d-d1fc-c7601c3763f3",
        "colab": {
          "base_uri": "https://localhost:8080/",
          "height": 83
        }
      },
      "source": [
        "'''\n",
        "This not necessary when using subset \n",
        "'''\n",
        "'''\n",
        "X = flatten(x_train)\n",
        "X_t = flatten(x_test)\n",
        "print(f\"X train shape {X.shape}\")\n",
        "print(f\"X test shape {X_t.shape}\")\n",
        "print(f\"y train shape {y.shape}\")\n",
        "print(f\"y test shape {y_t.shape}\")\n",
        "'''"
      ],
      "execution_count": 16,
      "outputs": [
        {
          "output_type": "stream",
          "text": [
            "X train shape (60000, 784)\n",
            "X test shape (10000, 784)\n",
            "y train shape (60000,)\n",
            "y test shape (10000,)\n"
          ],
          "name": "stdout"
        }
      ]
    },
    {
      "cell_type": "code",
      "metadata": {
        "id": "Jl-wi97UGmMw",
        "colab_type": "code",
        "colab": {}
      },
      "source": [
        "adversarial[0].reshape(28,28,1)"
      ],
      "execution_count": 0,
      "outputs": []
    },
    {
      "cell_type": "markdown",
      "metadata": {
        "id": "dFfJk3L-MYvl",
        "colab_type": "text"
      },
      "source": [
        "# **MAIN FUNCTION**"
      ]
    },
    {
      "cell_type": "code",
      "metadata": {
        "id": "r99NLfBt-ngX",
        "colab_type": "code",
        "colab": {}
      },
      "source": [
        "# for each image and label in adversarial\n",
        "n=50\n",
        "for img,label in zip(adversarial,adversarial_y):\n",
        "  #intialize population from the image and with the given label\n",
        "  population = init_pop_from_sample(n,img,label)\n",
        "  print(population.shape)\n",
        "  # calculate fitness of these individuals\n",
        "  fitness = pop_fitness(model,np.expand_dims(population.reshape(population.shape[0],28,28),axis=3),img.reshape(28,28),label)\n",
        "  \n",
        "  #check if adversarial\n",
        "  adv=check_adverserial(population,model,fitness,label)\n",
        "\n",
        "  max_gen=0\n",
        "  \n",
        "  while adv==False or max_gen<10000:\n",
        "    new_pop=[]\n",
        "    for i in range(25):\n",
        "      parent1= tournament(population, model, img, label) \n",
        "      parent2 = tournament(population, model, img, label)\n",
        "      if 0.6 > np.random.uniform(0.0, 1.0):\n",
        "        child1, child2 = multi_crossover(parent1, parent2,img) # crossover \n",
        "        child1, child2 = add_noise(child1), add_noise(child2) # apply mutation to pixels     \n",
        "        new_pop.append(child1)\n",
        "        new_pop.append(child2)\n",
        "      else:\n",
        "        new_pop.append(add_noise(parent1))\n",
        "        new_pop.append(add_noise(parent2))\n",
        "\n",
        "    #new_pop=new_pop[50:]\n",
        "    #to reshape\n",
        "    population= np.array(new_pop)\n",
        "    fitness = pop_fitness(model,np.expand_dims(population.reshape(population.shape[0],28,28),axis=3),img.reshape(28,28),label)  \n",
        "    max_gen+=1\n",
        "    if (max_gen % 10 == 0):\n",
        "      print(f\"Generation {max_gen}\")\n",
        "      print(f\"Max fitness value {np.max(fitness)}\")\n",
        "    \n",
        "    adv = check_adverserial(population,model,fitness,label) \n",
        "  \n",
        "  #show adversarial\n",
        "  \n",
        "  if(adv != None):\n",
        "    plt.imshow(adv.reshape(28,28))\n",
        "  else:\n",
        "    print(f\" We came to {max_gen} th round\")\n",
        "\n",
        "\n",
        "\n"
      ],
      "execution_count": 0,
      "outputs": []
    },
    {
      "cell_type": "markdown",
      "metadata": {
        "id": "g70lsuPhMcMr",
        "colab_type": "text"
      },
      "source": [
        "# **CYRILS FUNCTION**"
      ]
    },
    {
      "cell_type": "code",
      "metadata": {
        "id": "I6RSbPhO4qqk",
        "colab_type": "code",
        "colab": {}
      },
      "source": [
        "'''def ga(num, data, labels, max_gen, target, individuals = INDIVIDUALS, p_cross = P_CROSS, p_mut = P_MUTATION):\n",
        "    \n",
        "    # initialize population by drawing 1 sample from passed dataset, automatically applies noise to all copies\n",
        "    # Then take predictions to calculate population fitness\n",
        "    pop, ground_truth = init_pop_from_sample(individuals, num, data, labels)\n",
        "    #predictions = model.predict(pop)\n",
        "    fit_vals = calculate_fitness(model,pop, ground_truth, label)\n",
        "\n",
        "    for gen in range(max_gen):\n",
        "        if gen % 10 == 0:\n",
        "            print(f'fitting gen: {gen}')\n",
        "            print(fit_vals)\n",
        "\n",
        "        adverserial = check_adverserial(pop, predictions, fit_vals, target)\n",
        "        if adverserial:\n",
        "            return adverserial\n",
        "        \n",
        "        new_pop = []\n",
        "        for i in range(individuals//2):\n",
        "                            \n",
        "            parent1, idx1 = tournament_selection(pop, predictions, ground_truth, target) \n",
        "            parent2, idx2 = tournament_selection(pop, predictions, ground_truth, target)\n",
        "            if p_cross > np.random.uniform(0.0, 1.0):\n",
        "                \n",
        "                #child1, child2 = np.array([]), np.array([])\n",
        "                child1, child2 = multi_crossover(parent1, parent2) # crossover\n",
        "                \n",
        "                child1, child2 = add_noise(child1), add_noise(child2) # apply mutation to pixels     \n",
        "                #if child1.size != 0:\n",
        "                new_pop.append(child1)\n",
        "                new_pop.append(child2)\n",
        "            else:\n",
        "                new_pop.append(parent1)\n",
        "                new_pop.append(parent2)\n",
        "            #print(len(pop))\n",
        "            #pop.pop(idx1[0])\n",
        "            #pop.pop(idx2[0])\n",
        "            if idx1 != idx2:\n",
        "                order = sorted([idx1, idx2], reverse = True)\n",
        "                pop = np.delete(pop, order[0], axis=0)\n",
        "                pop = np.delete(pop, order[1], axis=0)\n",
        "            else:\n",
        "                order = idx1\n",
        "                pop = np.delete(pop, order, axis=0)\n",
        "\n",
        "            print(order)\n",
        "            print(pop.shape)\n",
        "\n",
        "                \n",
        "        pop = np.array(new_pop)\n",
        "        predictions = model.predict(pop)\n",
        "        fit_vals = pop_fitness(pop, ground_truth, predictions, target)\n",
        "    return pop[fit_vals.index(max(fit_vals))]\n",
        "    \n",
        "start = time.process_time()\n",
        "adverserial = ga(7, X, y, 1, 1) #(num, data, labels, max_gen, target)\n",
        "print(time.process_time() - start)\n",
        "'''"
      ],
      "execution_count": 0,
      "outputs": []
    },
    {
      "cell_type": "markdown",
      "metadata": {
        "id": "mlXUrwAyQmI8",
        "colab_type": "text"
      },
      "source": [
        "# Examples of what functions do"
      ]
    },
    {
      "cell_type": "code",
      "metadata": {
        "id": "fWx-hDE52vO6",
        "colab_type": "code",
        "colab": {}
      },
      "source": [
        "for adv in adversarial_y:\n",
        "  print(adv)"
      ],
      "execution_count": 0,
      "outputs": []
    },
    {
      "cell_type": "markdown",
      "metadata": {
        "id": "aAorNhd0QwcH",
        "colab_type": "text"
      },
      "source": [
        "1. Init population "
      ]
    },
    {
      "cell_type": "code",
      "metadata": {
        "id": "7EbQYpcsQz6F",
        "colab_type": "code",
        "outputId": "dafb0a9b-8960-4df1-f641-77e15b902f06",
        "colab": {
          "base_uri": "https://localhost:8080/",
          "height": 33
        }
      },
      "source": [
        "print(f\"Shape of our dataset {X.shape}\")\n",
        "population,ground_truth = init_pop_from_sample(INDIVIDUALS, 7, X, y)\n",
        "'''\n",
        "Here instead X and Y we will input adversarial X and adv_y\n",
        "\n",
        "Loop for each item in it\n",
        "'''"
      ],
      "execution_count": 17,
      "outputs": [
        {
          "output_type": "stream",
          "text": [
            "(60000, 784)\n"
          ],
          "name": "stdout"
        }
      ]
    },
    {
      "cell_type": "code",
      "metadata": {
        "id": "k1jrxD3KnArs",
        "colab_type": "code",
        "outputId": "f93accc7-473f-45c6-92f6-f5eb98776d56",
        "colab": {
          "base_uri": "https://localhost:8080/",
          "height": 140
        }
      },
      "source": [
        "f, ax = plt.subplots(1,4)\n",
        "ax[0].imshow(ground_truth.reshape(28,28))\n",
        "ax[1].imshow(population[0].reshape(28,28))\n",
        "ax[2].imshow(population[1].reshape(28,28))\n",
        "ax[3].imshow(population[2].reshape(28,28))\n"
      ],
      "execution_count": 54,
      "outputs": [
        {
          "output_type": "execute_result",
          "data": {
            "text/plain": [
              "<matplotlib.image.AxesImage at 0x7f72757c1b38>"
            ]
          },
          "metadata": {
            "tags": []
          },
          "execution_count": 54
        },
        {
          "output_type": "display_data",
          "data": {
            "image/png": "[encoded data removed]",
            "text/plain": [
              "<Figure size 432x288 with 4 Axes>"
            ]
          },
          "metadata": {
            "tags": [],
            "needs_background": "light"
          }
        }
      ]
    },
    {
      "cell_type": "markdown",
      "metadata": {
        "id": "lDXlXm7vnnHC",
        "colab_type": "text"
      },
      "source": [
        "2. Prediction and fitness functions\n"
      ]
    },
    {
      "cell_type": "code",
      "metadata": {
        "id": "ZzKQbBsywQ4e",
        "colab_type": "code",
        "colab": {
          "base_uri": "https://localhost:8080/",
          "height": 50
        },
        "outputId": "0bbda110-d6f5-492f-991e-9ce14f858428"
      },
      "source": [
        "print(f\"Population shape {population.shape}\")\n",
        "print(f\"One sample from population shape {population[0].shape}\")"
      ],
      "execution_count": 56,
      "outputs": [
        {
          "output_type": "stream",
          "text": [
            "Population shape (50, 784)\n",
            "One sample from population shape (784,)\n"
          ],
          "name": "stdout"
        }
      ]
    },
    {
      "cell_type": "code",
      "metadata": {
        "id": "8_vfKHRcbgyN",
        "colab_type": "code",
        "colab": {
          "base_uri": "https://localhost:8080/",
          "height": 100
        },
        "outputId": "5a081a7c-a9c9-4267-9b91-75132dddcb0f"
      },
      "source": [
        "''' We need to expand the dimension because CNN requires (28,28,1) shape) '''\n",
        "predictions = model.predict(np.expand_dims(population.reshape(population.shape[0],28,28),axis=3))\n",
        "print(\"Example of predictions for 1st sample from population \\n\")\n",
        "print(predictions[0])"
      ],
      "execution_count": 62,
      "outputs": [
        {
          "output_type": "stream",
          "text": [
            "Example of predictions for 1st sample from population \n",
            "\n",
            "[1.83606268e-08 1.87752196e-08 2.89226159e-06 2.00165414e-06\n",
            " 5.12024805e-08 3.22582006e-09 6.12911588e-12 9.99759257e-01\n",
            " 1.01414464e-07 2.35686341e-04]\n"
          ],
          "name": "stdout"
        }
      ]
    },
    {
      "cell_type": "markdown",
      "metadata": {
        "id": "2P7lF1v6nk6B",
        "colab_type": "text"
      },
      "source": [
        "Adversarial example"
      ]
    },
    {
      "cell_type": "code",
      "metadata": {
        "id": "5_qkUDuf4qqn",
        "colab_type": "code",
        "outputId": "7abe5201-0aa7-4108-d4ef-8903b2f90b2e",
        "colab": {}
      },
      "source": [
        "plt.imshow(adverserial.reshape(28,28))"
      ],
      "execution_count": 0,
      "outputs": [
        {
          "output_type": "execute_result",
          "data": {
            "text/plain": [
              "<matplotlib.image.AxesImage at 0x191007d0828>"
            ]
          },
          "metadata": {
            "tags": []
          },
          "execution_count": 10
        },
        {
          "output_type": "display_data",
          "data": {
            "image/png": "[encoded data removed]",
            "text/plain": [
              "<Figure size 432x288 with 1 Axes>"
            ]
          },
          "metadata": {
            "tags": [],
            "needs_background": "light"
          }
        }
      ]
    },
    {
      "cell_type": "code",
      "metadata": {
        "id": "BhPPgZiJ4qqp",
        "colab_type": "code",
        "outputId": "bb2d3e3b-3957-4f25-d248-467a8f85fe29",
        "colab": {}
      },
      "source": [
        "model.predict(adverserial.reshape(1,-1))"
      ],
      "execution_count": 0,
      "outputs": [
        {
          "output_type": "execute_result",
          "data": {
            "text/plain": [
              "array([7], dtype=uint8)"
            ]
          },
          "metadata": {
            "tags": []
          },
          "execution_count": 12
        }
      ]
    },
    {
      "cell_type": "code",
      "metadata": {
        "id": "2x9Ldjl64qqr",
        "colab_type": "code",
        "colab": {}
      },
      "source": [
        "'''\n",
        "\n",
        "Cyril's part\n",
        "\n",
        "from deap import algorithms\n",
        "from deap import base\n",
        "from deap import creator\n",
        "from deap import tools\n",
        "\n",
        "creator.create(\"FitnessMax\", base.Fitness, weights=(1.0,))\n",
        "creator.create(\"Individual\", np.ndarray, typecode=\"d\", fitness=creator.FitnessMax, strategy=None)\n",
        "creator.create(\"Strategy\", np.ndarray, typecode=\"d\")\n",
        "\n",
        "tbx = base.Toolbox()\n",
        "INDIVIDUAL_SIZE = 784\n",
        "\n",
        "\n",
        "tbx.register(\"attr_int\", random.randint, 0, 1)\n",
        "tbx.register(\"individual\", \n",
        "             tools.initRepeat, \n",
        "             creator.Individual,\n",
        "             tbx.attr_int, \n",
        "             n=INDIVIDUAL_SIZE)\n",
        "tbx.register(\"population\", tools.initRepeat, list, tbx.individual)\n",
        "tbx.register(\"evaluate\", EOQ)\n",
        "tbx.register(\"mate\", tools.cxOnePoint)\n",
        "tbx.register(\"mutate\", tools.mutFlipBit, indpb=0.01)\n",
        "tbx.register(\"select\", tools.selTournament, tournsize=5)\n",
        "\n",
        "'''"
      ],
      "execution_count": 0,
      "outputs": []
    },
    {
      "cell_type": "code",
      "metadata": {
        "id": "rVHQhxoi4qqw",
        "colab_type": "code",
        "colab": {}
      },
      "source": [
        ""
      ],
      "execution_count": 0,
      "outputs": []
    }
  ]
}