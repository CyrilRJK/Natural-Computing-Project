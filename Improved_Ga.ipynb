{
  "nbformat": 4,
  "nbformat_minor": 0,
  "metadata": {
    "kernelspec": {
      "display_name": "Python 3",
      "language": "python",
      "name": "python3"
    },
    "language_info": {
      "codemirror_mode": {
        "name": "ipython",
        "version": 3
      },
      "file_extension": ".py",
      "mimetype": "text/x-python",
      "name": "python",
      "nbconvert_exporter": "python",
      "pygments_lexer": "ipython3",
      "version": "3.6.10"
    },
    "colab": {
      "name": "Improved Ga.ipynb",
      "provenance": [],
      "collapsed_sections": [],
      "toc_visible": true
    }
  },
  "cells": [
    {
      "cell_type": "markdown",
      "metadata": {
        "id": "jfyOYMPfEVGt",
        "colab_type": "text"
      },
      "source": [
        "# **IMPORT**"
      ]
    },
    {
      "cell_type": "code",
      "metadata": {
        "id": "TvU-aLRJ4qqL",
        "colab_type": "code",
        "outputId": "09c110e7-fdbb-41a3-b9b6-674d116e9134",
        "colab": {
          "base_uri": "https://localhost:8080/",
          "height": 87
        }
      },
      "source": [
        "import tensorflow as tf\n",
        "import numpy as np \n",
        "import matplotlib.pyplot as plt\n",
        "import seaborn as sns\n",
        "from sklearn.svm import SVC\n",
        "import pickle\n",
        "import time\n",
        "from skimage.measure import compare_ssim\n",
        "import tensorflow as tf\n",
        "from keras.models import Model,load_model\n",
        "from keras.layers import Dense, Conv2D, Dropout, Flatten, MaxPooling2D, Input, Activation\n",
        "from keras.utils import to_categorical\n",
        "import keras"
      ],
      "execution_count": 1,
      "outputs": [
        {
          "output_type": "stream",
          "text": [
            "/usr/local/lib/python3.6/dist-packages/statsmodels/tools/_testing.py:19: FutureWarning: pandas.util.testing is deprecated. Use the functions in the public API at pandas.testing instead.\n",
            "  import pandas.util.testing as tm\n",
            "Using TensorFlow backend.\n"
          ],
          "name": "stderr"
        }
      ]
    },
    {
      "cell_type": "code",
      "metadata": {
        "id": "Svt-7VSI4qqR",
        "colab_type": "code",
        "colab": {}
      },
      "source": [
        "np.random.seed(0)"
      ],
      "execution_count": 0,
      "outputs": []
    },
    {
      "cell_type": "markdown",
      "metadata": {
        "id": "TdlT3tdFEaFn",
        "colab_type": "text"
      },
      "source": [
        "# **GLOBAL VARIABLES**"
      ]
    },
    {
      "cell_type": "markdown",
      "metadata": {
        "id": "8KwGNDu1EdjD",
        "colab_type": "text"
      },
      "source": [
        "Values given in the paper\n"
      ]
    },
    {
      "cell_type": "code",
      "metadata": {
        "id": "PBkLRXwe4qqT",
        "colab_type": "code",
        "colab": {}
      },
      "source": [
        "INDIVIDUALS = 50\n",
        "P_CROSS = 0.6\n",
        "P_MUTATION = 0.1"
      ],
      "execution_count": 0,
      "outputs": []
    },
    {
      "cell_type": "markdown",
      "metadata": {
        "id": "nfaCT_L4HQnk",
        "colab_type": "text"
      },
      "source": [
        "# **THE DATA**"
      ]
    },
    {
      "cell_type": "markdown",
      "metadata": {
        "id": "8w5a46DoHaR6",
        "colab_type": "text"
      },
      "source": [
        "1. MNIST"
      ]
    },
    {
      "cell_type": "markdown",
      "metadata": {
        "id": "1eHlDySEHe-o",
        "colab_type": "text"
      },
      "source": [
        "Pre-processing necessary before training the network"
      ]
    },
    {
      "cell_type": "code",
      "metadata": {
        "id": "UTnfzwZIHoGu",
        "colab_type": "code",
        "outputId": "0a09c03e-d582-4467-dbfc-ed7fd1a15e60",
        "colab": {
          "base_uri": "https://localhost:8080/",
          "height": 133
        }
      },
      "source": [
        "# load mnist\n",
        "(x_train, y), (x_test, y_t) = tf.keras.datasets.mnist.load_data()\n",
        "\n",
        "# Reshaping the array to 4-dims so that it can work with the Keras API\n",
        "x_train = x_train.reshape(x_train.shape[0], 28, 28, 1)\n",
        "x_test = x_test.reshape(x_test.shape[0], 28, 28, 1)\n",
        "input_shape = (28, 28, 1)\n",
        "# Making sure that the values are float so that we can get decimal points after division\n",
        "x_train = x_train.astype('float32')\n",
        "x_test = x_test.astype('float32')\n",
        "# Normalizing the RGB codes by dividing it to the max RGB value.\n",
        "x_train /= 255\n",
        "x_test /= 255\n",
        "print('x_train shape:', x_train.shape)\n",
        "print('Number of images in x_train', x_train.shape[0])\n",
        "print('Number of images in x_test', x_test.shape[0])\n",
        "print('y_train shape:', y.shape)\n",
        "print('y_test shape:', y_t.shape)\n"
      ],
      "execution_count": 4,
      "outputs": [
        {
          "output_type": "stream",
          "text": [
            "Downloading data from https://storage.googleapis.com/tensorflow/tf-keras-datasets/mnist.npz\n",
            "11493376/11490434 [==============================] - 0s 0us/step\n",
            "x_train shape: (60000, 28, 28, 1)\n",
            "Number of images in x_train 60000\n",
            "Number of images in x_test 10000\n",
            "y_train shape: (60000,)\n",
            "y_test shape: (10000,)\n"
          ],
          "name": "stdout"
        }
      ]
    },
    {
      "cell_type": "markdown",
      "metadata": {
        "id": "MB8DN2uXJMb-",
        "colab_type": "text"
      },
      "source": [
        "2. CIFAR 10 "
      ]
    },
    {
      "cell_type": "code",
      "metadata": {
        "id": "ZZTtcGJAJLuM",
        "colab_type": "code",
        "colab": {
          "base_uri": "https://localhost:8080/",
          "height": 183
        },
        "outputId": "9df70af8-2de8-4e19-b4ba-185eee12db5c"
      },
      "source": [
        "from keras.datasets import cifar10\n",
        "\n",
        "# The data, split between train and test sets:\n",
        "(x_train_C, y_train_C), (x_test_C, y_test_C) = cifar10.load_data()\n",
        "print('x_train shape:', x_train_C.shape)\n",
        "print(x_train_C.shape[0], 'train samples')\n",
        "print(x_test_C.shape[0], 'test samples')\n",
        "\n",
        "# Convert class vectors to binary class matrices.\n",
        "num_classes=10\n",
        "epochs=10\n",
        "img_shape=32 \n",
        "y_train_C = to_categorical(y_train_C, num_classes)\n",
        "y_test_C = to_categorical(y_test_C, num_classes)\n",
        "\n",
        "\n",
        "input_shape=(32,32,1)\n",
        "\n",
        "x_train_C = x_train_C.astype('float32')\n",
        "x_test_C = x_test_C.astype('float32')\n",
        "x_train_C /= 255\n",
        "x_test_C /= 255\n",
        "\n",
        "\n",
        "print('x_train shape:', x_train_C.shape)\n",
        "print('Number of images in x_train', x_train_C.shape[0])\n",
        "print('Number of images in x_test', x_test_C.shape[0])\n",
        "print('y_train shape:', y_train_C.shape)\n",
        "print(\"input shape: \",input_shape)\n",
        "\n",
        "\n",
        "# CONVERT TO GRAY SCALE\n",
        "\n",
        "import matplotlib.pyplot as plt\n",
        "import numpy as np\n",
        "\n",
        "def grayscale(data, dtype='float32'):\n",
        "    # luma coding weighted average in video systems\n",
        "    r, g, b = np.asarray(.3, dtype=dtype), np.asarray(.59, dtype=dtype), np.asarray(.11, dtype=dtype)\n",
        "    rst = r * data[:, :, :, 0] + g * data[:, :, :, 1] + b * data[:, :, :, 2]\n",
        "    # add channel dimension\n",
        "    rst = np.expand_dims(rst, axis=3)\n",
        "    return rst\n",
        "\n",
        "x_train_C = grayscale(x_train_C)\n",
        "x_test_C = grayscale(x_test_C)\n",
        "\n",
        "# now we have only one channel in the images\n",
        "img_channels = 1\n",
        "\n"
      ],
      "execution_count": 5,
      "outputs": [
        {
          "output_type": "stream",
          "text": [
            "Downloading data from https://www.cs.toronto.edu/~kriz/cifar-10-python.tar.gz\n",
            "170500096/170498071 [==============================] - 4s 0us/step\n",
            "x_train shape: (50000, 32, 32, 3)\n",
            "50000 train samples\n",
            "10000 test samples\n",
            "x_train shape: (50000, 32, 32, 3)\n",
            "Number of images in x_train 50000\n",
            "Number of images in x_test 10000\n",
            "y_train shape: (50000, 10)\n",
            "input shape:  (32, 32, 1)\n"
          ],
          "name": "stdout"
        }
      ]
    },
    {
      "cell_type": "markdown",
      "metadata": {
        "id": "js4LsTuoHvIp",
        "colab_type": "text"
      },
      "source": [
        "# **LOAD/TRAIN MODEL**"
      ]
    },
    {
      "cell_type": "markdown",
      "metadata": {
        "id": "LelZQIyzH4tK",
        "colab_type": "text"
      },
      "source": [
        "1. SVM"
      ]
    },
    {
      "cell_type": "code",
      "metadata": {
        "id": "3wYAFggaHuOe",
        "colab_type": "code",
        "colab": {}
      },
      "source": [
        "'''svm = SVC(C=1, kernel='rbf')\n",
        "svm.fit(X, y)\n",
        "svm.score(X_t, y_t)\n",
        "save_model(svm)\n",
        "'''\n",
        "\n",
        "# first ran the function downstairs to initialize load_trained_model\n",
        "\n",
        "model = load_trained_model(\"SVC_model.sav\")\n"
      ],
      "execution_count": 0,
      "outputs": []
    },
    {
      "cell_type": "markdown",
      "metadata": {
        "id": "h9mdiOCcH7CW",
        "colab_type": "text"
      },
      "source": [
        "2. Original CNN\n",
        "\n",
        "The network from Petra's 2020 paper, from the Appendix. This network is used for training MNIST, and has training accuracy 0.9871, test accuracy 0.9907 . "
      ]
    },
    {
      "cell_type": "code",
      "metadata": {
        "id": "_IrmtUreH8pF",
        "colab_type": "code",
        "colab": {}
      },
      "source": [
        "# change labels to categorical before training\n",
        "num_classes=10\n",
        "y_train = to_categorical(y, num_classes)\n",
        "y_test = to_categorical(y_t, num_classes)\n",
        "\n",
        "# CNN from the Appendix of the 2020 paper \n",
        "\n",
        "\n",
        "inp = Input(shape=input_shape)\n",
        "conv1 = Conv2D(32, (3,3),activation='relu')(inp)\n",
        "conv2 = Conv2D(32, (3,3),activation='relu')(conv1)\n",
        "max_pool1 = MaxPooling2D(pool_size=(2, 2))(conv2)\n",
        "drop = Dropout(0.25)(max_pool1)\n",
        "flat =  Flatten()(drop)\n",
        "dense1 = Dense(128,activation=\"relu\")(flat)\n",
        "drop = Dropout(0.5)(dense1)\n",
        "predictions = Dense(10,activation=\"softmax\")(drop) # softmax layer \n",
        "model = Model(inputs=[inp], outputs=[predictions])\n",
        "\n",
        "model.summary() \n",
        "\n",
        "model.compile(optimizer='Adadelta', \n",
        "              loss='categorical_crossentropy', \n",
        "              metrics=['accuracy'])\n",
        "\n",
        "'''\n",
        "history = model.fit(x=x_train,y=y_train, epochs=10, validation_data=[x_test,y_test])\n",
        "\n",
        "score= model.evaluate(x_test, y_test,verbose=0)\n",
        "print('Test loss:', score[0])\n",
        "print('Test accuracy:', score[1])\n",
        "\n",
        "'''\n",
        "'''\n",
        "model.save_weights(\"CNN_MNIST.h5\")\n",
        "model.save(\"MNIST_CNN.h5\")\n",
        "'''\n"
      ],
      "execution_count": 0,
      "outputs": []
    },
    {
      "cell_type": "code",
      "metadata": {
        "id": "gP9xUD1xkQwG",
        "colab_type": "code",
        "colab": {}
      },
      "source": [
        "\n",
        "model = keras.models.load_model(\"MNIST_CNN.h5\")"
      ],
      "execution_count": 0,
      "outputs": []
    },
    {
      "cell_type": "markdown",
      "metadata": {
        "id": "Ow79O__nJxd1",
        "colab_type": "text"
      },
      "source": [
        "3. CNN v2\n",
        "\n",
        "This network is made for CIFAR 10. The network is taken from [this blog]( https://appliedmachinelearning.blog/2018/03/24/achieving-90-accuracy-in-object-recognition-task-on-cifar-10-dataset-with-keras-convolutional-neural-networks/) . In this version below I didn't use some things used in the blog e.g. z-score and data augmentation.\n",
        "\n",
        "\n",
        "This network has training accuracy: 0.8940 , validation accuracy: 0.8245.\n",
        "\n",
        "**NOTE:** Training really slow, try to avoid it.\n"
      ]
    },
    {
      "cell_type": "code",
      "metadata": {
        "id": "DjDjKgyWJwqY",
        "colab_type": "code",
        "colab": {
          "base_uri": "https://localhost:8080/",
          "height": 1000
        },
        "outputId": "4ecc7672-61b8-4935-9c52-2d69e6427d4a"
      },
      "source": [
        "# Network 3 \n",
        "import keras\n",
        "from keras.models import Sequential\n",
        "from keras.utils import np_utils\n",
        "from keras.preprocessing.image import ImageDataGenerator\n",
        "from keras.layers import Dense, Activation, Flatten, Dropout, BatchNormalization\n",
        "from keras.layers import Conv2D, MaxPooling2D\n",
        "from keras.datasets import cifar10\n",
        "from keras import regularizers\n",
        "from keras.callbacks import LearningRateScheduler\n",
        "import numpy as np\n",
        "\n",
        "weight_decay = 1e-4\n",
        "model = Sequential()\n",
        "model.add(Conv2D(32, (3,3), padding='same', kernel_regularizer=regularizers.l2(weight_decay), input_shape=input_shape))\n",
        "model.add(Activation('elu'))\n",
        "model.add(BatchNormalization())\n",
        "model.add(Conv2D(32, (3,3), padding='same', kernel_regularizer=regularizers.l2(weight_decay)))\n",
        "model.add(Activation('elu'))\n",
        "model.add(BatchNormalization())\n",
        "model.add(MaxPooling2D(pool_size=(2,2)))\n",
        "model.add(Dropout(0.2))\n",
        " \n",
        "model.add(Conv2D(64, (3,3), padding='same', kernel_regularizer=regularizers.l2(weight_decay)))\n",
        "model.add(Activation('elu'))\n",
        "model.add(BatchNormalization())\n",
        "model.add(Conv2D(64, (3,3), padding='same', kernel_regularizer=regularizers.l2(weight_decay)))\n",
        "model.add(Activation('elu'))\n",
        "model.add(BatchNormalization())\n",
        "model.add(MaxPooling2D(pool_size=(2,2)))\n",
        "model.add(Dropout(0.3))\n",
        " \n",
        "model.add(Conv2D(128, (3,3), padding='same', kernel_regularizer=regularizers.l2(weight_decay)))\n",
        "model.add(Activation('elu'))\n",
        "model.add(BatchNormalization())\n",
        "model.add(Conv2D(128, (3,3), padding='same', kernel_regularizer=regularizers.l2(weight_decay)))\n",
        "model.add(Activation('elu'))\n",
        "model.add(BatchNormalization())\n",
        "model.add(MaxPooling2D(pool_size=(2,2)))\n",
        "model.add(Dropout(0.4))\n",
        " \n",
        "model.add(Flatten())\n",
        "model.add(Dense(10, activation='softmax'))\n",
        " \n",
        "model.summary()\n",
        "\n",
        "\n",
        "model.compile(loss='categorical_crossentropy', optimizer='adam', metrics=['accuracy'])\n",
        "\n",
        "\n",
        "'''\n",
        "history = model.fit(x=x_train_C,y=y_train_C, epochs=150, batch_size=64, validation_data=[x_test_C,y_test_C])\n",
        "\n",
        "score= model.evaluate(x_test_C, y_test_C,verbose=0)\n",
        "print('Test loss:', score[0])\n",
        "print('Test accuracy:', score[1])\n",
        "\n",
        "model.save_weights(\"CNN_CIFAR10_net3.h5\")\n",
        "files.download('CNN_CIFAR10_net3.h5')\n",
        "'''\n",
        "\n",
        "model = load_model(\"CNN_CIFAR10_net3.h5\")"
      ],
      "execution_count": 6,
      "outputs": [
        {
          "output_type": "stream",
          "text": [
            "Model: \"sequential_1\"\n",
            "_________________________________________________________________\n",
            "Layer (type)                 Output Shape              Param #   \n",
            "=================================================================\n",
            "conv2d_1 (Conv2D)            (None, 32, 32, 32)        320       \n",
            "_________________________________________________________________\n",
            "activation_1 (Activation)    (None, 32, 32, 32)        0         \n",
            "_________________________________________________________________\n",
            "batch_normalization_1 (Batch (None, 32, 32, 32)        128       \n",
            "_________________________________________________________________\n",
            "conv2d_2 (Conv2D)            (None, 32, 32, 32)        9248      \n",
            "_________________________________________________________________\n",
            "activation_2 (Activation)    (None, 32, 32, 32)        0         \n",
            "_________________________________________________________________\n",
            "batch_normalization_2 (Batch (None, 32, 32, 32)        128       \n",
            "_________________________________________________________________\n",
            "max_pooling2d_1 (MaxPooling2 (None, 16, 16, 32)        0         \n",
            "_________________________________________________________________\n",
            "dropout_1 (Dropout)          (None, 16, 16, 32)        0         \n",
            "_________________________________________________________________\n",
            "conv2d_3 (Conv2D)            (None, 16, 16, 64)        18496     \n",
            "_________________________________________________________________\n",
            "activation_3 (Activation)    (None, 16, 16, 64)        0         \n",
            "_________________________________________________________________\n",
            "batch_normalization_3 (Batch (None, 16, 16, 64)        256       \n",
            "_________________________________________________________________\n",
            "conv2d_4 (Conv2D)            (None, 16, 16, 64)        36928     \n",
            "_________________________________________________________________\n",
            "activation_4 (Activation)    (None, 16, 16, 64)        0         \n",
            "_________________________________________________________________\n",
            "batch_normalization_4 (Batch (None, 16, 16, 64)        256       \n",
            "_________________________________________________________________\n",
            "max_pooling2d_2 (MaxPooling2 (None, 8, 8, 64)          0         \n",
            "_________________________________________________________________\n",
            "dropout_2 (Dropout)          (None, 8, 8, 64)          0         \n",
            "_________________________________________________________________\n",
            "conv2d_5 (Conv2D)            (None, 8, 8, 128)         73856     \n",
            "_________________________________________________________________\n",
            "activation_5 (Activation)    (None, 8, 8, 128)         0         \n",
            "_________________________________________________________________\n",
            "batch_normalization_5 (Batch (None, 8, 8, 128)         512       \n",
            "_________________________________________________________________\n",
            "conv2d_6 (Conv2D)            (None, 8, 8, 128)         147584    \n",
            "_________________________________________________________________\n",
            "activation_6 (Activation)    (None, 8, 8, 128)         0         \n",
            "_________________________________________________________________\n",
            "batch_normalization_6 (Batch (None, 8, 8, 128)         512       \n",
            "_________________________________________________________________\n",
            "max_pooling2d_3 (MaxPooling2 (None, 4, 4, 128)         0         \n",
            "_________________________________________________________________\n",
            "dropout_3 (Dropout)          (None, 4, 4, 128)         0         \n",
            "_________________________________________________________________\n",
            "flatten_1 (Flatten)          (None, 2048)              0         \n",
            "_________________________________________________________________\n",
            "dense_1 (Dense)              (None, 10)                20490     \n",
            "=================================================================\n",
            "Total params: 308,714\n",
            "Trainable params: 307,818\n",
            "Non-trainable params: 896\n",
            "_________________________________________________________________\n"
          ],
          "name": "stdout"
        }
      ]
    },
    {
      "cell_type": "markdown",
      "metadata": {
        "id": "6J3bNbWgEua_",
        "colab_type": "text"
      },
      "source": [
        "# **OPERATOR FUNCTIONS**"
      ]
    },
    {
      "cell_type": "code",
      "metadata": {
        "id": "TQuqZrKL4qqW",
        "colab_type": "code",
        "colab": {
          "base_uri": "https://localhost:8080/",
          "height": 53
        },
        "outputId": "5a4d5df5-7299-48c4-b70b-836d50402516"
      },
      "source": [
        "'''def euclidean(s):\n",
        "    # https://stackoverflow.com/questions/1401712/how-can-the-euclidean-distance-be-calculated-with-numpy\n",
        "    # pass s=a-b as argument to the function\n",
        "    return np.linalg.norm(s)\n",
        "\n",
        "def euc_fitness(individual, target, pred, label, l1=0.5, l2=0.5, N = 50, n_classes=10):\n",
        "    # petras fitness fucntion\n",
        "    return -(l1*euclidean(individual-target)/N + l2*euclidean(pred-label)/n_classes)\n",
        "'''\n",
        "\n",
        "def computing_SSIM(individual,target):\n",
        "    (score, diff) = compare_ssim(individual, target, full=True)\n",
        "    #diff = (diff * 255).astype(\"uint8\")\n",
        "    return score\n",
        "\n",
        "def ssim_fitness(individual, target, pred, label, l1=0.5, l2=0.5, N = 50, n_classes=10):\n",
        "    return -(l1*computing_SSIM(individual,target)/N + l2*computing_SSIM(pred,label)/n_classes)\n",
        "\n",
        "\n",
        "def pop_fitness(pop, target, predictions, label):\n",
        "    return [ssim_fitness(p, target, pred, label) for p, pred in zip(pop, predictions)]\n",
        "\n",
        "def flatten(imgs):\n",
        "    # flatten all images in np array or list\n",
        "    return np.array([im.flatten() for im in imgs])\n",
        "\n",
        "def gaussian_noise():\n",
        "    # draw one sample of noise from zero mean 1 variance Gaussian\n",
        "    return np.random.normal(0, np.sqrt(0.1))\n",
        "\n",
        "def add_noise(image):\n",
        "    return np.array([x + gaussian_noise() if P_MUTATION > np.random.uniform(0.0, 1.0) else x+0 for x in image])\n",
        "\n",
        "def k_crossover(im1, im2, k=2):\n",
        "    c1, c2 = [], []\n",
        "    # get k crossover points\n",
        "    points = sorted([np.random.randint(0, 783, 1) for p in range(k)])\n",
        "    im_1_split = np.split(im1, [int(p) for p in points])\n",
        "    im_2_split = np.split(im2, [int(p) for p in points])\n",
        "    \n",
        "    # alternate between lists to realise crossover (theres got to be a more clever way to do this)\n",
        "    for i in range(k+1):\n",
        "        if i % 2 == 0:\n",
        "            c1.append(im_1_split[i])\n",
        "            c2.append(im_2_split[i])\n",
        "        else:\n",
        "            c1.append(im_2_split[i])\n",
        "            c2.append(im_1_split[i])\n",
        "    return np.concatenate(c1, axis=0), np.concatenate(c2, axis=0)\n",
        "\n",
        "def tournament_selection(pop, preds, target_im, target_l, k=3):\n",
        "    # this function is bad, will fix someday\n",
        "    rep = False\n",
        "    pop = np.array(pop)\n",
        "    if pop.shape[0] < 3:\n",
        "        print('pop_size<3')\n",
        "        rep = True\n",
        "    tournament_indexes = np.random.choice(pop.shape[0], k, replace=rep)\n",
        "    candidates = pop[tournament_indexes]\n",
        "    preds_candidates = preds[tournament_indexes]\n",
        "    parent_scores = [euc_fitness(ind, target_im, p, target_l) for ind,p in zip(candidates, preds)]\n",
        "    cand = candidates[parent_scores.index(max(parent_scores))]\n",
        "    idx = np.where(np.isin(pop[:,1], cand))\n",
        "    return cand, idx[0][0]\n",
        "\n",
        "def check_adverserial(pop, preds, fitness, target):\n",
        "    for ind, pred, f in zip(pop, preds, fitness):\n",
        "        if pred == target and f < 0.01:\n",
        "            return ind\n",
        "        return None\n",
        "\n",
        "def init_pop(n, num, data, labels):\n",
        "    indices = np.where(labels==num)[0]\n",
        "    n_indices = np.random.choice(indices, n, replace=True)\n",
        "    sample = np.take(data, n_indices, axis=0)\n",
        "    return sample, np.full((n), num, dtype=int) # return sample+array of labels\n",
        "\n",
        "def init_pop_from_sample(n, num, data, labels):\n",
        "    indices = np.where(labels==num)[0]\n",
        "    index = np.random.choice(indices, 1)\n",
        "    sample = np.take(data, index, axis=0)\n",
        "    x = np.array([add_noise(sample) for i in range(n)])\n",
        "    return x.reshape(n, 784), sample\n",
        "'''\n",
        "Cyrils model\n",
        "\n",
        "def save_trained_model(model, filename='SVC_model.sav'):\n",
        "    pickle.dump(model, open(filename, 'wb'))\n",
        "    \n",
        "def load_trained_model(filename='SVC_model.sav'):\n",
        "    return pickle.load(open(filename, 'rb'))\n",
        "\n",
        "'''"
      ],
      "execution_count": 10,
      "outputs": [
        {
          "output_type": "execute_result",
          "data": {
            "text/plain": [
              "\"\\nCyrils model\\n\\ndef save_trained_model(model, filename='SVC_model.sav'):\\n    pickle.dump(model, open(filename, 'wb'))\\n    \\ndef load_trained_model(filename='SVC_model.sav'):\\n    return pickle.load(open(filename, 'rb'))\\n\\n\""
            ]
          },
          "metadata": {
            "tags": []
          },
          "execution_count": 10
        }
      ]
    },
    {
      "cell_type": "code",
      "metadata": {
        "id": "vFM_954yUPvm",
        "colab_type": "code",
        "colab": {}
      },
      "source": [
        "pop, gt = init_pop_from_sample(50,7,X,y)"
      ],
      "execution_count": 0,
      "outputs": []
    },
    {
      "cell_type": "code",
      "metadata": {
        "id": "h6p9XiAFZorW",
        "colab_type": "code",
        "outputId": "e1c06171-0869-45d7-b455-aec81990bff4",
        "colab": {
          "base_uri": "https://localhost:8080/",
          "height": 282
        }
      },
      "source": [
        "plt.imshow(pop[1].reshape(28,28))\n",
        "#plt.imshow(add_noise(X[0]).reshape(28,28))"
      ],
      "execution_count": 0,
      "outputs": [
        {
          "output_type": "execute_result",
          "data": {
            "text/plain": [
              "<matplotlib.image.AxesImage at 0x7fb1e2e66f60>"
            ]
          },
          "metadata": {
            "tags": []
          },
          "execution_count": 44
        },
        {
          "output_type": "display_data",
          "data": {
            "image/png": "[encoded data removed]",
            "text/plain": [
              "<Figure size 432x288 with 1 Axes>"
            ]
          },
          "metadata": {
            "tags": [],
            "needs_background": "light"
          }
        }
      ]
    },
    {
      "cell_type": "code",
      "metadata": {
        "id": "FOEo4wAfggNs",
        "colab_type": "code",
        "colab": {}
      },
      "source": [
        "''' my part of the code ''' \n",
        "''' I know it is ugly, I will fix it . this is the intial version'''\n",
        "# from Goorge Clooney paper\n",
        "def quadrant_crossover(parent_1,parent_2):\n",
        "\n",
        "  # reshape parents\n",
        "  parent_1,parent_2= parent_1.reshape((28,28)), parent_2.reshape((28,28))\n",
        "  # quadrants for both parents\n",
        "  p1,p2,p3,p4,q1,q2,q3,q4 = [],[],[],[],[],[],[],[]\n",
        "  child1, child2 = [],[]\n",
        "  # getting random (x,y) point in 2D matrix\n",
        "  x,y = np.random.randint(0,27), np.random.randint(0,27)  ## here to pun len of row and len of column \n",
        "\n",
        "  # choose which quadrant we want to crossover\n",
        "  N = np.random.randint(0,3)\n",
        "  #make quadrants\n",
        "  for i in range(28):\n",
        "    if (i<=x):\n",
        "      p1.append(parent_1[i][:y+1])\n",
        "      p2.append(parent_1[i][y+1:])\n",
        "      q1.append(parent_2[i][:y+1])\n",
        "      q2.append(parent_2[i][y+1:])\n",
        "    else:\n",
        "      p3.append(parent_1[i][:y+1])\n",
        "      p4.append(parent_1[i][y+1:])\n",
        "      q3.append(parent_2[i][:y+1])\n",
        "      q4.append(parent_2[i][y+1:])\n",
        "\n",
        "  helper=[]\n",
        "  if (N==0):\n",
        "    ch1 = connect_quadrants(p1,q2,q3,q4)\n",
        "    ch2 = connect_quadrants(q1,p2,p3,p4)\n",
        "  elif (N==1):\n",
        "    ch1 = connect_quadrants(q1,p2,q3,q4)\n",
        "    ch2 = connect_quadrants(p1,q2,p3,p4)\n",
        "  elif (N==2):\n",
        "    ch1 = connect_quadrants(q1,q2,p3,q4)\n",
        "    ch2 = connect_quadrants(p1,p2,q3,p4)\n",
        "  else:\n",
        "    ch1 = connect_quadrants(q1,q2,q3,p4)\n",
        "    ch2 = connect_quadrants(p1,p2,p3,q4)\n",
        "\n",
        "  return ch1,ch2\n",
        "\n",
        "def connect_quadrants(q1,q2,q3,q4):\n",
        "  left = np.concatenate((q1,q3))\n",
        "  right = np.concatenate((q2,q4))\n",
        "  image = np.concatenate((left,right),axis=1)\n",
        "  return flatten(image)\n",
        "\n",
        "\n",
        "def multi_crossover(parent1,parent2,target):\n",
        "  pop= []\n",
        "  # 2-k crossover\n",
        "  pop.append(k_crossover(parent1, parent2))\n",
        "  # Gorge Clooney crossover\n",
        "  pop.append(quadrant_crossover(parent1,parent2))\n",
        "  # uniform crossover\n",
        "  pop.append(k_crossover(parent1, parent2,1))\n",
        "  # SSIM similarity \n",
        "  flattened_list = [y for x in pop for y in x] # need to flatten the list because pop is list of lists, cause every crossover function returns 2 obj\n",
        "  ssim = [computing_SSIM(ind,target) for ind in flattened_list ]\n",
        "  ids = np.argpartition(sc, 2)[:2]\n",
        "   \n",
        "  return pop[ids[0]],pop[ids[1]]\n",
        "  \n"
      ],
      "execution_count": 0,
      "outputs": []
    },
    {
      "cell_type": "markdown",
      "metadata": {
        "id": "hZ3PRzI5S3cv",
        "colab_type": "text"
      },
      "source": [
        "# **THE MAIN FUNCTION**"
      ]
    },
    {
      "cell_type": "markdown",
      "metadata": {
        "id": "9UhN4JnaS5H7",
        "colab_type": "text"
      },
      "source": [
        "Flatten data before evolving"
      ]
    },
    {
      "cell_type": "code",
      "metadata": {
        "id": "vTFbwhIES82H",
        "colab_type": "code",
        "colab": {}
      },
      "source": [
        "X = flatten(x_train)\n",
        "X_t = flatten(x_test)"
      ],
      "execution_count": 0,
      "outputs": []
    },
    {
      "cell_type": "code",
      "metadata": {
        "id": "T-8hS44GPb2B",
        "colab_type": "code",
        "outputId": "5214be04-6761-42c3-a8aa-3838ce94d78a",
        "colab": {
          "base_uri": "https://localhost:8080/",
          "height": 83
        }
      },
      "source": [
        "print(f\"X train shape {X.shape}\")\n",
        "print(f\"X test shape {X_t.shape}\")\n",
        "print(f\"y train shape {y.shape}\")\n",
        "print(f\"y test shape {y_t.shape}\")\n"
      ],
      "execution_count": 12,
      "outputs": [
        {
          "output_type": "stream",
          "text": [
            "X train shape (60000, 784)\n",
            "X test shape (10000, 784)\n",
            "y train shape (60000,)\n",
            "y test shape (10000,)\n"
          ],
          "name": "stdout"
        }
      ]
    },
    {
      "cell_type": "code",
      "metadata": {
        "id": "I6RSbPhO4qqk",
        "colab_type": "code",
        "colab": {}
      },
      "source": [
        "def ga(num, data, labels, max_gen, target, individuals = INDIVIDUALS, p_cross = P_CROSS, p_mut = P_MUTATION):\n",
        "    \n",
        "    # initialize population by drawing 1 sample from passed dataset, automatically applies noise to all copies\n",
        "    # Then take predictions to calculate population fitness\n",
        "    pop, ground_truth = init_pop_from_sample(individuals, num, data, labels)\n",
        "    predictions = model.predict(pop)\n",
        "    fit_vals = pop_fitness(pop, ground_truth, predictions, target)\n",
        "\n",
        "    for gen in range(max_gen):\n",
        "        if gen % 10 == 0:\n",
        "            print(f'fitting gen: {gen}')\n",
        "            print(fit_vals)\n",
        "\n",
        "        adverserial = check_adverserial(pop, predictions, fit_vals, target)\n",
        "        if adverserial:\n",
        "            return adverserial\n",
        "        \n",
        "        new_pop = []\n",
        "        for i in range(individuals//2):\n",
        "                            \n",
        "            parent1, idx1 = tournament_selection(pop, predictions, ground_truth, target) \n",
        "            parent2, idx2 = tournament_selection(pop, predictions, ground_truth, target)\n",
        "            if p_cross > np.random.uniform(0.0, 1.0):\n",
        "                \n",
        "                #child1, child2 = np.array([]), np.array([])\n",
        "                child1, child2 = multi_crossover(parent1, parent2) # crossover\n",
        "                if p_mut > np.random.uniform(0.0, 1.0):\n",
        "                    child1, child2 = add_noise(child1), add_noise(child2) # apply mutation to pixels     \n",
        "                #if child1.size != 0:\n",
        "                new_pop.append(child1)\n",
        "                new_pop.append(child2)\n",
        "            else:\n",
        "                new_pop.append(parent1)\n",
        "                new_pop.append(parent2)\n",
        "            #print(len(pop))\n",
        "            #pop.pop(idx1[0])\n",
        "            #pop.pop(idx2[0])\n",
        "            if idx1 != idx2:\n",
        "                order = sorted([idx1, idx2], reverse = True)\n",
        "                pop = np.delete(pop, order[0], axis=0)\n",
        "                pop = np.delete(pop, order[1], axis=0)\n",
        "            else:\n",
        "                order = idx1\n",
        "                pop = np.delete(pop, order, axis=0)\n",
        "\n",
        "            print(order)\n",
        "            print(pop.shape)\n",
        "\n",
        "                \n",
        "        pop = np.array(new_pop)\n",
        "        predictions = model.predict(pop)\n",
        "        fit_vals = pop_fitness(pop, ground_truth, predictions, target)\n",
        "    return pop[fit_vals.index(max(fit_vals))]\n",
        "    \n",
        "start = time.process_time()\n",
        "adverserial = ga(7, X, y, 1, 1) #(num, data, labels, max_gen, target)\n",
        "print(time.process_time() - start)"
      ],
      "execution_count": 0,
      "outputs": []
    },
    {
      "cell_type": "markdown",
      "metadata": {
        "id": "mlXUrwAyQmI8",
        "colab_type": "text"
      },
      "source": [
        "# Examples of what functions do"
      ]
    },
    {
      "cell_type": "markdown",
      "metadata": {
        "id": "aAorNhd0QwcH",
        "colab_type": "text"
      },
      "source": [
        "1. Init population"
      ]
    },
    {
      "cell_type": "code",
      "metadata": {
        "id": "7EbQYpcsQz6F",
        "colab_type": "code",
        "outputId": "5ac538f0-72e1-4d75-d3f1-8132f6f7dc2f",
        "colab": {
          "base_uri": "https://localhost:8080/",
          "height": 67
        }
      },
      "source": [
        "print(X.shape)\n",
        "population,ground_truth = init_pop_from_sample(INDIVIDUALS, 7, X, y)"
      ],
      "execution_count": 0,
      "outputs": [
        {
          "output_type": "stream",
          "text": [
            "(60000, 784)\n",
            "(1, 784)\n",
            "(50, 1, 784)\n"
          ],
          "name": "stdout"
        }
      ]
    },
    {
      "cell_type": "code",
      "metadata": {
        "id": "0oNMnIxnjq3K",
        "colab_type": "code",
        "colab": {}
      },
      "source": [
        "ground_truth"
      ],
      "execution_count": 0,
      "outputs": []
    },
    {
      "cell_type": "code",
      "metadata": {
        "id": "fNoq_jRhjUfw",
        "colab_type": "code",
        "outputId": "fe48fe5e-fe58-4278-b418-0f545457bb72",
        "colab": {
          "base_uri": "https://localhost:8080/",
          "height": 282
        }
      },
      "source": [
        "plt.imshow(population[19].reshape(28,28))"
      ],
      "execution_count": 0,
      "outputs": [
        {
          "output_type": "execute_result",
          "data": {
            "text/plain": [
              "<matplotlib.image.AxesImage at 0x7fb1e32cf8d0>"
            ]
          },
          "metadata": {
            "tags": []
          },
          "execution_count": 38
        },
        {
          "output_type": "display_data",
          "data": {
            "image/png": "[encoded data removed]",
            "text/plain": [
              "<Figure size 432x288 with 1 Axes>"
            ]
          },
          "metadata": {
            "tags": [],
            "needs_background": "light"
          }
        }
      ]
    },
    {
      "cell_type": "code",
      "metadata": {
        "id": "3evGb3LHjkmg",
        "colab_type": "code",
        "colab": {}
      },
      "source": [
        "population[19]-population[15]"
      ],
      "execution_count": 0,
      "outputs": []
    },
    {
      "cell_type": "code",
      "metadata": {
        "id": "0GKNUoVX4qqi",
        "colab_type": "code",
        "outputId": "0cb43704-9688-4494-aba1-662a17b9c5b0",
        "colab": {
          "base_uri": "https://localhost:8080/",
          "height": 217
        }
      },
      "source": [
        "# examples of noise\n",
        "fig, ax = plt.subplots(1,2)\n",
        "ax[0].imshow(X[1].reshape(28,28)) \n",
        "ax[1].imshow(add_noise(X[1]).reshape(28,28))"
      ],
      "execution_count": 0,
      "outputs": [
        {
          "output_type": "execute_result",
          "data": {
            "text/plain": [
              "<matplotlib.image.AxesImage at 0x7f38f4b73f60>"
            ]
          },
          "metadata": {
            "tags": []
          },
          "execution_count": 30
        },
        {
          "output_type": "display_data",
          "data": {
            "image/png": "[encoded data removed]",
            "text/plain": [
              "<Figure size 432x288 with 2 Axes>"
            ]
          },
          "metadata": {
            "tags": [],
            "needs_background": "light"
          }
        }
      ]
    },
    {
      "cell_type": "code",
      "metadata": {
        "id": "5_qkUDuf4qqn",
        "colab_type": "code",
        "outputId": "7abe5201-0aa7-4108-d4ef-8903b2f90b2e",
        "colab": {}
      },
      "source": [
        "plt.imshow(adverserial.reshape(28,28))"
      ],
      "execution_count": 0,
      "outputs": [
        {
          "output_type": "execute_result",
          "data": {
            "text/plain": [
              "<matplotlib.image.AxesImage at 0x191007d0828>"
            ]
          },
          "metadata": {
            "tags": []
          },
          "execution_count": 10
        },
        {
          "output_type": "display_data",
          "data": {
            "image/png": "[encoded data removed]",
            "text/plain": [
              "<Figure size 432x288 with 1 Axes>"
            ]
          },
          "metadata": {
            "tags": [],
            "needs_background": "light"
          }
        }
      ]
    },
    {
      "cell_type": "code",
      "metadata": {
        "id": "BhPPgZiJ4qqp",
        "colab_type": "code",
        "outputId": "bb2d3e3b-3957-4f25-d248-467a8f85fe29",
        "colab": {}
      },
      "source": [
        "model.predict(adverserial.reshape(1,-1))"
      ],
      "execution_count": 0,
      "outputs": [
        {
          "output_type": "execute_result",
          "data": {
            "text/plain": [
              "array([7], dtype=uint8)"
            ]
          },
          "metadata": {
            "tags": []
          },
          "execution_count": 12
        }
      ]
    },
    {
      "cell_type": "code",
      "metadata": {
        "id": "2x9Ldjl64qqr",
        "colab_type": "code",
        "colab": {}
      },
      "source": [
        "'''\n",
        "\n",
        "Cyril's part\n",
        "\n",
        "from deap import algorithms\n",
        "from deap import base\n",
        "from deap import creator\n",
        "from deap import tools\n",
        "\n",
        "creator.create(\"FitnessMax\", base.Fitness, weights=(1.0,))\n",
        "creator.create(\"Individual\", np.ndarray, typecode=\"d\", fitness=creator.FitnessMax, strategy=None)\n",
        "creator.create(\"Strategy\", np.ndarray, typecode=\"d\")\n",
        "\n",
        "tbx = base.Toolbox()\n",
        "INDIVIDUAL_SIZE = 784\n",
        "\n",
        "\n",
        "tbx.register(\"attr_int\", random.randint, 0, 1)\n",
        "tbx.register(\"individual\", \n",
        "             tools.initRepeat, \n",
        "             creator.Individual,\n",
        "             tbx.attr_int, \n",
        "             n=INDIVIDUAL_SIZE)\n",
        "tbx.register(\"population\", tools.initRepeat, list, tbx.individual)\n",
        "tbx.register(\"evaluate\", EOQ)\n",
        "tbx.register(\"mate\", tools.cxOnePoint)\n",
        "tbx.register(\"mutate\", tools.mutFlipBit, indpb=0.01)\n",
        "tbx.register(\"select\", tools.selTournament, tournsize=5)\n",
        "\n",
        "'''"
      ],
      "execution_count": 0,
      "outputs": []
    },
    {
      "cell_type": "code",
      "metadata": {
        "id": "rVHQhxoi4qqw",
        "colab_type": "code",
        "colab": {}
      },
      "source": [
        ""
      ],
      "execution_count": 0,
      "outputs": []
    }
  ]
}