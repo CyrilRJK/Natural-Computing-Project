{
 "cells": [
  {
   "cell_type": "markdown",
   "metadata": {},
   "source": [
    "# References"
   ]
  },
  {
   "cell_type": "markdown",
   "metadata": {},
   "source": [
    "The RBF Neural Network is based on the implementation of [this github repo](https://github.com/darecophoenixx/wordroid.sblo.jp/tree/master/lib/keras_ex/gkernel)\n",
    "\n",
    "\n",
    "Also, to train the MNIST dataset, [his example of digit recognizer](https://www.kaggle.com/wordroid/keras-rbf-layer-quick-start) is heavily used.\n",
    "\n",
    "\n"
   ]
  },
  {
   "cell_type": "markdown",
   "metadata": {},
   "source": [
    "Links (if you cannot open):\n",
    "* https://github.com/darecophoenixx/wordroid.sblo.jp/tree/master/lib/keras_ex/gkernel\n",
    "* https://www.kaggle.com/wordroid/keras-rbf-layer-quick-start"
   ]
  },
  {
   "cell_type": "markdown",
   "metadata": {},
   "source": [
    "# Install the Library"
   ]
  },
  {
   "cell_type": "code",
   "execution_count": null,
   "metadata": {
    "_cell_guid": "b1076dfc-b9ad-4769-8c92-a6c4dae69d19",
    "_kg_hide-output": true,
    "_uuid": "8f2839f25d086af736a60e9eeb907d3b93b6e0e5"
   },
   "outputs": [],
   "source": [
    "!pip install git+https://github.com/darecophoenixx/wordroid.sblo.jp"
   ]
  },
  {
   "cell_type": "markdown",
   "metadata": {},
   "source": [
    "# Keras and tf versions"
   ]
  },
  {
   "cell_type": "code",
   "execution_count": null,
   "metadata": {},
   "outputs": [],
   "source": [
    "import keras\n",
    "keras.__version__"
   ]
  },
  {
   "cell_type": "code",
   "execution_count": null,
   "metadata": {},
   "outputs": [],
   "source": [
    "import tensorflow as tf\n",
    "tf.__version__"
   ]
  },
  {
   "cell_type": "markdown",
   "metadata": {},
   "source": [
    "# Other libraries that are used"
   ]
  },
  {
   "cell_type": "code",
   "execution_count": null,
   "metadata": {
    "_cell_guid": "79c7e3d0-c299-4dcb-8224-4455121ee9b0",
    "_uuid": "d629ff2d2480ee46fbb7e2d37f6b5fab8052498a"
   },
   "outputs": [],
   "source": [
    "%matplotlib inline\n",
    "from IPython.display import SVG\n",
    "from keras.utils.vis_utils import model_to_dot\n",
    "from sklearn.metrics import accuracy_score\n",
    "import numpy as np\n",
    "import pandas as pd\n",
    "import matplotlib.pyplot as plt\n",
    "import seaborn as sns\n",
    "from keras.utils import to_categorical\n",
    "import tensorflow as tf\n",
    "from keras_ex.gkernel import GaussianKernel, GaussianKernel2, GaussianKernel3\n",
    "from keras.layers import Input, Dense\n",
    "from keras.models import Model\n",
    "from sklearn.metrics import confusion_matrix\n",
    "from sklearn.metrics import precision_recall_fscore_support"
   ]
  },
  {
   "cell_type": "markdown",
   "metadata": {},
   "source": [
    "# Get MNIST data and normalize"
   ]
  },
  {
   "cell_type": "code",
   "execution_count": null,
   "metadata": {},
   "outputs": [],
   "source": [
    "(X, y), (X_test, y_test) = tf.keras.datasets.mnist.load_data()"
   ]
  },
  {
   "cell_type": "code",
   "execution_count": null,
   "metadata": {},
   "outputs": [],
   "source": [
    "X = X.reshape((X.shape[0], -1))\n",
    "X_sc = X / 255.0\n",
    "X_sc.shape\n",
    "y_cat = to_categorical(y)"
   ]
  },
  {
   "cell_type": "code",
   "execution_count": null,
   "metadata": {},
   "outputs": [],
   "source": [
    "X_test = X_test.reshape((X_test.shape[0], -1))\n",
    "X_test_sc = X_test / 255.0\n"
   ]
  },
  {
   "cell_type": "markdown",
   "metadata": {},
   "source": [
    " # Choose landmarks "
   ]
  },
  {
   "cell_type": "code",
   "execution_count": null,
   "metadata": {},
   "outputs": [],
   "source": [
    "'''\n",
    "chose landmarks from sample\n",
    "pick 10 data each digit\n",
    "'''\n",
    "np.random.seed(0)\n",
    "num_lm0 = 100\n",
    "num_lm = num_lm0 * 10\n",
    "init_list = []\n",
    "for ii in range(10):\n",
    "    init_wgt0 = X_sc[y==ii]\n",
    "    init_wgt0 = init_wgt0[np.random.choice(range(init_wgt0.shape[0]), size=num_lm0, replace=False)] + \\\n",
    "                np.random.normal(scale=0.01, size=num_lm0*784).reshape(num_lm0, 784)\n",
    "    init_list.append(init_wgt0)\n",
    "init_wgt = np.vstack(init_list)\n",
    "init_wgt = init_wgt[np.random.permutation(range(init_wgt.shape[0]))]\n",
    "init_wgt.shape"
   ]
  },
  {
   "cell_type": "markdown",
   "metadata": {},
   "source": [
    "# Construct the model"
   ]
  },
  {
   "cell_type": "code",
   "execution_count": null,
   "metadata": {},
   "outputs": [],
   "source": [
    "\n",
    "\n",
    "np.random.seed(0)\n",
    "\n",
    "inp = Input(shape=(28*28,), name='inp')\n",
    "oup = GaussianKernel(num_lm, 28*28,\n",
    "                     kernel_gamma='auto', weights=[init_wgt],\n",
    "                     name='gkernel1')(inp)\n",
    "oup = Dense(10, activation='softmax')(oup)\n",
    "model = Model(inp, oup)\n",
    "model.compile(loss='categorical_crossentropy', optimizer='adam', metrics=['accuracy'])\n",
    "\n",
    "model.summary()"
   ]
  },
  {
   "cell_type": "markdown",
   "metadata": {},
   "source": [
    "# Train the model"
   ]
  },
  {
   "cell_type": "code",
   "execution_count": null,
   "metadata": {},
   "outputs": [],
   "source": [
    "model.fit(X_sc, y_cat, verbose=1,batch_size=500,epochs=250)"
   ]
  },
  {
   "cell_type": "markdown",
   "metadata": {},
   "source": [
    "# Predict and Analyse"
   ]
  },
  {
   "cell_type": "code",
   "execution_count": null,
   "metadata": {},
   "outputs": [],
   "source": [
    "y_pred_test = model.predict(X_test_sc)\n",
    "y_pred_train = model.predict(X_sc)"
   ]
  },
  {
   "cell_type": "code",
   "execution_count": null,
   "metadata": {},
   "outputs": [],
   "source": [
    "print(\"Training accuracy: \",accuracy_score(y,np.argmax(y_pred_train,axis=1)))\n",
    "print(\"Test accuracy: \",accuracy_score(y_test,np.argmax(y_pred_test,axis=1)))"
   ]
  },
  {
   "cell_type": "code",
   "execution_count": null,
   "metadata": {},
   "outputs": [],
   "source": [
    "print(\"Conf matrix train:\\n \",confusion_matrix(y,np.argmax(y_pred_train,axis=1)))\n",
    "print(\"Conf matrix test:\\n \",confusion_matrix(y_test,np.argmax(y_pred_test,axis=1)))"
   ]
  },
  {
   "cell_type": "code",
   "execution_count": null,
   "metadata": {},
   "outputs": [],
   "source": [
    "print(\"PRFS train:\\n\",precision_recall_fscore_support(y,np.argmax(y_pred_train,axis=1)))\n",
    "print(\"PRFS test:\\n\",precision_recall_fscore_support(y_test,np.argmax(y_pred_test,axis=1)))"
   ]
  },
  {
   "cell_type": "markdown",
   "metadata": {},
   "source": [
    "# Save and Load the Model"
   ]
  },
  {
   "cell_type": "code",
   "execution_count": null,
   "metadata": {},
   "outputs": [],
   "source": [
    "model.save_weights(\"rbfnn.h5\")"
   ]
  },
  {
   "cell_type": "code",
   "execution_count": null,
   "metadata": {},
   "outputs": [],
   "source": [
    "inp2 = Input(shape=(28*28,), name='inp')\n",
    "oup2 = GaussianKernel(num_lm, 28*28,\n",
    "                     kernel_gamma='auto', weights=[init_wgt],\n",
    "                     name='gkernel1')(inp2)\n",
    "oup2 = Dense(10, activation='softmax')(oup2)\n",
    "model2 = Model(inp2, oup2)\n",
    "model2.compile(loss='categorical_crossentropy', optimizer='adam', metrics=['accuracy'])"
   ]
  },
  {
   "cell_type": "code",
   "execution_count": null,
   "metadata": {},
   "outputs": [],
   "source": [
    "model2.load_weights(\"rbfnn.h5\")"
   ]
  },
  {
   "cell_type": "code",
   "execution_count": null,
   "metadata": {},
   "outputs": [],
   "source": [
    "y_pred_test = model2.predict(X_test_sc)\n",
    "y_pred_train = model2.predict(X_sc)"
   ]
  },
  {
   "cell_type": "code",
   "execution_count": null,
   "metadata": {},
   "outputs": [],
   "source": [
    "print(\"Training accuracy: \",accuracy_score(y,np.argmax(y_pred_train,axis=1)))\n",
    "print(\"Test accuracy: \",accuracy_score(y_test,np.argmax(y_pred_test,axis=1)))"
   ]
  }
 ],
 "metadata": {
  "kernelspec": {
   "display_name": "Python 3",
   "language": "python",
   "name": "python3"
  },
  "language_info": {
   "codemirror_mode": {
    "name": "ipython",
    "version": 3
   },
   "file_extension": ".py",
   "mimetype": "text/x-python",
   "name": "python",
   "nbconvert_exporter": "python",
   "pygments_lexer": "ipython3",
   "version": "3.7.3"
  }
 },
 "nbformat": 4,
 "nbformat_minor": 4
}
