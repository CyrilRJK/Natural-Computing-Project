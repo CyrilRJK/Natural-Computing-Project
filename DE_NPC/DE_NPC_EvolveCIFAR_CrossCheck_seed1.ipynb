{
  "nbformat": 4,
  "nbformat_minor": 0,
  "metadata": {
    "colab": {
      "name": "DE_NPC_EvolveCIFAR_CrossCheck_seed1.ipynb",
      "provenance": [],
      "collapsed_sections": []
    },
    "kernelspec": {
      "name": "python3",
      "display_name": "Python 3"
    }
  },
  "cells": [
    {
      "cell_type": "markdown",
      "metadata": {
        "id": "8hooBNi2Ksg5",
        "colab_type": "text"
      },
      "source": [
        "#Files needed\n",
        "* CNN_CIFAR10_net3.h5\n",
        "* adv_de_cnn_cifar_part1_seed1\n",
        "* adv_de_cnn_cifar_part2_seed1\n",
        "* subset_cifar"
      ]
    },
    {
      "cell_type": "markdown",
      "metadata": {
        "id": "nE5Auha7PfEN",
        "colab_type": "text"
      },
      "source": [
        "# Import Libraries"
      ]
    },
    {
      "cell_type": "code",
      "metadata": {
        "id": "YXLVeeWILd_L",
        "colab_type": "code",
        "outputId": "401b8dcf-06ed-4e31-9f35-4a935f6c0318",
        "colab": {
          "base_uri": "https://localhost:8080/",
          "height": 88
        }
      },
      "source": [
        "%matplotlib inline\n",
        "from IPython.display import SVG\n",
        "from keras.utils.vis_utils import model_to_dot\n",
        "from sklearn.metrics import accuracy_score\n",
        "import numpy as np\n",
        "import pandas as pd\n",
        "import matplotlib.pyplot as plt\n",
        "import seaborn as sns\n",
        "from keras.utils import to_categorical\n",
        "import tensorflow as tf\n",
        "from keras.layers import Input, Dense\n",
        "from keras.models import Model\n",
        "from sklearn.metrics import confusion_matrix\n",
        "from sklearn.metrics import precision_recall_fscore_support\n",
        "from scipy.stats import cauchy \n",
        "from scipy import stats\n",
        "import operator\n",
        "import random\n",
        "from sklearn.metrics import accuracy_score\n",
        "from skimage.measure import compare_ssim as ssim\n",
        "import pickle\n",
        "import cv2\n",
        "from keras.layers import Dense, Conv2D, Dropout, Flatten, MaxPooling2D, Input, Activation\n",
        "\n",
        "#Set seeds\n",
        "random.seed(0)\n",
        "np.random.seed(0)"
      ],
      "execution_count": 1,
      "outputs": [
        {
          "output_type": "stream",
          "text": [
            "Using TensorFlow backend.\n",
            "/usr/local/lib/python3.6/dist-packages/statsmodels/tools/_testing.py:19: FutureWarning: pandas.util.testing is deprecated. Use the functions in the public API at pandas.testing instead.\n",
            "  import pandas.util.testing as tm\n"
          ],
          "name": "stderr"
        }
      ]
    },
    {
      "cell_type": "markdown",
      "metadata": {
        "id": "F_ZUuCXNPhPZ",
        "colab_type": "text"
      },
      "source": [
        "# Get the data from pickle files"
      ]
    },
    {
      "cell_type": "code",
      "metadata": {
        "id": "RRB8cQc5LVkA",
        "colab_type": "code",
        "colab": {}
      },
      "source": [
        "\n",
        "original = None\n",
        "adversarial = None \n",
        "original_y = None\n",
        "adversarial_y = None\n",
        "adversarial_cnn_1 = None\n",
        "adversarial_cnn_y_1  = None\n",
        "adversarial_cnn_2 = None\n",
        "adversarial_cnn_y_2  = None\n",
        "times1 = None\n",
        "times2 = None\n",
        "nfes1 = None\n",
        "nfes2 = None\n",
        "psnrs1 = None\n",
        "psnrs2 = None\n",
        "\n",
        "with open('subset_cifar', 'rb') as f:\n",
        "    original = pickle.load(f)\n",
        "    adversarial= pickle.load(f)\n",
        "    original_y = pickle.load(f)\n",
        "    adversarial_y = pickle.load(f)\n",
        "\n",
        "with open('adv_de_cnn_cifar_part1_seed1', 'rb') as f:\n",
        "    adversarial_cnn_1 = pickle.load(f)\n",
        "    times1 = pickle.load(f)\n",
        "    nfes1 = pickle.load(f)\n",
        "    psnrs1 = pickle.load(f)\n",
        "    adversarial_cnn_y_1= pickle.load(f)\n",
        "\n",
        "with open('adv_de_cnn_cifar_part2_seed1', 'rb') as f:\n",
        "    adversarial_cnn_2 = pickle.load(f)\n",
        "    times2 = pickle.load(f)\n",
        "    nfes2 = pickle.load(f)\n",
        "    psnrs2 = pickle.load(f)\n",
        "    adversarial_cnn_y_2= pickle.load(f)"
      ],
      "execution_count": 0,
      "outputs": []
    },
    {
      "cell_type": "code",
      "metadata": {
        "id": "HcCG2Y9MoVKd",
        "colab_type": "code",
        "colab": {
          "base_uri": "https://localhost:8080/",
          "height": 51
        },
        "outputId": "0a464bde-44b9-414c-bc73-d865c63612fc"
      },
      "source": [
        "times = times1 + times2\n",
        "nfes = nfes1 + nfes2\n",
        "print(np.around(np.mean(times),3), \"+-\" ,np.around(np.std(times),3),\"(\" ,np.around(np.min(times),3), \",\",\n",
        "                                                                                        np.around(np.max(times),3),\")\")\n",
        "print(np.around(np.mean(nfes),3), \"+-\" ,np.around(np.std(nfes),3),\"(\" ,np.around(np.min(nfes),3), \",\",\n",
        "                                                                                        np.around(np.max(nfes),3),\")\")"
      ],
      "execution_count": 21,
      "outputs": [
        {
          "output_type": "stream",
          "text": [
            "335.128 +- 105.796 ( 13.803 , 563.824 )\n",
            "1237.526 +- 399.686 ( 50 , 2199 )\n"
          ],
          "name": "stdout"
        }
      ]
    },
    {
      "cell_type": "code",
      "metadata": {
        "id": "Bphn0P11pZ4l",
        "colab_type": "code",
        "colab": {
          "base_uri": "https://localhost:8080/",
          "height": 34
        },
        "outputId": "df8ad68e-37ac-46b8-969c-427808d486b8"
      },
      "source": [
        "len(times)"
      ],
      "execution_count": 23,
      "outputs": [
        {
          "output_type": "execute_result",
          "data": {
            "text/plain": [
              "133"
            ]
          },
          "metadata": {
            "tags": []
          },
          "execution_count": 23
        }
      ]
    },
    {
      "cell_type": "code",
      "metadata": {
        "id": "cBSoLkqapHDz",
        "colab_type": "code",
        "colab": {}
      },
      "source": [
        "adversarial_cnn_y = adversarial_cnn_y_1 + adversarial_cnn_y_2"
      ],
      "execution_count": 0,
      "outputs": []
    },
    {
      "cell_type": "code",
      "metadata": {
        "id": "AVRavwv0oxEe",
        "colab_type": "code",
        "colab": {}
      },
      "source": [
        "adversarial_cnn = np.concatenate((adversarial_cnn_1[:91],adversarial_cnn_2[91:]),axis=0)"
      ],
      "execution_count": 0,
      "outputs": []
    },
    {
      "cell_type": "code",
      "metadata": {
        "id": "TshzU6BvMlxm",
        "colab_type": "code",
        "outputId": "d092d8da-dfa5-4863-d022-1de77677776b",
        "colab": {
          "base_uri": "https://localhost:8080/",
          "height": 34
        }
      },
      "source": [
        "original.shape"
      ],
      "execution_count": 0,
      "outputs": [
        {
          "output_type": "execute_result",
          "data": {
            "text/plain": [
              "(914, 32, 32, 1)"
            ]
          },
          "metadata": {
            "tags": []
          },
          "execution_count": 3
        }
      ]
    },
    {
      "cell_type": "code",
      "metadata": {
        "id": "yupwYCOIMnj-",
        "colab_type": "code",
        "outputId": "972932cc-7447-457e-da89-de904b6baa4d",
        "colab": {
          "base_uri": "https://localhost:8080/",
          "height": 34
        }
      },
      "source": [
        "adversarial.shape"
      ],
      "execution_count": 0,
      "outputs": [
        {
          "output_type": "execute_result",
          "data": {
            "text/plain": [
              "(133, 32, 32, 1)"
            ]
          },
          "metadata": {
            "tags": []
          },
          "execution_count": 4
        }
      ]
    },
    {
      "cell_type": "code",
      "metadata": {
        "id": "yNito6stMqtk",
        "colab_type": "code",
        "outputId": "37919253-a7b9-49b6-ea09-9d43ed583a02",
        "colab": {
          "base_uri": "https://localhost:8080/",
          "height": 34
        }
      },
      "source": [
        "adversarial_cnn.shape"
      ],
      "execution_count": 0,
      "outputs": [
        {
          "output_type": "execute_result",
          "data": {
            "text/plain": [
              "(133, 32, 32, 1)"
            ]
          },
          "metadata": {
            "tags": []
          },
          "execution_count": 5
        }
      ]
    },
    {
      "cell_type": "markdown",
      "metadata": {
        "id": "xGybq-8PPkKe",
        "colab_type": "text"
      },
      "source": [
        "# Calculate PSNR and SSIM and Euclidean"
      ]
    },
    {
      "cell_type": "code",
      "metadata": {
        "id": "GTE8H1uwMuLt",
        "colab_type": "code",
        "colab": {}
      },
      "source": [
        "psnrs_cnn = []\n",
        "for i in range(adversarial.shape[0]):\n",
        "  psnrs_cnn.append(cv2.PSNR(adversarial[i].reshape(32,32), adversarial_cnn[i].reshape(32,32)))"
      ],
      "execution_count": 0,
      "outputs": []
    },
    {
      "cell_type": "code",
      "metadata": {
        "id": "KRRf_ZieNB64",
        "colab_type": "code",
        "outputId": "e52e9758-c00d-4861-97fd-60bd0cb160e7",
        "colab": {
          "base_uri": "https://localhost:8080/",
          "height": 34
        }
      },
      "source": [
        "#double check GeeksForGeeks psnr\n",
        "print(np.around(np.mean(psnrs_cnn),3), \"+-\" ,np.around(np.std(psnrs_cnn),3),\"(\" ,np.around(np.min(psnrs_cnn),3), \",\",\n",
        "                                                                                        np.around(np.max(psnrs_cnn),3),\")\")"
      ],
      "execution_count": 32,
      "outputs": [
        {
          "output_type": "stream",
          "text": [
            "22.16 +- 5.032 ( 10.549 , 31.507 )\n"
          ],
          "name": "stdout"
        }
      ]
    },
    {
      "cell_type": "code",
      "metadata": {
        "id": "dyk9pcPkOpl_",
        "colab_type": "code",
        "outputId": "1fd4cd0d-f801-432b-87a4-634837c306b1",
        "colab": {
          "base_uri": "https://localhost:8080/",
          "height": 71
        }
      },
      "source": [
        "ssims_cnn = []\n",
        "for i in range(adversarial.shape[0]):\n",
        "  ssims_cnn.append(ssim(adversarial[i].reshape(32,32), adversarial_cnn[i].reshape(32,32)))"
      ],
      "execution_count": 33,
      "outputs": [
        {
          "output_type": "stream",
          "text": [
            "/usr/local/lib/python3.6/dist-packages/ipykernel_launcher.py:3: UserWarning: DEPRECATED: skimage.measure.compare_ssim has been moved to skimage.metrics.structural_similarity. It will be removed from skimage.measure in version 0.18.\n",
            "  This is separate from the ipykernel package so we can avoid doing imports until\n"
          ],
          "name": "stderr"
        }
      ]
    },
    {
      "cell_type": "code",
      "metadata": {
        "id": "VgkiH2cVPCaP",
        "colab_type": "code",
        "outputId": "ed496033-7da2-40cf-f045-9efcedbef246",
        "colab": {
          "base_uri": "https://localhost:8080/",
          "height": 34
        }
      },
      "source": [
        "print(np.around(np.mean(ssims_cnn),3), \"+-\" ,np.around(np.std(ssims_cnn),3),\"(\" ,np.around(np.min(ssims_cnn),3), \",\",\n",
        "                                                                                        np.around(np.max(ssims_cnn),3),\")\")"
      ],
      "execution_count": 34,
      "outputs": [
        {
          "output_type": "stream",
          "text": [
            "0.715 +- 0.186 ( 0.158 , 0.948 )\n"
          ],
          "name": "stdout"
        }
      ]
    },
    {
      "cell_type": "code",
      "metadata": {
        "id": "T3HR9NBPEcGh",
        "colab_type": "code",
        "colab": {}
      },
      "source": [
        "# https://stackoverflow.com/questions/1401712/how-can-the-euclidean-distance-be-calculated-with-numpy\n",
        "def euclidean(s):\n",
        "    # pass s=a-b as argument to the function\n",
        "    return np.linalg.norm(s)"
      ],
      "execution_count": 0,
      "outputs": []
    },
    {
      "cell_type": "code",
      "metadata": {
        "id": "7PW8Ui0xENAu",
        "colab_type": "code",
        "colab": {}
      },
      "source": [
        "eucs_cnn = []\n",
        "for i in range(adversarial.shape[0]):\n",
        "  eucs_cnn.append(euclidean(adversarial[i].reshape(32,32) -  adversarial_cnn[i].reshape(32,32)))"
      ],
      "execution_count": 0,
      "outputs": []
    },
    {
      "cell_type": "code",
      "metadata": {
        "id": "bcm9HuMGEqhZ",
        "colab_type": "code",
        "outputId": "5675b1f7-31df-4220-9e68-015c06c1fc61",
        "colab": {
          "base_uri": "https://localhost:8080/",
          "height": 34
        }
      },
      "source": [
        "print(np.around(np.mean(eucs_cnn),3), \"+-\" ,np.around(np.std(eucs_cnn),3),\"(\" ,np.around(np.min(eucs_cnn),3), \",\",\n",
        "                                                                                        np.around(np.max(eucs_cnn),3),\")\")"
      ],
      "execution_count": 37,
      "outputs": [
        {
          "output_type": "stream",
          "text": [
            "760.248 +- 495.515 ( 216.944 , 2422.234 )\n"
          ],
          "name": "stdout"
        }
      ]
    },
    {
      "cell_type": "markdown",
      "metadata": {
        "id": "RHouM73GSS1g",
        "colab_type": "text"
      },
      "source": [
        "# Prepare Date"
      ]
    },
    {
      "cell_type": "code",
      "metadata": {
        "id": "6MnC4qqSP2GF",
        "colab_type": "code",
        "colab": {}
      },
      "source": [
        "#Normalize images\n",
        "original_sc = original        /255.0\n",
        "adversarial_sc = adversarial     /255.0 \n",
        "adversarial_cnn_sc = adversarial_cnn /255.0"
      ],
      "execution_count": 0,
      "outputs": []
    },
    {
      "cell_type": "markdown",
      "metadata": {
        "id": "gAiPcj7wR7Lj",
        "colab_type": "text"
      },
      "source": [
        "# Predict Using CNN"
      ]
    },
    {
      "cell_type": "code",
      "metadata": {
        "id": "eb6nKQIOSFpI",
        "colab_type": "code",
        "colab": {}
      },
      "source": [
        "from keras.models import load_model\n",
        "model = load_model(\"CNN_CIFAR10_net3.h5\")"
      ],
      "execution_count": 0,
      "outputs": []
    },
    {
      "cell_type": "code",
      "metadata": {
        "id": "6-x3TZFQSYiQ",
        "colab_type": "code",
        "colab": {}
      },
      "source": [
        "#Get predictions\n",
        "cnn_pred_original = model.predict(original_sc)\n",
        "cnn_pred_adversarial = model.predict(adversarial_sc)\n",
        "cnn_pred_adversarial_cnn = model.predict(adversarial_cnn_sc)"
      ],
      "execution_count": 0,
      "outputs": []
    },
    {
      "cell_type": "code",
      "metadata": {
        "id": "zZvg4nn2TOxr",
        "colab_type": "code",
        "outputId": "a3f3a898-22ad-4a88-bdba-be108d048eee",
        "colab": {
          "base_uri": "https://localhost:8080/",
          "height": 68
        }
      },
      "source": [
        "print(\"Accuracy on original: \",accuracy_score(original_y,np.argmax(cnn_pred_original,axis=1)))\n",
        "print(\"Accuracy on adversarial: \",accuracy_score(adversarial_y,np.argmax(cnn_pred_adversarial,axis=1)))\n",
        "print(\"Accuracy on adversarial_cnn: \",accuracy_score(adversarial_y,np.argmax(cnn_pred_adversarial_cnn,axis=1)))"
      ],
      "execution_count": 41,
      "outputs": [
        {
          "output_type": "stream",
          "text": [
            "Accuracy on original:  0.824945295404814\n",
            "Accuracy on adversarial:  0.8195488721804511\n",
            "Accuracy on adversarial_cnn:  0.0\n"
          ],
          "name": "stdout"
        }
      ]
    },
    {
      "cell_type": "code",
      "metadata": {
        "id": "qmbr2SWSTX4W",
        "colab_type": "code",
        "outputId": "cba3d2af-0b7c-4b8f-a1c4-861db001e42d",
        "colab": {
          "base_uri": "https://localhost:8080/",
          "height": 51
        }
      },
      "source": [
        "print(\"Accuracy on subset: \",accuracy_score(np.append(original_y,adversarial_y,axis=0),np.argmax(np.append(cnn_pred_original,cnn_pred_adversarial,axis=0),axis=1)))\n",
        "print(\"Accuracy on subset with adversarial examples (CNN): \",accuracy_score(np.append(original_y,adversarial_y,axis=0),np.argmax(np.append(cnn_pred_original,cnn_pred_adversarial_cnn,axis=0),axis=1)))"
      ],
      "execution_count": 42,
      "outputs": [
        {
          "output_type": "stream",
          "text": [
            "Accuracy on subset:  0.8242597898758357\n",
            "Accuracy on subset with adversarial examples (CNN):  0.720152817574021\n"
          ],
          "name": "stdout"
        }
      ]
    }
  ]
}