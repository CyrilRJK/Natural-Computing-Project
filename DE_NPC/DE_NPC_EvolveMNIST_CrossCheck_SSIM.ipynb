{
  "nbformat": 4,
  "nbformat_minor": 0,
  "metadata": {
    "colab": {
      "name": "DE_NPC_EvolveMNIST_CrossCheck_SSIM.ipynb",
      "provenance": [],
      "collapsed_sections": []
    },
    "kernelspec": {
      "name": "python3",
      "display_name": "Python 3"
    }
  },
  "cells": [
    {
      "cell_type": "markdown",
      "metadata": {
        "id": "8hooBNi2Ksg5",
        "colab_type": "text"
      },
      "source": [
        "#Files needed\n",
        "* rbfnn_v2.h5\n",
        "* CNN_MNIST.h5\n",
        "* adv_de_cnn_mnist_ssim\n",
        "* adv_de_rbf_mnist_ssim\n",
        "* subset"
      ]
    },
    {
      "cell_type": "markdown",
      "metadata": {
        "id": "nE5Auha7PfEN",
        "colab_type": "text"
      },
      "source": [
        "# Import Libraries"
      ]
    },
    {
      "cell_type": "code",
      "metadata": {
        "id": "wACcszfbK3fl",
        "colab_type": "code",
        "outputId": "6b9eb985-77e8-41b3-8454-83f8a773e011",
        "colab": {
          "base_uri": "https://localhost:8080/",
          "height": 1000
        }
      },
      "source": [
        "!pip install keras==2.2.4\n",
        "!pip install tensorflow==1.13.1\n",
        "!pip install git+https://github.com/darecophoenixx/wordroid.sblo.jp"
      ],
      "execution_count": 0,
      "outputs": [
        {
          "output_type": "stream",
          "text": [
            "Collecting keras==2.2.4\n",
            "\u001b[?25l  Downloading https://files.pythonhosted.org/packages/5e/10/aa32dad071ce52b5502266b5c659451cfd6ffcbf14e6c8c4f16c0ff5aaab/Keras-2.2.4-py2.py3-none-any.whl (312kB)\n",
            "\u001b[K     |████████████████████████████████| 317kB 2.6MB/s \n",
            "\u001b[?25hRequirement already satisfied: keras-applications>=1.0.6 in /usr/local/lib/python3.6/dist-packages (from keras==2.2.4) (1.0.8)\n",
            "Requirement already satisfied: scipy>=0.14 in /usr/local/lib/python3.6/dist-packages (from keras==2.2.4) (1.4.1)\n",
            "Requirement already satisfied: pyyaml in /usr/local/lib/python3.6/dist-packages (from keras==2.2.4) (3.13)\n",
            "Requirement already satisfied: h5py in /usr/local/lib/python3.6/dist-packages (from keras==2.2.4) (2.10.0)\n",
            "Requirement already satisfied: six>=1.9.0 in /usr/local/lib/python3.6/dist-packages (from keras==2.2.4) (1.12.0)\n",
            "Requirement already satisfied: keras-preprocessing>=1.0.5 in /usr/local/lib/python3.6/dist-packages (from keras==2.2.4) (1.1.2)\n",
            "Requirement already satisfied: numpy>=1.9.1 in /usr/local/lib/python3.6/dist-packages (from keras==2.2.4) (1.18.4)\n",
            "Installing collected packages: keras\n",
            "  Found existing installation: Keras 2.3.1\n",
            "    Uninstalling Keras-2.3.1:\n",
            "      Successfully uninstalled Keras-2.3.1\n",
            "Successfully installed keras-2.2.4\n",
            "Collecting tensorflow==1.13.1\n",
            "\u001b[?25l  Downloading https://files.pythonhosted.org/packages/77/63/a9fa76de8dffe7455304c4ed635be4aa9c0bacef6e0633d87d5f54530c5c/tensorflow-1.13.1-cp36-cp36m-manylinux1_x86_64.whl (92.5MB)\n",
            "\u001b[K     |████████████████████████████████| 92.5MB 59kB/s \n",
            "\u001b[?25hRequirement already satisfied: numpy>=1.13.3 in /usr/local/lib/python3.6/dist-packages (from tensorflow==1.13.1) (1.18.4)\n",
            "Requirement already satisfied: gast>=0.2.0 in /usr/local/lib/python3.6/dist-packages (from tensorflow==1.13.1) (0.3.3)\n",
            "Collecting tensorflow-estimator<1.14.0rc0,>=1.13.0\n",
            "\u001b[?25l  Downloading https://files.pythonhosted.org/packages/bb/48/13f49fc3fa0fdf916aa1419013bb8f2ad09674c275b4046d5ee669a46873/tensorflow_estimator-1.13.0-py2.py3-none-any.whl (367kB)\n",
            "\u001b[K     |████████████████████████████████| 368kB 49.9MB/s \n",
            "\u001b[?25hRequirement already satisfied: termcolor>=1.1.0 in /usr/local/lib/python3.6/dist-packages (from tensorflow==1.13.1) (1.1.0)\n",
            "Requirement already satisfied: six>=1.10.0 in /usr/local/lib/python3.6/dist-packages (from tensorflow==1.13.1) (1.12.0)\n",
            "Requirement already satisfied: keras-applications>=1.0.6 in /usr/local/lib/python3.6/dist-packages (from tensorflow==1.13.1) (1.0.8)\n",
            "Requirement already satisfied: wheel>=0.26 in /usr/local/lib/python3.6/dist-packages (from tensorflow==1.13.1) (0.34.2)\n",
            "Requirement already satisfied: astor>=0.6.0 in /usr/local/lib/python3.6/dist-packages (from tensorflow==1.13.1) (0.8.1)\n",
            "Requirement already satisfied: protobuf>=3.6.1 in /usr/local/lib/python3.6/dist-packages (from tensorflow==1.13.1) (3.10.0)\n",
            "Requirement already satisfied: grpcio>=1.8.6 in /usr/local/lib/python3.6/dist-packages (from tensorflow==1.13.1) (1.29.0)\n",
            "Requirement already satisfied: absl-py>=0.1.6 in /usr/local/lib/python3.6/dist-packages (from tensorflow==1.13.1) (0.9.0)\n",
            "Collecting tensorboard<1.14.0,>=1.13.0\n",
            "\u001b[?25l  Downloading https://files.pythonhosted.org/packages/0f/39/bdd75b08a6fba41f098b6cb091b9e8c7a80e1b4d679a581a0ccd17b10373/tensorboard-1.13.1-py3-none-any.whl (3.2MB)\n",
            "\u001b[K     |████████████████████████████████| 3.2MB 45.4MB/s \n",
            "\u001b[?25hRequirement already satisfied: keras-preprocessing>=1.0.5 in /usr/local/lib/python3.6/dist-packages (from tensorflow==1.13.1) (1.1.2)\n",
            "Collecting mock>=2.0.0\n",
            "  Downloading https://files.pythonhosted.org/packages/cd/74/d72daf8dff5b6566db857cfd088907bb0355f5dd2914c4b3ef065c790735/mock-4.0.2-py3-none-any.whl\n",
            "Requirement already satisfied: h5py in /usr/local/lib/python3.6/dist-packages (from keras-applications>=1.0.6->tensorflow==1.13.1) (2.10.0)\n",
            "Requirement already satisfied: setuptools in /usr/local/lib/python3.6/dist-packages (from protobuf>=3.6.1->tensorflow==1.13.1) (46.3.0)\n",
            "Requirement already satisfied: markdown>=2.6.8 in /usr/local/lib/python3.6/dist-packages (from tensorboard<1.14.0,>=1.13.0->tensorflow==1.13.1) (3.2.2)\n",
            "Requirement already satisfied: werkzeug>=0.11.15 in /usr/local/lib/python3.6/dist-packages (from tensorboard<1.14.0,>=1.13.0->tensorflow==1.13.1) (1.0.1)\n",
            "Requirement already satisfied: importlib-metadata; python_version < \"3.8\" in /usr/local/lib/python3.6/dist-packages (from markdown>=2.6.8->tensorboard<1.14.0,>=1.13.0->tensorflow==1.13.1) (1.6.0)\n",
            "Requirement already satisfied: zipp>=0.5 in /usr/local/lib/python3.6/dist-packages (from importlib-metadata; python_version < \"3.8\"->markdown>=2.6.8->tensorboard<1.14.0,>=1.13.0->tensorflow==1.13.1) (3.1.0)\n",
            "Installing collected packages: mock, tensorflow-estimator, tensorboard, tensorflow\n",
            "  Found existing installation: tensorflow-estimator 2.2.0\n",
            "    Uninstalling tensorflow-estimator-2.2.0:\n",
            "      Successfully uninstalled tensorflow-estimator-2.2.0\n",
            "  Found existing installation: tensorboard 2.2.1\n",
            "    Uninstalling tensorboard-2.2.1:\n",
            "      Successfully uninstalled tensorboard-2.2.1\n",
            "  Found existing installation: tensorflow 2.2.0\n",
            "    Uninstalling tensorflow-2.2.0:\n",
            "      Successfully uninstalled tensorflow-2.2.0\n",
            "Successfully installed mock-4.0.2 tensorboard-1.13.1 tensorflow-1.13.1 tensorflow-estimator-1.13.0\n",
            "Collecting git+https://github.com/darecophoenixx/wordroid.sblo.jp\n",
            "  Cloning https://github.com/darecophoenixx/wordroid.sblo.jp to /tmp/pip-req-build-jxscgj4x\n",
            "  Running command git clone -q https://github.com/darecophoenixx/wordroid.sblo.jp /tmp/pip-req-build-jxscgj4x\n",
            "Requirement already satisfied: gensim in /usr/local/lib/python3.6/dist-packages (from wordroid.sblo.jp==0.0.1) (3.6.0)\n",
            "Requirement already satisfied: scipy>=0.18.1 in /usr/local/lib/python3.6/dist-packages (from gensim->wordroid.sblo.jp==0.0.1) (1.4.1)\n",
            "Requirement already satisfied: smart-open>=1.2.1 in /usr/local/lib/python3.6/dist-packages (from gensim->wordroid.sblo.jp==0.0.1) (2.0.0)\n",
            "Requirement already satisfied: numpy>=1.11.3 in /usr/local/lib/python3.6/dist-packages (from gensim->wordroid.sblo.jp==0.0.1) (1.18.4)\n",
            "Requirement already satisfied: six>=1.5.0 in /usr/local/lib/python3.6/dist-packages (from gensim->wordroid.sblo.jp==0.0.1) (1.12.0)\n",
            "Requirement already satisfied: requests in /usr/local/lib/python3.6/dist-packages (from smart-open>=1.2.1->gensim->wordroid.sblo.jp==0.0.1) (2.23.0)\n",
            "Requirement already satisfied: boto in /usr/local/lib/python3.6/dist-packages (from smart-open>=1.2.1->gensim->wordroid.sblo.jp==0.0.1) (2.49.0)\n",
            "Requirement already satisfied: boto3 in /usr/local/lib/python3.6/dist-packages (from smart-open>=1.2.1->gensim->wordroid.sblo.jp==0.0.1) (1.13.13)\n",
            "Requirement already satisfied: idna<3,>=2.5 in /usr/local/lib/python3.6/dist-packages (from requests->smart-open>=1.2.1->gensim->wordroid.sblo.jp==0.0.1) (2.9)\n",
            "Requirement already satisfied: certifi>=2017.4.17 in /usr/local/lib/python3.6/dist-packages (from requests->smart-open>=1.2.1->gensim->wordroid.sblo.jp==0.0.1) (2020.4.5.1)\n",
            "Requirement already satisfied: chardet<4,>=3.0.2 in /usr/local/lib/python3.6/dist-packages (from requests->smart-open>=1.2.1->gensim->wordroid.sblo.jp==0.0.1) (3.0.4)\n",
            "Requirement already satisfied: urllib3!=1.25.0,!=1.25.1,<1.26,>=1.21.1 in /usr/local/lib/python3.6/dist-packages (from requests->smart-open>=1.2.1->gensim->wordroid.sblo.jp==0.0.1) (1.24.3)\n",
            "Requirement already satisfied: botocore<1.17.0,>=1.16.13 in /usr/local/lib/python3.6/dist-packages (from boto3->smart-open>=1.2.1->gensim->wordroid.sblo.jp==0.0.1) (1.16.13)\n",
            "Requirement already satisfied: s3transfer<0.4.0,>=0.3.0 in /usr/local/lib/python3.6/dist-packages (from boto3->smart-open>=1.2.1->gensim->wordroid.sblo.jp==0.0.1) (0.3.3)\n",
            "Requirement already satisfied: jmespath<1.0.0,>=0.7.1 in /usr/local/lib/python3.6/dist-packages (from boto3->smart-open>=1.2.1->gensim->wordroid.sblo.jp==0.0.1) (0.10.0)\n",
            "Requirement already satisfied: docutils<0.16,>=0.10 in /usr/local/lib/python3.6/dist-packages (from botocore<1.17.0,>=1.16.13->boto3->smart-open>=1.2.1->gensim->wordroid.sblo.jp==0.0.1) (0.15.2)\n",
            "Requirement already satisfied: python-dateutil<3.0.0,>=2.1 in /usr/local/lib/python3.6/dist-packages (from botocore<1.17.0,>=1.16.13->boto3->smart-open>=1.2.1->gensim->wordroid.sblo.jp==0.0.1) (2.8.1)\n",
            "Building wheels for collected packages: wordroid.sblo.jp\n",
            "  Building wheel for wordroid.sblo.jp (setup.py) ... \u001b[?25l\u001b[?25hdone\n",
            "  Created wheel for wordroid.sblo.jp: filename=wordroid.sblo.jp-0.0.1-cp36-none-any.whl size=33710 sha256=02e36d11796f8e2856a749afd4face05d77af1bba947dae443a96278552dd20f\n",
            "  Stored in directory: /tmp/pip-ephem-wheel-cache-b26kl3or/wheels/3d/6d/24/44e7d6dc47b39e74772a04beb27433ba2ebed90876394cda60\n",
            "Successfully built wordroid.sblo.jp\n",
            "Installing collected packages: wordroid.sblo.jp\n",
            "Successfully installed wordroid.sblo.jp-0.0.1\n"
          ],
          "name": "stdout"
        }
      ]
    },
    {
      "cell_type": "code",
      "metadata": {
        "id": "YXLVeeWILd_L",
        "colab_type": "code",
        "outputId": "5913f8a4-59ca-4dd7-d169-806f5b4a29af",
        "colab": {
          "base_uri": "https://localhost:8080/",
          "height": 292
        }
      },
      "source": [
        "%matplotlib inline\n",
        "from IPython.display import SVG\n",
        "from keras.utils.vis_utils import model_to_dot\n",
        "from sklearn.metrics import accuracy_score\n",
        "import numpy as np\n",
        "import pandas as pd\n",
        "import matplotlib.pyplot as plt\n",
        "import seaborn as sns\n",
        "from keras.utils import to_categorical\n",
        "import tensorflow as tf\n",
        "from keras_ex.gkernel import GaussianKernel, GaussianKernel2, GaussianKernel3\n",
        "from keras.layers import Input, Dense\n",
        "from keras.models import Model\n",
        "from sklearn.metrics import confusion_matrix\n",
        "from sklearn.metrics import precision_recall_fscore_support\n",
        "from scipy.stats import cauchy \n",
        "from scipy import stats\n",
        "import operator\n",
        "import random\n",
        "from sklearn.metrics import accuracy_score\n",
        "from skimage.measure import compare_ssim as ssim\n",
        "import pickle\n",
        "import cv2\n",
        "from keras.layers import Dense, Conv2D, Dropout, Flatten, MaxPooling2D, Input, Activation\n",
        "\n",
        "#Set seeds\n",
        "random.seed(0)\n",
        "np.random.seed(0)"
      ],
      "execution_count": 0,
      "outputs": [
        {
          "output_type": "stream",
          "text": [
            "Using TensorFlow backend.\n",
            "/usr/local/lib/python3.6/dist-packages/tensorflow/python/framework/dtypes.py:526: FutureWarning: Passing (type, 1) or '1type' as a synonym of type is deprecated; in a future version of numpy, it will be understood as (type, (1,)) / '(1,)type'.\n",
            "  _np_qint8 = np.dtype([(\"qint8\", np.int8, 1)])\n",
            "/usr/local/lib/python3.6/dist-packages/tensorflow/python/framework/dtypes.py:527: FutureWarning: Passing (type, 1) or '1type' as a synonym of type is deprecated; in a future version of numpy, it will be understood as (type, (1,)) / '(1,)type'.\n",
            "  _np_quint8 = np.dtype([(\"quint8\", np.uint8, 1)])\n",
            "/usr/local/lib/python3.6/dist-packages/tensorflow/python/framework/dtypes.py:528: FutureWarning: Passing (type, 1) or '1type' as a synonym of type is deprecated; in a future version of numpy, it will be understood as (type, (1,)) / '(1,)type'.\n",
            "  _np_qint16 = np.dtype([(\"qint16\", np.int16, 1)])\n",
            "/usr/local/lib/python3.6/dist-packages/tensorflow/python/framework/dtypes.py:529: FutureWarning: Passing (type, 1) or '1type' as a synonym of type is deprecated; in a future version of numpy, it will be understood as (type, (1,)) / '(1,)type'.\n",
            "  _np_quint16 = np.dtype([(\"quint16\", np.uint16, 1)])\n",
            "/usr/local/lib/python3.6/dist-packages/tensorflow/python/framework/dtypes.py:530: FutureWarning: Passing (type, 1) or '1type' as a synonym of type is deprecated; in a future version of numpy, it will be understood as (type, (1,)) / '(1,)type'.\n",
            "  _np_qint32 = np.dtype([(\"qint32\", np.int32, 1)])\n",
            "/usr/local/lib/python3.6/dist-packages/tensorflow/python/framework/dtypes.py:535: FutureWarning: Passing (type, 1) or '1type' as a synonym of type is deprecated; in a future version of numpy, it will be understood as (type, (1,)) / '(1,)type'.\n",
            "  np_resource = np.dtype([(\"resource\", np.ubyte, 1)])\n",
            "/usr/local/lib/python3.6/dist-packages/statsmodels/tools/_testing.py:19: FutureWarning: pandas.util.testing is deprecated. Use the functions in the public API at pandas.testing instead.\n",
            "  import pandas.util.testing as tm\n"
          ],
          "name": "stderr"
        }
      ]
    },
    {
      "cell_type": "markdown",
      "metadata": {
        "id": "F_ZUuCXNPhPZ",
        "colab_type": "text"
      },
      "source": [
        "# Get the data from pickle files"
      ]
    },
    {
      "cell_type": "code",
      "metadata": {
        "id": "RRB8cQc5LVkA",
        "colab_type": "code",
        "colab": {}
      },
      "source": [
        "\n",
        "original = None\n",
        "adversarial = None \n",
        "original_y = None\n",
        "adversarial_y = None\n",
        "dump = None\n",
        "adversarial_rbf = None\n",
        "adversarial_rbf_y  = None\n",
        "adversarial_cnn = None\n",
        "adversarial_cnn_y  = None\n",
        "\n",
        "with open('subset', 'rb') as f:\n",
        "    original = pickle.load(f)\n",
        "    adversarial= pickle.load(f)\n",
        "    original_y = pickle.load(f)\n",
        "    adversarial_y = pickle.load(f)\n",
        "\n",
        "with open('adv_de_rbf_mnist_ssim', 'rb') as f:\n",
        "    adversarial_rbf = pickle.load(f)\n",
        "    for i in range(3):\n",
        "      dump = pickle.load(f)\n",
        "    adversarial_rbf_y= pickle.load(f)\n",
        "\n",
        "with open('adv_de_cnn_mnist_ssim', 'rb') as f:\n",
        "    adversarial_cnn = pickle.load(f)\n",
        "    for i in range(3):\n",
        "      dump = pickle.load(f)\n",
        "    adversarial_cnn_y= pickle.load(f)"
      ],
      "execution_count": 0,
      "outputs": []
    },
    {
      "cell_type": "code",
      "metadata": {
        "id": "TshzU6BvMlxm",
        "colab_type": "code",
        "outputId": "8d20e8a7-603e-43c9-f84c-3b4da95b5088",
        "colab": {
          "base_uri": "https://localhost:8080/",
          "height": 34
        }
      },
      "source": [
        "original.shape"
      ],
      "execution_count": 0,
      "outputs": [
        {
          "output_type": "execute_result",
          "data": {
            "text/plain": [
              "(895, 784)"
            ]
          },
          "metadata": {
            "tags": []
          },
          "execution_count": 4
        }
      ]
    },
    {
      "cell_type": "code",
      "metadata": {
        "id": "yupwYCOIMnj-",
        "colab_type": "code",
        "outputId": "084f6791-6739-4211-f104-6a04e98a6bb2",
        "colab": {
          "base_uri": "https://localhost:8080/",
          "height": 34
        }
      },
      "source": [
        "adversarial.shape"
      ],
      "execution_count": 0,
      "outputs": [
        {
          "output_type": "execute_result",
          "data": {
            "text/plain": [
              "(126, 784)"
            ]
          },
          "metadata": {
            "tags": []
          },
          "execution_count": 5
        }
      ]
    },
    {
      "cell_type": "code",
      "metadata": {
        "id": "yNito6stMqtk",
        "colab_type": "code",
        "outputId": "d6f5f70d-8950-4da7-b788-18deb16704ad",
        "colab": {
          "base_uri": "https://localhost:8080/",
          "height": 34
        }
      },
      "source": [
        "adversarial_rbf.shape"
      ],
      "execution_count": 0,
      "outputs": [
        {
          "output_type": "execute_result",
          "data": {
            "text/plain": [
              "(126, 784)"
            ]
          },
          "metadata": {
            "tags": []
          },
          "execution_count": 6
        }
      ]
    },
    {
      "cell_type": "markdown",
      "metadata": {
        "id": "xGybq-8PPkKe",
        "colab_type": "text"
      },
      "source": [
        "# Calculate PSNR and SSIM and Euclidean"
      ]
    },
    {
      "cell_type": "code",
      "metadata": {
        "id": "GTE8H1uwMuLt",
        "colab_type": "code",
        "colab": {}
      },
      "source": [
        "psnrs_rbf = []\n",
        "psnrs_cnn = []\n",
        "for i in range(adversarial.shape[0]):\n",
        "  psnrs_rbf.append(cv2.PSNR(adversarial[i], adversarial_rbf[i]))\n",
        "  psnrs_cnn.append(cv2.PSNR(adversarial[i], adversarial_cnn[i]))"
      ],
      "execution_count": 0,
      "outputs": []
    },
    {
      "cell_type": "code",
      "metadata": {
        "id": "KRRf_ZieNB64",
        "colab_type": "code",
        "outputId": "0c0e0174-7874-4bfe-e920-1cf30eda8151",
        "colab": {
          "base_uri": "https://localhost:8080/",
          "height": 51
        }
      },
      "source": [
        "#double check GeeksForGeeks psnr\n",
        "print(np.around(np.mean(psnrs_rbf),3), \"+-\" ,np.around(np.std(psnrs_rbf),3),\"(\" ,np.around(np.min(psnrs_rbf),3), \",\",\n",
        "                                                                                        np.around(np.max(psnrs_rbf),3),\")\")\n",
        "print(np.around(np.mean(psnrs_cnn),3), \"+-\" ,np.around(np.std(psnrs_cnn),3),\"(\" ,np.around(np.min(psnrs_cnn),3), \",\",\n",
        "                                                                                        np.around(np.max(psnrs_cnn),3),\")\")"
      ],
      "execution_count": 0,
      "outputs": [
        {
          "output_type": "stream",
          "text": [
            "13.786 +- 6.311 ( 5.19 , 28.938 )\n",
            "11.126 +- 1.436 ( 8.51 , 14.759 )\n"
          ],
          "name": "stdout"
        }
      ]
    },
    {
      "cell_type": "code",
      "metadata": {
        "id": "dyk9pcPkOpl_",
        "colab_type": "code",
        "outputId": "0deed016-60f8-4fbf-9827-c5e72c9836bf",
        "colab": {
          "base_uri": "https://localhost:8080/",
          "height": 105
        }
      },
      "source": [
        "ssims_rbf = []\n",
        "ssims_cnn = []\n",
        "for i in range(adversarial.shape[0]):\n",
        "  ssims_rbf.append(ssim(adversarial[i], adversarial_rbf[i]))\n",
        "  ssims_cnn.append(ssim(adversarial[i], adversarial_cnn[i]))"
      ],
      "execution_count": 0,
      "outputs": [
        {
          "output_type": "stream",
          "text": [
            "/usr/local/lib/python3.6/dist-packages/ipykernel_launcher.py:4: UserWarning: DEPRECATED: skimage.measure.compare_ssim has been moved to skimage.metrics.structural_similarity. It will be removed from skimage.measure in version 0.18.\n",
            "  after removing the cwd from sys.path.\n",
            "/usr/local/lib/python3.6/dist-packages/ipykernel_launcher.py:5: UserWarning: DEPRECATED: skimage.measure.compare_ssim has been moved to skimage.metrics.structural_similarity. It will be removed from skimage.measure in version 0.18.\n",
            "  \"\"\"\n"
          ],
          "name": "stderr"
        }
      ]
    },
    {
      "cell_type": "code",
      "metadata": {
        "id": "VgkiH2cVPCaP",
        "colab_type": "code",
        "outputId": "5ce6f2c7-cacb-4030-99e3-84b99a8c16c1",
        "colab": {
          "base_uri": "https://localhost:8080/",
          "height": 51
        }
      },
      "source": [
        "print(np.around(np.mean(ssims_rbf),3), \"+-\" ,np.around(np.std(ssims_rbf),3),\"(\" ,np.around(np.min(ssims_rbf),3), \",\",\n",
        "                                                                                        np.around(np.max(ssims_rbf),3),\")\")\n",
        "print(np.around(np.mean(ssims_cnn),3), \"+-\" ,np.around(np.std(ssims_cnn),3),\"(\" ,np.around(np.min(ssims_cnn),3), \",\",\n",
        "                                                                                        np.around(np.max(ssims_cnn),3),\")\")"
      ],
      "execution_count": 0,
      "outputs": [
        {
          "output_type": "stream",
          "text": [
            "0.27 +- 0.091 ( 0.064 , 0.505 )\n",
            "0.237 +- 0.05 ( 0.132 , 0.388 )\n"
          ],
          "name": "stdout"
        }
      ]
    },
    {
      "cell_type": "code",
      "metadata": {
        "id": "IYVXu7qULl3v",
        "colab_type": "code",
        "colab": {}
      },
      "source": [
        "# https://stackoverflow.com/questions/1401712/how-can-the-euclidean-distance-be-calculated-with-numpy\n",
        "def euclidean(s):\n",
        "    # pass s=a-b as argument to the function\n",
        "    return np.linalg.norm(s)"
      ],
      "execution_count": 0,
      "outputs": []
    },
    {
      "cell_type": "code",
      "metadata": {
        "id": "FpedRvW7LmEQ",
        "colab_type": "code",
        "colab": {}
      },
      "source": [
        "eucs_rbf = []\n",
        "eucs_cnn = []\n",
        "for i in range(adversarial.shape[0]):\n",
        "  eucs_rbf.append(euclidean(adversarial[i] - adversarial_rbf[i]))\n",
        "  eucs_cnn.append(euclidean(adversarial[i] -  adversarial_cnn[i]))"
      ],
      "execution_count": 0,
      "outputs": []
    },
    {
      "cell_type": "code",
      "metadata": {
        "id": "aWK3_sr8Lo3z",
        "colab_type": "code",
        "outputId": "db75732c-9275-497d-8fdb-9d553953059a",
        "colab": {
          "base_uri": "https://localhost:8080/",
          "height": 51
        }
      },
      "source": [
        "print(np.around(np.mean(eucs_rbf),3), \"+-\" ,np.around(np.std(eucs_rbf),3),\"(\" ,np.around(np.min(eucs_rbf),3), \",\",\n",
        "                                                                                        np.around(np.max(eucs_rbf),3),\")\")\n",
        "print(np.around(np.mean(eucs_cnn),3), \"+-\" ,np.around(np.std(eucs_cnn),3),\"(\" ,np.around(np.min(eucs_cnn),3), \",\",\n",
        "                                                                                        np.around(np.max(eucs_cnn),3),\")\")"
      ],
      "execution_count": 0,
      "outputs": [
        {
          "output_type": "stream",
          "text": [
            "5459.178 +- 514.765 ( 4150.338 , 6398.9 )\n",
            "5322.185 +- 264.552 ( 3827.169 , 5781.878 )\n"
          ],
          "name": "stdout"
        }
      ]
    },
    {
      "cell_type": "markdown",
      "metadata": {
        "id": "RHouM73GSS1g",
        "colab_type": "text"
      },
      "source": [
        "# Prepare Date"
      ]
    },
    {
      "cell_type": "code",
      "metadata": {
        "id": "6MnC4qqSP2GF",
        "colab_type": "code",
        "colab": {}
      },
      "source": [
        "#Normalize images\n",
        "original_sc = original        /255.0\n",
        "adversarial_sc = adversarial     /255.0 \n",
        "adversarial_rbf_sc = adversarial_rbf /255.0\n",
        "adversarial_cnn_sc = adversarial_cnn /255.0"
      ],
      "execution_count": 0,
      "outputs": []
    },
    {
      "cell_type": "code",
      "metadata": {
        "id": "5qJoygc4StZU",
        "colab_type": "code",
        "colab": {}
      },
      "source": [
        "#Prepare dims for CNN\n",
        "cnn_original_sc = original_sc.reshape(original_sc.shape[0],28,28,1)\n",
        "cnn_adversarial_sc = adversarial_sc.reshape(adversarial_sc.shape[0],28,28,1)\n",
        "cnn_adversarial_rbf_sc= adversarial_rbf_sc.reshape(adversarial_rbf_sc.shape[0],28,28,1)\n",
        "cnn_adversarial_cnn_sc= adversarial_cnn_sc.reshape(adversarial_cnn_sc.shape[0],28,28,1)"
      ],
      "execution_count": 0,
      "outputs": []
    },
    {
      "cell_type": "markdown",
      "metadata": {
        "id": "c_yq8W4YPdIY",
        "colab_type": "text"
      },
      "source": [
        "# Predict using RBFNN"
      ]
    },
    {
      "cell_type": "code",
      "metadata": {
        "id": "v7IQ4PNMPcit",
        "colab_type": "code",
        "outputId": "41a1e64b-7f22-4ae2-f3cb-cf95617f9a08",
        "colab": {
          "base_uri": "https://localhost:8080/",
          "height": 88
        }
      },
      "source": [
        "num_lm0 = 100\n",
        "num_lm = num_lm0 * 10\n",
        "init_wgt = np.zeros(((1000, 784)))\n",
        "\n",
        "inp = Input(shape=(28*28,), name='inp')\n",
        "oup = GaussianKernel(num_lm, 28*28,\n",
        "                     kernel_gamma='auto', weights=[init_wgt],\n",
        "                     name='gkernel1')(inp)\n",
        "oup = Dense(10, activation='softmax')(oup)\n",
        "model = Model(inp, oup)\n",
        "model.compile(loss='categorical_crossentropy', optimizer='adam', metrics=['accuracy'])\n",
        "model.load_weights(\"rbfnn_v2.h5\")"
      ],
      "execution_count": 0,
      "outputs": [
        {
          "output_type": "stream",
          "text": [
            "WARNING:tensorflow:From /usr/local/lib/python3.6/dist-packages/tensorflow/python/framework/op_def_library.py:263: colocate_with (from tensorflow.python.framework.ops) is deprecated and will be removed in a future version.\n",
            "Instructions for updating:\n",
            "Colocations handled automatically by placer.\n"
          ],
          "name": "stdout"
        }
      ]
    },
    {
      "cell_type": "code",
      "metadata": {
        "id": "DbEMf3OgQHd8",
        "colab_type": "code",
        "colab": {}
      },
      "source": [
        "#Get predictions\n",
        "pred_original = model.predict(original_sc)\n",
        "pred_adversarial = model.predict(adversarial_sc)\n",
        "pred_adversarial_rbf = model.predict(adversarial_rbf_sc)\n",
        "pred_adversarial_cnn = model.predict(adversarial_cnn_sc)"
      ],
      "execution_count": 0,
      "outputs": []
    },
    {
      "cell_type": "code",
      "metadata": {
        "id": "OIufejh6QhuF",
        "colab_type": "code",
        "outputId": "59f7b028-6fe0-44a5-c29d-80390fc6910c",
        "colab": {
          "base_uri": "https://localhost:8080/",
          "height": 85
        }
      },
      "source": [
        "print(\"Accuracy on original: \",accuracy_score(original_y,np.argmax(pred_original,axis=1)))\n",
        "print(\"Accuracy on adversarial: \",accuracy_score(adversarial_y,np.argmax(pred_adversarial,axis=1)))\n",
        "print(\"Accuracy on adversarial_rbf: \",accuracy_score(adversarial_y,np.argmax(pred_adversarial_rbf,axis=1)))\n",
        "print(\"Accuracy on adversarial_cnn: \",accuracy_score(adversarial_y,np.argmax(pred_adversarial_cnn,axis=1)))"
      ],
      "execution_count": 0,
      "outputs": [
        {
          "output_type": "stream",
          "text": [
            "Accuracy on original:  0.9363128491620112\n",
            "Accuracy on adversarial:  0.9365079365079365\n",
            "Accuracy on adversarial_rbf:  0.19047619047619047\n",
            "Accuracy on adversarial_cnn:  0.30158730158730157\n"
          ],
          "name": "stdout"
        }
      ]
    },
    {
      "cell_type": "code",
      "metadata": {
        "id": "DlSZW67SQ74u",
        "colab_type": "code",
        "outputId": "7938d6ab-fa0a-4afc-c965-343dee518b8a",
        "colab": {
          "base_uri": "https://localhost:8080/",
          "height": 68
        }
      },
      "source": [
        "print(\"Accuracy on subset: \",accuracy_score(np.append(original_y,adversarial_y,axis=0),np.argmax(np.append(pred_original,pred_adversarial,axis=0),axis=1)))\n",
        "print(\"Accuracy on subset with adversarial examples (RBF): \",accuracy_score(np.append(original_y,adversarial_y,axis=0),np.argmax(np.append(pred_original,pred_adversarial_rbf,axis=0),axis=1)))\n",
        "print(\"Accuracy on subset with adversarial examples (CNN): \",accuracy_score(np.append(original_y,adversarial_y,axis=0),np.argmax(np.append(pred_original,pred_adversarial_cnn,axis=0),axis=1)))"
      ],
      "execution_count": 0,
      "outputs": [
        {
          "output_type": "stream",
          "text": [
            "Accuracy on subset:  0.9363369245837414\n",
            "Accuracy on subset with adversarial examples (RBF):  0.8442703232125367\n",
            "Accuracy on subset with adversarial examples (CNN):  0.8579823702252694\n"
          ],
          "name": "stdout"
        }
      ]
    },
    {
      "cell_type": "markdown",
      "metadata": {
        "id": "gAiPcj7wR7Lj",
        "colab_type": "text"
      },
      "source": [
        "# Predict Using CNN"
      ]
    },
    {
      "cell_type": "code",
      "metadata": {
        "id": "eb6nKQIOSFpI",
        "colab_type": "code",
        "outputId": "a3c5ca8a-d6ac-4263-b09e-4e10fe43a5fc",
        "colab": {
          "base_uri": "https://localhost:8080/",
          "height": 88
        }
      },
      "source": [
        "inp = Input(shape=(28,28,1))\n",
        "conv1 = Conv2D(32, (3,3),activation='relu')(inp)\n",
        "conv2 = Conv2D(32, (3,3),activation='relu')(conv1)\n",
        "max_pool1 = MaxPooling2D(pool_size=(2, 2))(conv2)\n",
        "drop = Dropout(0.25)(max_pool1)\n",
        "flat =  Flatten()(drop)\n",
        "dense1 = Dense(128,activation=\"relu\")(flat)\n",
        "drop = Dropout(0.5)(dense1)\n",
        "predictions = Dense(10,activation=\"softmax\")(drop) # softmax layer \n",
        "model = Model(inputs=[inp], outputs=[predictions])\n",
        "model.compile(optimizer='Adadelta', \n",
        "              loss='categorical_crossentropy', \n",
        "              metrics=['accuracy'])\n",
        "model.load_weights('CNN_MNIST.h5')"
      ],
      "execution_count": 0,
      "outputs": [
        {
          "output_type": "stream",
          "text": [
            "WARNING:tensorflow:From /usr/local/lib/python3.6/dist-packages/keras/backend/tensorflow_backend.py:3445: calling dropout (from tensorflow.python.ops.nn_ops) with keep_prob is deprecated and will be removed in a future version.\n",
            "Instructions for updating:\n",
            "Please use `rate` instead of `keep_prob`. Rate should be set to `rate = 1 - keep_prob`.\n"
          ],
          "name": "stdout"
        }
      ]
    },
    {
      "cell_type": "code",
      "metadata": {
        "id": "6-x3TZFQSYiQ",
        "colab_type": "code",
        "colab": {}
      },
      "source": [
        "#Get predictions\n",
        "cnn_pred_original = model.predict(cnn_original_sc)\n",
        "cnn_pred_adversarial = model.predict(cnn_adversarial_sc)\n",
        "cnn_pred_adversarial_rbf = model.predict(cnn_adversarial_rbf_sc)\n",
        "cnn_pred_adversarial_cnn = model.predict(cnn_adversarial_cnn_sc)"
      ],
      "execution_count": 0,
      "outputs": []
    },
    {
      "cell_type": "code",
      "metadata": {
        "id": "zZvg4nn2TOxr",
        "colab_type": "code",
        "outputId": "7336344c-2a85-4223-aff9-47463f79bfb8",
        "colab": {
          "base_uri": "https://localhost:8080/",
          "height": 85
        }
      },
      "source": [
        "print(\"Accuracy on original: \",accuracy_score(original_y,np.argmax(cnn_pred_original,axis=1)))\n",
        "print(\"Accuracy on adversarial: \",accuracy_score(adversarial_y,np.argmax(cnn_pred_adversarial,axis=1)))\n",
        "print(\"Accuracy on adversarial_rbf: \",accuracy_score(adversarial_y,np.argmax(cnn_pred_adversarial_rbf,axis=1)))\n",
        "print(\"Accuracy on adversarial_cnn: \",accuracy_score(adversarial_y,np.argmax(cnn_pred_adversarial_cnn,axis=1)))"
      ],
      "execution_count": 0,
      "outputs": [
        {
          "output_type": "stream",
          "text": [
            "Accuracy on original:  0.9888268156424581\n",
            "Accuracy on adversarial:  0.9920634920634921\n",
            "Accuracy on adversarial_rbf:  0.746031746031746\n",
            "Accuracy on adversarial_cnn:  0.07142857142857142\n"
          ],
          "name": "stdout"
        }
      ]
    },
    {
      "cell_type": "code",
      "metadata": {
        "id": "qmbr2SWSTX4W",
        "colab_type": "code",
        "outputId": "a863783c-5365-4be7-f7ca-43bb8a7a150a",
        "colab": {
          "base_uri": "https://localhost:8080/",
          "height": 68
        }
      },
      "source": [
        "print(\"Accuracy on subset: \",accuracy_score(np.append(original_y,adversarial_y,axis=0),np.argmax(np.append(cnn_pred_original,cnn_pred_adversarial,axis=0),axis=1)))\n",
        "print(\"Accuracy on subset with adversarial examples (RBF): \",accuracy_score(np.append(original_y,adversarial_y,axis=0),np.argmax(np.append(cnn_pred_original,cnn_pred_adversarial_rbf,axis=0),axis=1)))\n",
        "print(\"Accuracy on subset with adversarial examples (CNN): \",accuracy_score(np.append(original_y,adversarial_y,axis=0),np.argmax(np.append(cnn_pred_original,cnn_pred_adversarial_cnn,axis=0),axis=1)))"
      ],
      "execution_count": 0,
      "outputs": [
        {
          "output_type": "stream",
          "text": [
            "Accuracy on subset:  0.9892262487757101\n",
            "Accuracy on subset with adversarial examples (RBF):  0.9588638589618022\n",
            "Accuracy on subset with adversarial examples (CNN):  0.8756121449559255\n"
          ],
          "name": "stdout"
        }
      ]
    }
  ]
}