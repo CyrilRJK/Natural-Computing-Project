{
  "nbformat": 4,
  "nbformat_minor": 0,
  "metadata": {
    "colab": {
      "name": "DE_NPC_EvolveCIFAR_CrossCheck_SSIM.ipynb",
      "provenance": [],
      "collapsed_sections": []
    },
    "kernelspec": {
      "name": "python3",
      "display_name": "Python 3"
    }
  },
  "cells": [
    {
      "cell_type": "markdown",
      "metadata": {
        "id": "8hooBNi2Ksg5",
        "colab_type": "text"
      },
      "source": [
        "#Files needed\n",
        "* CNN_CIFAR10_net3.h5\n",
        "* adv_de_cnn_cifar_ssim\n",
        "* subset_cifar"
      ]
    },
    {
      "cell_type": "markdown",
      "metadata": {
        "id": "nE5Auha7PfEN",
        "colab_type": "text"
      },
      "source": [
        "# Import Libraries"
      ]
    },
    {
      "cell_type": "code",
      "metadata": {
        "id": "YXLVeeWILd_L",
        "colab_type": "code",
        "outputId": "d2e1eb52-c1cb-4313-d8a2-44a59955bf3d",
        "colab": {
          "base_uri": "https://localhost:8080/",
          "height": 88
        }
      },
      "source": [
        "%matplotlib inline\n",
        "from IPython.display import SVG\n",
        "from keras.utils.vis_utils import model_to_dot\n",
        "from sklearn.metrics import accuracy_score\n",
        "import numpy as np\n",
        "import pandas as pd\n",
        "import matplotlib.pyplot as plt\n",
        "import seaborn as sns\n",
        "from keras.utils import to_categorical\n",
        "import tensorflow as tf\n",
        "from keras.layers import Input, Dense\n",
        "from keras.models import Model\n",
        "from sklearn.metrics import confusion_matrix\n",
        "from sklearn.metrics import precision_recall_fscore_support\n",
        "from scipy.stats import cauchy \n",
        "from scipy import stats\n",
        "import operator\n",
        "import random\n",
        "from sklearn.metrics import accuracy_score\n",
        "from skimage.measure import compare_ssim as ssim\n",
        "import pickle\n",
        "import cv2\n",
        "from keras.layers import Dense, Conv2D, Dropout, Flatten, MaxPooling2D, Input, Activation\n",
        "\n",
        "#Set seeds\n",
        "random.seed(0)\n",
        "np.random.seed(0)"
      ],
      "execution_count": 1,
      "outputs": [
        {
          "output_type": "stream",
          "text": [
            "Using TensorFlow backend.\n",
            "/usr/local/lib/python3.6/dist-packages/statsmodels/tools/_testing.py:19: FutureWarning: pandas.util.testing is deprecated. Use the functions in the public API at pandas.testing instead.\n",
            "  import pandas.util.testing as tm\n"
          ],
          "name": "stderr"
        }
      ]
    },
    {
      "cell_type": "markdown",
      "metadata": {
        "id": "F_ZUuCXNPhPZ",
        "colab_type": "text"
      },
      "source": [
        "# Get the data from pickle files"
      ]
    },
    {
      "cell_type": "code",
      "metadata": {
        "id": "RRB8cQc5LVkA",
        "colab_type": "code",
        "colab": {}
      },
      "source": [
        "\n",
        "original = None\n",
        "adversarial = None \n",
        "original_y = None\n",
        "adversarial_y = None\n",
        "dump = None\n",
        "adversarial_rbf = None\n",
        "adversarial_rbf_y  = None\n",
        "adversarial_cnn = None\n",
        "adversarial_cnn_y  = None\n",
        "\n",
        "with open('subset_cifar', 'rb') as f:\n",
        "    original = pickle.load(f)\n",
        "    adversarial= pickle.load(f)\n",
        "    original_y = pickle.load(f)\n",
        "    adversarial_y = pickle.load(f)\n",
        "\n",
        "with open('adv_de_cnn_cifar_ssim', 'rb') as f:\n",
        "    adversarial_cnn = pickle.load(f)\n",
        "    for i in range(3):\n",
        "      dump = pickle.load(f)\n",
        "    adversarial_cnn_y= pickle.load(f)"
      ],
      "execution_count": 0,
      "outputs": []
    },
    {
      "cell_type": "code",
      "metadata": {
        "id": "TshzU6BvMlxm",
        "colab_type": "code",
        "outputId": "a9da89b2-b6e6-42a5-cd04-eab4c5823a99",
        "colab": {
          "base_uri": "https://localhost:8080/",
          "height": 34
        }
      },
      "source": [
        "original.shape"
      ],
      "execution_count": 3,
      "outputs": [
        {
          "output_type": "execute_result",
          "data": {
            "text/plain": [
              "(914, 32, 32, 1)"
            ]
          },
          "metadata": {
            "tags": []
          },
          "execution_count": 3
        }
      ]
    },
    {
      "cell_type": "code",
      "metadata": {
        "id": "yupwYCOIMnj-",
        "colab_type": "code",
        "outputId": "cb58a6f7-7040-41dd-f67f-ffe84a9eb11c",
        "colab": {
          "base_uri": "https://localhost:8080/",
          "height": 34
        }
      },
      "source": [
        "adversarial.shape"
      ],
      "execution_count": 4,
      "outputs": [
        {
          "output_type": "execute_result",
          "data": {
            "text/plain": [
              "(133, 32, 32, 1)"
            ]
          },
          "metadata": {
            "tags": []
          },
          "execution_count": 4
        }
      ]
    },
    {
      "cell_type": "code",
      "metadata": {
        "id": "yNito6stMqtk",
        "colab_type": "code",
        "outputId": "e9119962-5b7c-4411-bcc9-1a3ffd5423f3",
        "colab": {
          "base_uri": "https://localhost:8080/",
          "height": 34
        }
      },
      "source": [
        "adversarial_cnn.shape"
      ],
      "execution_count": 5,
      "outputs": [
        {
          "output_type": "execute_result",
          "data": {
            "text/plain": [
              "(133, 32, 32, 1)"
            ]
          },
          "metadata": {
            "tags": []
          },
          "execution_count": 5
        }
      ]
    },
    {
      "cell_type": "markdown",
      "metadata": {
        "id": "xGybq-8PPkKe",
        "colab_type": "text"
      },
      "source": [
        "# Calculate PSNR and SSIM"
      ]
    },
    {
      "cell_type": "code",
      "metadata": {
        "id": "GTE8H1uwMuLt",
        "colab_type": "code",
        "colab": {}
      },
      "source": [
        "psnrs_cnn = []\n",
        "for i in range(adversarial.shape[0]):\n",
        "  psnr_ = cv2.PSNR(adversarial[i].reshape(32,32), adversarial[i].reshape(32,32))\n",
        "  psnrs_cnn.append((cv2.PSNR(adversarial[i].reshape(32,32), adversarial_cnn[i].reshape(32,32))/psnr_)*100)"
      ],
      "execution_count": 0,
      "outputs": []
    },
    {
      "cell_type": "code",
      "metadata": {
        "id": "KRRf_ZieNB64",
        "colab_type": "code",
        "outputId": "2003e0a3-1311-411b-c531-c184d0d948b5",
        "colab": {
          "base_uri": "https://localhost:8080/",
          "height": 34
        }
      },
      "source": [
        "#double check GeeksForGeeks psnr\n",
        "print(np.around(np.mean(psnrs_cnn),3), \"+-\" ,np.around(np.std(psnrs_cnn),3),\"(\" ,np.around(np.min(psnrs_cnn),3), \",\",\n",
        "                                                                                        np.around(np.max(psnrs_cnn),3),\")\")"
      ],
      "execution_count": 7,
      "outputs": [
        {
          "output_type": "stream",
          "text": [
            "7.623 +- 1.605 ( 3.278 , 10.007 )\n"
          ],
          "name": "stdout"
        }
      ]
    },
    {
      "cell_type": "code",
      "metadata": {
        "id": "dyk9pcPkOpl_",
        "colab_type": "code",
        "outputId": "5e530812-c19e-461d-e3f0-4a83a58ca292",
        "colab": {
          "base_uri": "https://localhost:8080/",
          "height": 71
        }
      },
      "source": [
        "ssims_cnn = []\n",
        "for i in range(adversarial.shape[0]):\n",
        "  ssims_cnn.append(ssim(adversarial[i].reshape(32,32), adversarial_cnn[i].reshape(32,32)))"
      ],
      "execution_count": 8,
      "outputs": [
        {
          "output_type": "stream",
          "text": [
            "/usr/local/lib/python3.6/dist-packages/ipykernel_launcher.py:3: UserWarning: DEPRECATED: skimage.measure.compare_ssim has been moved to skimage.metrics.structural_similarity. It will be removed from skimage.measure in version 0.18.\n",
            "  This is separate from the ipykernel package so we can avoid doing imports until\n"
          ],
          "name": "stderr"
        }
      ]
    },
    {
      "cell_type": "code",
      "metadata": {
        "id": "VgkiH2cVPCaP",
        "colab_type": "code",
        "outputId": "f8de9abc-e6b4-4924-eb37-19f3fbfab422",
        "colab": {
          "base_uri": "https://localhost:8080/",
          "height": 34
        }
      },
      "source": [
        "print(np.around(np.mean(ssims_cnn),3), \"+-\" ,np.around(np.std(ssims_cnn),3),\"(\" ,np.around(np.min(ssims_cnn),3), \",\",\n",
        "                                                                                        np.around(np.max(ssims_cnn),3),\")\")"
      ],
      "execution_count": 9,
      "outputs": [
        {
          "output_type": "stream",
          "text": [
            "0.855 +- 0.141 ( 0.264 , 0.984 )\n"
          ],
          "name": "stdout"
        }
      ]
    },
    {
      "cell_type": "markdown",
      "metadata": {
        "id": "RHouM73GSS1g",
        "colab_type": "text"
      },
      "source": [
        "# Prepare Data"
      ]
    },
    {
      "cell_type": "code",
      "metadata": {
        "id": "J__v6iPq3N98",
        "colab_type": "code",
        "colab": {}
      },
      "source": [
        "threshold_psnr = 7\n",
        "threshold_ssim = 0.7\n",
        "for i in range(len(adversarial)):\n",
        "  if psnrs_cnn[i] < threshold_psnr or ssims_cnn[i] < threshold_ssim:\n",
        "    adversarial_cnn[i] = adversarial[i]\n",
        "\n",
        "  "
      ],
      "execution_count": 0,
      "outputs": []
    },
    {
      "cell_type": "code",
      "metadata": {
        "id": "6MnC4qqSP2GF",
        "colab_type": "code",
        "colab": {}
      },
      "source": [
        "#Normalize images\n",
        "original_sc = original        /255.0\n",
        "adversarial_sc = adversarial     /255.0 \n",
        "adversarial_cnn_sc = adversarial_cnn /255.0"
      ],
      "execution_count": 0,
      "outputs": []
    },
    {
      "cell_type": "markdown",
      "metadata": {
        "id": "gAiPcj7wR7Lj",
        "colab_type": "text"
      },
      "source": [
        "# Predict Using CNN"
      ]
    },
    {
      "cell_type": "code",
      "metadata": {
        "id": "eb6nKQIOSFpI",
        "colab_type": "code",
        "colab": {}
      },
      "source": [
        "from keras.models import load_model\n",
        "model = load_model(\"CNN_CIFAR10_net3.h5\")"
      ],
      "execution_count": 0,
      "outputs": []
    },
    {
      "cell_type": "code",
      "metadata": {
        "id": "6-x3TZFQSYiQ",
        "colab_type": "code",
        "colab": {}
      },
      "source": [
        "#Get predictions\n",
        "cnn_pred_original = model.predict(original_sc)\n",
        "cnn_pred_adversarial = model.predict(adversarial_sc)\n",
        "cnn_pred_adversarial_cnn = model.predict(adversarial_cnn_sc)"
      ],
      "execution_count": 0,
      "outputs": []
    },
    {
      "cell_type": "code",
      "metadata": {
        "id": "zZvg4nn2TOxr",
        "colab_type": "code",
        "outputId": "f778c7ed-1244-4803-8704-d1fd8d696759",
        "colab": {
          "base_uri": "https://localhost:8080/",
          "height": 68
        }
      },
      "source": [
        "print(\"Accuracy on original: \",accuracy_score(original_y,np.argmax(cnn_pred_original,axis=1)))\n",
        "print(\"Accuracy on adversarial: \",accuracy_score(adversarial_y,np.argmax(cnn_pred_adversarial,axis=1)))\n",
        "print(\"Accuracy on adversarial_cnn: \",accuracy_score(adversarial_y,np.argmax(cnn_pred_adversarial_cnn,axis=1)))"
      ],
      "execution_count": 14,
      "outputs": [
        {
          "output_type": "stream",
          "text": [
            "Accuracy on original:  0.824945295404814\n",
            "Accuracy on adversarial:  0.8195488721804511\n",
            "Accuracy on adversarial_cnn:  0.2556390977443609\n"
          ],
          "name": "stdout"
        }
      ]
    },
    {
      "cell_type": "code",
      "metadata": {
        "id": "qmbr2SWSTX4W",
        "colab_type": "code",
        "outputId": "371bc039-9a67-4584-9354-436bb55422ab",
        "colab": {
          "base_uri": "https://localhost:8080/",
          "height": 51
        }
      },
      "source": [
        "print(\"Accuracy on subset: \",accuracy_score(np.append(original_y,adversarial_y,axis=0),np.argmax(np.append(cnn_pred_original,cnn_pred_adversarial,axis=0),axis=1)))\n",
        "print(\"Accuracy on subset with adversarial examples (CNN): \",accuracy_score(np.append(original_y,adversarial_y,axis=0),np.argmax(np.append(cnn_pred_original,cnn_pred_adversarial_cnn,axis=0),axis=1)))"
      ],
      "execution_count": 15,
      "outputs": [
        {
          "output_type": "stream",
          "text": [
            "Accuracy on subset:  0.8242597898758357\n",
            "Accuracy on subset with adversarial examples (CNN):  0.7526265520534862\n"
          ],
          "name": "stdout"
        }
      ]
    }
  ]
}