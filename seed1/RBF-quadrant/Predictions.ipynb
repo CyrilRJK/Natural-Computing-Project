{
 "cells": [
  {
   "cell_type": "code",
   "execution_count": 1,
   "metadata": {},
   "outputs": [
    {
     "name": "stderr",
     "output_type": "stream",
     "text": [
      "Using TensorFlow backend.\n"
     ]
    }
   ],
   "source": [
    "import tensorflow as tf\n",
    "from keras.models import load_model\n",
    "from keras.models import Model\n",
    "from keras.layers import Dense, Conv2D, Dropout, Flatten, MaxPooling2D, Input, Activation\n",
    "import numpy as np \n",
    "from skimage.measure import compare_ssim\n",
    "import matplotlib.pyplot as plt\n",
    "import seaborn as sns\n",
    "import pickle\n",
    "import time\n",
    "import keras\n",
    "import random\n",
    "from sklearn.metrics import accuracy_score\n",
    "from sklearn.cluster import KMeans\n",
    "from sklearn.model_selection import train_test_split\n",
    "from IPython.display import clear_output\n",
    "from IPython.display import SVG\n",
    "from keras.utils.vis_utils import model_to_dot\n",
    "from keras_ex.gkernel import GaussianKernel, GaussianKernel2, GaussianKernel3\n",
    "from keras.utils import to_categorical\n",
    "from math import log10, sqrt \n",
    "import cv2 \n",
    "from deap import algorithms\n",
    "from deap import base\n",
    "from deap import creator\n",
    "from deap import tools"
   ]
  },
  {
   "cell_type": "code",
   "execution_count": 2,
   "metadata": {},
   "outputs": [],
   "source": [
    "np.random.seed(1)\n",
    "random.seed(1)"
   ]
  },
  {
   "cell_type": "code",
   "execution_count": 3,
   "metadata": {},
   "outputs": [],
   "source": [
    "def flatten(imgs):\n",
    "    return np.array([im.flatten() for im in imgs])\n",
    "\n",
    "def computing_SSIM(individual,target):\n",
    "    target = target.reshape(28,28)\n",
    "    individual = individual.reshape(28,28)\n",
    "    if individual.shape == target.shape:\n",
    "        (score, diff) = compare_ssim(individual, target, full=True)\n",
    "    else:\n",
    "        print(target.shape)\n",
    "        print(individual.shape)\n",
    "    return score"
   ]
  },
  {
   "cell_type": "code",
   "execution_count": 4,
   "metadata": {},
   "outputs": [],
   "source": [
    "# load flatten and normalize mnist\n",
    "(x_train, y), (x_test, y_t) = tf.keras.datasets.mnist.load_data()\n",
    "X = flatten(x_train)\n",
    "X_test = flatten(x_test)\n",
    "X_n = np.array([x/255. for x in X])\n",
    "X_t_n = np.array([x/255. for x in X_test])"
   ]
  },
  {
   "cell_type": "code",
   "execution_count": 5,
   "metadata": {},
   "outputs": [],
   "source": [
    "file_ = open('subset_cnn', 'rb')\n",
    "original = pickle.load(file_)\n",
    "adversarial = pickle.load(file_)\n",
    "original_y = pickle.load(file_)\n",
    "adversarial_y = pickle.load(file_)\n",
    "file_.close()"
   ]
  },
  {
   "cell_type": "code",
   "execution_count": 6,
   "metadata": {},
   "outputs": [],
   "source": [
    "file_ = open('subset_rbf', 'rb')\n",
    "original_rbf = pickle.load(file_)\n",
    "adversarial_rbf = pickle.load(file_)\n",
    "original_y_rbf = pickle.load(file_)\n",
    "adversarial_y_rbf = pickle.load(file_)\n",
    "file_.close()"
   ]
  },
  {
   "cell_type": "code",
   "execution_count": 7,
   "metadata": {},
   "outputs": [],
   "source": [
    "file_ = open('adv_rbf_1_qua', 'rb')\n",
    "adversarials = pickle.load(file_)\n",
    "times = pickle.load(file_)\n",
    "nfes  = pickle.load(file_)\n",
    "psnrs = pickle.load(file_)\n",
    "ssim_scores = pickle.load(file_)\n",
    "predicted_classes = pickle.load(file_)\n",
    "file_.close()"
   ]
  },
  {
   "cell_type": "code",
   "execution_count": 8,
   "metadata": {},
   "outputs": [],
   "source": [
    "inp = Input(shape=(28,28,1))\n",
    "conv1 = Conv2D(32, (3,3),activation='relu')(inp)\n",
    "conv2 = Conv2D(32, (3,3),activation='relu')(conv1)\n",
    "max_pool1 = MaxPooling2D(pool_size=(2, 2))(conv2)\n",
    "drop = Dropout(0.25)(max_pool1)\n",
    "flat =  Flatten()(drop)\n",
    "dense1 = Dense(128,activation=\"relu\")(flat)\n",
    "drop = Dropout(0.5)(dense1)\n",
    "predictions = Dense(10,activation=\"softmax\")(drop)\n",
    "model = Model(inputs=[inp], outputs=[predictions])\n",
    "model.compile(optimizer='Adadelta', \n",
    "              loss='categorical_crossentropy', \n",
    "              metrics=['accuracy'])\n",
    "\n",
    "model.load_weights('CNN_MNIST.h5')\n",
    "#print(model)\n",
    "#model.summary()"
   ]
  },
  {
   "cell_type": "code",
   "execution_count": 9,
   "metadata": {},
   "outputs": [
    {
     "name": "stdout",
     "output_type": "stream",
     "text": [
      "accuracy on subset: 0.9888268156424581\n",
      "accuracy on adversarial: 0.9920634920634921\n",
      "accuracy on adversarials: 0.873015873015873\n",
      "accuracy on subset with adversarials: 0.9745347698334965\n"
     ]
    }
   ],
   "source": [
    "model_preds = np.argmax(model.predict(np.array(original).reshape(np.array(original).shape[0], 28, 28, 1)/255.), axis=1)\n",
    "print('accuracy on subset:', accuracy_score(model_preds, original_y))\n",
    "model_preds = np.argmax(model.predict(np.array(adversarial).reshape(np.array(adversarial).shape[0], 28, 28, 1)/255.), axis=1)\n",
    "print('accuracy on adversarial:', accuracy_score(model_preds, adversarial_y))\n",
    "model_preds = np.argmax(model.predict(np.array(adversarials).reshape(np.array(adversarials).shape[0], 28, 28, 1)/255.), axis=1)\n",
    "print('accuracy on adversarials:', accuracy_score(model_preds, adversarial_y))\n",
    "sub = np.concatenate((original, np.array(adversarials).reshape(np.array(adversarials).shape[0],784)))\n",
    "sub_y = np.concatenate((original_y, adversarial_y))\n",
    "model_preds = np.argmax(model.predict(np.array(sub).reshape(np.array(sub).shape[0], 28, 28, 1)/255.), axis=1)\n",
    "print('accuracy on subset with adversarials:',accuracy_score(model_preds, sub_y))"
   ]
  },
  {
   "cell_type": "code",
   "execution_count": 10,
   "metadata": {},
   "outputs": [],
   "source": [
    "(X, y), (X_test, y_test) = tf.keras.datasets.mnist.load_data()\n",
    "X = X.reshape((X.shape[0], -1))\n",
    "X_sc = X / 255.0\n",
    "X_sc.shape\n",
    "y_cat = to_categorical(y)\n",
    "X_test = X_test.reshape((X_test.shape[0], -1))\n",
    "X_test_sc = X_test / 255.0\n",
    "\n",
    "num_lm0 = 100\n",
    "num_lm = num_lm0 * 10\n",
    "init_list = []\n",
    "for ii in range(10):\n",
    "    init_wgt0 = X[y==ii]\n",
    "    init_wgt0 = init_wgt0[np.random.choice(range(init_wgt0.shape[0]), size=num_lm0, replace=False)] + \\\n",
    "                np.random.normal(scale=0.01, size=num_lm0*784).reshape(num_lm0, 784)\n",
    "    init_list.append(init_wgt0)\n",
    "init_wgt = np.vstack(init_list)\n",
    "init_wgt = init_wgt[np.random.permutation(range(init_wgt.shape[0]))]\n",
    "\n",
    "inp2 = Input(shape=(28*28,), name='inp')\n",
    "oup2 = GaussianKernel(num_lm, 28*28,\n",
    "                     kernel_gamma='auto', weights=[init_wgt],\n",
    "                     name='gkernel1')(inp2)\n",
    "oup2 = Dense(10, activation='softmax')(oup2)\n",
    "model2 = Model(inp2, oup2)\n",
    "model2.compile(loss='categorical_crossentropy', optimizer='adam', metrics=['accuracy'])\n",
    "\n",
    "model2.load_weights(\"rbfnn_v2.h5\")"
   ]
  },
  {
   "cell_type": "code",
   "execution_count": 11,
   "metadata": {},
   "outputs": [
    {
     "name": "stdout",
     "output_type": "stream",
     "text": [
      "accuracy on subset: 0.9363128491620112\n",
      "accuracy on adversarial: 0.9365079365079365\n",
      "accuracy on adversarials: 0.2619047619047619\n",
      "accuracy on subset with adversarials: 0.8550440744368266\n"
     ]
    }
   ],
   "source": [
    "model_preds = np.argmax(model2.predict(np.array(original_rbf).reshape(np.array(original_rbf).shape[0], -1)/255.), axis=1)\n",
    "print('accuracy on subset:', accuracy_score(model_preds, original_y_rbf))\n",
    "model_preds = np.argmax(model2.predict(np.array(adversarial_rbf).reshape(np.array(adversarial_rbf).shape[0], -1)/255.), axis=1)\n",
    "print('accuracy on adversarial:', accuracy_score(model_preds, adversarial_y_rbf))\n",
    "model_preds = np.argmax(model2.predict(np.array(adversarials).reshape(np.array(adversarials).shape[0], -1)/255.), axis=1)\n",
    "print('accuracy on adversarials:', accuracy_score(model_preds, adversarial_y_rbf))\n",
    "sub = np.concatenate((original_rbf, np.array(adversarials).reshape(np.array(adversarials).shape[0],784)))\n",
    "sub_y = np.concatenate((original_y_rbf, adversarial_y_rbf))\n",
    "model_preds = np.argmax(model2.predict(np.array(sub).reshape(np.array(sub).shape[0], -1)/255.), axis=1)\n",
    "print('accuracy on subset with adversarials:',accuracy_score(model_preds, sub_y))"
   ]
  },
  {
   "cell_type": "code",
   "execution_count": null,
   "metadata": {},
   "outputs": [],
   "source": []
  }
 ],
 "metadata": {
  "kernelspec": {
   "display_name": "Python 3",
   "language": "python",
   "name": "python3"
  },
  "language_info": {
   "codemirror_mode": {
    "name": "ipython",
    "version": 3
   },
   "file_extension": ".py",
   "mimetype": "text/x-python",
   "name": "python",
   "nbconvert_exporter": "python",
   "pygments_lexer": "ipython3",
   "version": "3.6.10"
  }
 },
 "nbformat": 4,
 "nbformat_minor": 4
}
