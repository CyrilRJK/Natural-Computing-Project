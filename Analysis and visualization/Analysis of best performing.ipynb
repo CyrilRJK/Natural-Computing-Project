{
 "cells": [
  {
   "cell_type": "code",
   "execution_count": 1,
   "metadata": {},
   "outputs": [],
   "source": [
    "#Notebook for analysis "
   ]
  },
  {
   "cell_type": "code",
   "execution_count": 32,
   "metadata": {},
   "outputs": [],
   "source": [
    "import tensorflow as tf\n",
    "import numpy as np \n",
    "import matplotlib.pyplot as plt\n",
    "import seaborn as sns\n",
    "from sklearn.svm import SVC\n",
    "import pickle\n",
    "import time\n",
    "from skimage.measure import compare_ssim\n",
    "import tensorflow as tf\n",
    "from keras.models import Model,load_model\n",
    "from keras.layers import Dense, Conv2D, Dropout, Flatten, MaxPooling2D, Input, Activation\n",
    "from keras.utils import to_categorical\n",
    "import keras\n",
    "from sklearn.metrics import accuracy_score\n",
    "import random\n",
    "from sklearn.metrics import confusion_matrix\n",
    "from sklearn import metrics"
   ]
  },
  {
   "cell_type": "code",
   "execution_count": 33,
   "metadata": {},
   "outputs": [
    {
     "name": "stdout",
     "output_type": "stream",
     "text": [
      "Original shape (895, 784)\n",
      "Adversarial shape (126, 784)\n",
      "Original labels shape (895,)\n",
      "Adversarial labels shape (126,)\n"
     ]
    }
   ],
   "source": [
    "with open('../subsets/subset', 'rb') as f:\n",
    "    original = pickle.load(f)\n",
    "    adversarial= pickle.load(f)\n",
    "    original_y = pickle.load(f)\n",
    "    adversarial_y = pickle.load(f)\n",
    "\n",
    "print(f\"Original shape {original.shape}\")\n",
    "print(f\"Adversarial shape {adversarial.shape}\")\n",
    "print(f\"Original labels shape {original_y.shape}\")\n",
    "print(f\"Adversarial labels shape {adversarial_y.shape}\")"
   ]
  },
  {
   "cell_type": "code",
   "execution_count": 34,
   "metadata": {},
   "outputs": [
    {
     "name": "stdout",
     "output_type": "stream",
     "text": [
      "class: 0, percentage of samples: 10.32% \n",
      "class: 1, percentage of samples: 11.9% \n",
      "class: 2, percentage of samples: 9.52% \n",
      "class: 3, percentage of samples: 8.73% \n",
      "class: 4, percentage of samples: 10.32% \n",
      "class: 5, percentage of samples: 9.52% \n",
      "class: 6, percentage of samples: 9.52% \n",
      "class: 7, percentage of samples: 10.32% \n",
      "class: 8, percentage of samples: 9.52% \n",
      "class: 9, percentage of samples: 10.32% \n",
      "[13 15 12 11 13 12 12 13 12 13]\n"
     ]
    }
   ],
   "source": [
    "a = np.array(adversarial_y)\n",
    "unique, counts = np.unique(a, return_counts=True)\n",
    "for x,y in zip(unique, counts): \n",
    "    print(f\"class: {x}, percentage of samples: {round(y/sum(counts)*100,2)}% \")\n",
    "print(counts)"
   ]
  },
  {
   "cell_type": "code",
   "execution_count": 13,
   "metadata": {},
   "outputs": [
    {
     "data": {
      "text/plain": [
       "126"
      ]
     },
     "execution_count": 13,
     "metadata": {},
     "output_type": "execute_result"
    }
   ],
   "source": [
    "sum(counts)"
   ]
  },
  {
   "cell_type": "code",
   "execution_count": 4,
   "metadata": {},
   "outputs": [],
   "source": [
    "labels = [0,1,2,3,4,5,6,7,8,9]\n",
    "true= adversarial_y"
   ]
  },
  {
   "cell_type": "code",
   "execution_count": 36,
   "metadata": {},
   "outputs": [],
   "source": [
    "# BEST PERFORMING \n",
    "# Quadrant seed 0, MNIST\n",
    "# \n",
    "\n",
    "with open('adv_rbf_0_qua', 'rb') as f:\n",
    "    evolved_examples = pickle.load(f)\n",
    "    times= pickle.load(f)\n",
    "    nfes= pickle.load(f)\n",
    "    psnrs = pickle.load(f)\n",
    "    ssim_values = pickle.load(f)\n",
    "    #fitness_of_evolved = pickle.load(f)\n",
    "    predicted = pickle.load(f)\n",
    "    #number_of_rounds = pickle.load(f)\n",
    "evolved_examples = np.array(evolved_examples)\n",
    "\n",
    "predicted_class = []\n",
    "for score in predicted:\n",
    "    predicted_class.append(np.argmax(score))\n",
    "\n",
    "#report = confusion_matrix(true, predicted_class, labels)"
   ]
  },
  {
   "cell_type": "code",
   "execution_count": 16,
   "metadata": {},
   "outputs": [
    {
     "data": {
      "image/png": "[encoded data removed]",
      "text/plain": [
       "<Figure size 432x288 with 2 Axes>"
      ]
     },
     "metadata": {
      "needs_background": "light"
     },
     "output_type": "display_data"
    }
   ],
   "source": [
    "import seaborn as sns\n",
    "import matplotlib.pyplot as plt     \n",
    "\n",
    "ax= plt.subplot()\n",
    "sns.heatmap(report, annot=True, ax = ax); #annot=True to annotate cells\n",
    "\n",
    "# labels, title and ticks\n",
    "ax.set_xlabel('Predicted labels');ax.set_ylabel('True labels'); \n",
    "ax.set_title('MNIST - GA: Quadrant crossover'); \n",
    "ax.xaxis.set_ticklabels(labels); ax.yaxis.set_ticklabels(labels);"
   ]
  },
  {
   "cell_type": "code",
   "execution_count": 17,
   "metadata": {},
   "outputs": [
    {
     "name": "stdout",
     "output_type": "stream",
     "text": [
      "Percentage of predicted classes after evolving (multicrossover) seed 0: \n",
      "class: 0, percentage of samples: 1.59% \n",
      "class: 1, percentage of samples: 1.59% \n",
      "class: 2, percentage of samples: 10.32% \n",
      "class: 3, percentage of samples: 20.63% \n",
      "class: 4, percentage of samples: 1.59% \n",
      "class: 5, percentage of samples: 50.0% \n",
      "class: 6, percentage of samples: 0.79% \n",
      "class: 7, percentage of samples: 2.38% \n",
      "class: 8, percentage of samples: 5.56% \n",
      "class: 9, percentage of samples: 5.56% \n"
     ]
    }
   ],
   "source": [
    "a= np.array(predicted_class)\n",
    "unique, counts = np.unique(a, return_counts=True)\n",
    "print(\"Percentage of predicted classes after evolving (multicrossover) seed 0: \")\n",
    "for x,y in zip(unique, counts): \n",
    "    print(f\"class: {x}, percentage of samples: {round(y/sum(counts)*100,2)}% \")"
   ]
  },
  {
   "cell_type": "code",
   "execution_count": 37,
   "metadata": {
    "scrolled": true
   },
   "outputs": [
    {
     "name": "stdout",
     "output_type": "stream",
     "text": [
      "Ground truth: Class 0\n",
      "Percentage of predicted classes after evolving (multicrossover) seed 0: \n",
      "Predicted class: 0, percentage of total predictions: 7.69% , amount of this class 1  \n",
      "Predicted class: 3, percentage of total predictions: 7.69% , amount of this class 1  \n",
      "Predicted class: 5, percentage of total predictions: 84.62% , amount of this class 11  \n",
      "13\n",
      "\n",
      "Ground truth: Class 1\n",
      "Percentage of predicted classes after evolving (multicrossover) seed 0: \n",
      "Predicted class: 1, percentage of total predictions: 8.33% , amount of this class 1  \n",
      "Predicted class: 2, percentage of total predictions: 8.33% , amount of this class 1  \n",
      "Predicted class: 3, percentage of total predictions: 16.67% , amount of this class 2  \n",
      "Predicted class: 5, percentage of total predictions: 41.67% , amount of this class 5  \n",
      "Predicted class: 7, percentage of total predictions: 8.33% , amount of this class 1  \n",
      "Predicted class: 8, percentage of total predictions: 16.67% , amount of this class 2  \n",
      "12\n",
      "\n",
      "Ground truth: Class 2\n",
      "Percentage of predicted classes after evolving (multicrossover) seed 0: \n",
      "Predicted class: 2, percentage of total predictions: 21.43% , amount of this class 3  \n",
      "Predicted class: 3, percentage of total predictions: 50.0% , amount of this class 7  \n",
      "Predicted class: 5, percentage of total predictions: 21.43% , amount of this class 3  \n",
      "Predicted class: 8, percentage of total predictions: 7.14% , amount of this class 1  \n",
      "14\n",
      "\n",
      "Ground truth: Class 3\n",
      "Percentage of predicted classes after evolving (multicrossover) seed 0: \n",
      "Predicted class: 5, percentage of total predictions: 84.62% , amount of this class 11  \n",
      "Predicted class: 7, percentage of total predictions: 7.69% , amount of this class 1  \n",
      "Predicted class: 8, percentage of total predictions: 7.69% , amount of this class 1  \n",
      "13\n",
      "\n",
      "Ground truth: Class 4\n",
      "Percentage of predicted classes after evolving (multicrossover) seed 0: \n",
      "Predicted class: 2, percentage of total predictions: 7.14% , amount of this class 1  \n",
      "Predicted class: 5, percentage of total predictions: 35.71% , amount of this class 5  \n",
      "Predicted class: 7, percentage of total predictions: 7.14% , amount of this class 1  \n",
      "Predicted class: 8, percentage of total predictions: 7.14% , amount of this class 1  \n",
      "Predicted class: 9, percentage of total predictions: 42.86% , amount of this class 6  \n",
      "14\n",
      "\n",
      "Ground truth: Class 5\n",
      "Percentage of predicted classes after evolving (multicrossover) seed 0: \n",
      "Predicted class: 0, percentage of total predictions: 7.14% , amount of this class 1  \n",
      "Predicted class: 2, percentage of total predictions: 14.29% , amount of this class 2  \n",
      "Predicted class: 3, percentage of total predictions: 28.57% , amount of this class 4  \n",
      "Predicted class: 5, percentage of total predictions: 28.57% , amount of this class 4  \n",
      "Predicted class: 6, percentage of total predictions: 7.14% , amount of this class 1  \n",
      "Predicted class: 8, percentage of total predictions: 14.29% , amount of this class 2  \n",
      "14\n",
      "\n",
      "Ground truth: Class 6\n",
      "Percentage of predicted classes after evolving (multicrossover) seed 0: \n",
      "Predicted class: 2, percentage of total predictions: 23.08% , amount of this class 3  \n",
      "Predicted class: 3, percentage of total predictions: 7.69% , amount of this class 1  \n",
      "Predicted class: 4, percentage of total predictions: 7.69% , amount of this class 1  \n",
      "Predicted class: 5, percentage of total predictions: 61.54% , amount of this class 8  \n",
      "13\n",
      "\n",
      "Ground truth: Class 7 \n",
      "Percentage of predicted classes after evolving (multicrossover) seed 0: \n",
      "Predicted class: 1, percentage of total predictions: 7.69% , amount of this class 1  \n",
      "Predicted class: 2, percentage of total predictions: 15.38% , amount of this class 2  \n",
      "Predicted class: 3, percentage of total predictions: 46.15% , amount of this class 6  \n",
      "Predicted class: 5, percentage of total predictions: 23.08% , amount of this class 3  \n",
      "Predicted class: 9, percentage of total predictions: 7.69% , amount of this class 1  \n",
      "13\n",
      "\n",
      "Ground truth: CLass 8\n",
      "Percentage of predicted classes after evolving (multicrossover) seed 0: \n",
      "Predicted class: 2, percentage of total predictions: 15.38% , amount of this class 2  \n",
      "Predicted class: 3, percentage of total predictions: 23.08% , amount of this class 3  \n",
      "Predicted class: 5, percentage of total predictions: 61.54% , amount of this class 8  \n",
      "13\n",
      "\n",
      "Ground truth: Predicted Class 9\n",
      "Percentage of predicted classes after evolving (multicrossover) seed 0: \n",
      "Predicted class: 3, percentage of total predictions: 14.29% , amount of this class 1  \n",
      "Predicted class: 4, percentage of total predictions: 14.29% , amount of this class 1  \n",
      "Predicted class: 5, percentage of total predictions: 71.43% , amount of this class 5  \n",
      "7\n",
      "\n"
     ]
    }
   ],
   "source": [
    "# now I will try to see e.g. for class 0 , which is the most missclasified class\n",
    "\n",
    "# Class 0 \n",
    "print(\"Ground truth: Class 0\")\n",
    "ad_class0=predicted_class[0:13]\n",
    "a= np.array(ad_class0)\n",
    "unique, counts = np.unique(a, return_counts=True)\n",
    "print(\"Percentage of predicted classes after evolving (multicrossover) seed 0: \")\n",
    "for x,y in zip(unique, counts): \n",
    "    print(f\"Predicted class: {x}, percentage of total predictions: {round(y/sum(counts)*100,2)}% , amount of this class {y}  \")\n",
    "print(\"\" + str(sum(counts)) +\"\\n\")\n",
    "\n",
    "\n",
    "# Class 1\n",
    "print(\"Ground truth: Class 1\")\n",
    "ad_class1=predicted_class[13:25]\n",
    "a= np.array(ad_class1)\n",
    "unique, counts = np.unique(a, return_counts=True)\n",
    "print(\"Percentage of predicted classes after evolving (multicrossover) seed 0: \")\n",
    "for x,y in zip(unique, counts): \n",
    "    print(f\"Predicted class: {x}, percentage of total predictions: {round(y/sum(counts)*100,2)}% , amount of this class {y}  \")\n",
    "print(\"\" + str(sum(counts))  +\"\\n\")  \n",
    "\n",
    "\n",
    "# Class 2\n",
    "print(\"Ground truth: Class 2\")\n",
    "ad_class2=predicted_class[25:39]\n",
    "a= np.array(ad_class2)\n",
    "unique, counts = np.unique(a, return_counts=True)\n",
    "print(\"Percentage of predicted classes after evolving (multicrossover) seed 0: \")\n",
    "for x,y in zip(unique, counts): \n",
    "    print(f\"Predicted class: {x}, percentage of total predictions: {round(y/sum(counts)*100,2)}% , amount of this class {y}  \")\n",
    "print(\"\" + str(sum(counts))  +\"\\n\") \n",
    "\n",
    "# Class 3\n",
    "print(\"Ground truth: Class 3\")\n",
    "ad_class3=predicted_class[39:52]\n",
    "a= np.array(ad_class3)\n",
    "unique, counts = np.unique(a, return_counts=True)\n",
    "print(\"Percentage of predicted classes after evolving (multicrossover) seed 0: \")\n",
    "for x,y in zip(unique, counts): \n",
    "    print(f\"Predicted class: {x}, percentage of total predictions: {round(y/sum(counts)*100,2)}% , amount of this class {y}  \")\n",
    "print(\"\" + str(sum(counts))  +\"\\n\") \n",
    "\n",
    "# Class 4\n",
    "print(\"Ground truth: Class 4\")\n",
    "ad_class4=predicted_class[52:66]\n",
    "a= np.array(ad_class4)\n",
    "unique, counts = np.unique(a, return_counts=True)\n",
    "print(\"Percentage of predicted classes after evolving (multicrossover) seed 0: \")\n",
    "for x,y in zip(unique, counts): \n",
    "    print(f\"Predicted class: {x}, percentage of total predictions: {round(y/sum(counts)*100,2)}% , amount of this class {y}  \")\n",
    "print(\"\" + str(sum(counts))  +\"\\n\") \n",
    "\n",
    "# Class 5 \n",
    "print(\"Ground truth: Class 5\")\n",
    "ad_class5=predicted_class[66:80]\n",
    "a= np.array(ad_class5)\n",
    "unique, counts = np.unique(a, return_counts=True)\n",
    "print(\"Percentage of predicted classes after evolving (multicrossover) seed 0: \")\n",
    "for x,y in zip(unique, counts): \n",
    "    print(f\"Predicted class: {x}, percentage of total predictions: {round(y/sum(counts)*100,2)}% , amount of this class {y}  \")\n",
    "print(\"\" + str(sum(counts))  +\"\\n\") \n",
    "\n",
    "# Class 6\n",
    "print(\"Ground truth: Class 6\")\n",
    "ad_class6=predicted_class[79:92]\n",
    "a= np.array(ad_class6)\n",
    "unique, counts = np.unique(a, return_counts=True)\n",
    "print(\"Percentage of predicted classes after evolving (multicrossover) seed 0: \")\n",
    "for x,y in zip(unique, counts): \n",
    "    print(f\"Predicted class: {x}, percentage of total predictions: {round(y/sum(counts)*100,2)}% , amount of this class {y}  \")\n",
    "print(\"\" + str(sum(counts))  +\"\\n\")  \n",
    "\n",
    "# Class 7\n",
    "print(\"Ground truth: Class 7 \")\n",
    "ad_class7=predicted_class[93:106]\n",
    "a= np.array(ad_class7)\n",
    "unique, counts = np.unique(a, return_counts=True)\n",
    "print(\"Percentage of predicted classes after evolving (multicrossover) seed 0: \")\n",
    "for x,y in zip(unique, counts): \n",
    "    print(f\"Predicted class: {x}, percentage of total predictions: {round(y/sum(counts)*100,2)}% , amount of this class {y}  \")\n",
    "print(\"\" +str(sum(counts))  +\"\\n\") \n",
    "\n",
    "# Class 8\n",
    "print(\"Ground truth: CLass 8\")\n",
    "ad_class8=predicted_class[106:119]\n",
    "a= np.array(ad_class8)\n",
    "unique, counts = np.unique(a, return_counts=True)\n",
    "print(\"Percentage of predicted classes after evolving (multicrossover) seed 0: \")\n",
    "for x,y in zip(unique, counts): \n",
    "    print(f\"Predicted class: {x}, percentage of total predictions: {round(y/sum(counts)*100,2)}% , amount of this class {y}  \")\n",
    "print(\"\" + str(sum(counts))  +\"\\n\") \n",
    "\n",
    "# Class 9\n",
    "print(\"Ground truth: Predicted Class 9\")\n",
    "ad_class9=predicted_class[119:134]\n",
    "a= np.array(ad_class9)\n",
    "unique, counts = np.unique(a, return_counts=True)\n",
    "print(\"Percentage of predicted classes after evolving (multicrossover) seed 0: \")\n",
    "for x,y in zip(unique, counts): \n",
    "    print(f\"Predicted class: {x}, percentage of total predictions: {round(y/sum(counts)*100,2)}% , amount of this class {y}  \")\n",
    "print(\"\" + str(sum(counts))  +\"\\n\") "
   ]
  },
  {
   "cell_type": "code",
   "execution_count": 40,
   "metadata": {},
   "outputs": [
    {
     "name": "stdout",
     "output_type": "stream",
     "text": [
      "Original shape (914, 32, 32, 1)\n",
      "Adversarial shape (133, 32, 32, 1)\n",
      "Original labels shape (914, 1)\n",
      "Adversarial labels shape (133, 1)\n"
     ]
    }
   ],
   "source": [
    "#change subset to cifar10\n",
    "with open('../subsets/subset_cifar', 'rb') as f:\n",
    "    original = pickle.load(f)\n",
    "    adversarial= pickle.load(f)\n",
    "    original_y = pickle.load(f)\n",
    "    adversarial_y = pickle.load(f)\n",
    "\n",
    "print(f\"Original shape {original.shape}\")\n",
    "print(f\"Adversarial shape {adversarial.shape}\")\n",
    "print(f\"Original labels shape {original_y.shape}\")\n",
    "print(f\"Adversarial labels shape {adversarial_y.shape}\")\n",
    "\n",
    "labels = [0,1,2,3,4,5,6,7,8,9]\n",
    "true= adversarial_y"
   ]
  },
  {
   "cell_type": "code",
   "execution_count": 41,
   "metadata": {},
   "outputs": [],
   "source": [
    "# 2K crossover , SEED 0 , CIFAR \n",
    "\n",
    "with open('../Improved GA/results/GA_cifar_ssim_2K', 'rb') as f:\n",
    "    evolved_examples = pickle.load(f)\n",
    "    times= pickle.load(f)\n",
    "    ssim_values = pickle.load(f)\n",
    "    fitness_of_evolved = pickle.load(f)\n",
    "    predicted_class = pickle.load(f)\n",
    "    number_of_rounds = pickle.load(f)\n",
    "evolved_examples = np.array(evolved_examples)\n",
    "\n",
    "# 2K crossover , SEED 1 , CIFAR \n",
    "\n",
    "with open('../Improved GA/results/GA_cifar_ssim_2K_seed1', 'rb') as f:\n",
    "    evolved_examples1 = pickle.load(f)\n",
    "    times1= pickle.load(f)\n",
    "    ssim_values1 = pickle.load(f)\n",
    "    fitness_of_evolved1 = pickle.load(f)\n",
    "    predicted_class1 = pickle.load(f)\n",
    "    number_of_rounds1 = pickle.load(f)\n",
    "evolved_examples1 = np.array(evolved_examples1)"
   ]
  },
  {
   "cell_type": "code",
   "execution_count": 51,
   "metadata": {},
   "outputs": [
    {
     "data": {
      "text/plain": [
       "Text(0.5, 1.0, 'GA: Unifrom \\n Predicted: 3')"
      ]
     },
     "execution_count": 51,
     "metadata": {},
     "output_type": "execute_result"
    },
    {
     "data": {
      "image/png": "[encoded data removed]",
      "text/plain": [
       "<Figure size 576x576 with 3 Axes>"
      ]
     },
     "metadata": {
      "needs_background": "light"
     },
     "output_type": "display_data"
    }
   ],
   "source": [
    "fd, idx =  plt.subplots(1,3)\n",
    "fd.set_size_inches(8,8)\n",
    "idx[0].imshow(adversarial[69].reshape(32,32),cmap=\"gray\")\n",
    "idx[1].imshow(evolved_examples[69].reshape(32,32),cmap=\"gray\")\n",
    "idx[2].imshow(evolved_examples1[69].reshape(32,32),cmap=\"gray\")\n",
    "idx[0].set_title(f\"Original image\\n Class: {adversarial_y[69][0]}\")\n",
    "idx[1].set_title(f\"GA: Quadrant\\n Predicted: {predicted_class[69]}\")\n",
    "idx[2].set_title(f\"GA: Unifrom \\n Predicted: {predicted_class1[69]}\")"
   ]
  },
  {
   "cell_type": "code",
   "execution_count": 54,
   "metadata": {},
   "outputs": [
    {
     "name": "stdout",
     "output_type": "stream",
     "text": [
      "0.03582695943638248\n",
      "0.03331304258725876\n"
     ]
    }
   ],
   "source": [
    "print(ssim_values[69])\n",
    "print(ssim_values1[69])"
   ]
  },
  {
   "cell_type": "code",
   "execution_count": 29,
   "metadata": {},
   "outputs": [
    {
     "data": {
      "image/png": "[encoded data removed]",
      "text/plain": [
       "<Figure size 432x288 with 2 Axes>"
      ]
     },
     "metadata": {
      "needs_background": "light"
     },
     "output_type": "display_data"
    }
   ],
   "source": [
    "import seaborn as sns\n",
    "import matplotlib.pyplot as plt     \n",
    "\n",
    "report = confusion_matrix(true, predicted_class, labels)\n",
    "ax= plt.subplot()\n",
    "sns.heatmap(report, annot=True, ax = ax); #annot=True to annotate cells\n",
    "\n",
    "# labels, title and ticks\n",
    "ax.set_xlabel('Predicted labels');ax.set_ylabel('True labels'); \n",
    "ax.set_title('CIFAR10 - GA: 2-k crossover (Seed1)'); \n",
    "ax.xaxis.set_ticklabels(labels); ax.yaxis.set_ticklabels(labels);"
   ]
  },
  {
   "cell_type": "code",
   "execution_count": 30,
   "metadata": {},
   "outputs": [
    {
     "name": "stdout",
     "output_type": "stream",
     "text": [
      "Ground truth: Class 0\n",
      "Percentage of predicted classes after evolving (multicrossover) seed 0: \n",
      "Predicted class: 2, percentage of total predictions: 53.85% , amount of this class 7  \n",
      "Predicted class: 8, percentage of total predictions: 38.46% , amount of this class 5  \n",
      "Predicted class: 9, percentage of total predictions: 7.69% , amount of this class 1  \n",
      "13\n",
      "\n",
      "Ground truth: Class 1\n",
      "Percentage of predicted classes after evolving (multicrossover) seed 0: \n",
      "Predicted class: 0, percentage of total predictions: 16.67% , amount of this class 2  \n",
      "Predicted class: 1, percentage of total predictions: 33.33% , amount of this class 4  \n",
      "Predicted class: 6, percentage of total predictions: 8.33% , amount of this class 1  \n",
      "Predicted class: 7, percentage of total predictions: 8.33% , amount of this class 1  \n",
      "Predicted class: 8, percentage of total predictions: 8.33% , amount of this class 1  \n",
      "Predicted class: 9, percentage of total predictions: 25.0% , amount of this class 3  \n",
      "12\n",
      "\n",
      "Ground truth: Class 2\n",
      "Percentage of predicted classes after evolving (multicrossover) seed 0: \n",
      "Predicted class: 0, percentage of total predictions: 7.14% , amount of this class 1  \n",
      "Predicted class: 2, percentage of total predictions: 14.29% , amount of this class 2  \n",
      "Predicted class: 3, percentage of total predictions: 14.29% , amount of this class 2  \n",
      "Predicted class: 4, percentage of total predictions: 7.14% , amount of this class 1  \n",
      "Predicted class: 5, percentage of total predictions: 7.14% , amount of this class 1  \n",
      "Predicted class: 6, percentage of total predictions: 42.86% , amount of this class 6  \n",
      "Predicted class: 7, percentage of total predictions: 7.14% , amount of this class 1  \n",
      "14\n",
      "\n",
      "Ground truth: Class 3\n",
      "Percentage of predicted classes after evolving (multicrossover) seed 0: \n",
      "Predicted class: 0, percentage of total predictions: 7.69% , amount of this class 1  \n",
      "Predicted class: 2, percentage of total predictions: 30.77% , amount of this class 4  \n",
      "Predicted class: 5, percentage of total predictions: 30.77% , amount of this class 4  \n",
      "Predicted class: 6, percentage of total predictions: 7.69% , amount of this class 1  \n",
      "Predicted class: 7, percentage of total predictions: 23.08% , amount of this class 3  \n",
      "13\n",
      "\n",
      "Ground truth: Class 4\n",
      "Percentage of predicted classes after evolving (multicrossover) seed 0: \n",
      "Predicted class: 0, percentage of total predictions: 7.14% , amount of this class 1  \n",
      "Predicted class: 1, percentage of total predictions: 7.14% , amount of this class 1  \n",
      "Predicted class: 2, percentage of total predictions: 42.86% , amount of this class 6  \n",
      "Predicted class: 3, percentage of total predictions: 7.14% , amount of this class 1  \n",
      "Predicted class: 5, percentage of total predictions: 7.14% , amount of this class 1  \n",
      "Predicted class: 6, percentage of total predictions: 7.14% , amount of this class 1  \n",
      "Predicted class: 7, percentage of total predictions: 21.43% , amount of this class 3  \n",
      "14\n",
      "\n",
      "Ground truth: Class 5\n",
      "Percentage of predicted classes after evolving (multicrossover) seed 0: \n",
      "Predicted class: 2, percentage of total predictions: 21.43% , amount of this class 3  \n",
      "Predicted class: 3, percentage of total predictions: 64.29% , amount of this class 9  \n",
      "Predicted class: 6, percentage of total predictions: 7.14% , amount of this class 1  \n",
      "Predicted class: 7, percentage of total predictions: 7.14% , amount of this class 1  \n",
      "14\n",
      "\n",
      "Ground truth: Class 6\n",
      "Percentage of predicted classes after evolving (multicrossover) seed 0: \n",
      "Predicted class: 2, percentage of total predictions: 53.85% , amount of this class 7  \n",
      "Predicted class: 3, percentage of total predictions: 23.08% , amount of this class 3  \n",
      "Predicted class: 4, percentage of total predictions: 15.38% , amount of this class 2  \n",
      "Predicted class: 6, percentage of total predictions: 7.69% , amount of this class 1  \n",
      "13\n",
      "\n",
      "Ground truth: Class 7 \n",
      "Percentage of predicted classes after evolving (multicrossover) seed 0: \n",
      "Predicted class: 3, percentage of total predictions: 23.08% , amount of this class 3  \n",
      "Predicted class: 4, percentage of total predictions: 38.46% , amount of this class 5  \n",
      "Predicted class: 5, percentage of total predictions: 23.08% , amount of this class 3  \n",
      "Predicted class: 6, percentage of total predictions: 7.69% , amount of this class 1  \n",
      "Predicted class: 9, percentage of total predictions: 7.69% , amount of this class 1  \n",
      "13\n",
      "\n",
      "Ground truth: CLass 8\n",
      "Percentage of predicted classes after evolving (multicrossover) seed 0: \n",
      "Predicted class: 0, percentage of total predictions: 38.46% , amount of this class 5  \n",
      "Predicted class: 2, percentage of total predictions: 7.69% , amount of this class 1  \n",
      "Predicted class: 3, percentage of total predictions: 7.69% , amount of this class 1  \n",
      "Predicted class: 4, percentage of total predictions: 7.69% , amount of this class 1  \n",
      "Predicted class: 6, percentage of total predictions: 23.08% , amount of this class 3  \n",
      "Predicted class: 8, percentage of total predictions: 7.69% , amount of this class 1  \n",
      "Predicted class: 9, percentage of total predictions: 7.69% , amount of this class 1  \n",
      "13\n",
      "\n",
      "Ground truth: Predicted Class 9\n",
      "Percentage of predicted classes after evolving (multicrossover) seed 0: \n",
      "Predicted class: 0, percentage of total predictions: 7.14% , amount of this class 1  \n",
      "Predicted class: 1, percentage of total predictions: 42.86% , amount of this class 6  \n",
      "Predicted class: 2, percentage of total predictions: 7.14% , amount of this class 1  \n",
      "Predicted class: 6, percentage of total predictions: 7.14% , amount of this class 1  \n",
      "Predicted class: 7, percentage of total predictions: 7.14% , amount of this class 1  \n",
      "Predicted class: 8, percentage of total predictions: 21.43% , amount of this class 3  \n",
      "Predicted class: 9, percentage of total predictions: 7.14% , amount of this class 1  \n",
      "14\n",
      "\n"
     ]
    }
   ],
   "source": [
    "# now I will try to see e.g. for class 0 , which is the most missclasified class\n",
    "\n",
    "# Class 0 \n",
    "print(\"Ground truth: Class 0\")\n",
    "ad_class0=predicted_class[0:13]\n",
    "a= np.array(ad_class0)\n",
    "unique, counts = np.unique(a, return_counts=True)\n",
    "print(\"Percentage of predicted classes after evolving (multicrossover) seed 0: \")\n",
    "for x,y in zip(unique, counts): \n",
    "    print(f\"Predicted class: {x}, percentage of total predictions: {round(y/sum(counts)*100,2)}% , amount of this class {y}  \")\n",
    "print(\"\" + str(sum(counts)) +\"\\n\")\n",
    "\n",
    "\n",
    "# Class 1\n",
    "print(\"Ground truth: Class 1\")\n",
    "ad_class1=predicted_class[13:25]\n",
    "a= np.array(ad_class1)\n",
    "unique, counts = np.unique(a, return_counts=True)\n",
    "print(\"Percentage of predicted classes after evolving (multicrossover) seed 0: \")\n",
    "for x,y in zip(unique, counts): \n",
    "    print(f\"Predicted class: {x}, percentage of total predictions: {round(y/sum(counts)*100,2)}% , amount of this class {y}  \")\n",
    "print(\"\" + str(sum(counts))  +\"\\n\")  \n",
    "\n",
    "\n",
    "# Class 2\n",
    "print(\"Ground truth: Class 2\")\n",
    "ad_class2=predicted_class[25:39]\n",
    "a= np.array(ad_class2)\n",
    "unique, counts = np.unique(a, return_counts=True)\n",
    "print(\"Percentage of predicted classes after evolving (multicrossover) seed 0: \")\n",
    "for x,y in zip(unique, counts): \n",
    "    print(f\"Predicted class: {x}, percentage of total predictions: {round(y/sum(counts)*100,2)}% , amount of this class {y}  \")\n",
    "print(\"\" + str(sum(counts))  +\"\\n\") \n",
    "\n",
    "# Class 3\n",
    "print(\"Ground truth: Class 3\")\n",
    "ad_class3=predicted_class[39:52]\n",
    "a= np.array(ad_class3)\n",
    "unique, counts = np.unique(a, return_counts=True)\n",
    "print(\"Percentage of predicted classes after evolving (multicrossover) seed 0: \")\n",
    "for x,y in zip(unique, counts): \n",
    "    print(f\"Predicted class: {x}, percentage of total predictions: {round(y/sum(counts)*100,2)}% , amount of this class {y}  \")\n",
    "print(\"\" + str(sum(counts))  +\"\\n\") \n",
    "\n",
    "# Class 4\n",
    "print(\"Ground truth: Class 4\")\n",
    "ad_class4=predicted_class[52:66]\n",
    "a= np.array(ad_class4)\n",
    "unique, counts = np.unique(a, return_counts=True)\n",
    "print(\"Percentage of predicted classes after evolving (multicrossover) seed 0: \")\n",
    "for x,y in zip(unique, counts): \n",
    "    print(f\"Predicted class: {x}, percentage of total predictions: {round(y/sum(counts)*100,2)}% , amount of this class {y}  \")\n",
    "print(\"\" + str(sum(counts))  +\"\\n\") \n",
    "\n",
    "# Class 5 \n",
    "print(\"Ground truth: Class 5\")\n",
    "ad_class5=predicted_class[66:80]\n",
    "a= np.array(ad_class5)\n",
    "unique, counts = np.unique(a, return_counts=True)\n",
    "print(\"Percentage of predicted classes after evolving (multicrossover) seed 0: \")\n",
    "for x,y in zip(unique, counts): \n",
    "    print(f\"Predicted class: {x}, percentage of total predictions: {round(y/sum(counts)*100,2)}% , amount of this class {y}  \")\n",
    "print(\"\" + str(sum(counts))  +\"\\n\") \n",
    "\n",
    "# Class 6\n",
    "print(\"Ground truth: Class 6\")\n",
    "ad_class6=predicted_class[79:92]\n",
    "a= np.array(ad_class6)\n",
    "unique, counts = np.unique(a, return_counts=True)\n",
    "print(\"Percentage of predicted classes after evolving (multicrossover) seed 0: \")\n",
    "for x,y in zip(unique, counts): \n",
    "    print(f\"Predicted class: {x}, percentage of total predictions: {round(y/sum(counts)*100,2)}% , amount of this class {y}  \")\n",
    "print(\"\" + str(sum(counts))  +\"\\n\")  \n",
    "\n",
    "# Class 7\n",
    "print(\"Ground truth: Class 7 \")\n",
    "ad_class7=predicted_class[93:106]\n",
    "a= np.array(ad_class7)\n",
    "unique, counts = np.unique(a, return_counts=True)\n",
    "print(\"Percentage of predicted classes after evolving (multicrossover) seed 0: \")\n",
    "for x,y in zip(unique, counts): \n",
    "    print(f\"Predicted class: {x}, percentage of total predictions: {round(y/sum(counts)*100,2)}% , amount of this class {y}  \")\n",
    "print(\"\" +str(sum(counts))  +\"\\n\") \n",
    "\n",
    "# Class 8\n",
    "print(\"Ground truth: CLass 8\")\n",
    "ad_class8=predicted_class[106:119]\n",
    "a= np.array(ad_class8)\n",
    "unique, counts = np.unique(a, return_counts=True)\n",
    "print(\"Percentage of predicted classes after evolving (multicrossover) seed 0: \")\n",
    "for x,y in zip(unique, counts): \n",
    "    print(f\"Predicted class: {x}, percentage of total predictions: {round(y/sum(counts)*100,2)}% , amount of this class {y}  \")\n",
    "print(\"\" + str(sum(counts))  +\"\\n\") \n",
    "\n",
    "# Class 9\n",
    "print(\"Ground truth: Predicted Class 9\")\n",
    "ad_class9=predicted_class[119:134]\n",
    "a= np.array(ad_class9)\n",
    "unique, counts = np.unique(a, return_counts=True)\n",
    "print(\"Percentage of predicted classes after evolving (multicrossover) seed 0: \")\n",
    "for x,y in zip(unique, counts): \n",
    "    print(f\"Predicted class: {x}, percentage of total predictions: {round(y/sum(counts)*100,2)}% , amount of this class {y}  \")\n",
    "print(\"\" + str(sum(counts))  +\"\\n\") "
   ]
  },
  {
   "cell_type": "code",
   "execution_count": null,
   "metadata": {},
   "outputs": [],
   "source": []
  }
 ],
 "metadata": {
  "kernelspec": {
   "display_name": "Python 3",
   "language": "python",
   "name": "python3"
  },
  "language_info": {
   "codemirror_mode": {
    "name": "ipython",
    "version": 3
   },
   "file_extension": ".py",
   "mimetype": "text/x-python",
   "name": "python",
   "nbconvert_exporter": "python",
   "pygments_lexer": "ipython3",
   "version": "3.7.3"
  }
 },
 "nbformat": 4,
 "nbformat_minor": 2
}
