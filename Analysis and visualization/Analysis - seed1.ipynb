{
 "cells": [
  {
   "cell_type": "code",
   "execution_count": 1,
   "metadata": {},
   "outputs": [],
   "source": [
    "#Notebook for analysis "
   ]
  },
  {
   "cell_type": "code",
   "execution_count": 51,
   "metadata": {
    "scrolled": true
   },
   "outputs": [],
   "source": [
    "import tensorflow as tf\n",
    "import numpy as np \n",
    "import matplotlib.pyplot as plt\n",
    "import seaborn as sns\n",
    "from sklearn.svm import SVC\n",
    "import pickle\n",
    "import time\n",
    "from skimage.measure import compare_ssim\n",
    "import tensorflow as tf\n",
    "from keras.models import Model,load_model\n",
    "from keras.layers import Dense, Conv2D, Dropout, Flatten, MaxPooling2D, Input, Activation\n",
    "from keras.utils import to_categorical\n",
    "import keras\n",
    "from sklearn.metrics import accuracy_score\n",
    "import random\n",
    "from sklearn.metrics import confusion_matrix\n",
    "from sklearn import metrics"
   ]
  },
  {
   "cell_type": "code",
   "execution_count": 52,
   "metadata": {},
   "outputs": [
    {
     "name": "stdout",
     "output_type": "stream",
     "text": [
      "Original shape (895, 784)\n",
      "Adversarial shape (126, 784)\n",
      "Original labels shape (895,)\n",
      "Adversarial labels shape (126,)\n"
     ]
    }
   ],
   "source": [
    "with open('../subsets/subset', 'rb') as f:\n",
    "    original = pickle.load(f)\n",
    "    adversarial= pickle.load(f)\n",
    "    original_y = pickle.load(f)\n",
    "    adversarial_y = pickle.load(f)\n",
    "\n",
    "print(f\"Original shape {original.shape}\")\n",
    "print(f\"Adversarial shape {adversarial.shape}\")\n",
    "print(f\"Original labels shape {original_y.shape}\")\n",
    "print(f\"Adversarial labels shape {adversarial_y.shape}\")"
   ]
  },
  {
   "cell_type": "code",
   "execution_count": 53,
   "metadata": {},
   "outputs": [],
   "source": [
    "labels = [0,1,2,3,4,5,6,7,8,9]\n",
    "true= adversarial_y"
   ]
  },
  {
   "cell_type": "code",
   "execution_count": 54,
   "metadata": {},
   "outputs": [
    {
     "name": "stdout",
     "output_type": "stream",
     "text": [
      "class: 0, percentage of samples: 10.32% \n",
      "class: 1, percentage of samples: 11.9% \n",
      "class: 2, percentage of samples: 9.52% \n",
      "class: 3, percentage of samples: 8.73% \n",
      "class: 4, percentage of samples: 10.32% \n",
      "class: 5, percentage of samples: 9.52% \n",
      "class: 6, percentage of samples: 9.52% \n",
      "class: 7, percentage of samples: 10.32% \n",
      "class: 8, percentage of samples: 9.52% \n",
      "class: 9, percentage of samples: 10.32% \n"
     ]
    }
   ],
   "source": [
    "a = np.array(adversarial_y)\n",
    "unique, counts = np.unique(a, return_counts=True)\n",
    "for x,y in zip(unique, counts): \n",
    "    print(f\"class: {x}, percentage of samples: {round(y/sum(counts)*100,2)}% \")\n"
   ]
  },
  {
   "cell_type": "code",
   "execution_count": 55,
   "metadata": {},
   "outputs": [
    {
     "data": {
      "text/plain": [
       "array([13, 15, 12, 11, 13, 12, 12, 13, 12, 13], dtype=int64)"
      ]
     },
     "execution_count": 55,
     "metadata": {},
     "output_type": "execute_result"
    }
   ],
   "source": [
    "counts"
   ]
  },
  {
   "cell_type": "code",
   "execution_count": 56,
   "metadata": {},
   "outputs": [],
   "source": [
    "# BEST PERFORMING \n",
    "# Quadrant seed 1 \n",
    "# \n",
    "\n",
    "with open('adv_rbf_1_qua', 'rb') as f:\n",
    "    evolved_examples = pickle.load(f)\n",
    "    times= pickle.load(f)\n",
    "    nfes= pickle.load(f)\n",
    "    psnrs = pickle.load(f)\n",
    "    ssim_values = pickle.load(f)\n",
    "    #fitness_of_evolved = pickle.load(f)\n",
    "    predicted = pickle.load(f)\n",
    "    #number_of_rounds = pickle.load(f)\n",
    "evolved_examples = np.array(evolved_examples)\n",
    "\n",
    "predicted_class = []\n",
    "for score in predicted:\n",
    "    predicted_class.append(np.argmax(score))\n",
    "\n",
    "report = confusion_matrix(true, predicted_class, labels)\n"
   ]
  },
  {
   "cell_type": "code",
   "execution_count": 60,
   "metadata": {},
   "outputs": [],
   "source": [
    "\n",
    "#THIS IS JUST USED FOR SIMPLIITY OF PLOTTING:\n",
    "with open('adv_rbf_0_un', 'rb') as f:\n",
    "    evolved_examples1 = pickle.load(f)\n",
    "    times1= pickle.load(f)\n",
    "    nfes1= pickle.load(f)\n",
    "    psnrs1 = pickle.load(f)\n",
    "    ssim_values1 = pickle.load(f)\n",
    "    #fitness_of_evolved = pickle.load(f)\n",
    "    predicted1 = pickle.load(f)\n",
    "    #number_of_rounds = pickle.load(f)\n",
    "evolved_examples1 = np.array(evolved_examples1)\n",
    "\n",
    "predicted_class1 = []\n",
    "for score in predicted1:\n",
    "    predicted_class1.append(np.argmax(score))\n"
   ]
  },
  {
   "cell_type": "code",
   "execution_count": 61,
   "metadata": {},
   "outputs": [
    {
     "data": {
      "text/plain": [
       "Text(0.5, 1.0, 'GA: Unifrom \\n Predicted: 5')"
      ]
     },
     "execution_count": 61,
     "metadata": {},
     "output_type": "execute_result"
    },
    {
     "data": {
      "image/png": "[encoded data removed]",
      "text/plain": [
       "<Figure size 576x576 with 3 Axes>"
      ]
     },
     "metadata": {
      "needs_background": "light"
     },
     "output_type": "display_data"
    }
   ],
   "source": [
    "fd, idx =  plt.subplots(1,3)\n",
    "fd.set_size_inches(8,8)\n",
    "idx[0].imshow(adversarial[1].reshape(28,28),cmap=\"gray\")\n",
    "idx[1].imshow(evolved_examples[1].reshape(28,28),cmap=\"gray\")\n",
    "idx[2].imshow(evolved_examples1[1].reshape(28,28),cmap=\"gray\")\n",
    "idx[0].set_title(f\"Original image\\n Class: {adversarial_y[1]}\")\n",
    "idx[1].set_title(f\"GA: Quadrant\\n Predicted: {predicted_class[1]}\")\n",
    "idx[2].set_title(f\"GA: Unifrom \\n Predicted: {predicted_class1[1]}\")"
   ]
  },
  {
   "cell_type": "code",
   "execution_count": 63,
   "metadata": {},
   "outputs": [
    {
     "name": "stdout",
     "output_type": "stream",
     "text": [
      "0.7628110279253902\n",
      "0.7882309355643835\n"
     ]
    }
   ],
   "source": [
    "print(ssim_values[1])\n",
    "print(ssim_values1[1])"
   ]
  },
  {
   "cell_type": "code",
   "execution_count": 62,
   "metadata": {},
   "outputs": [
    {
     "data": {
      "text/plain": [
       "0"
      ]
     },
     "execution_count": 62,
     "metadata": {},
     "output_type": "execute_result"
    }
   ],
   "source": [
    "predicted_class[1]-predicted_class1[1]"
   ]
  },
  {
   "cell_type": "code",
   "execution_count": null,
   "metadata": {},
   "outputs": [],
   "source": [
    "import seaborn as sns\n",
    "import matplotlib.pyplot as plt     \n",
    "\n",
    "ax= plt.subplot()\n",
    "sns.heatmap(report, annot=True, ax = ax); #annot=True to annotate cells\n",
    "\n",
    "# labels, title and ticks\n",
    "ax.set_xlabel('Predicted labels');ax.set_ylabel('True labels'); \n",
    "ax.set_title('CIFAR10 - GA: Quadrant crossover'); \n",
    "ax.xaxis.set_ticklabels(labels); ax.yaxis.set_ticklabels(labels);"
   ]
  },
  {
   "cell_type": "code",
   "execution_count": 20,
   "metadata": {
    "collapsed": true
   },
   "outputs": [
    {
     "name": "stdout",
     "output_type": "stream",
     "text": [
      "Ground truth: Class 0\n",
      "Percentage of predicted classes after evolving (multicrossover) seed 0: \n",
      "Predicted class: 3, percentage of total predictions: 7.69% , amount of this class 1  \n",
      "Predicted class: 5, percentage of total predictions: 92.31% , amount of this class 12  \n",
      "13\n",
      "\n",
      "Ground truth: Class 1\n",
      "Percentage of predicted classes after evolving (multicrossover) seed 0: \n",
      "Predicted class: 1, percentage of total predictions: 8.33% , amount of this class 1  \n",
      "Predicted class: 3, percentage of total predictions: 50.0% , amount of this class 6  \n",
      "Predicted class: 5, percentage of total predictions: 25.0% , amount of this class 3  \n",
      "Predicted class: 7, percentage of total predictions: 8.33% , amount of this class 1  \n",
      "Predicted class: 8, percentage of total predictions: 8.33% , amount of this class 1  \n",
      "12\n",
      "\n",
      "Ground truth: Class 2\n",
      "Percentage of predicted classes after evolving (multicrossover) seed 0: \n",
      "Predicted class: 2, percentage of total predictions: 14.29% , amount of this class 2  \n",
      "Predicted class: 3, percentage of total predictions: 42.86% , amount of this class 6  \n",
      "Predicted class: 5, percentage of total predictions: 28.57% , amount of this class 4  \n",
      "Predicted class: 6, percentage of total predictions: 7.14% , amount of this class 1  \n",
      "Predicted class: 8, percentage of total predictions: 7.14% , amount of this class 1  \n",
      "14\n",
      "\n",
      "Ground truth: Class 3\n",
      "Percentage of predicted classes after evolving (multicrossover) seed 0: \n",
      "Predicted class: 3, percentage of total predictions: 7.69% , amount of this class 1  \n",
      "Predicted class: 5, percentage of total predictions: 69.23% , amount of this class 9  \n",
      "Predicted class: 7, percentage of total predictions: 7.69% , amount of this class 1  \n",
      "Predicted class: 8, percentage of total predictions: 7.69% , amount of this class 1  \n",
      "Predicted class: 9, percentage of total predictions: 7.69% , amount of this class 1  \n",
      "13\n",
      "\n",
      "Ground truth: Class 4\n",
      "Percentage of predicted classes after evolving (multicrossover) seed 0: \n",
      "Predicted class: 2, percentage of total predictions: 7.14% , amount of this class 1  \n",
      "Predicted class: 3, percentage of total predictions: 7.14% , amount of this class 1  \n",
      "Predicted class: 5, percentage of total predictions: 42.86% , amount of this class 6  \n",
      "Predicted class: 7, percentage of total predictions: 7.14% , amount of this class 1  \n",
      "Predicted class: 9, percentage of total predictions: 35.71% , amount of this class 5  \n",
      "14\n",
      "\n",
      "Class 5\n",
      "Percentage of predicted classes after evolving (multicrossover) seed 0: \n",
      "Predicted class: 0, percentage of total predictions: 7.14% , amount of this class 1  \n",
      "Predicted class: 2, percentage of total predictions: 21.43% , amount of this class 3  \n",
      "Predicted class: 3, percentage of total predictions: 42.86% , amount of this class 6  \n",
      "Predicted class: 5, percentage of total predictions: 14.29% , amount of this class 2  \n",
      "Predicted class: 8, percentage of total predictions: 14.29% , amount of this class 2  \n",
      "14\n",
      "\n",
      "Ground truth: Class 6\n",
      "Percentage of predicted classes after evolving (multicrossover) seed 0: \n",
      "Predicted class: 2, percentage of total predictions: 30.77% , amount of this class 4  \n",
      "Predicted class: 3, percentage of total predictions: 7.69% , amount of this class 1  \n",
      "Predicted class: 4, percentage of total predictions: 7.69% , amount of this class 1  \n",
      "Predicted class: 5, percentage of total predictions: 53.85% , amount of this class 7  \n",
      "13\n",
      "\n",
      "Ground truth: Class 7 \n",
      "Percentage of predicted classes after evolving (multicrossover) seed 0: \n",
      "Predicted class: 1, percentage of total predictions: 7.69% , amount of this class 1  \n",
      "Predicted class: 2, percentage of total predictions: 23.08% , amount of this class 3  \n",
      "Predicted class: 3, percentage of total predictions: 46.15% , amount of this class 6  \n",
      "Predicted class: 5, percentage of total predictions: 15.38% , amount of this class 2  \n",
      "Predicted class: 8, percentage of total predictions: 7.69% , amount of this class 1  \n",
      "13\n",
      "\n",
      "Ground truth: CLass 8\n",
      "Percentage of predicted classes after evolving (multicrossover) seed 0: \n",
      "Predicted class: 2, percentage of total predictions: 15.38% , amount of this class 2  \n",
      "Predicted class: 3, percentage of total predictions: 23.08% , amount of this class 3  \n",
      "Predicted class: 4, percentage of total predictions: 7.69% , amount of this class 1  \n",
      "Predicted class: 5, percentage of total predictions: 53.85% , amount of this class 7  \n",
      "13\n",
      "\n",
      "Ground truth: Class 9\n",
      "Percentage of predicted classes after evolving (multicrossover) seed 0: \n",
      "Predicted class: 2, percentage of total predictions: 28.57% , amount of this class 2  \n",
      "Predicted class: 3, percentage of total predictions: 14.29% , amount of this class 1  \n",
      "Predicted class: 5, percentage of total predictions: 42.86% , amount of this class 3  \n",
      "Predicted class: 8, percentage of total predictions: 14.29% , amount of this class 1  \n",
      "7\n",
      "\n"
     ]
    }
   ],
   "source": [
    "# now I will try to see e.g. for class 0 , which is the most missclasified class\n",
    "\n",
    "\n",
    "# Class 0 \n",
    "print(\"Ground truth: Class 0\")\n",
    "\n",
    "ad_class0=predicted_class[0:13]\n",
    "a= np.array(ad_class0)\n",
    "unique, counts = np.unique(a, return_counts=True)\n",
    "print(\"Percentage of predicted classes after evolving (multicrossover) seed 0: \")\n",
    "for x,y in zip(unique, counts): \n",
    "    print(f\"Predicted class: {x}, percentage of total predictions: {round(y/sum(counts)*100,2)}% , amount of this class {y}  \")\n",
    "print(\"\" + str(sum(counts)) +\"\\n\")\n",
    "\n",
    "\n",
    "# Class 1\n",
    "print(\"Ground truth: Class 1\")\n",
    "ad_class1=predicted_class[13:25]\n",
    "a= np.array(ad_class1)\n",
    "unique, counts = np.unique(a, return_counts=True)\n",
    "print(\"Percentage of predicted classes after evolving (multicrossover) seed 0: \")\n",
    "for x,y in zip(unique, counts): \n",
    "    print(f\"Predicted class: {x}, percentage of total predictions: {round(y/sum(counts)*100,2)}% , amount of this class {y}  \")\n",
    "print(\"\" + str(sum(counts))  +\"\\n\")  \n",
    "\n",
    "\n",
    "# Class 2\n",
    "print(\"Ground truth: Class 2\")\n",
    "ad_class2=predicted_class[25:39]\n",
    "a= np.array(ad_class2)\n",
    "unique, counts = np.unique(a, return_counts=True)\n",
    "print(\"Percentage of predicted classes after evolving (multicrossover) seed 0: \")\n",
    "for x,y in zip(unique, counts): \n",
    "    print(f\"Predicted class: {x}, percentage of total predictions: {round(y/sum(counts)*100,2)}% , amount of this class {y}  \")\n",
    "print(\"\" + str(sum(counts))  +\"\\n\") \n",
    "\n",
    "# Class 3\n",
    "print(\"Ground truth: Class 3\")\n",
    "ad_class3=predicted_class[39:52]\n",
    "a= np.array(ad_class3)\n",
    "unique, counts = np.unique(a, return_counts=True)\n",
    "print(\"Percentage of predicted classes after evolving (multicrossover) seed 0: \")\n",
    "for x,y in zip(unique, counts): \n",
    "    print(f\"Predicted class: {x}, percentage of total predictions: {round(y/sum(counts)*100,2)}% , amount of this class {y}  \")\n",
    "print(\"\" + str(sum(counts))  +\"\\n\") \n",
    "\n",
    "# Class 4\n",
    "print(\"Ground truth: Class 4\")\n",
    "ad_class4=predicted_class[52:66]\n",
    "a= np.array(ad_class4)\n",
    "unique, counts = np.unique(a, return_counts=True)\n",
    "print(\"Percentage of predicted classes after evolving (multicrossover) seed 0: \")\n",
    "for x,y in zip(unique, counts): \n",
    "    print(f\"Predicted class: {x}, percentage of total predictions: {round(y/sum(counts)*100,2)}% , amount of this class {y}  \")\n",
    "print(\"\" + str(sum(counts))  +\"\\n\") \n",
    "\n",
    "# Class 5 \n",
    "print(\"Class 5\")\n",
    "ad_class5=predicted_class[66:80]\n",
    "a= np.array(ad_class5)\n",
    "unique, counts = np.unique(a, return_counts=True)\n",
    "print(\"Percentage of predicted classes after evolving (multicrossover) seed 0: \")\n",
    "for x,y in zip(unique, counts): \n",
    "    print(f\"Predicted class: {x}, percentage of total predictions: {round(y/sum(counts)*100,2)}% , amount of this class {y}  \")\n",
    "print(\"\" + str(sum(counts))  +\"\\n\") \n",
    "\n",
    "# Class 6\n",
    "print(\"Ground truth: Class 6\")\n",
    "ad_class6=predicted_class[79:92]\n",
    "a= np.array(ad_class6)\n",
    "unique, counts = np.unique(a, return_counts=True)\n",
    "print(\"Percentage of predicted classes after evolving (multicrossover) seed 0: \")\n",
    "for x,y in zip(unique, counts): \n",
    "    print(f\"Predicted class: {x}, percentage of total predictions: {round(y/sum(counts)*100,2)}% , amount of this class {y}  \")\n",
    "print(\"\" + str(sum(counts))  +\"\\n\")  \n",
    "\n",
    "# Class 7\n",
    "print(\"Ground truth: Class 7 \")\n",
    "ad_class7=predicted_class[93:106]\n",
    "a= np.array(ad_class7)\n",
    "unique, counts = np.unique(a, return_counts=True)\n",
    "print(\"Percentage of predicted classes after evolving (multicrossover) seed 0: \")\n",
    "for x,y in zip(unique, counts): \n",
    "    print(f\"Predicted class: {x}, percentage of total predictions: {round(y/sum(counts)*100,2)}% , amount of this class {y}  \")\n",
    "print(\"\" +str(sum(counts))  +\"\\n\") \n",
    "\n",
    "# Class 8\n",
    "print(\"Ground truth: CLass 8\")\n",
    "ad_class8=predicted_class[106:119]\n",
    "a= np.array(ad_class8)\n",
    "unique, counts = np.unique(a, return_counts=True)\n",
    "print(\"Percentage of predicted classes after evolving (multicrossover) seed 0: \")\n",
    "for x,y in zip(unique, counts): \n",
    "    print(f\"Predicted class: {x}, percentage of total predictions: {round(y/sum(counts)*100,2)}% , amount of this class {y}  \")\n",
    "print(\"\" + str(sum(counts))  +\"\\n\") \n",
    "\n",
    "# Class 9\n",
    "print(\"Ground truth: Class 9\")\n",
    "ad_class9=predicted_class[119:134]\n",
    "a= np.array(ad_class9)\n",
    "unique, counts = np.unique(a, return_counts=True)\n",
    "print(\"Percentage of predicted classes after evolving (multicrossover) seed 0: \")\n",
    "for x,y in zip(unique, counts): \n",
    "    print(f\"Predicted class: {x}, percentage of total predictions: {round(y/sum(counts)*100,2)}% , amount of this class {y}  \")\n",
    "print(\"\" + str(sum(counts))  +\"\\n\") "
   ]
  },
  {
   "cell_type": "code",
   "execution_count": 6,
   "metadata": {},
   "outputs": [],
   "source": [
    "#UNIFORM , SEED 1 , CIFAR \n",
    "\n",
    "with open('adv_rbf_1_un', 'rb') as f:\n",
    "    evolved_examples = pickle.load(f)\n",
    "    times= pickle.load(f)\n",
    "    nfes= pickle.load(f)\n",
    "    psnrs = pickle.load(f)\n",
    "    ssim_values = pickle.load(f)\n",
    "    #fitness_of_evolved = pickle.load(f)\n",
    "    predicted = pickle.load(f)\n",
    "    #number_of_rounds = pickle.load(f)\n",
    "evolved_examples = np.array(evolved_examples)\n",
    "\n",
    "predicted_class = []\n",
    "for score in predicted:\n",
    "    predicted_class.append(np.argmax(score))\n",
    "\n",
    "report = confusion_matrix(true, predicted_class, labels)"
   ]
  },
  {
   "cell_type": "code",
   "execution_count": 7,
   "metadata": {},
   "outputs": [
    {
     "data": {
      "image/png": "[encoded data removed]",
      "text/plain": [
       "<Figure size 432x288 with 2 Axes>"
      ]
     },
     "metadata": {
      "needs_background": "light"
     },
     "output_type": "display_data"
    }
   ],
   "source": [
    "import seaborn as sns\n",
    "import matplotlib.pyplot as plt     \n",
    "\n",
    "ax= plt.subplot()\n",
    "sns.heatmap(report, annot=True, ax = ax); #annot=True to annotate cells\n",
    "\n",
    "# labels, title and ticks\n",
    "ax.set_xlabel('Predicted labels');ax.set_ylabel('True labels'); \n",
    "ax.set_title('MNIST - GA: Uniform crossover'); \n",
    "ax.xaxis.set_ticklabels(labels); ax.yaxis.set_ticklabels(labels);"
   ]
  },
  {
   "cell_type": "code",
   "execution_count": 11,
   "metadata": {},
   "outputs": [
    {
     "data": {
      "text/plain": [
       "<matplotlib.image.AxesImage at 0x2d66bf6fda0>"
      ]
     },
     "execution_count": 11,
     "metadata": {},
     "output_type": "execute_result"
    },
    {
     "data": {
      "image/png": "[encoded data removed]",
      "text/plain": [
       "<Figure size 432x288 with 1 Axes>"
      ]
     },
     "metadata": {
      "needs_background": "light"
     },
     "output_type": "display_data"
    }
   ],
   "source": [
    "plt.imshow(evolved_examples[3].reshape(28,28))"
   ]
  },
  {
   "cell_type": "code",
   "execution_count": 12,
   "metadata": {},
   "outputs": [
    {
     "name": "stdout",
     "output_type": "stream",
     "text": [
      "Ground truth: Class 0\n",
      "Percentage of predicted classes after evolving (multicrossover) seed 0: \n",
      "Predicted class: 2, percentage of total predictions: 53.85% , amount of this class 7  \n",
      "Predicted class: 4, percentage of total predictions: 7.69% , amount of this class 1  \n",
      "Predicted class: 8, percentage of total predictions: 30.77% , amount of this class 4  \n",
      "Predicted class: 9, percentage of total predictions: 7.69% , amount of this class 1  \n",
      "13\n",
      "\n",
      "Ground truth: Class 1\n",
      "Percentage of predicted classes after evolving (multicrossover) seed 0: \n",
      "Predicted class: 0, percentage of total predictions: 16.67% , amount of this class 2  \n",
      "Predicted class: 1, percentage of total predictions: 25.0% , amount of this class 3  \n",
      "Predicted class: 6, percentage of total predictions: 8.33% , amount of this class 1  \n",
      "Predicted class: 7, percentage of total predictions: 8.33% , amount of this class 1  \n",
      "Predicted class: 8, percentage of total predictions: 8.33% , amount of this class 1  \n",
      "Predicted class: 9, percentage of total predictions: 33.33% , amount of this class 4  \n",
      "12\n",
      "\n",
      "Ground truth: Class 2\n",
      "Percentage of predicted classes after evolving (multicrossover) seed 0: \n",
      "Predicted class: 0, percentage of total predictions: 7.14% , amount of this class 1  \n",
      "Predicted class: 2, percentage of total predictions: 14.29% , amount of this class 2  \n",
      "Predicted class: 3, percentage of total predictions: 28.57% , amount of this class 4  \n",
      "Predicted class: 4, percentage of total predictions: 7.14% , amount of this class 1  \n",
      "Predicted class: 5, percentage of total predictions: 7.14% , amount of this class 1  \n",
      "Predicted class: 6, percentage of total predictions: 28.57% , amount of this class 4  \n",
      "Predicted class: 7, percentage of total predictions: 7.14% , amount of this class 1  \n",
      "14\n",
      "\n",
      "Ground truth: Class 3\n",
      "Percentage of predicted classes after evolving (multicrossover) seed 0: \n",
      "Predicted class: 0, percentage of total predictions: 7.69% , amount of this class 1  \n",
      "Predicted class: 2, percentage of total predictions: 38.46% , amount of this class 5  \n",
      "Predicted class: 5, percentage of total predictions: 38.46% , amount of this class 5  \n",
      "Predicted class: 6, percentage of total predictions: 7.69% , amount of this class 1  \n",
      "Predicted class: 7, percentage of total predictions: 7.69% , amount of this class 1  \n",
      "13\n",
      "\n",
      "Ground truth: Class 4\n",
      "Percentage of predicted classes after evolving (multicrossover) seed 0: \n",
      "Predicted class: 1, percentage of total predictions: 7.14% , amount of this class 1  \n",
      "Predicted class: 2, percentage of total predictions: 64.29% , amount of this class 9  \n",
      "Predicted class: 3, percentage of total predictions: 7.14% , amount of this class 1  \n",
      "Predicted class: 7, percentage of total predictions: 21.43% , amount of this class 3  \n",
      "14\n",
      "\n",
      "Ground truth: Class 5\n",
      "Percentage of predicted classes after evolving (multicrossover) seed 0: \n",
      "Predicted class: 2, percentage of total predictions: 21.43% , amount of this class 3  \n",
      "Predicted class: 3, percentage of total predictions: 64.29% , amount of this class 9  \n",
      "Predicted class: 6, percentage of total predictions: 7.14% , amount of this class 1  \n",
      "Predicted class: 7, percentage of total predictions: 7.14% , amount of this class 1  \n",
      "14\n",
      "\n",
      "Ground truth: Class 6\n",
      "Percentage of predicted classes after evolving (multicrossover) seed 0: \n",
      "Predicted class: 2, percentage of total predictions: 53.85% , amount of this class 7  \n",
      "Predicted class: 3, percentage of total predictions: 23.08% , amount of this class 3  \n",
      "Predicted class: 4, percentage of total predictions: 15.38% , amount of this class 2  \n",
      "Predicted class: 6, percentage of total predictions: 7.69% , amount of this class 1  \n",
      "13\n",
      "\n",
      "Ground truth: Class 7 \n",
      "Percentage of predicted classes after evolving (multicrossover) seed 0: \n",
      "Predicted class: 2, percentage of total predictions: 7.69% , amount of this class 1  \n",
      "Predicted class: 3, percentage of total predictions: 23.08% , amount of this class 3  \n",
      "Predicted class: 4, percentage of total predictions: 30.77% , amount of this class 4  \n",
      "Predicted class: 5, percentage of total predictions: 23.08% , amount of this class 3  \n",
      "Predicted class: 6, percentage of total predictions: 7.69% , amount of this class 1  \n",
      "Predicted class: 9, percentage of total predictions: 7.69% , amount of this class 1  \n",
      "13\n",
      "\n",
      "Ground truth: CLass 8\n",
      "Percentage of predicted classes after evolving (multicrossover) seed 0: \n",
      "Predicted class: 0, percentage of total predictions: 38.46% , amount of this class 5  \n",
      "Predicted class: 3, percentage of total predictions: 7.69% , amount of this class 1  \n",
      "Predicted class: 4, percentage of total predictions: 15.38% , amount of this class 2  \n",
      "Predicted class: 6, percentage of total predictions: 23.08% , amount of this class 3  \n",
      "Predicted class: 8, percentage of total predictions: 7.69% , amount of this class 1  \n",
      "Predicted class: 9, percentage of total predictions: 7.69% , amount of this class 1  \n",
      "13\n",
      "\n",
      "Ground truth: Predicted Class 9\n",
      "Percentage of predicted classes after evolving (multicrossover) seed 0: \n",
      "Predicted class: 1, percentage of total predictions: 50.0% , amount of this class 7  \n",
      "Predicted class: 2, percentage of total predictions: 14.29% , amount of this class 2  \n",
      "Predicted class: 6, percentage of total predictions: 7.14% , amount of this class 1  \n",
      "Predicted class: 7, percentage of total predictions: 7.14% , amount of this class 1  \n",
      "Predicted class: 8, percentage of total predictions: 14.29% , amount of this class 2  \n",
      "Predicted class: 9, percentage of total predictions: 7.14% , amount of this class 1  \n",
      "14\n",
      "\n"
     ]
    }
   ],
   "source": [
    "# now I will try to see e.g. for class 0 , which is the most missclasified class\n",
    "\n",
    "# Class 0 \n",
    "print(\"Ground truth: Class 0\")\n",
    "ad_class0=predicted_class[0:13]\n",
    "a= np.array(ad_class0)\n",
    "unique, counts = np.unique(a, return_counts=True)\n",
    "print(\"Percentage of predicted classes after evolving (multicrossover) seed 0: \")\n",
    "for x,y in zip(unique, counts): \n",
    "    print(f\"Predicted class: {x}, percentage of total predictions: {round(y/sum(counts)*100,2)}% , amount of this class {y}  \")\n",
    "print(\"\" + str(sum(counts)) +\"\\n\")\n",
    "\n",
    "\n",
    "# Class 1\n",
    "print(\"Ground truth: Class 1\")\n",
    "ad_class1=predicted_class[13:25]\n",
    "a= np.array(ad_class1)\n",
    "unique, counts = np.unique(a, return_counts=True)\n",
    "print(\"Percentage of predicted classes after evolving (multicrossover) seed 0: \")\n",
    "for x,y in zip(unique, counts): \n",
    "    print(f\"Predicted class: {x}, percentage of total predictions: {round(y/sum(counts)*100,2)}% , amount of this class {y}  \")\n",
    "print(\"\" + str(sum(counts))  +\"\\n\")  \n",
    "\n",
    "\n",
    "# Class 2\n",
    "print(\"Ground truth: Class 2\")\n",
    "ad_class2=predicted_class[25:39]\n",
    "a= np.array(ad_class2)\n",
    "unique, counts = np.unique(a, return_counts=True)\n",
    "print(\"Percentage of predicted classes after evolving (multicrossover) seed 0: \")\n",
    "for x,y in zip(unique, counts): \n",
    "    print(f\"Predicted class: {x}, percentage of total predictions: {round(y/sum(counts)*100,2)}% , amount of this class {y}  \")\n",
    "print(\"\" + str(sum(counts))  +\"\\n\") \n",
    "\n",
    "# Class 3\n",
    "print(\"Ground truth: Class 3\")\n",
    "ad_class3=predicted_class[39:52]\n",
    "a= np.array(ad_class3)\n",
    "unique, counts = np.unique(a, return_counts=True)\n",
    "print(\"Percentage of predicted classes after evolving (multicrossover) seed 0: \")\n",
    "for x,y in zip(unique, counts): \n",
    "    print(f\"Predicted class: {x}, percentage of total predictions: {round(y/sum(counts)*100,2)}% , amount of this class {y}  \")\n",
    "print(\"\" + str(sum(counts))  +\"\\n\") \n",
    "\n",
    "# Class 4\n",
    "print(\"Ground truth: Class 4\")\n",
    "ad_class4=predicted_class[52:66]\n",
    "a= np.array(ad_class4)\n",
    "unique, counts = np.unique(a, return_counts=True)\n",
    "print(\"Percentage of predicted classes after evolving (multicrossover) seed 0: \")\n",
    "for x,y in zip(unique, counts): \n",
    "    print(f\"Predicted class: {x}, percentage of total predictions: {round(y/sum(counts)*100,2)}% , amount of this class {y}  \")\n",
    "print(\"\" + str(sum(counts))  +\"\\n\") \n",
    "\n",
    "# Class 5 \n",
    "print(\"Ground truth: Class 5\")\n",
    "ad_class5=predicted_class[66:80]\n",
    "a= np.array(ad_class5)\n",
    "unique, counts = np.unique(a, return_counts=True)\n",
    "print(\"Percentage of predicted classes after evolving (multicrossover) seed 0: \")\n",
    "for x,y in zip(unique, counts): \n",
    "    print(f\"Predicted class: {x}, percentage of total predictions: {round(y/sum(counts)*100,2)}% , amount of this class {y}  \")\n",
    "print(\"\" + str(sum(counts))  +\"\\n\") \n",
    "\n",
    "# Class 6\n",
    "print(\"Ground truth: Class 6\")\n",
    "ad_class6=predicted_class[79:92]\n",
    "a= np.array(ad_class6)\n",
    "unique, counts = np.unique(a, return_counts=True)\n",
    "print(\"Percentage of predicted classes after evolving (multicrossover) seed 0: \")\n",
    "for x,y in zip(unique, counts): \n",
    "    print(f\"Predicted class: {x}, percentage of total predictions: {round(y/sum(counts)*100,2)}% , amount of this class {y}  \")\n",
    "print(\"\" + str(sum(counts))  +\"\\n\")  \n",
    "\n",
    "# Class 7\n",
    "print(\"Ground truth: Class 7 \")\n",
    "ad_class7=predicted_class[93:106]\n",
    "a= np.array(ad_class7)\n",
    "unique, counts = np.unique(a, return_counts=True)\n",
    "print(\"Percentage of predicted classes after evolving (multicrossover) seed 0: \")\n",
    "for x,y in zip(unique, counts): \n",
    "    print(f\"Predicted class: {x}, percentage of total predictions: {round(y/sum(counts)*100,2)}% , amount of this class {y}  \")\n",
    "print(\"\" +str(sum(counts))  +\"\\n\") \n",
    "\n",
    "# Class 8\n",
    "print(\"Ground truth: CLass 8\")\n",
    "ad_class8=predicted_class[106:119]\n",
    "a= np.array(ad_class8)\n",
    "unique, counts = np.unique(a, return_counts=True)\n",
    "print(\"Percentage of predicted classes after evolving (multicrossover) seed 0: \")\n",
    "for x,y in zip(unique, counts): \n",
    "    print(f\"Predicted class: {x}, percentage of total predictions: {round(y/sum(counts)*100,2)}% , amount of this class {y}  \")\n",
    "print(\"\" + str(sum(counts))  +\"\\n\") \n",
    "\n",
    "# Class 9\n",
    "print(\"Ground truth: Predicted Class 9\")\n",
    "ad_class9=predicted_class[119:134]\n",
    "a= np.array(ad_class9)\n",
    "unique, counts = np.unique(a, return_counts=True)\n",
    "print(\"Percentage of predicted classes after evolving (multicrossover) seed 0: \")\n",
    "for x,y in zip(unique, counts): \n",
    "    print(f\"Predicted class: {x}, percentage of total predictions: {round(y/sum(counts)*100,2)}% , amount of this class {y}  \")\n",
    "print(\"\" + str(sum(counts))  +\"\\n\") "
   ]
  },
  {
   "cell_type": "code",
   "execution_count": 8,
   "metadata": {},
   "outputs": [
    {
     "name": "stdout",
     "output_type": "stream",
     "text": [
      "Original shape (914, 32, 32, 1)\n",
      "Adversarial shape (133, 32, 32, 1)\n",
      "Original labels shape (914, 1)\n",
      "Adversarial labels shape (133, 1)\n"
     ]
    }
   ],
   "source": [
    "#change subset to cifar10\n",
    "with open('../subsets/subset_cifar', 'rb') as f:\n",
    "    original = pickle.load(f)\n",
    "    adversarial= pickle.load(f)\n",
    "    original_y = pickle.load(f)\n",
    "    adversarial_y = pickle.load(f)\n",
    "\n",
    "print(f\"Original shape {original.shape}\")\n",
    "print(f\"Adversarial shape {adversarial.shape}\")\n",
    "print(f\"Original labels shape {original_y.shape}\")\n",
    "print(f\"Adversarial labels shape {adversarial_y.shape}\")\n",
    "\n",
    "labels = [0,1,2,3,4,5,6,7,8,9]\n",
    "true= adversarial_y\n",
    "\n",
    "# 2K crossover , SEED 1 , CIFAR \n",
    "\n",
    "with open('../Improved GA/results/GA_cifar_ssim_2K_seed1', 'rb') as f:\n",
    "    evolved_examples = pickle.load(f)\n",
    "    times= pickle.load(f)\n",
    "    ssim_values = pickle.load(f)\n",
    "    fitness_of_evolved = pickle.load(f)\n",
    "    predicted_class = pickle.load(f)\n",
    "    number_of_rounds = pickle.load(f)\n",
    "evolved_examples = np.array(evolved_examples)"
   ]
  },
  {
   "cell_type": "code",
   "execution_count": 10,
   "metadata": {},
   "outputs": [
    {
     "data": {
      "image/png": "[encoded data removed]",
      "text/plain": [
       "<Figure size 432x288 with 2 Axes>"
      ]
     },
     "metadata": {
      "needs_background": "light"
     },
     "output_type": "display_data"
    }
   ],
   "source": [
    "import seaborn as sns\n",
    "import matplotlib.pyplot as plt     \n",
    "\n",
    "report = confusion_matrix(true, predicted_class, labels)\n",
    "ax= plt.subplot()\n",
    "sns.heatmap(report, annot=True, ax = ax); #annot=True to annotate cells\n",
    "\n",
    "# labels, title and ticks\n",
    "ax.set_xlabel('Predicted labels');ax.set_ylabel('True labels'); \n",
    "ax.set_title('CIFAR10 - GA: 2-k crossover (Seed2)'); \n",
    "ax.xaxis.set_ticklabels(labels); ax.yaxis.set_ticklabels(labels);"
   ]
  },
  {
   "cell_type": "code",
   "execution_count": null,
   "metadata": {},
   "outputs": [],
   "source": [
    "# now I will try to see e.g. for class 0 , which is the most missclasified class\n",
    "\n",
    "# Class 0 \n",
    "print(\"Ground truth: Class 0\")\n",
    "ad_class0=predicted_class[0:13]\n",
    "a= np.array(ad_class0)\n",
    "unique, counts = np.unique(a, return_counts=True)\n",
    "print(\"Percentage of predicted classes after evolving (multicrossover) seed 0: \")\n",
    "for x,y in zip(unique, counts): \n",
    "    print(f\"Predicted class: {x}, percentage of total predictions: {round(y/sum(counts)*100,2)}% , amount of this class {y}  \")\n",
    "print(\"\" + str(sum(counts)) +\"\\n\")\n",
    "\n",
    "\n",
    "# Class 1\n",
    "print(\"Ground truth: Class 1\")\n",
    "ad_class1=predicted_class[13:25]\n",
    "a= np.array(ad_class1)\n",
    "unique, counts = np.unique(a, return_counts=True)\n",
    "print(\"Percentage of predicted classes after evolving (multicrossover) seed 0: \")\n",
    "for x,y in zip(unique, counts): \n",
    "    print(f\"Predicted class: {x}, percentage of total predictions: {round(y/sum(counts)*100,2)}% , amount of this class {y}  \")\n",
    "print(\"\" + str(sum(counts))  +\"\\n\")  \n",
    "\n",
    "\n",
    "# Class 2\n",
    "print(\"Ground truth: Class 2\")\n",
    "ad_class2=predicted_class[25:39]\n",
    "a= np.array(ad_class2)\n",
    "unique, counts = np.unique(a, return_counts=True)\n",
    "print(\"Percentage of predicted classes after evolving (multicrossover) seed 0: \")\n",
    "for x,y in zip(unique, counts): \n",
    "    print(f\"Predicted class: {x}, percentage of total predictions: {round(y/sum(counts)*100,2)}% , amount of this class {y}  \")\n",
    "print(\"\" + str(sum(counts))  +\"\\n\") \n",
    "\n",
    "# Class 3\n",
    "print(\"Ground truth: Class 3\")\n",
    "ad_class3=predicted_class[39:52]\n",
    "a= np.array(ad_class3)\n",
    "unique, counts = np.unique(a, return_counts=True)\n",
    "print(\"Percentage of predicted classes after evolving (multicrossover) seed 0: \")\n",
    "for x,y in zip(unique, counts): \n",
    "    print(f\"Predicted class: {x}, percentage of total predictions: {round(y/sum(counts)*100,2)}% , amount of this class {y}  \")\n",
    "print(\"\" + str(sum(counts))  +\"\\n\") \n",
    "\n",
    "# Class 4\n",
    "print(\"Ground truth: Class 4\")\n",
    "ad_class4=predicted_class[52:66]\n",
    "a= np.array(ad_class4)\n",
    "unique, counts = np.unique(a, return_counts=True)\n",
    "print(\"Percentage of predicted classes after evolving (multicrossover) seed 0: \")\n",
    "for x,y in zip(unique, counts): \n",
    "    print(f\"Predicted class: {x}, percentage of total predictions: {round(y/sum(counts)*100,2)}% , amount of this class {y}  \")\n",
    "print(\"\" + str(sum(counts))  +\"\\n\") \n",
    "\n",
    "# Class 5 \n",
    "print(\"Ground truth: Class 5\")\n",
    "ad_class5=predicted_class[66:80]\n",
    "a= np.array(ad_class5)\n",
    "unique, counts = np.unique(a, return_counts=True)\n",
    "print(\"Percentage of predicted classes after evolving (multicrossover) seed 0: \")\n",
    "for x,y in zip(unique, counts): \n",
    "    print(f\"Predicted class: {x}, percentage of total predictions: {round(y/sum(counts)*100,2)}% , amount of this class {y}  \")\n",
    "print(\"\" + str(sum(counts))  +\"\\n\") \n",
    "\n",
    "# Class 6\n",
    "print(\"Ground truth: Class 6\")\n",
    "ad_class6=predicted_class[79:92]\n",
    "a= np.array(ad_class6)\n",
    "unique, counts = np.unique(a, return_counts=True)\n",
    "print(\"Percentage of predicted classes after evolving (multicrossover) seed 0: \")\n",
    "for x,y in zip(unique, counts): \n",
    "    print(f\"Predicted class: {x}, percentage of total predictions: {round(y/sum(counts)*100,2)}% , amount of this class {y}  \")\n",
    "print(\"\" + str(sum(counts))  +\"\\n\")  \n",
    "\n",
    "# Class 7\n",
    "print(\"Ground truth: Class 7 \")\n",
    "ad_class7=predicted_class[93:106]\n",
    "a= np.array(ad_class7)\n",
    "unique, counts = np.unique(a, return_counts=True)\n",
    "print(\"Percentage of predicted classes after evolving (multicrossover) seed 0: \")\n",
    "for x,y in zip(unique, counts): \n",
    "    print(f\"Predicted class: {x}, percentage of total predictions: {round(y/sum(counts)*100,2)}% , amount of this class {y}  \")\n",
    "print(\"\" +str(sum(counts))  +\"\\n\") \n",
    "\n",
    "# Class 8\n",
    "print(\"Ground truth: CLass 8\")\n",
    "ad_class8=predicted_class[106:119]\n",
    "a= np.array(ad_class8)\n",
    "unique, counts = np.unique(a, return_counts=True)\n",
    "print(\"Percentage of predicted classes after evolving (multicrossover) seed 0: \")\n",
    "for x,y in zip(unique, counts): \n",
    "    print(f\"Predicted class: {x}, percentage of total predictions: {round(y/sum(counts)*100,2)}% , amount of this class {y}  \")\n",
    "print(\"\" + str(sum(counts))  +\"\\n\") \n",
    "\n",
    "# Class 9\n",
    "print(\"Ground truth: Predicted Class 9\")\n",
    "ad_class9=predicted_class[119:134]\n",
    "a= np.array(ad_class9)\n",
    "unique, counts = np.unique(a, return_counts=True)\n",
    "print(\"Percentage of predicted classes after evolving (multicrossover) seed 0: \")\n",
    "for x,y in zip(unique, counts): \n",
    "    print(f\"Predicted class: {x}, percentage of total predictions: {round(y/sum(counts)*100,2)}% , amount of this class {y}  \")\n",
    "print(\"\" + str(sum(counts))  +\"\\n\") "
   ]
  }
 ],
 "metadata": {
  "kernelspec": {
   "display_name": "Python 3",
   "language": "python",
   "name": "python3"
  },
  "language_info": {
   "codemirror_mode": {
    "name": "ipython",
    "version": 3
   },
   "file_extension": ".py",
   "mimetype": "text/x-python",
   "name": "python",
   "nbconvert_exporter": "python",
   "pygments_lexer": "ipython3",
   "version": "3.7.3"
  }
 },
 "nbformat": 4,
 "nbformat_minor": 2
}
