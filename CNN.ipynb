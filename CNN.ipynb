{
  "nbformat": 4,
  "nbformat_minor": 0,
  "metadata": {
    "colab": {
      "name": "CNN.ipynb",
      "provenance": []
    },
    "kernelspec": {
      "name": "python3",
      "display_name": "Python 3"
    }
  },
  "cells": [
    {
      "cell_type": "code",
      "metadata": {
        "id": "qu7b6yRNJHeZ",
        "colab_type": "code",
        "colab": {
          "base_uri": "https://localhost:8080/",
          "height": 33
        },
        "outputId": "fdc5dbaa-1661-4668-ae8a-897c6330dd7b"
      },
      "source": [
        "import tensorflow as tf\n",
        "from keras.models import Model\n",
        "from keras.layers import Dense, Conv2D, Dropout, Flatten, MaxPooling2D, Input, Activation"
      ],
      "execution_count": 1,
      "outputs": [
        {
          "output_type": "stream",
          "text": [
            "Using TensorFlow backend.\n"
          ],
          "name": "stderr"
        }
      ]
    },
    {
      "cell_type": "code",
      "metadata": {
        "id": "IqAu5I9qMDVs",
        "colab_type": "code",
        "colab": {}
      },
      "source": [
        "(x_train, y_train), (x_test, y_test) = tf.keras.datasets.mnist.load_data()"
      ],
      "execution_count": 0,
      "outputs": []
    },
    {
      "cell_type": "code",
      "metadata": {
        "id": "lf0FZmBcMtlp",
        "colab_type": "code",
        "colab": {
          "base_uri": "https://localhost:8080/",
          "height": 50
        },
        "outputId": "00c72f4b-3de8-4d6b-e03e-d1cda0327f60"
      },
      "source": [
        "print(x_train.shape)\n",
        "print(x_test.shape)"
      ],
      "execution_count": 3,
      "outputs": [
        {
          "output_type": "stream",
          "text": [
            "(60000, 28, 28)\n",
            "(10000, 28, 28)\n"
          ],
          "name": "stdout"
        }
      ]
    },
    {
      "cell_type": "code",
      "metadata": {
        "id": "4Ej9ItFqM7VF",
        "colab_type": "code",
        "colab": {
          "base_uri": "https://localhost:8080/",
          "height": 67
        },
        "outputId": "7cc93d82-dff1-4a2f-8c02-f03df959aca6"
      },
      "source": [
        "# Reshaping the array to 4-dims so that it can work with the Keras API\n",
        "x_train = x_train.reshape(x_train.shape[0], 28, 28, 1)\n",
        "x_test = x_test.reshape(x_test.shape[0], 28, 28, 1)\n",
        "input_shape = (28, 28, 1)\n",
        "# Making sure that the values are float so that we can get decimal points after division\n",
        "x_train = x_train.astype('float32')\n",
        "x_test = x_test.astype('float32')\n",
        "# Normalizing the RGB codes by dividing it to the max RGB value.\n",
        "x_train /= 255\n",
        "x_test /= 255\n",
        "print('x_train shape:', x_train.shape)\n",
        "print('Number of images in x_train', x_train.shape[0])\n",
        "print('Number of images in x_test', x_test.shape[0])"
      ],
      "execution_count": 4,
      "outputs": [
        {
          "output_type": "stream",
          "text": [
            "x_train shape: (60000, 28, 28, 1)\n",
            "Number of images in x_train 60000\n",
            "Number of images in x_test 10000\n"
          ],
          "name": "stdout"
        }
      ]
    },
    {
      "cell_type": "code",
      "metadata": {
        "id": "N5mx_A56TL2E",
        "colab_type": "code",
        "colab": {}
      },
      "source": [
        "# CNN from the paper \n",
        "# I put the size filters of my choice, and for pooling as well \n",
        "\n",
        "inp = Input(shape=input_shape)\n",
        "conv1 = Conv2D(32, (3,3),activation='relu')(inp)\n",
        "max_pool1 = MaxPooling2D(pool_size=(2, 2))(conv1)\n",
        "conv2 = Conv2D(32, (3,3),activation='relu')(max_pool1)\n",
        "max_pool2 = MaxPooling2D(pool_size=(2, 2))(conv2)\n",
        "flat =  Flatten()(max_pool2)\n",
        "dense1 = Dense(128,activation=\"relu\")(flat)\n",
        "predictions = Dense(10,activation=\"softmax\")(dense1) # softmax layer \n",
        "model = Model(inputs=[inp], outputs=[predictions])\n",
        "\n"
      ],
      "execution_count": 0,
      "outputs": []
    },
    {
      "cell_type": "code",
      "metadata": {
        "id": "ETMH1b-HOJgo",
        "colab_type": "code",
        "colab": {
          "base_uri": "https://localhost:8080/",
          "height": 387
        },
        "outputId": "6619b3c8-da05-43e1-bd6c-6eb39b158718"
      },
      "source": [
        "model.compile(optimizer='adam', \n",
        "              loss='sparse_categorical_crossentropy', \n",
        "              metrics=['accuracy'])\n",
        "history = model.fit(x=x_train,y=y_train, epochs=10, validation_data=[x_test,y_test])"
      ],
      "execution_count": 7,
      "outputs": [
        {
          "output_type": "stream",
          "text": [
            "Train on 60000 samples, validate on 10000 samples\n",
            "Epoch 1/10\n",
            "60000/60000 [==============================] - 52s 864us/step - loss: 0.0777 - accuracy: 0.9759 - val_loss: 0.0439 - val_accuracy: 0.9853\n",
            "Epoch 2/10\n",
            "60000/60000 [==============================] - 48s 793us/step - loss: 0.0415 - accuracy: 0.9868 - val_loss: 0.0334 - val_accuracy: 0.9881\n",
            "Epoch 3/10\n",
            "60000/60000 [==============================] - 48s 794us/step - loss: 0.0298 - accuracy: 0.9908 - val_loss: 0.0352 - val_accuracy: 0.9881\n",
            "Epoch 4/10\n",
            "60000/60000 [==============================] - 47s 790us/step - loss: 0.0208 - accuracy: 0.9933 - val_loss: 0.0305 - val_accuracy: 0.9905\n",
            "Epoch 5/10\n",
            "60000/60000 [==============================] - 47s 781us/step - loss: 0.0166 - accuracy: 0.9945 - val_loss: 0.0264 - val_accuracy: 0.9914\n",
            "Epoch 6/10\n",
            "60000/60000 [==============================] - 48s 804us/step - loss: 0.0135 - accuracy: 0.9958 - val_loss: 0.0276 - val_accuracy: 0.9914\n",
            "Epoch 7/10\n",
            "60000/60000 [==============================] - 48s 807us/step - loss: 0.0113 - accuracy: 0.9961 - val_loss: 0.0325 - val_accuracy: 0.9903\n",
            "Epoch 8/10\n",
            "60000/60000 [==============================] - 48s 804us/step - loss: 0.0086 - accuracy: 0.9972 - val_loss: 0.0310 - val_accuracy: 0.9926\n",
            "Epoch 9/10\n",
            "60000/60000 [==============================] - 49s 821us/step - loss: 0.0080 - accuracy: 0.9974 - val_loss: 0.0410 - val_accuracy: 0.9907\n",
            "Epoch 10/10\n",
            "60000/60000 [==============================] - 48s 806us/step - loss: 0.0072 - accuracy: 0.9976 - val_loss: 0.0331 - val_accuracy: 0.9923\n"
          ],
          "name": "stdout"
        }
      ]
    },
    {
      "cell_type": "code",
      "metadata": {
        "id": "Kjuf32VHRth2",
        "colab_type": "code",
        "colab": {
          "base_uri": "https://localhost:8080/",
          "height": 50
        },
        "outputId": "66906559-d905-406f-843a-b735606a3114"
      },
      "source": [
        "#model.evaluate(x_test, y_test)"
      ],
      "execution_count": 18,
      "outputs": [
        {
          "output_type": "stream",
          "text": [
            "10000/10000 [==============================] - 2s 239us/step\n"
          ],
          "name": "stdout"
        },
        {
          "output_type": "execute_result",
          "data": {
            "text/plain": [
              "[0.03360305172635708, 0.9902999997138977]"
            ]
          },
          "metadata": {
            "tags": []
          },
          "execution_count": 18
        }
      ]
    },
    {
      "cell_type": "code",
      "metadata": {
        "id": "aOojffJfYC-k",
        "colab_type": "code",
        "colab": {
          "base_uri": "https://localhost:8080/",
          "height": 573
        },
        "outputId": "bbc8c712-38a8-4f33-c29c-79608af60b4d"
      },
      "source": [
        "import matplotlib.pyplot as plt\n",
        "# summarize history for accuracy\n",
        "plt.plot(history.history['accuracy'])\n",
        "plt.plot(history.history['val_accuracy'])\n",
        "plt.title('model accuracy')\n",
        "plt.ylabel('accuracy')\n",
        "plt.xlabel('epoch')\n",
        "plt.legend(['train', 'test'], loc='upper left')\n",
        "plt.show()\n",
        "# summarize history for loss\n",
        "plt.plot(history.history['loss'])\n",
        "plt.plot(history.history['val_loss'])\n",
        "plt.title('model loss')\n",
        "plt.ylabel('loss')\n",
        "plt.xlabel('epoch')\n",
        "plt.legend(['train', 'test'], loc='upper left')\n",
        "plt.show()"
      ],
      "execution_count": 13,
      "outputs": [
        {
          "output_type": "display_data",
          "data": {
            "image/png": "[encoded data removed]",
            "text/plain": [
              "<Figure size 432x288 with 1 Axes>"
            ]
          },
          "metadata": {
            "tags": [],
            "needs_background": "light"
          }
        },
        {
          "output_type": "display_data",
          "data": {
            "image/png": "[encoded data removed]",
            "text/plain": [
              "<Figure size 432x288 with 1 Axes>"
            ]
          },
          "metadata": {
            "tags": [],
            "needs_background": "light"
          }
        }
      ]
    }
  ]
}