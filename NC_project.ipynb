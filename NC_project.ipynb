{
 "cells": [
  {
   "cell_type": "code",
   "execution_count": 96,
   "metadata": {},
   "outputs": [],
   "source": [
    "import tensorflow as tf\n",
    "from keras.models import load_model\n",
    "from keras.models import Model\n",
    "from keras.layers import Dense, Conv2D, Dropout, Flatten, MaxPooling2D, Input, Activation\n",
    "import numpy as np \n",
    "from skimage.measure import compare_ssim\n",
    "import matplotlib.pyplot as plt\n",
    "import seaborn as sns\n",
    "from sklearn.svm import SVC\n",
    "import pickle\n",
    "import time\n",
    "import keras"
   ]
  },
  {
   "cell_type": "code",
   "execution_count": 2,
   "metadata": {},
   "outputs": [],
   "source": [
    "np.random.seed(0)"
   ]
  },
  {
   "cell_type": "code",
   "execution_count": 3,
   "metadata": {},
   "outputs": [],
   "source": [
    "INDIVIDUALS = 50\n",
    "P_CROSS = 0.6\n",
    "P_MUTATION = 0.1\n",
    "LEN = 784"
   ]
  },
  {
   "cell_type": "code",
   "execution_count": 98,
   "metadata": {},
   "outputs": [],
   "source": [
    "def euclidean(s):\n",
    "    # https://stackoverflow.com/questions/1401712/how-can-the-euclidean-distance-be-calculated-with-numpy\n",
    "    # pass s=a-b as argument to the function\n",
    "    return np.linalg.norm(s)\n",
    "\n",
    "def euc_fitness(individual, target, pred, label, l1=0.5, l2=0.5, N = 50, n_classes=10):\n",
    "    # petras fitness fucntion\n",
    "    #print(l1*euclidean(individual-target)/N, l2*euclidean(pred-label)/n_classes)\n",
    "    return -(l1*euclidean(individual-target)/N + l2*euclidean(pred-label)/n_classes)\n",
    "\n",
    "def computing_SSIM(individual,target):\n",
    "    (score, diff) = compare_ssim(individual, target, full=True)\n",
    "    #diff = (diff * 255).astype(\"uint8\")\n",
    "    return score\n",
    "\n",
    "def ssim_fitness(individual, target, pred, label, l1=0.5, l2=0.5, N = 50, n_classes=10):\n",
    "    return -(l1*computing_SSIM(individual,target)/N + l2*computing_SSIM(pred,label)/n_classes)\n",
    "\n",
    "def pop_fitness(pop, target, predictions, label):\n",
    "    return [ssim_fitness(p, target, pred, label) for p, pred in zip(pop, predictions)]\n",
    "\n",
    "def flatten(imgs):\n",
    "    # flatten all images in np array or list\n",
    "    return np.array([im.flatten() for im in imgs])\n",
    "\n",
    "def gaussian_noise():\n",
    "    # draw one sample of noise from zero mean 1 variance Gaussian\n",
    "    return np.random.normal(0, np.sqrt(0.1))\n",
    "\n",
    "def p_noise(x):\n",
    "    # add noise given probability\n",
    "    if P_MUTATION > np.random.uniform():\n",
    "          return x + gaussian_noise()\n",
    "    else:\n",
    "        return x\n",
    "\n",
    "def add_noise(image):\n",
    "    # np.random.normal(0, np.sqrt(0.1), (LEN)) \n",
    "    # define vectorized function to apply to image\n",
    "    noise_v = np.vectorize(p_noise)\n",
    "    return noise_v(image)\n",
    "\n",
    "def k_crossover(im1, im2, k=2):\n",
    "    c1, c2 = [], []\n",
    "    # get k crossover points\n",
    "    points = sorted([np.random.randint(0, 783, 1) for p in range(k)])\n",
    "    im_1_split = np.split(im1, [int(p) for p in points])\n",
    "    im_2_split = np.split(im2, [int(p) for p in points])\n",
    "    \n",
    "    # alternate between lists to realise crossover (theres got to be a more clever way to do this)\n",
    "    for i in range(k+1):\n",
    "        if i % 2 == 0:\n",
    "            c1.append(im_1_split[i])\n",
    "            c2.append(im_2_split[i])\n",
    "        else:\n",
    "            c1.append(im_2_split[i])\n",
    "            c2.append(im_1_split[i])\n",
    "    return np.concatenate(c1, axis=0), np.concatenate(c2, axis=0)\n",
    "\n",
    "def tournament(pop, predictions, ground_truth, target, k=3):\n",
    "    indices = np.random.choice(range(len(pop)), k, replace=False)\n",
    "    individuals = pop.take(indices)\n",
    "    scores = [euc_fitness(ind, ground_truth, p, target) for ind ,p in zip(individuals, predictions)]\n",
    "    index_min = max(range(len(scores)), key=scores.__getitem__)\n",
    "    return pop[index_min]\n",
    "\n",
    "def check_adverserial(pop, gt, preds, target, N=50):\n",
    "    for ind, pred in zip(pop, preds):\n",
    "        if pred == target and euclidean(ind-gt)/N < 0.01:\n",
    "            print('WELL HEY THERE')\n",
    "            return ind\n",
    "    return None\n",
    "\n",
    "def init_pop_from_sample(n, num, data, labels):\n",
    "    indices = np.where(labels==num)[0]\n",
    "    index = np.random.choice(indices, 1)\n",
    "    sample = np.take(data, index, axis=0)\n",
    "    x = np.array([add_noise(sample) for i in range(n)])\n",
    "    return x.reshape(n, 784), sample\n",
    "\n",
    "def save_model(model, filename='SVC_model.sav'):\n",
    "    pickle.dump(model, open(filename, 'wb'))\n",
    "    \n",
    "def load_model(filename='SVC_model.sav'):\n",
    "    return pickle.load(open(filename, 'rb'))"
   ]
  },
  {
   "cell_type": "code",
   "execution_count": 81,
   "metadata": {},
   "outputs": [],
   "source": [
    "# load flatten and normalize mnist\n",
    "(x_train, y), (x_test, y_t) = tf.keras.datasets.mnist.load_data()\n",
    "X = flatten(x_train)\n",
    "X_t = flatten(x_test)\n",
    "#X = np.array([x/255 for x in X])\n",
    "#X_t = np.array([x/255 for x in X_t])"
   ]
  },
  {
   "cell_type": "code",
   "execution_count": 91,
   "metadata": {},
   "outputs": [
    {
     "data": {
      "text/plain": [
       "0.9792"
      ]
     },
     "execution_count": 91,
     "metadata": {},
     "output_type": "execute_result"
    }
   ],
   "source": [
    "#svm = SVC(C=1, kernel='rbf')\n",
    "#svm.fit(X, y)\n",
    "#svm.score(X_t, y_t)\n",
    "#save_model(svm)\n",
    "#model = load_model()\n",
    "#model.score(X_t, y_t)"
   ]
  },
  {
   "cell_type": "code",
   "execution_count": 43,
   "metadata": {},
   "outputs": [],
   "source": [
    "inp = Input(shape=(28,28,1))\n",
    "conv1 = Conv2D(32, (3,3),activation='relu')(inp)\n",
    "conv2 = Conv2D(32, (3,3),activation='relu')(conv1)\n",
    "max_pool1 = MaxPooling2D(pool_size=(2, 2))(conv2)\n",
    "drop = Dropout(0.25)(max_pool1)\n",
    "flat =  Flatten()(drop)\n",
    "dense1 = Dense(128,activation=\"relu\")(flat)\n",
    "drop = Dropout(0.5)(dense1)\n",
    "predictions = Dense(10,activation=\"softmax\")(drop)\n",
    "model = Model(inputs=[inp], outputs=[predictions])\n",
    "model.compile(optimizer='Adadelta', \n",
    "              loss='categorical_crossentropy', \n",
    "              metrics=['accuracy'])"
   ]
  },
  {
   "cell_type": "code",
   "execution_count": 44,
   "metadata": {},
   "outputs": [
    {
     "name": "stdout",
     "output_type": "stream",
     "text": [
      "<keras.engine.training.Model object at 0x0000020B750125C0>\n",
      "Model: \"model_3\"\n",
      "_________________________________________________________________\n",
      "Layer (type)                 Output Shape              Param #   \n",
      "=================================================================\n",
      "input_13 (InputLayer)        (None, 28, 28, 1)         0         \n",
      "_________________________________________________________________\n",
      "conv2d_5 (Conv2D)            (None, 26, 26, 32)        320       \n",
      "_________________________________________________________________\n",
      "conv2d_6 (Conv2D)            (None, 24, 24, 32)        9248      \n",
      "_________________________________________________________________\n",
      "max_pooling2d_3 (MaxPooling2 (None, 12, 12, 32)        0         \n",
      "_________________________________________________________________\n",
      "dropout_5 (Dropout)          (None, 12, 12, 32)        0         \n",
      "_________________________________________________________________\n",
      "flatten_3 (Flatten)          (None, 4608)              0         \n",
      "_________________________________________________________________\n",
      "dense_5 (Dense)              (None, 128)               589952    \n",
      "_________________________________________________________________\n",
      "dropout_6 (Dropout)          (None, 128)               0         \n",
      "_________________________________________________________________\n",
      "dense_6 (Dense)              (None, 10)                1290      \n",
      "=================================================================\n",
      "Total params: 600,810\n",
      "Trainable params: 600,810\n",
      "Non-trainable params: 0\n",
      "_________________________________________________________________\n"
     ]
    }
   ],
   "source": [
    "model.load_weights('CNN_MNIST.h5')\n",
    "print(model)\n",
    "model.summary()"
   ]
  },
  {
   "cell_type": "code",
   "execution_count": 14,
   "metadata": {},
   "outputs": [
    {
     "data": {
      "text/plain": [
       "<matplotlib.image.AxesImage at 0x19c0d635f28>"
      ]
     },
     "execution_count": 14,
     "metadata": {},
     "output_type": "execute_result"
    },
    {
     "data": {
      "image/png": "[encoded data removed]",
      "text/plain": [
       "<Figure size 432x288 with 2 Axes>"
      ]
     },
     "metadata": {
      "needs_background": "light"
     },
     "output_type": "display_data"
    }
   ],
   "source": [
    "# Examples of crossover\n",
    "v, w = k_crossover(X[0],X[1])\n",
    "fig, ax = plt.subplots(1,2)\n",
    "ax[0].imshow(v.reshape(28,28)) \n",
    "ax[1].imshow(w.reshape(28,28))"
   ]
  },
  {
   "cell_type": "code",
   "execution_count": 17,
   "metadata": {},
   "outputs": [
    {
     "name": "stdout",
     "output_type": "stream",
     "text": [
      "-0.07175700400237088\n"
     ]
    },
    {
     "data": {
      "image/png": "[encoded data removed]",
      "text/plain": [
       "<Figure size 432x288 with 2 Axes>"
      ]
     },
     "metadata": {
      "needs_background": "light"
     },
     "output_type": "display_data"
    }
   ],
   "source": [
    "# examples of noise\n",
    "fig, ax = plt.subplots(1,2)\n",
    "orig = X[1].reshape(28,28)\n",
    "example = add_noise(X[1]).reshape(28,28)\n",
    "ax[0].imshow(orig) \n",
    "ax[1].imshow(example)\n",
    "print(euc_fitness(example, orig, 0, 1))"
   ]
  },
  {
   "cell_type": "code",
   "execution_count": 100,
   "metadata": {},
   "outputs": [
    {
     "name": "stdout",
     "output_type": "stream",
     "text": [
      "(784,) (784,)\n"
     ]
    },
    {
     "name": "stderr",
     "output_type": "stream",
     "text": [
      "C:\\Users\\Cyril de Kock\\Anaconda3\\lib\\site-packages\\ipykernel_launcher.py:12: UserWarning: DEPRECATED: skimage.measure.compare_ssim has been moved to skimage.metrics.structural_similarity. It will be removed from skimage.measure in version 0.18.\n",
      "  if sys.path[0] == '':\n",
      "C:\\Users\\Cyril de Kock\\Anaconda3\\lib\\site-packages\\skimage\\measure\\_structural_similarity.py:17: UserWarning: Inputs have mismatched dtype.  Setting data_range based on im1.dtype.\n",
      "  **kwargs)\n"
     ]
    },
    {
     "ename": "AttributeError",
     "evalue": "'int' object has no attribute 'shape'",
     "output_type": "error",
     "traceback": [
      "\u001b[1;31m---------------------------------------------------------------------------\u001b[0m",
      "\u001b[1;31mAttributeError\u001b[0m                            Traceback (most recent call last)",
      "\u001b[1;32m<ipython-input-100-7e8840a17a0a>\u001b[0m in \u001b[0;36m<module>\u001b[1;34m\u001b[0m\n\u001b[0;32m     45\u001b[0m \u001b[1;33m\u001b[0m\u001b[0m\n\u001b[0;32m     46\u001b[0m \u001b[0mstart\u001b[0m \u001b[1;33m=\u001b[0m \u001b[0mtime\u001b[0m\u001b[1;33m.\u001b[0m\u001b[0mprocess_time\u001b[0m\u001b[1;33m(\u001b[0m\u001b[1;33m)\u001b[0m\u001b[1;33m\u001b[0m\u001b[1;33m\u001b[0m\u001b[0m\n\u001b[1;32m---> 47\u001b[1;33m \u001b[0madverserial\u001b[0m \u001b[1;33m=\u001b[0m \u001b[0mga\u001b[0m\u001b[1;33m(\u001b[0m\u001b[0mnum\u001b[0m\u001b[1;33m=\u001b[0m\u001b[1;36m1\u001b[0m\u001b[1;33m,\u001b[0m \u001b[0mdata\u001b[0m\u001b[1;33m=\u001b[0m\u001b[0mX\u001b[0m\u001b[1;33m,\u001b[0m \u001b[0mlabels\u001b[0m\u001b[1;33m=\u001b[0m\u001b[0my\u001b[0m\u001b[1;33m,\u001b[0m \u001b[0mtarget\u001b[0m\u001b[1;33m=\u001b[0m\u001b[1;36m2\u001b[0m\u001b[1;33m,\u001b[0m \u001b[0mmax_gen\u001b[0m\u001b[1;33m=\u001b[0m\u001b[1;36m2000\u001b[0m\u001b[1;33m)\u001b[0m\u001b[1;33m\u001b[0m\u001b[1;33m\u001b[0m\u001b[0m\n\u001b[0m\u001b[0;32m     48\u001b[0m \u001b[0mprint\u001b[0m\u001b[1;33m(\u001b[0m\u001b[0mtime\u001b[0m\u001b[1;33m.\u001b[0m\u001b[0mprocess_time\u001b[0m\u001b[1;33m(\u001b[0m\u001b[1;33m)\u001b[0m \u001b[1;33m-\u001b[0m \u001b[0mstart\u001b[0m\u001b[1;33m)\u001b[0m\u001b[1;33m\u001b[0m\u001b[1;33m\u001b[0m\u001b[0m\n",
      "\u001b[1;32m<ipython-input-100-7e8840a17a0a>\u001b[0m in \u001b[0;36mga\u001b[1;34m(num, data, labels, target, max_gen, individuals, p_cross, p_mut)\u001b[0m\n\u001b[0;32m      6\u001b[0m     \u001b[0mground_truth\u001b[0m \u001b[1;33m=\u001b[0m \u001b[0mground_truth\u001b[0m\u001b[1;33m.\u001b[0m\u001b[0mreshape\u001b[0m\u001b[1;33m(\u001b[0m\u001b[1;36m784\u001b[0m\u001b[1;33m,\u001b[0m\u001b[1;33m)\u001b[0m\u001b[1;33m\u001b[0m\u001b[1;33m\u001b[0m\u001b[0m\n\u001b[0;32m      7\u001b[0m     \u001b[0mpredictions\u001b[0m \u001b[1;33m=\u001b[0m \u001b[0mnp\u001b[0m\u001b[1;33m.\u001b[0m\u001b[0margmax\u001b[0m\u001b[1;33m(\u001b[0m\u001b[0mmodel\u001b[0m\u001b[1;33m.\u001b[0m\u001b[0mpredict\u001b[0m\u001b[1;33m(\u001b[0m\u001b[0mpop\u001b[0m\u001b[1;33m.\u001b[0m\u001b[0mreshape\u001b[0m\u001b[1;33m(\u001b[0m\u001b[0mindividuals\u001b[0m\u001b[1;33m,\u001b[0m \u001b[1;36m28\u001b[0m\u001b[1;33m,\u001b[0m\u001b[1;36m28\u001b[0m\u001b[1;33m,\u001b[0m\u001b[1;36m1\u001b[0m\u001b[1;33m)\u001b[0m\u001b[1;33m/\u001b[0m\u001b[1;36m255.\u001b[0m\u001b[1;33m)\u001b[0m\u001b[1;33m,\u001b[0m \u001b[0maxis\u001b[0m\u001b[1;33m=\u001b[0m\u001b[1;36m1\u001b[0m\u001b[1;33m)\u001b[0m\u001b[1;33m\u001b[0m\u001b[1;33m\u001b[0m\u001b[0m\n\u001b[1;32m----> 8\u001b[1;33m     \u001b[0mfit_vals\u001b[0m \u001b[1;33m=\u001b[0m \u001b[0mpop_fitness\u001b[0m\u001b[1;33m(\u001b[0m\u001b[0mpop\u001b[0m\u001b[1;33m,\u001b[0m \u001b[0mground_truth\u001b[0m\u001b[1;33m,\u001b[0m \u001b[0mpredictions\u001b[0m\u001b[1;33m,\u001b[0m \u001b[0mtarget\u001b[0m\u001b[1;33m)\u001b[0m\u001b[1;33m\u001b[0m\u001b[1;33m\u001b[0m\u001b[0m\n\u001b[0m\u001b[0;32m      9\u001b[0m \u001b[1;33m\u001b[0m\u001b[0m\n\u001b[0;32m     10\u001b[0m \u001b[1;33m\u001b[0m\u001b[0m\n",
      "\u001b[1;32m<ipython-input-98-a6da9d3b5539>\u001b[0m in \u001b[0;36mpop_fitness\u001b[1;34m(pop, target, predictions, label)\u001b[0m\n\u001b[0;32m     19\u001b[0m \u001b[1;33m\u001b[0m\u001b[0m\n\u001b[0;32m     20\u001b[0m \u001b[1;32mdef\u001b[0m \u001b[0mpop_fitness\u001b[0m\u001b[1;33m(\u001b[0m\u001b[0mpop\u001b[0m\u001b[1;33m,\u001b[0m \u001b[0mtarget\u001b[0m\u001b[1;33m,\u001b[0m \u001b[0mpredictions\u001b[0m\u001b[1;33m,\u001b[0m \u001b[0mlabel\u001b[0m\u001b[1;33m)\u001b[0m\u001b[1;33m:\u001b[0m\u001b[1;33m\u001b[0m\u001b[1;33m\u001b[0m\u001b[0m\n\u001b[1;32m---> 21\u001b[1;33m     \u001b[1;32mreturn\u001b[0m \u001b[1;33m[\u001b[0m\u001b[0mssim_fitness\u001b[0m\u001b[1;33m(\u001b[0m\u001b[0mp\u001b[0m\u001b[1;33m,\u001b[0m \u001b[0mtarget\u001b[0m\u001b[1;33m,\u001b[0m \u001b[0mpred\u001b[0m\u001b[1;33m,\u001b[0m \u001b[0mlabel\u001b[0m\u001b[1;33m)\u001b[0m \u001b[1;32mfor\u001b[0m \u001b[0mp\u001b[0m\u001b[1;33m,\u001b[0m \u001b[0mpred\u001b[0m \u001b[1;32min\u001b[0m \u001b[0mzip\u001b[0m\u001b[1;33m(\u001b[0m\u001b[0mpop\u001b[0m\u001b[1;33m,\u001b[0m \u001b[0mpredictions\u001b[0m\u001b[1;33m)\u001b[0m\u001b[1;33m]\u001b[0m\u001b[1;33m\u001b[0m\u001b[1;33m\u001b[0m\u001b[0m\n\u001b[0m\u001b[0;32m     22\u001b[0m \u001b[1;33m\u001b[0m\u001b[0m\n\u001b[0;32m     23\u001b[0m \u001b[1;32mdef\u001b[0m \u001b[0mflatten\u001b[0m\u001b[1;33m(\u001b[0m\u001b[0mimgs\u001b[0m\u001b[1;33m)\u001b[0m\u001b[1;33m:\u001b[0m\u001b[1;33m\u001b[0m\u001b[1;33m\u001b[0m\u001b[0m\n",
      "\u001b[1;32m<ipython-input-98-a6da9d3b5539>\u001b[0m in \u001b[0;36m<listcomp>\u001b[1;34m(.0)\u001b[0m\n\u001b[0;32m     19\u001b[0m \u001b[1;33m\u001b[0m\u001b[0m\n\u001b[0;32m     20\u001b[0m \u001b[1;32mdef\u001b[0m \u001b[0mpop_fitness\u001b[0m\u001b[1;33m(\u001b[0m\u001b[0mpop\u001b[0m\u001b[1;33m,\u001b[0m \u001b[0mtarget\u001b[0m\u001b[1;33m,\u001b[0m \u001b[0mpredictions\u001b[0m\u001b[1;33m,\u001b[0m \u001b[0mlabel\u001b[0m\u001b[1;33m)\u001b[0m\u001b[1;33m:\u001b[0m\u001b[1;33m\u001b[0m\u001b[1;33m\u001b[0m\u001b[0m\n\u001b[1;32m---> 21\u001b[1;33m     \u001b[1;32mreturn\u001b[0m \u001b[1;33m[\u001b[0m\u001b[0mssim_fitness\u001b[0m\u001b[1;33m(\u001b[0m\u001b[0mp\u001b[0m\u001b[1;33m,\u001b[0m \u001b[0mtarget\u001b[0m\u001b[1;33m,\u001b[0m \u001b[0mpred\u001b[0m\u001b[1;33m,\u001b[0m \u001b[0mlabel\u001b[0m\u001b[1;33m)\u001b[0m \u001b[1;32mfor\u001b[0m \u001b[0mp\u001b[0m\u001b[1;33m,\u001b[0m \u001b[0mpred\u001b[0m \u001b[1;32min\u001b[0m \u001b[0mzip\u001b[0m\u001b[1;33m(\u001b[0m\u001b[0mpop\u001b[0m\u001b[1;33m,\u001b[0m \u001b[0mpredictions\u001b[0m\u001b[1;33m)\u001b[0m\u001b[1;33m]\u001b[0m\u001b[1;33m\u001b[0m\u001b[1;33m\u001b[0m\u001b[0m\n\u001b[0m\u001b[0;32m     22\u001b[0m \u001b[1;33m\u001b[0m\u001b[0m\n\u001b[0;32m     23\u001b[0m \u001b[1;32mdef\u001b[0m \u001b[0mflatten\u001b[0m\u001b[1;33m(\u001b[0m\u001b[0mimgs\u001b[0m\u001b[1;33m)\u001b[0m\u001b[1;33m:\u001b[0m\u001b[1;33m\u001b[0m\u001b[1;33m\u001b[0m\u001b[0m\n",
      "\u001b[1;32m<ipython-input-98-a6da9d3b5539>\u001b[0m in \u001b[0;36mssim_fitness\u001b[1;34m(individual, target, pred, label, l1, l2, N, n_classes)\u001b[0m\n\u001b[0;32m     16\u001b[0m \u001b[1;32mdef\u001b[0m \u001b[0mssim_fitness\u001b[0m\u001b[1;33m(\u001b[0m\u001b[0mindividual\u001b[0m\u001b[1;33m,\u001b[0m \u001b[0mtarget\u001b[0m\u001b[1;33m,\u001b[0m \u001b[0mpred\u001b[0m\u001b[1;33m,\u001b[0m \u001b[0mlabel\u001b[0m\u001b[1;33m,\u001b[0m \u001b[0ml1\u001b[0m\u001b[1;33m=\u001b[0m\u001b[1;36m0.5\u001b[0m\u001b[1;33m,\u001b[0m \u001b[0ml2\u001b[0m\u001b[1;33m=\u001b[0m\u001b[1;36m0.5\u001b[0m\u001b[1;33m,\u001b[0m \u001b[0mN\u001b[0m \u001b[1;33m=\u001b[0m \u001b[1;36m50\u001b[0m\u001b[1;33m,\u001b[0m \u001b[0mn_classes\u001b[0m\u001b[1;33m=\u001b[0m\u001b[1;36m10\u001b[0m\u001b[1;33m)\u001b[0m\u001b[1;33m:\u001b[0m\u001b[1;33m\u001b[0m\u001b[1;33m\u001b[0m\u001b[0m\n\u001b[0;32m     17\u001b[0m     \u001b[0mprint\u001b[0m\u001b[1;33m(\u001b[0m\u001b[0mindividual\u001b[0m\u001b[1;33m.\u001b[0m\u001b[0mshape\u001b[0m\u001b[1;33m,\u001b[0m \u001b[0mtarget\u001b[0m\u001b[1;33m.\u001b[0m\u001b[0mshape\u001b[0m\u001b[1;33m)\u001b[0m\u001b[1;33m\u001b[0m\u001b[1;33m\u001b[0m\u001b[0m\n\u001b[1;32m---> 18\u001b[1;33m     \u001b[1;32mreturn\u001b[0m \u001b[1;33m-\u001b[0m\u001b[1;33m(\u001b[0m\u001b[0ml1\u001b[0m\u001b[1;33m*\u001b[0m\u001b[0mcomputing_SSIM\u001b[0m\u001b[1;33m(\u001b[0m\u001b[0mindividual\u001b[0m\u001b[1;33m,\u001b[0m\u001b[0mtarget\u001b[0m\u001b[1;33m)\u001b[0m\u001b[1;33m/\u001b[0m\u001b[0mN\u001b[0m \u001b[1;33m+\u001b[0m \u001b[0ml2\u001b[0m\u001b[1;33m*\u001b[0m\u001b[0mcomputing_SSIM\u001b[0m\u001b[1;33m(\u001b[0m\u001b[0mpred\u001b[0m\u001b[1;33m,\u001b[0m\u001b[0mlabel\u001b[0m\u001b[1;33m)\u001b[0m\u001b[1;33m/\u001b[0m\u001b[0mn_classes\u001b[0m\u001b[1;33m)\u001b[0m\u001b[1;33m\u001b[0m\u001b[1;33m\u001b[0m\u001b[0m\n\u001b[0m\u001b[0;32m     19\u001b[0m \u001b[1;33m\u001b[0m\u001b[0m\n\u001b[0;32m     20\u001b[0m \u001b[1;32mdef\u001b[0m \u001b[0mpop_fitness\u001b[0m\u001b[1;33m(\u001b[0m\u001b[0mpop\u001b[0m\u001b[1;33m,\u001b[0m \u001b[0mtarget\u001b[0m\u001b[1;33m,\u001b[0m \u001b[0mpredictions\u001b[0m\u001b[1;33m,\u001b[0m \u001b[0mlabel\u001b[0m\u001b[1;33m)\u001b[0m\u001b[1;33m:\u001b[0m\u001b[1;33m\u001b[0m\u001b[1;33m\u001b[0m\u001b[0m\n",
      "\u001b[1;32m<ipython-input-98-a6da9d3b5539>\u001b[0m in \u001b[0;36mcomputing_SSIM\u001b[1;34m(individual, target)\u001b[0m\n\u001b[0;32m     10\u001b[0m \u001b[1;33m\u001b[0m\u001b[0m\n\u001b[0;32m     11\u001b[0m \u001b[1;32mdef\u001b[0m \u001b[0mcomputing_SSIM\u001b[0m\u001b[1;33m(\u001b[0m\u001b[0mindividual\u001b[0m\u001b[1;33m,\u001b[0m\u001b[0mtarget\u001b[0m\u001b[1;33m)\u001b[0m\u001b[1;33m:\u001b[0m\u001b[1;33m\u001b[0m\u001b[1;33m\u001b[0m\u001b[0m\n\u001b[1;32m---> 12\u001b[1;33m     \u001b[1;33m(\u001b[0m\u001b[0mscore\u001b[0m\u001b[1;33m,\u001b[0m \u001b[0mdiff\u001b[0m\u001b[1;33m)\u001b[0m \u001b[1;33m=\u001b[0m \u001b[0mcompare_ssim\u001b[0m\u001b[1;33m(\u001b[0m\u001b[0mindividual\u001b[0m\u001b[1;33m,\u001b[0m \u001b[0mtarget\u001b[0m\u001b[1;33m,\u001b[0m \u001b[0mfull\u001b[0m\u001b[1;33m=\u001b[0m\u001b[1;32mTrue\u001b[0m\u001b[1;33m)\u001b[0m\u001b[1;33m\u001b[0m\u001b[1;33m\u001b[0m\u001b[0m\n\u001b[0m\u001b[0;32m     13\u001b[0m     \u001b[1;31m#diff = (diff * 255).astype(\"uint8\")\u001b[0m\u001b[1;33m\u001b[0m\u001b[1;33m\u001b[0m\u001b[1;33m\u001b[0m\u001b[0m\n\u001b[0;32m     14\u001b[0m     \u001b[1;32mreturn\u001b[0m \u001b[0mscore\u001b[0m\u001b[1;33m\u001b[0m\u001b[1;33m\u001b[0m\u001b[0m\n",
      "\u001b[1;32m~\\Anaconda3\\lib\\site-packages\\skimage\\measure\\_structural_similarity.py\u001b[0m in \u001b[0;36mcompare_ssim\u001b[1;34m(X, Y, win_size, gradient, data_range, multichannel, gaussian_weights, full, **kwargs)\u001b[0m\n\u001b[0;32m     15\u001b[0m                                  \u001b[0mmultichannel\u001b[0m\u001b[1;33m=\u001b[0m\u001b[0mmultichannel\u001b[0m\u001b[1;33m,\u001b[0m\u001b[1;33m\u001b[0m\u001b[1;33m\u001b[0m\u001b[0m\n\u001b[0;32m     16\u001b[0m                                  \u001b[0mgaussian_weights\u001b[0m\u001b[1;33m=\u001b[0m\u001b[0mgaussian_weights\u001b[0m\u001b[1;33m,\u001b[0m \u001b[0mfull\u001b[0m\u001b[1;33m=\u001b[0m\u001b[0mfull\u001b[0m\u001b[1;33m,\u001b[0m\u001b[1;33m\u001b[0m\u001b[1;33m\u001b[0m\u001b[0m\n\u001b[1;32m---> 17\u001b[1;33m                                  **kwargs)\n\u001b[0m\u001b[0;32m     18\u001b[0m \u001b[1;33m\u001b[0m\u001b[0m\n\u001b[0;32m     19\u001b[0m \u001b[1;33m\u001b[0m\u001b[0m\n",
      "\u001b[1;32m~\\Anaconda3\\lib\\site-packages\\skimage\\metrics\\_structural_similarity.py\u001b[0m in \u001b[0;36mstructural_similarity\u001b[1;34m(im1, im2, win_size, gradient, data_range, multichannel, gaussian_weights, full, **kwargs)\u001b[0m\n\u001b[0;32m     87\u001b[0m \u001b[1;33m\u001b[0m\u001b[0m\n\u001b[0;32m     88\u001b[0m     \"\"\"\n\u001b[1;32m---> 89\u001b[1;33m     \u001b[0mcheck_shape_equality\u001b[0m\u001b[1;33m(\u001b[0m\u001b[0mim1\u001b[0m\u001b[1;33m,\u001b[0m \u001b[0mim2\u001b[0m\u001b[1;33m)\u001b[0m\u001b[1;33m\u001b[0m\u001b[1;33m\u001b[0m\u001b[0m\n\u001b[0m\u001b[0;32m     90\u001b[0m \u001b[1;33m\u001b[0m\u001b[0m\n\u001b[0;32m     91\u001b[0m     \u001b[1;32mif\u001b[0m \u001b[0mmultichannel\u001b[0m\u001b[1;33m:\u001b[0m\u001b[1;33m\u001b[0m\u001b[1;33m\u001b[0m\u001b[0m\n",
      "\u001b[1;32m~\\Anaconda3\\lib\\site-packages\\skimage\\_shared\\utils.py\u001b[0m in \u001b[0;36mcheck_shape_equality\u001b[1;34m(im1, im2)\u001b[0m\n\u001b[0;32m    154\u001b[0m \u001b[1;32mdef\u001b[0m \u001b[0mcheck_shape_equality\u001b[0m\u001b[1;33m(\u001b[0m\u001b[0mim1\u001b[0m\u001b[1;33m,\u001b[0m \u001b[0mim2\u001b[0m\u001b[1;33m)\u001b[0m\u001b[1;33m:\u001b[0m\u001b[1;33m\u001b[0m\u001b[1;33m\u001b[0m\u001b[0m\n\u001b[0;32m    155\u001b[0m     \u001b[1;34m\"\"\"Raise an error if the shape do not match.\"\"\"\u001b[0m\u001b[1;33m\u001b[0m\u001b[1;33m\u001b[0m\u001b[0m\n\u001b[1;32m--> 156\u001b[1;33m     \u001b[1;32mif\u001b[0m \u001b[1;32mnot\u001b[0m \u001b[0mim1\u001b[0m\u001b[1;33m.\u001b[0m\u001b[0mshape\u001b[0m \u001b[1;33m==\u001b[0m \u001b[0mim2\u001b[0m\u001b[1;33m.\u001b[0m\u001b[0mshape\u001b[0m\u001b[1;33m:\u001b[0m\u001b[1;33m\u001b[0m\u001b[1;33m\u001b[0m\u001b[0m\n\u001b[0m\u001b[0;32m    157\u001b[0m         \u001b[1;32mraise\u001b[0m \u001b[0mValueError\u001b[0m\u001b[1;33m(\u001b[0m\u001b[1;34m'Input images must have the same dimensions.'\u001b[0m\u001b[1;33m)\u001b[0m\u001b[1;33m\u001b[0m\u001b[1;33m\u001b[0m\u001b[0m\n\u001b[0;32m    158\u001b[0m     \u001b[1;32mreturn\u001b[0m\u001b[1;33m\u001b[0m\u001b[1;33m\u001b[0m\u001b[0m\n",
      "\u001b[1;31mAttributeError\u001b[0m: 'int' object has no attribute 'shape'"
     ]
    }
   ],
   "source": [
    "def ga(num, data, labels, target, max_gen=1000, individuals = INDIVIDUALS, p_cross = P_CROSS, p_mut = P_MUTATION):\n",
    "    \n",
    "    # initialize population by drawing 1 sample from passed dataset, automatically applies noise to all copies\n",
    "    # Then take predictions to calculate population fitness\n",
    "    pop, ground_truth = init_pop_from_sample(individuals, num, data, labels)\n",
    "    ground_truth = ground_truth.reshape(784,)\n",
    "    predictions = np.argmax(model.predict(pop.reshape(individuals, 28,28,1)/255.), axis=1)\n",
    "    fit_vals = pop_fitness(pop, ground_truth, predictions, target)\n",
    "\n",
    "\n",
    "    for gen in range(max_gen):\n",
    "        if gen % 10 == 0:\n",
    "            print(f'fitting gen: {gen}')\n",
    "            print('\\n predictions:')\n",
    "            print(predictions)\n",
    "            print('\\n fitness values:')\n",
    "            print(fit_vals)\n",
    "            print(f'\\n best fitness: {max(fit_vals)}')\n",
    "\n",
    "        adverserial = check_adverserial(pop, ground_truth, predictions, target)\n",
    "        if adverserial:\n",
    "            return adverserial\n",
    "        \n",
    "        new_pop = []\n",
    "        for i in range(individuals//2):\n",
    "                            \n",
    "            parent1 = tournament(pop, predictions, ground_truth, target) \n",
    "            parent2 = tournament(pop, predictions, ground_truth, target)\n",
    "            if p_cross > np.random.uniform(0.0, 1.0):\n",
    "                \n",
    "                child1, child2 = k_crossover(parent1, parent2) # crossover\n",
    "                child1, child2 = add_noise(child1), add_noise(child2) # apply mutation to pixels     \n",
    "                new_pop.append(child1)\n",
    "                new_pop.append(child2)\n",
    "            else:\n",
    "                parent1, parent2 = add_noise(parent1), add_noise(parent2) # apply mutation to pixels     \n",
    "                new_pop.append(parent1)\n",
    "                new_pop.append(parent2)\n",
    "                \n",
    "        pop = np.array(new_pop)\n",
    "        predictions = np.argmax(model.predict(pop.reshape(individuals, 28,28,1)/255.), axis=1)\n",
    "\n",
    "        fit_vals = pop_fitness(pop, ground_truth, predictions, target)\n",
    "    return pop[fit_vals.index(max(fit_vals))]\n",
    "    \n",
    "start = time.process_time()\n",
    "adverserial = ga(num=1, data=X, labels=y, target=2, max_gen=2000)\n",
    "print(time.process_time() - start)"
   ]
  },
  {
   "cell_type": "code",
   "execution_count": 93,
   "metadata": {},
   "outputs": [
    {
     "data": {
      "text/plain": [
       "<matplotlib.image.AxesImage at 0x20b2358e668>"
      ]
     },
     "execution_count": 93,
     "metadata": {},
     "output_type": "execute_result"
    },
    {
     "data": {
      "image/png": "[encoded data removed]",
      "text/plain": [
       "<Figure size 432x288 with 1 Axes>"
      ]
     },
     "metadata": {
      "needs_background": "light"
     },
     "output_type": "display_data"
    }
   ],
   "source": [
    "plt.imshow(adverserial.reshape(28,28))"
   ]
  },
  {
   "cell_type": "code",
   "execution_count": 85,
   "metadata": {},
   "outputs": [
    {
     "data": {
      "text/plain": [
       "array([5], dtype=uint8)"
      ]
     },
     "execution_count": 85,
     "metadata": {},
     "output_type": "execute_result"
    }
   ],
   "source": [
    "model.predict(adverserial.reshape(1,-1))"
   ]
  },
  {
   "cell_type": "code",
   "execution_count": null,
   "metadata": {},
   "outputs": [],
   "source": [
    "from deap import algorithms\n",
    "from deap import base\n",
    "from deap import creator\n",
    "from deap import tools\n",
    "\n",
    "creator.create(\"FitnessMax\", base.Fitness, weights=(1.0,))\n",
    "creator.create(\"Individual\", np.ndarray, typecode=\"d\", fitness=creator.FitnessMax, strategy=None)\n",
    "creator.create(\"Strategy\", np.ndarray, typecode=\"d\")\n",
    "\n",
    "tbx = base.Toolbox()\n",
    "INDIVIDUAL_SIZE = 784\n",
    "\n",
    "\n",
    "tbx.register(\"attr_int\", random.randint, 0, 1)\n",
    "tbx.register(\"individual\", \n",
    "             tools.initRepeat, \n",
    "             creator.Individual,\n",
    "             tbx.attr_int, \n",
    "             n=INDIVIDUAL_SIZE)\n",
    "tbx.register(\"population\", tools.initRepeat, list, tbx.individual)\n",
    "tbx.register(\"evaluate\", EOQ)\n",
    "tbx.register(\"mate\", tools.cxOnePoint)\n",
    "tbx.register(\"mutate\", tools.mutFlipBit, indpb=0.01)\n",
    "tbx.register(\"select\", tools.selTournament, tournsize=5)"
   ]
  },
  {
   "cell_type": "code",
   "execution_count": null,
   "metadata": {},
   "outputs": [],
   "source": []
  }
 ],
 "metadata": {
  "kernelspec": {
   "display_name": "Python 3",
   "language": "python",
   "name": "python3"
  },
  "language_info": {
   "codemirror_mode": {
    "name": "ipython",
    "version": 3
   },
   "file_extension": ".py",
   "mimetype": "text/x-python",
   "name": "python",
   "nbconvert_exporter": "python",
   "pygments_lexer": "ipython3",
   "version": "3.6.10"
  }
 },
 "nbformat": 4,
 "nbformat_minor": 4
}
