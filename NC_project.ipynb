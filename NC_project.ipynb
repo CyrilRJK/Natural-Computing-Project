{
 "cells": [
  {
   "cell_type": "code",
   "execution_count": 1,
   "metadata": {},
   "outputs": [
    {
     "name": "stderr",
     "output_type": "stream",
     "text": [
      "Using TensorFlow backend.\n"
     ]
    }
   ],
   "source": [
    "import tensorflow as tf\n",
    "from keras.models import load_model\n",
    "from keras.models import Model\n",
    "from keras.layers import Dense, Conv2D, Dropout, Flatten, MaxPooling2D, Input, Activation\n",
    "import numpy as np \n",
    "from skimage.measure import compare_ssim\n",
    "import matplotlib.pyplot as plt\n",
    "import seaborn as sns\n",
    "from sklearn.svm import SVC\n",
    "import pickle\n",
    "import time\n",
    "import keras"
   ]
  },
  {
   "cell_type": "code",
   "execution_count": 2,
   "metadata": {},
   "outputs": [],
   "source": [
    "np.random.seed(0)"
   ]
  },
  {
   "cell_type": "code",
   "execution_count": 3,
   "metadata": {},
   "outputs": [],
   "source": [
    "INDIVIDUALS = 50\n",
    "P_CROSS = 0.6\n",
    "P_MUTATION = 0.1\n",
    "LEN = 784"
   ]
  },
  {
   "cell_type": "code",
   "execution_count": 32,
   "metadata": {},
   "outputs": [],
   "source": [
    "def euclidean(s):\n",
    "    # https://stackoverflow.com/questions/1401712/how-can-the-euclidean-distance-be-calculated-with-numpy\n",
    "    # pass s=a-b as argument to the function\n",
    "    return np.linalg.norm(s)\n",
    "\n",
    "def euc_fitness(individual, target, pred, label, l1=0.5, l2=0.5, N = 50, n_classes=10):\n",
    "    # petras fitness fucntion\n",
    "    #print(l1*euclidean(individual-target)/N, l2*euclidean(pred-label)/n_classes)\n",
    "    return -(l1*euclidean(individual-target)/N + l2*euclidean(pred-label)/n_classes)\n",
    "\n",
    "def computing_SSIM(individual,target):\n",
    "    (score, diff) = compare_ssim(individual, target, full=True)\n",
    "    #diff = (diff * 255).astype(\"uint8\")\n",
    "    return score\n",
    "\n",
    "def ssim_fitness(individual, target, pred, label, l1=0.5, l2=0.5, N = 50, n_classes=10):\n",
    "    return -(l1*computing_SSIM(individual,target)/N + l2*computing_SSIM(pred,label)/n_classes)\n",
    "\n",
    "def pop_fitness(pop, target, predictions, label):\n",
    "    return [euc_fitness(p, target, pred, label) for p, pred in zip(pop, predictions)]\n",
    "\n",
    "def flatten(imgs):\n",
    "    # flatten all images in np array or list\n",
    "    return np.array([im.flatten() for im in imgs])\n",
    "\n",
    "def gaussian_noise():\n",
    "    # draw one sample of noise from zero mean 1 variance Gaussian\n",
    "    return np.random.normal(0, np.sqrt(0.1))\n",
    "\n",
    "def p_noise(x):\n",
    "    # add noise given probability\n",
    "    if P_MUTATION > np.random.uniform():\n",
    "          return x + gaussian_noise()\n",
    "    else:\n",
    "        return x\n",
    "\n",
    "def add_noise(image):\n",
    "    # define vectorized function to apply to image\n",
    "    noise_v = np.vectorize(p_noise)\n",
    "    return noise_v(image)\n",
    "\n",
    "def k_crossover(im1, im2, k=2):\n",
    "    c1, c2 = [], []\n",
    "    # get k crossover points\n",
    "    points = sorted([np.random.randint(0, 783, 1) for p in range(k)])\n",
    "    im_1_split = np.split(im1, [int(p) for p in points])\n",
    "    im_2_split = np.split(im2, [int(p) for p in points])\n",
    "    \n",
    "    # alternate between lists to realise crossover (theres got to be a more clever way to do this)\n",
    "    for i in range(k+1):\n",
    "        if i % 2 == 0:\n",
    "            c1.append(im_1_split[i])\n",
    "            c2.append(im_2_split[i])\n",
    "        else:\n",
    "            c1.append(im_2_split[i])\n",
    "            c2.append(im_1_split[i])\n",
    "    return np.concatenate(c1, axis=0), np.concatenate(c2, axis=0)\n",
    "\n",
    "def tournament(pop, predictions, ground_truth, target, k=3):\n",
    "    indices = np.random.choice(range(len(pop)), k, replace=False)\n",
    "    #print('indices', indices)\n",
    "    individuals = pop.take(indices, axis=0)\n",
    "    #print('indshape', individuals)\n",
    "    scores = [euc_fitness(ind, ground_truth, p, target) for ind ,p in zip(individuals, predictions)]\n",
    "    #print('scores', scores)\n",
    "    index_max = np.argmax(scores) #max(range(len(scores)), key=scores.__getitem__)\n",
    "    #print('index', index_max)\n",
    "    winner = individuals[index_max]\n",
    "    #print('winer', winner.shape)\n",
    "    return winner\n",
    "\n",
    "def check_adverserial(pop, gt, preds, target, N=50):\n",
    "    for ind, pred in zip(pop, preds):\n",
    "        if pred == target and euclidean(ind-gt)/N < 0.01:\n",
    "            return ind\n",
    "    return None\n",
    "\n",
    "def init_pop_from_sample(n, num, data, labels):\n",
    "    indices = np.where(labels==num)[0]\n",
    "    index = np.random.choice(indices, 1)\n",
    "    sample = np.take(data, index, axis=0)\n",
    "    x = np.array([add_noise(sample) for i in range(n)])\n",
    "    return x.reshape(n, 784), sample\n",
    "\n",
    "def save_model(model, filename='SVC_model.sav'):\n",
    "    pickle.dump(model, open(filename, 'wb'))\n",
    "    \n",
    "def load_model(filename='SVC_model.sav'):\n",
    "    return pickle.load(open(filename, 'rb'))"
   ]
  },
  {
   "cell_type": "code",
   "execution_count": 33,
   "metadata": {},
   "outputs": [],
   "source": [
    "# load flatten and normalize mnist\n",
    "(x_train, y), (x_test, y_t) = tf.keras.datasets.mnist.load_data()\n",
    "X = flatten(x_train)\n",
    "X_t = flatten(x_test)\n",
    "X = np.array([x/255. for x in X])\n",
    "X_t = np.array([x/255. for x in X_t])"
   ]
  },
  {
   "cell_type": "code",
   "execution_count": 91,
   "metadata": {},
   "outputs": [
    {
     "data": {
      "text/plain": [
       "0.9792"
      ]
     },
     "execution_count": 91,
     "metadata": {},
     "output_type": "execute_result"
    }
   ],
   "source": [
    "#svm = SVC(C=1, kernel='rbf')\n",
    "#svm.fit(X, y)\n",
    "#svm.score(X_t, y_t)\n",
    "#save_model(svm)\n",
    "#model = load_model()\n",
    "#model.score(X_t, y_t)"
   ]
  },
  {
   "cell_type": "code",
   "execution_count": 6,
   "metadata": {},
   "outputs": [],
   "source": [
    "inp = Input(shape=(28,28,1))\n",
    "conv1 = Conv2D(32, (3,3),activation='relu')(inp)\n",
    "conv2 = Conv2D(32, (3,3),activation='relu')(conv1)\n",
    "max_pool1 = MaxPooling2D(pool_size=(2, 2))(conv2)\n",
    "drop = Dropout(0.25)(max_pool1)\n",
    "flat =  Flatten()(drop)\n",
    "dense1 = Dense(128,activation=\"relu\")(flat)\n",
    "drop = Dropout(0.5)(dense1)\n",
    "predictions = Dense(10,activation=\"softmax\")(drop)\n",
    "model = Model(inputs=[inp], outputs=[predictions])\n",
    "model.compile(optimizer='Adadelta', \n",
    "              loss='categorical_crossentropy', \n",
    "              metrics=['accuracy'])"
   ]
  },
  {
   "cell_type": "code",
   "execution_count": 7,
   "metadata": {},
   "outputs": [
    {
     "name": "stdout",
     "output_type": "stream",
     "text": [
      "<keras.engine.training.Model object at 0x000001C76A2C7630>\n",
      "Model: \"model_1\"\n",
      "_________________________________________________________________\n",
      "Layer (type)                 Output Shape              Param #   \n",
      "=================================================================\n",
      "input_1 (InputLayer)         (None, 28, 28, 1)         0         \n",
      "_________________________________________________________________\n",
      "conv2d_1 (Conv2D)            (None, 26, 26, 32)        320       \n",
      "_________________________________________________________________\n",
      "conv2d_2 (Conv2D)            (None, 24, 24, 32)        9248      \n",
      "_________________________________________________________________\n",
      "max_pooling2d_1 (MaxPooling2 (None, 12, 12, 32)        0         \n",
      "_________________________________________________________________\n",
      "dropout_1 (Dropout)          (None, 12, 12, 32)        0         \n",
      "_________________________________________________________________\n",
      "flatten_1 (Flatten)          (None, 4608)              0         \n",
      "_________________________________________________________________\n",
      "dense_1 (Dense)              (None, 128)               589952    \n",
      "_________________________________________________________________\n",
      "dropout_2 (Dropout)          (None, 128)               0         \n",
      "_________________________________________________________________\n",
      "dense_2 (Dense)              (None, 10)                1290      \n",
      "=================================================================\n",
      "Total params: 600,810\n",
      "Trainable params: 600,810\n",
      "Non-trainable params: 0\n",
      "_________________________________________________________________\n"
     ]
    }
   ],
   "source": [
    "model.load_weights('CNN_MNIST.h5')\n",
    "print(model)\n",
    "model.summary()"
   ]
  },
  {
   "cell_type": "code",
   "execution_count": 9,
   "metadata": {},
   "outputs": [
    {
     "data": {
      "text/plain": [
       "<matplotlib.image.AxesImage at 0x1c7722ada90>"
      ]
     },
     "execution_count": 9,
     "metadata": {},
     "output_type": "execute_result"
    },
    {
     "data": {
      "image/png": "[encoded data removed]",
      "text/plain": [
       "<Figure size 432x288 with 2 Axes>"
      ]
     },
     "metadata": {
      "needs_background": "light"
     },
     "output_type": "display_data"
    }
   ],
   "source": [
    "# Examples of crossover\n",
    "v, w = k_crossover(X[0],X[1])\n",
    "fig, ax = plt.subplots(1,2)\n",
    "ax[0].imshow(v.reshape(28,28)) \n",
    "ax[1].imshow(w.reshape(28,28))"
   ]
  },
  {
   "cell_type": "code",
   "execution_count": 10,
   "metadata": {},
   "outputs": [
    {
     "name": "stdout",
     "output_type": "stream",
     "text": [
      "-0.07919234629499688\n"
     ]
    },
    {
     "data": {
      "image/png": "[encoded data removed]",
      "text/plain": [
       "<Figure size 432x288 with 2 Axes>"
      ]
     },
     "metadata": {
      "needs_background": "light"
     },
     "output_type": "display_data"
    }
   ],
   "source": [
    "# examples of noise\n",
    "fig, ax = plt.subplots(1,2)\n",
    "orig = X[1].reshape(28,28)\n",
    "example = add_noise(X[1]).reshape(28,28)\n",
    "ax[0].imshow(orig) \n",
    "ax[1].imshow(example)\n",
    "print(euc_fitness(example, orig, 0, 1))"
   ]
  },
  {
   "cell_type": "code",
   "execution_count": 34,
   "metadata": {
    "scrolled": true
   },
   "outputs": [
    {
     "name": "stdout",
     "output_type": "stream",
     "text": [
      "fitting gen: 0\n",
      "\n",
      " predictions:\n",
      "[1 1 1 1 1 1 1 1 1 1 1 1 1 1 1 1 1 1 1 1 1 1 1 1 1 1 1 1 1 1 1 1 1 1 1 1 1\n",
      " 1 1 1 1 1 1 1 1 1 1 1 1 1]\n",
      "\n",
      " fitness values:\n",
      "[-0.07027402109634516, -0.08369390821382326, -0.07759131052430349, -0.07320159635266223, -0.07685502863452445, -0.07911958505650157, -0.0783105174010719, -0.07986282030818154, -0.07519075943463797, -0.07456285652346949, -0.07666987686892972, -0.0773224705582678, -0.07748842812130294, -0.08541077734810792, -0.07818796225094464, -0.07979800547769406, -0.07774292883702075, -0.07498472496046614, -0.07829481706940147, -0.07772353528308336, -0.07625387340800167, -0.07775505832978849, -0.07645101293064524, -0.07832728810530465, -0.07851585730657007, -0.07662924701562705, -0.07864211400510468, -0.07911894043023515, -0.07952895174395146, -0.07368720030625903, -0.07683100098771209, -0.0786501917781912, -0.07952173289508382, -0.07600587962028219, -0.08036782391581704, -0.07719098769248561, -0.07804360844367, -0.07374110641986982, -0.07944202061003101, -0.07465481067145759, -0.07724262143850241, -0.0768536665221925, -0.07906897928987097, -0.07661052431972531, -0.07504934861207417, -0.07864753796064607, -0.08220614780852314, -0.07550005811569406, -0.0772206881609716, -0.08168987674713149]\n",
      "\n",
      " best fitness: -0.07027402109634516\n",
      "fitting gen: 10\n",
      "\n",
      " predictions:\n",
      "[2 2 2 2 2 2 2 2 2 2 8 2 2 2 2 2 2 8 2 2 2 2 2 2 2 8 2 2 2 2 2 2 4 2 2 2 2\n",
      " 2 2 2 2 2 2 2 2 8 8 2 2 2]\n",
      "\n",
      " fitness values:\n",
      "[-0.08766151819608997, -0.08154833986712365, -0.08414775421348938, -0.08740590473474974, -0.08211989908669168, -0.0828174436912625, -0.08801665862800757, -0.08318819926269784, -0.08478124578316582, -0.08439481694680855, -0.3892060094929259, -0.08606653329320264, -0.08817820927958171, -0.08344369019502765, -0.08371228800089064, -0.084611199292095, -0.08603643184878887, -0.38312534773449214, -0.08407423762460298, -0.08443412072536358, -0.0869859423274636, -0.07967243061767734, -0.08468424810918795, -0.08794440662223782, -0.08533141609144877, -0.3826285123323622, -0.08316005002925018, -0.08552964162096414, -0.08182434526399249, -0.0837554102003041, -0.08226861302595326, -0.08038809595627655, -0.18253747499499948, -0.08290384529036161, -0.08356265583621697, -0.08475949163727517, -0.08152727812325392, -0.08545829671876196, -0.08674405768852714, -0.08477437977147068, -0.08418222358211977, -0.08281297768679781, -0.08520439996785635, -0.0831392888927955, -0.08304171685353849, -0.38459655776783486, -0.38369625961021614, -0.07992443159148953, -0.08526603184090148, -0.08358074428489565]\n",
      "\n",
      " best fitness: -0.07967243061767734\n",
      "fitting gen: 20\n",
      "\n",
      " predictions:\n",
      "[8 4 4 4 2 2 8 8 2 2 8 4 2 8 2 4 8 4 8 2 4 2 4 2 2 4 2 2 2 2 4 2 2 8 2 2 2\n",
      " 8 8 8 8 4 2 2 4 2 4 8 2 2]\n",
      "\n",
      " fitness values:\n",
      "[-0.41354877011797375, -0.21217133336901503, -0.2103880810566992, -0.2103916044462677, -0.11143879675619192, -0.11254806385648346, -0.4119216238187515, -0.41583750936455527, -0.11093270687087378, -0.10748369615815878, -0.41024139829860007, -0.20801044374408695, -0.10911036857634297, -0.41245173052121753, -0.10970482086736841, -0.2124253824604082, -0.41343951910637655, -0.21350774480450174, -0.4111288860428606, -0.11248512218072443, -0.2110621097639445, -0.11037730871579494, -0.20780632759447676, -0.10995816464241936, -0.10956404615980465, -0.2095393221918858, -0.11227086949290614, -0.11169275006681403, -0.1110194454401933, -0.10990409480426724, -0.21144164060511053, -0.1122328027456009, -0.11137977015091666, -0.4110018466307946, -0.11289784418697435, -0.11193791215961067, -0.1112629908976196, -0.4143279106561215, -0.41320022266795603, -0.41223422663710196, -0.4112875002019663, -0.21383138761851478, -0.11021116025311406, -0.10794448190865147, -0.20876336425894415, -0.11100839665028311, -0.2118957536721454, -0.4106520218628723, -0.1132659259337034, -0.10867200402119741]\n",
      "\n",
      " best fitness: -0.10748369615815878\n",
      "fitting gen: 30\n",
      "\n",
      " predictions:\n",
      "[8 8 2 2 4 2 8 2 2 8 2 8 2 4 4 2 2 2 2 4 8 8 8 4 8 2 2 2 4 8 8 2 4 8 2 2 4\n",
      " 2 2 8 8 8 2 2 2 8 2 8 8 8]\n",
      "\n",
      " fitness values:\n",
      "[-0.4353864546630728, -0.43671034700583866, -0.13534853265532223, -0.13506441671865807, -0.2377723874335967, -0.1328912852384826, -0.4375448360385241, -0.1386320300499897, -0.13729086828243112, -0.43521853102539665, -0.13238848910718048, -0.43799981791062426, -0.13519146377529492, -0.23701958962648115, -0.23632845414969975, -0.14013502450597076, -0.13593365191771664, -0.13578270514612786, -0.13692313796706018, -0.23588020289417044, -0.43829935317968244, -0.43736681060756066, -0.4370315093350805, -0.23931182185585168, -0.43672186602406815, -0.1366230005831195, -0.1373549356646705, -0.13931657362282074, -0.24112034673422966, -0.4365874733858134, -0.43516295699395985, -0.13733982306918371, -0.2385266167060998, -0.44179010262196017, -0.13946607264748054, -0.13626156202861078, -0.23411672071700534, -0.14169803702386766, -0.13866149158084246, -0.4327450433221058, -0.4365240088054242, -0.429311724268167, -0.13663594421585162, -0.13549840420793424, -0.1400214104114462, -0.43771005985059613, -0.1334680156091806, -0.4340629854930863, -0.4394526679551099, -0.43536825731778295]\n",
      "\n",
      " best fitness: -0.13238848910718048\n",
      "fitting gen: 40\n",
      "\n",
      " predictions:\n",
      "[2 2 8 8 2 2 8 2 8 2 2 2 4 8 2 4 2 2 8 2 4 2 8 2 8 2 8 2 8 2 4 2 2 2 4 8 2\n",
      " 4 8 2 8 2 2 8 8 2 8 8 2 8]\n",
      "\n",
      " fitness values:\n",
      "[-0.15522982045021283, -0.15537919526684335, -0.45367353680430134, -0.4541654419414551, -0.1436107812326199, -0.15452311833938018, -0.45848826232235873, -0.15541336833692695, -0.45450140851169124, -0.15760796979381322, -0.16071103454989427, -0.15418111416306135, -0.25361586623352445, -0.4545645464642098, -0.15570651535897292, -0.25439476272218975, -0.15395690013454966, -0.15103338979422593, -0.4545682076295138, -0.15558102035338492, -0.25226543186651523, -0.15434351343686264, -0.46187847685527256, -0.14518141986225364, -0.4521266408915279, -0.15811635394925186, -0.45728802139812535, -0.1517404157426713, -0.45651796276800216, -0.15646544761813913, -0.2592500387012549, -0.15678608589434145, -0.1584445750440625, -0.14753937748347154, -0.25596080001131694, -0.45709018532595536, -0.1504363745980993, -0.25226321263409035, -0.4545840341235825, -0.15471485446007124, -0.4550369360026965, -0.15600921628442643, -0.1590183724783617, -0.45337161998086295, -0.4589801058136256, -0.15353972894684476, -0.45305156124031637, -0.4563675275354824, -0.15200261555847366, -0.45579503629124796]\n",
      "\n",
      " best fitness: -0.1436107812326199\n",
      "fitting gen: 50\n",
      "\n",
      " predictions:\n",
      "[2 2 2 2 8 8 8 2 8 2 8 2 4 8 2 2 2 8 2 2 8 2 8 8 8 2 2 2 2 8 2 8 2 2 2 8 2\n",
      " 8 4 8 2 2 8 8 8 8 2 2 8 2]\n",
      "\n",
      " fitness values:\n",
      "[-0.1678087892033919, -0.16535431135851306, -0.16951465285922718, -0.167546163224316, -0.4654431366878884, -0.46494042237677, -0.4642111828117925, -0.17143461826779993, -0.4685993214956974, -0.1658677611803412, -0.4692399040105687, -0.16142483979174851, -0.26805758384777206, -0.46452205410256864, -0.1672353366200547, -0.16552215605770088, -0.168558763204319, -0.46962332587372024, -0.162274254682425, -0.16911659123589082, -0.4643408597145919, -0.16896655212513917, -0.4604944146903521, -0.46748515303089566, -0.46438042574774596, -0.16923822994698035, -0.16956752350383206, -0.16410938538130992, -0.1650115859350337, -0.46876394073391586, -0.1711827961150968, -0.4662865934269303, -0.17084463273877235, -0.16796116740211783, -0.16538495271615575, -0.46752503836490383, -0.16629814393027031, -0.46978249944608347, -0.26394267420764783, -0.4676351167767955, -0.1731855255504014, -0.16650221279783736, -0.465947855207277, -0.4650642331879772, -0.4623638712772672, -0.46590517810901155, -0.17010664503845266, -0.16336299433400064, -0.46545752155409836, -0.16518803977515617]\n",
      "\n",
      " best fitness: -0.16142483979174851\n",
      "fitting gen: 60\n",
      "\n",
      " predictions:\n",
      "[8 2 2 8 2 2 2 2 2 2 8 8 2 2 2 2 8 2 2 2 2 2 2 2 8 2 8 4 2 2 2 2 8 2 8 8 8\n",
      " 2 8 2 2 8 8 2 8 8 2 8 8 8]\n",
      "\n",
      " fitness values:\n",
      "[-0.4857742070891391, -0.1748248758284365, -0.17921982556528016, -0.4787133489667086, -0.1764961528254273, -0.17661730515697058, -0.17810119625694726, -0.1789572502492096, -0.18268661067488734, -0.17830006727042272, -0.47918535744015534, -0.4814530869346404, -0.1787673801724593, -0.17995702117479997, -0.17991364965787618, -0.17773608476796035, -0.4778784350826301, -0.17420294238554881, -0.1783268897996343, -0.1766630677845505, -0.1836314399078442, -0.17887848294418596, -0.1763865240749463, -0.1752429957761733, -0.48054744800493837, -0.17905486059665607, -0.47676205564217455, -0.27836124555077746, -0.17837849071644374, -0.17407238343946665, -0.18008346832275213, -0.17659284141838671, -0.47911802084302557, -0.17997630419682648, -0.4784757908724995, -0.4757515250778609, -0.47807679146068327, -0.1771881067031175, -0.47772387263121385, -0.17978584519300547, -0.18267140326773937, -0.4830623612322381, -0.4740229899986249, -0.18102608002745313, -0.4785055513017431, -0.4803153663770918, -0.17702521962042725, -0.4768181602812745, -0.47920020506934075, -0.4790034043638266]\n",
      "\n",
      " best fitness: -0.17407238343946665\n"
     ]
    },
    {
     "ename": "KeyboardInterrupt",
     "evalue": "",
     "output_type": "error",
     "traceback": [
      "\u001b[1;31m---------------------------------------------------------------------------\u001b[0m",
      "\u001b[1;31mKeyboardInterrupt\u001b[0m                         Traceback (most recent call last)",
      "\u001b[1;32m<ipython-input-34-cfdb690ca661>\u001b[0m in \u001b[0;36m<module>\u001b[1;34m\u001b[0m\n\u001b[0;32m     45\u001b[0m \u001b[1;33m\u001b[0m\u001b[0m\n\u001b[0;32m     46\u001b[0m \u001b[0mstart\u001b[0m \u001b[1;33m=\u001b[0m \u001b[0mtime\u001b[0m\u001b[1;33m.\u001b[0m\u001b[0mprocess_time\u001b[0m\u001b[1;33m(\u001b[0m\u001b[1;33m)\u001b[0m\u001b[1;33m\u001b[0m\u001b[1;33m\u001b[0m\u001b[0m\n\u001b[1;32m---> 47\u001b[1;33m \u001b[0madverserial\u001b[0m \u001b[1;33m=\u001b[0m \u001b[0mga\u001b[0m\u001b[1;33m(\u001b[0m\u001b[0mnum\u001b[0m\u001b[1;33m=\u001b[0m\u001b[1;36m1\u001b[0m\u001b[1;33m,\u001b[0m \u001b[0mdata\u001b[0m\u001b[1;33m=\u001b[0m\u001b[0mX\u001b[0m\u001b[1;33m,\u001b[0m \u001b[0mlabels\u001b[0m\u001b[1;33m=\u001b[0m\u001b[0my\u001b[0m\u001b[1;33m,\u001b[0m \u001b[0mtarget\u001b[0m\u001b[1;33m=\u001b[0m\u001b[1;36m2\u001b[0m\u001b[1;33m,\u001b[0m \u001b[0mmax_gen\u001b[0m\u001b[1;33m=\u001b[0m\u001b[1;36m2000\u001b[0m\u001b[1;33m)\u001b[0m\u001b[1;33m\u001b[0m\u001b[1;33m\u001b[0m\u001b[0m\n\u001b[0m\u001b[0;32m     48\u001b[0m \u001b[0mprint\u001b[0m\u001b[1;33m(\u001b[0m\u001b[0mtime\u001b[0m\u001b[1;33m.\u001b[0m\u001b[0mprocess_time\u001b[0m\u001b[1;33m(\u001b[0m\u001b[1;33m)\u001b[0m \u001b[1;33m-\u001b[0m \u001b[0mstart\u001b[0m\u001b[1;33m)\u001b[0m\u001b[1;33m\u001b[0m\u001b[1;33m\u001b[0m\u001b[0m\n",
      "\u001b[1;32m<ipython-input-34-cfdb690ca661>\u001b[0m in \u001b[0;36mga\u001b[1;34m(num, data, labels, target, max_gen, individuals, p_cross, p_mut)\u001b[0m\n\u001b[0;32m     34\u001b[0m                 \u001b[0mnew_pop\u001b[0m\u001b[1;33m.\u001b[0m\u001b[0mappend\u001b[0m\u001b[1;33m(\u001b[0m\u001b[0mchild2\u001b[0m\u001b[1;33m)\u001b[0m\u001b[1;33m\u001b[0m\u001b[1;33m\u001b[0m\u001b[0m\n\u001b[0;32m     35\u001b[0m             \u001b[1;32melse\u001b[0m\u001b[1;33m:\u001b[0m\u001b[1;33m\u001b[0m\u001b[1;33m\u001b[0m\u001b[0m\n\u001b[1;32m---> 36\u001b[1;33m                 \u001b[0mparent1\u001b[0m\u001b[1;33m,\u001b[0m \u001b[0mparent2\u001b[0m \u001b[1;33m=\u001b[0m \u001b[0madd_noise\u001b[0m\u001b[1;33m(\u001b[0m\u001b[0mparent1\u001b[0m\u001b[1;33m)\u001b[0m\u001b[1;33m,\u001b[0m \u001b[0madd_noise\u001b[0m\u001b[1;33m(\u001b[0m\u001b[0mparent2\u001b[0m\u001b[1;33m)\u001b[0m \u001b[1;31m# apply mutation to pixels\u001b[0m\u001b[1;33m\u001b[0m\u001b[1;33m\u001b[0m\u001b[0m\n\u001b[0m\u001b[0;32m     37\u001b[0m                 \u001b[0mnew_pop\u001b[0m\u001b[1;33m.\u001b[0m\u001b[0mappend\u001b[0m\u001b[1;33m(\u001b[0m\u001b[0mparent1\u001b[0m\u001b[1;33m)\u001b[0m\u001b[1;33m\u001b[0m\u001b[1;33m\u001b[0m\u001b[0m\n\u001b[0;32m     38\u001b[0m                 \u001b[0mnew_pop\u001b[0m\u001b[1;33m.\u001b[0m\u001b[0mappend\u001b[0m\u001b[1;33m(\u001b[0m\u001b[0mparent2\u001b[0m\u001b[1;33m)\u001b[0m\u001b[1;33m\u001b[0m\u001b[1;33m\u001b[0m\u001b[0m\n",
      "\u001b[1;32m<ipython-input-32-e5e298993297>\u001b[0m in \u001b[0;36madd_noise\u001b[1;34m(image)\u001b[0m\n\u001b[0;32m     38\u001b[0m     \u001b[1;31m# define vectorized function to apply to image\u001b[0m\u001b[1;33m\u001b[0m\u001b[1;33m\u001b[0m\u001b[1;33m\u001b[0m\u001b[0m\n\u001b[0;32m     39\u001b[0m     \u001b[0mnoise_v\u001b[0m \u001b[1;33m=\u001b[0m \u001b[0mnp\u001b[0m\u001b[1;33m.\u001b[0m\u001b[0mvectorize\u001b[0m\u001b[1;33m(\u001b[0m\u001b[0mp_noise\u001b[0m\u001b[1;33m)\u001b[0m\u001b[1;33m\u001b[0m\u001b[1;33m\u001b[0m\u001b[0m\n\u001b[1;32m---> 40\u001b[1;33m     \u001b[1;32mreturn\u001b[0m \u001b[0mnoise_v\u001b[0m\u001b[1;33m(\u001b[0m\u001b[0mimage\u001b[0m\u001b[1;33m)\u001b[0m\u001b[1;33m\u001b[0m\u001b[1;33m\u001b[0m\u001b[0m\n\u001b[0m\u001b[0;32m     41\u001b[0m \u001b[1;33m\u001b[0m\u001b[0m\n\u001b[0;32m     42\u001b[0m \u001b[1;32mdef\u001b[0m \u001b[0mk_crossover\u001b[0m\u001b[1;33m(\u001b[0m\u001b[0mim1\u001b[0m\u001b[1;33m,\u001b[0m \u001b[0mim2\u001b[0m\u001b[1;33m,\u001b[0m \u001b[0mk\u001b[0m\u001b[1;33m=\u001b[0m\u001b[1;36m2\u001b[0m\u001b[1;33m)\u001b[0m\u001b[1;33m:\u001b[0m\u001b[1;33m\u001b[0m\u001b[1;33m\u001b[0m\u001b[0m\n",
      "\u001b[1;32m~\\Anaconda3\\lib\\site-packages\\numpy\\lib\\function_base.py\u001b[0m in \u001b[0;36m__call__\u001b[1;34m(self, *args, **kwargs)\u001b[0m\n\u001b[0;32m   2089\u001b[0m             \u001b[0mvargs\u001b[0m\u001b[1;33m.\u001b[0m\u001b[0mextend\u001b[0m\u001b[1;33m(\u001b[0m\u001b[1;33m[\u001b[0m\u001b[0mkwargs\u001b[0m\u001b[1;33m[\u001b[0m\u001b[0m_n\u001b[0m\u001b[1;33m]\u001b[0m \u001b[1;32mfor\u001b[0m \u001b[0m_n\u001b[0m \u001b[1;32min\u001b[0m \u001b[0mnames\u001b[0m\u001b[1;33m]\u001b[0m\u001b[1;33m)\u001b[0m\u001b[1;33m\u001b[0m\u001b[1;33m\u001b[0m\u001b[0m\n\u001b[0;32m   2090\u001b[0m \u001b[1;33m\u001b[0m\u001b[0m\n\u001b[1;32m-> 2091\u001b[1;33m         \u001b[1;32mreturn\u001b[0m \u001b[0mself\u001b[0m\u001b[1;33m.\u001b[0m\u001b[0m_vectorize_call\u001b[0m\u001b[1;33m(\u001b[0m\u001b[0mfunc\u001b[0m\u001b[1;33m=\u001b[0m\u001b[0mfunc\u001b[0m\u001b[1;33m,\u001b[0m \u001b[0margs\u001b[0m\u001b[1;33m=\u001b[0m\u001b[0mvargs\u001b[0m\u001b[1;33m)\u001b[0m\u001b[1;33m\u001b[0m\u001b[1;33m\u001b[0m\u001b[0m\n\u001b[0m\u001b[0;32m   2092\u001b[0m \u001b[1;33m\u001b[0m\u001b[0m\n\u001b[0;32m   2093\u001b[0m     \u001b[1;32mdef\u001b[0m \u001b[0m_get_ufunc_and_otypes\u001b[0m\u001b[1;33m(\u001b[0m\u001b[0mself\u001b[0m\u001b[1;33m,\u001b[0m \u001b[0mfunc\u001b[0m\u001b[1;33m,\u001b[0m \u001b[0margs\u001b[0m\u001b[1;33m)\u001b[0m\u001b[1;33m:\u001b[0m\u001b[1;33m\u001b[0m\u001b[1;33m\u001b[0m\u001b[0m\n",
      "\u001b[1;32m~\\Anaconda3\\lib\\site-packages\\numpy\\lib\\function_base.py\u001b[0m in \u001b[0;36m_vectorize_call\u001b[1;34m(self, func, args)\u001b[0m\n\u001b[0;32m   2165\u001b[0m                       for a in args]\n\u001b[0;32m   2166\u001b[0m \u001b[1;33m\u001b[0m\u001b[0m\n\u001b[1;32m-> 2167\u001b[1;33m             \u001b[0moutputs\u001b[0m \u001b[1;33m=\u001b[0m \u001b[0mufunc\u001b[0m\u001b[1;33m(\u001b[0m\u001b[1;33m*\u001b[0m\u001b[0minputs\u001b[0m\u001b[1;33m)\u001b[0m\u001b[1;33m\u001b[0m\u001b[1;33m\u001b[0m\u001b[0m\n\u001b[0m\u001b[0;32m   2168\u001b[0m \u001b[1;33m\u001b[0m\u001b[0m\n\u001b[0;32m   2169\u001b[0m             \u001b[1;32mif\u001b[0m \u001b[0mufunc\u001b[0m\u001b[1;33m.\u001b[0m\u001b[0mnout\u001b[0m \u001b[1;33m==\u001b[0m \u001b[1;36m1\u001b[0m\u001b[1;33m:\u001b[0m\u001b[1;33m\u001b[0m\u001b[1;33m\u001b[0m\u001b[0m\n",
      "\u001b[1;32m<ipython-input-32-e5e298993297>\u001b[0m in \u001b[0;36mp_noise\u001b[1;34m(x)\u001b[0m\n\u001b[0;32m     28\u001b[0m     \u001b[1;32mreturn\u001b[0m \u001b[0mnp\u001b[0m\u001b[1;33m.\u001b[0m\u001b[0mrandom\u001b[0m\u001b[1;33m.\u001b[0m\u001b[0mnormal\u001b[0m\u001b[1;33m(\u001b[0m\u001b[1;36m0\u001b[0m\u001b[1;33m,\u001b[0m \u001b[0mnp\u001b[0m\u001b[1;33m.\u001b[0m\u001b[0msqrt\u001b[0m\u001b[1;33m(\u001b[0m\u001b[1;36m0.1\u001b[0m\u001b[1;33m)\u001b[0m\u001b[1;33m)\u001b[0m\u001b[1;33m\u001b[0m\u001b[1;33m\u001b[0m\u001b[0m\n\u001b[0;32m     29\u001b[0m \u001b[1;33m\u001b[0m\u001b[0m\n\u001b[1;32m---> 30\u001b[1;33m \u001b[1;32mdef\u001b[0m \u001b[0mp_noise\u001b[0m\u001b[1;33m(\u001b[0m\u001b[0mx\u001b[0m\u001b[1;33m)\u001b[0m\u001b[1;33m:\u001b[0m\u001b[1;33m\u001b[0m\u001b[1;33m\u001b[0m\u001b[0m\n\u001b[0m\u001b[0;32m     31\u001b[0m     \u001b[1;31m# add noise given probability\u001b[0m\u001b[1;33m\u001b[0m\u001b[1;33m\u001b[0m\u001b[1;33m\u001b[0m\u001b[0m\n\u001b[0;32m     32\u001b[0m     \u001b[1;32mif\u001b[0m \u001b[0mP_MUTATION\u001b[0m \u001b[1;33m>\u001b[0m \u001b[0mnp\u001b[0m\u001b[1;33m.\u001b[0m\u001b[0mrandom\u001b[0m\u001b[1;33m.\u001b[0m\u001b[0muniform\u001b[0m\u001b[1;33m(\u001b[0m\u001b[1;33m)\u001b[0m\u001b[1;33m:\u001b[0m\u001b[1;33m\u001b[0m\u001b[1;33m\u001b[0m\u001b[0m\n",
      "\u001b[1;31mKeyboardInterrupt\u001b[0m: "
     ]
    }
   ],
   "source": [
    "def ga(num, data, labels, target, max_gen=1000, individuals = INDIVIDUALS, p_cross = P_CROSS, p_mut = P_MUTATION):\n",
    "    \n",
    "    # initialize population by drawing 1 sample from passed dataset, automatically applies noise to all copies\n",
    "    # Then take predictions to calculate population fitness\n",
    "    pop, ground_truth = init_pop_from_sample(individuals, num, data, labels)\n",
    "    ground_truth = ground_truth.reshape(784,)\n",
    "    predictions = np.argmax(model.predict(pop.reshape(individuals, 28,28,1)), axis=1)\n",
    "    fit_vals = pop_fitness(pop, ground_truth, predictions, target)\n",
    "\n",
    "\n",
    "    for gen in range(max_gen):\n",
    "        if gen % 10 == 0:\n",
    "            print(f'fitting gen: {gen}')\n",
    "            print('\\n predictions:')\n",
    "            print(predictions)\n",
    "            print('\\n fitness values:')\n",
    "            print(fit_vals)\n",
    "            print(f'\\n best fitness: {max(fit_vals)}')\n",
    "\n",
    "        adverserial = check_adverserial(pop, ground_truth, predictions, target)\n",
    "        if adverserial:\n",
    "            return adverserial\n",
    "        \n",
    "        new_pop = []\n",
    "        for i in range(individuals//2):\n",
    "                            \n",
    "            parent1 = tournament(pop, predictions, ground_truth, target) \n",
    "            parent2 = tournament(pop, predictions, ground_truth, target)\n",
    "            if p_cross > np.random.uniform(0.0, 1.0):\n",
    "                \n",
    "                child1, child2 = k_crossover(parent1, parent2) # crossover\n",
    "                child1, child2 = add_noise(child1), add_noise(child2) # apply mutation to pixels     \n",
    "                new_pop.append(child1)\n",
    "                new_pop.append(child2)\n",
    "            else:\n",
    "                parent1, parent2 = add_noise(parent1), add_noise(parent2) # apply mutation to pixels     \n",
    "                new_pop.append(parent1)\n",
    "                new_pop.append(parent2)\n",
    "                \n",
    "        pop = np.array(new_pop)\n",
    "        predictions = np.argmax(model.predict(pop.reshape(individuals, 28,28,1)), axis=1)\n",
    "\n",
    "        fit_vals = pop_fitness(pop, ground_truth, predictions, target)\n",
    "    return pop[fit_vals.index(max(fit_vals))]\n",
    "    \n",
    "start = time.process_time()\n",
    "adverserial = ga(num=1, data=X, labels=y, target=2, max_gen=2000)\n",
    "print(time.process_time() - start)"
   ]
  },
  {
   "cell_type": "code",
   "execution_count": 13,
   "metadata": {},
   "outputs": [
    {
     "data": {
      "text/plain": [
       "<matplotlib.image.AxesImage at 0x1c772426940>"
      ]
     },
     "execution_count": 13,
     "metadata": {},
     "output_type": "execute_result"
    },
    {
     "data": {
      "image/png": "[encoded data removed]",
      "text/plain": [
       "<Figure size 432x288 with 1 Axes>"
      ]
     },
     "metadata": {
      "needs_background": "light"
     },
     "output_type": "display_data"
    }
   ],
   "source": [
    "plt.imshow(adverserial.reshape(28,28))"
   ]
  },
  {
   "cell_type": "code",
   "execution_count": 85,
   "metadata": {},
   "outputs": [
    {
     "data": {
      "text/plain": [
       "array([5], dtype=uint8)"
      ]
     },
     "execution_count": 85,
     "metadata": {},
     "output_type": "execute_result"
    }
   ],
   "source": [
    "model.predict(adverserial.reshape(1,-1))"
   ]
  },
  {
   "cell_type": "code",
   "execution_count": null,
   "metadata": {},
   "outputs": [],
   "source": [
    "from deap import algorithms\n",
    "from deap import base\n",
    "from deap import creator\n",
    "from deap import tools\n",
    "\n",
    "creator.create(\"FitnessMax\", base.Fitness, weights=(1.0,))\n",
    "creator.create(\"Individual\", np.ndarray, typecode=\"d\", fitness=creator.FitnessMax, strategy=None)\n",
    "creator.create(\"Strategy\", np.ndarray, typecode=\"d\")\n",
    "\n",
    "tbx = base.Toolbox()\n",
    "INDIVIDUAL_SIZE = 784\n",
    "\n",
    "\n",
    "tbx.register(\"attr_int\", random.randint, 0, 1)\n",
    "tbx.register(\"individual\", \n",
    "             tools.initRepeat, \n",
    "             creator.Individual,\n",
    "             tbx.attr_int, \n",
    "             n=INDIVIDUAL_SIZE)\n",
    "tbx.register(\"population\", tools.initRepeat, list, tbx.individual)\n",
    "tbx.register(\"evaluate\", EOQ)\n",
    "tbx.register(\"mate\", tools.cxOnePoint)\n",
    "tbx.register(\"mutate\", tools.mutFlipBit, indpb=0.01)\n",
    "tbx.register(\"select\", tools.selTournament, tournsize=5)"
   ]
  },
  {
   "cell_type": "code",
   "execution_count": null,
   "metadata": {},
   "outputs": [],
   "source": []
  }
 ],
 "metadata": {
  "kernelspec": {
   "display_name": "Python 3",
   "language": "python",
   "name": "python3"
  },
  "language_info": {
   "codemirror_mode": {
    "name": "ipython",
    "version": 3
   },
   "file_extension": ".py",
   "mimetype": "text/x-python",
   "name": "python",
   "nbconvert_exporter": "python",
   "pygments_lexer": "ipython3",
   "version": "3.6.10"
  }
 },
 "nbformat": 4,
 "nbformat_minor": 4
}
