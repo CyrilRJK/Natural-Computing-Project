{
 "cells": [
  {
   "cell_type": "code",
   "execution_count": 35,
   "metadata": {},
   "outputs": [],
   "source": [
    "import tensorflow as tf\n",
    "import numpy as np \n",
    "import matplotlib.pyplot as plt\n",
    "import seaborn as sns\n",
    "from sklearn.svm import SVC"
   ]
  },
  {
   "cell_type": "code",
   "execution_count": 36,
   "metadata": {},
   "outputs": [],
   "source": [
    "np.random.seed(0)"
   ]
  },
  {
   "cell_type": "code",
   "execution_count": 37,
   "metadata": {},
   "outputs": [],
   "source": [
    "individuals = 50\n",
    "cross_over_prob = 0.6\n",
    "mutation_prob = 0.1"
   ]
  },
  {
   "cell_type": "code",
   "execution_count": 38,
   "metadata": {},
   "outputs": [],
   "source": [
    "# load mnist\n",
    "(x_train, y_train), (x_test, y_test) = tf.keras.datasets.mnist.load_data()\n",
    "#images = np.concatenate((x_train, x_test))\n",
    "#labels = np.concatenate((y_train, y_test))"
   ]
  },
  {
   "cell_type": "code",
   "execution_count": 39,
   "metadata": {},
   "outputs": [
    {
     "data": {
      "text/plain": [
       "<matplotlib.image.AxesImage at 0x18604842748>"
      ]
     },
     "execution_count": 39,
     "metadata": {},
     "output_type": "execute_result"
    },
    {
     "data": {
      "image/png": "[encoded data removed]",
      "text/plain": [
       "<Figure size 432x288 with 2 Axes>"
      ]
     },
     "metadata": {
      "needs_background": "light"
     },
     "output_type": "display_data"
    }
   ],
   "source": [
    "# example images\n",
    "fig, ax = plt.subplots(1,2)\n",
    "ax[0].imshow(x_train[0]) \n",
    "ax[1].imshow(x_train[1])"
   ]
  },
  {
   "cell_type": "code",
   "execution_count": 130,
   "metadata": {},
   "outputs": [],
   "source": [
    "def euclidean(s):\n",
    "    # https://stackoverflow.com/questions/1401712/how-can-the-euclidean-distance-be-calculated-with-numpy\n",
    "    # pass s=a-b as argument to the function\n",
    "    return np.linalg.norm(s)\n",
    "\n",
    "def p_fitness(individual, target, pred, label):\n",
    "    # petras fitness fucntion\n",
    "    return -(0.5*euclidean(individual-target) + 0.5*euclidean(pred-label))\n",
    "\n",
    "def flatten(imgs):\n",
    "    # flatten all images in np array or list\n",
    "    return np.array([im.flatten() for im in imgs])\n",
    "\n",
    "def gaussian_noise():\n",
    "    # draw one sample of noise from zero mean 1 variance Gaussian\n",
    "    return np.random.normal(150, np.sqrt(200))\n",
    "\n",
    "def apply_noise(im):\n",
    "    f = lambda t: t + gaussian_noise()\n",
    "    return f(im) # apply mutation to pixes\n",
    "\n",
    "def k_crossover(im1, im2, k=2):\n",
    "    c1, c2 = [], []\n",
    "    # get k crossover points\n",
    "    points = sorted([np.random.randint(0, 783, 1) for p in range(k)])\n",
    "    im_1_split = np.split(im1, [int(p) for p in points])\n",
    "    im_2_split = np.split(im2, [int(p) for p in points])\n",
    "    \n",
    "    # alternate between lists to realise crossover (theres got to be a more clever way to do this)\n",
    "    for i in range(k+1):\n",
    "        if i % 2 == 0:\n",
    "            c1.append(im_1_split[i])\n",
    "            c2.append(im_2_split[i])\n",
    "        else:\n",
    "            c1.append(im_2_split[i])\n",
    "            c2.append(im_1_split[i])\n",
    "    return np.concatenate(c1, axis=0), np.concatenate(c2, axis=0)\n",
    "\n",
    "def tournament_selection(pop, k, prob, target, label):\n",
    "    tournament_indexes = np.random.choice(pop.shape[0], k, replace=False)\n",
    "    candidates = pop[tournament_indexes]\n",
    "    parent = [p_fitness(ind, target, svm.predict(ind.reshape(1, -1)), label) for ind in candidates]\n",
    "    return candidates[parent.index(min(parent))]\n",
    "\n",
    "def init_pop(n, num, data, labels):\n",
    "    indices = np.where(labels==num)[0]\n",
    "    n_indices = np.random.choice(indices, n, replace=True)\n",
    "    sample = np.take(data, n_indices, axis=0)\n",
    "    return sample, np.full((n), num, dtype=int) # return sample+array of labels\n",
    "\n",
    "def init_pop_from_sample(n, num, data, labels):\n",
    "    indices = np.where(labels==num)[0]\n",
    "    index = np.random.choice(indices, 1)\n",
    "    sample = np.take(data, index, axis=0)\n",
    "    #f = lambda t: t + gaussian_noise()\n",
    "    #np.array([i + gaussian_noise() for i in [sample for j in range(n)]])\n",
    "    x = np.array([apply_noise(sample) for i in range(n)])\n",
    "    return x.reshape(n, 784), sample"
   ]
  },
  {
   "cell_type": "code",
   "execution_count": 52,
   "metadata": {},
   "outputs": [
    {
     "data": {
      "text/plain": [
       "<matplotlib.image.AxesImage at 0x18604ccfc88>"
      ]
     },
     "execution_count": 52,
     "metadata": {},
     "output_type": "execute_result"
    },
    {
     "data": {
      "image/png": "[encoded data removed]",
      "text/plain": [
       "<Figure size 432x288 with 2 Axes>"
      ]
     },
     "metadata": {
      "needs_background": "light"
     },
     "output_type": "display_data"
    }
   ],
   "source": [
    "res, res2 = init_pop_from_sample(2, 1, X_t, y_test)\n",
    "fig, ax = plt.subplots(1,2)\n",
    "ax[0].imshow(np.array(res[0]).reshape(28,28)) \n",
    "ax[1].imshow(np.array(res[1]).reshape(28,28))"
   ]
  },
  {
   "cell_type": "code",
   "execution_count": 53,
   "metadata": {},
   "outputs": [
    {
     "data": {
      "text/plain": [
       "0.9792"
      ]
     },
     "execution_count": 53,
     "metadata": {},
     "output_type": "execute_result"
    }
   ],
   "source": [
    "# train classifier on normal data\n",
    "X = flatten(x_train)\n",
    "X_t = flatten(x_test)\n",
    "svm = SVC()\n",
    "svm.fit(X, y_train)\n",
    "svm.score(X_t, y_test)"
   ]
  },
  {
   "cell_type": "code",
   "execution_count": 54,
   "metadata": {},
   "outputs": [
    {
     "data": {
      "text/plain": [
       "<matplotlib.image.AxesImage at 0x186051b0898>"
      ]
     },
     "execution_count": 54,
     "metadata": {},
     "output_type": "execute_result"
    },
    {
     "data": {
      "image/png": "[encoded data removed]",
      "text/plain": [
       "<Figure size 432x288 with 2 Axes>"
      ]
     },
     "metadata": {
      "needs_background": "light"
     },
     "output_type": "display_data"
    }
   ],
   "source": [
    "# Examples of crossover\n",
    "v, w = k_crossover(X[0],X[1])\n",
    "fig, ax = plt.subplots(1,2)\n",
    "ax[0].imshow(v.reshape(28,28)) \n",
    "ax[1].imshow(w.reshape(28,28))"
   ]
  },
  {
   "cell_type": "code",
   "execution_count": 118,
   "metadata": {},
   "outputs": [],
   "source": [
    "def run_ga(num, data, labels, n, max_iter, target):\n",
    "    \n",
    "    pop, ground_truth = init_pop_from_sample(n, num, data, labels) # initialize population by drawing from passed dataset\n",
    "    for i in range(max_iter):\n",
    "        parent1 = tournament_selection(pop, 3, 0.6, ground_truth, target)#, ground_truth, target) # select parent1\n",
    "        parent2 = tournament_selection(pop, 3, 0.6, ground_truth, target)#, ground_truth, target) # select parent2\n",
    "        child1, child2 = k_crossover(parent1, parent2) # crossover\n",
    "        child1, child2 = apply_noise(child1), apply_noise(child2) # apply mutation to pixels\n",
    "        predictions = svm.predict(pop) # predict using classifier\n",
    "        scores = [p_fitness(pop[x], pop[x], predictions[x], 0) for x in range(n)] # get fitness values\n",
    "        idx = np.argpartition(scores, 2)"
   ]
  },
  {
   "cell_type": "code",
   "execution_count": 124,
   "metadata": {},
   "outputs": [
    {
     "name": "stdout",
     "output_type": "stream",
     "text": [
      "[-0.5, -0.5, -0.5, -0.5, -0.5, -0.5, -0.5, -0.5, -0.5, -0.5, -0.5, -0.5, -0.5, -0.5, -0.5, -0.5, -0.5, -0.5, -0.5, -0.5, -0.5, -0.5, -0.5, -0.5, -0.5, -0.5, -0.5, -0.5, -0.5, -0.5, -0.5, -0.5, -0.5, -0.5, -0.5, -0.5, -0.5, -0.5, -0.5, -0.5, -0.5, -0.5, -0.5, -0.5, -0.5, -0.5, -0.5, -0.5, -0.5, -0.5]\n",
      "[ 0  1  2  3  4  5  6  7  8  9 10 11 12 13 14 15 16 17 18 19 20 21 22 23\n",
      " 24 25 26 27 28 29 30 31 32 33 34 35 36 37 38 39 40 41 42 43 44 45 46 47\n",
      " 48 49]\n"
     ]
    }
   ],
   "source": [
    "run_ga(1, X, y_train, individuals, 1, 0)"
   ]
  },
  {
   "cell_type": "code",
   "execution_count": 131,
   "metadata": {},
   "outputs": [
    {
     "data": {
      "text/plain": [
       "<matplotlib.image.AxesImage at 0x18604e1c828>"
      ]
     },
     "execution_count": 131,
     "metadata": {},
     "output_type": "execute_result"
    },
    {
     "data": {
      "image/png": "[encoded data removed]",
      "text/plain": [
       "<Figure size 432x288 with 2 Axes>"
      ]
     },
     "metadata": {
      "needs_background": "light"
     },
     "output_type": "display_data"
    }
   ],
   "source": [
    "fig, ax = plt.subplots(1,2)\n",
    "ax[0].imshow(X[1].reshape(28,28)) \n",
    "ax[1].imshow(apply_noise(X[1]).reshape(28,28))"
   ]
  },
  {
   "cell_type": "code",
   "execution_count": 133,
   "metadata": {},
   "outputs": [
    {
     "data": {
      "text/plain": [
       "(array([  0,   0,   0,   0,   0,   0,   0,   0,   0,   0,   0,   0,   0,\n",
       "          0,   0,   0,   0,   0,   0,   0,   0,   0,   0,   0,   0,   0,\n",
       "          0,   0,   0,   0,   0,   0,   0,   0,   0,   0,   0,   0,   0,\n",
       "          0,   0,   0,   0,   0,   0,   0,   0,   0,   0,   0,   0,   0,\n",
       "          0,   0,   0,   0,   0,   0,   0,   0,   0,   0,   0,   0,   0,\n",
       "          0,   0,   0,   0,   0,   0,   0,   0,   0,   0,   0,   0,   0,\n",
       "          0,   0,   0,   0,   0,   0,   0,   0,   0,   0,   0,   0,   0,\n",
       "          0,   0,   0,   0,   0,   0,   0,   0,   0,   0,   0,   0,   0,\n",
       "          0,   0,   0,   0,   0,   0,   0,   0,   0,   0,   0,   0,   0,\n",
       "          0,   0,   0,   0,   0,   0,   0,   0,   0,   0,  51, 159, 253,\n",
       "        159,  50,   0,   0,   0,   0,   0,   0,   0,   0,   0,   0,   0,\n",
       "          0,   0,   0,   0,   0,   0,   0,   0,   0,   0,   0,  48, 238,\n",
       "        252, 252, 252, 237,   0,   0,   0,   0,   0,   0,   0,   0,   0,\n",
       "          0,   0,   0,   0,   0,   0,   0,   0,   0,   0,   0,   0,  54,\n",
       "        227, 253, 252, 239, 233, 252,  57,   6,   0,   0,   0,   0,   0,\n",
       "          0,   0,   0,   0,   0,   0,   0,   0,   0,   0,   0,   0,  10,\n",
       "         60, 224, 252, 253, 252, 202,  84, 252, 253, 122,   0,   0,   0,\n",
       "          0,   0,   0,   0,   0,   0,   0,   0,   0,   0,   0,   0,   0,\n",
       "          0, 163, 252, 252, 252, 253, 252, 252,  96, 189, 253, 167,   0,\n",
       "          0,   0,   0,   0,   0,   0,   0,   0,   0,   0,   0,   0,   0,\n",
       "          0,   0,  51, 238, 253, 253, 190, 114, 253, 228,  47,  79, 255,\n",
       "        168,   0,   0,   0,   0,   0,   0,   0,   0,   0,   0,   0,   0,\n",
       "          0,   0,   0,  48, 238, 252, 252, 179,  12,  75, 121,  21,   0,\n",
       "          0, 253, 243,  50,   0,   0,   0,   0,   0,   0,   0,   0,   0,\n",
       "          0,   0,   0,   0,  38, 165, 253, 233, 208,  84,   0,   0,   0,\n",
       "          0,   0,   0, 253, 252, 165,   0,   0,   0,   0,   0,   0,   0,\n",
       "          0,   0,   0,   0,   0,   7, 178, 252, 240,  71,  19,  28,   0,\n",
       "          0,   0,   0,   0,   0, 253, 252, 195,   0,   0,   0,   0,   0,\n",
       "          0,   0,   0,   0,   0,   0,   0,  57, 252, 252,  63,   0,   0,\n",
       "          0,   0,   0,   0,   0,   0,   0, 253, 252, 195,   0,   0,   0,\n",
       "          0,   0,   0,   0,   0,   0,   0,   0,   0, 198, 253, 190,   0,\n",
       "          0,   0,   0,   0,   0,   0,   0,   0,   0, 255, 253, 196,   0,\n",
       "          0,   0,   0,   0,   0,   0,   0,   0,   0,   0,  76, 246, 252,\n",
       "        112,   0,   0,   0,   0,   0,   0,   0,   0,   0,   0, 253, 252,\n",
       "        148,   0,   0,   0,   0,   0,   0,   0,   0,   0,   0,   0,  85,\n",
       "        252, 230,  25,   0,   0,   0,   0,   0,   0,   0,   0,   7, 135,\n",
       "        253, 186,  12,   0,   0,   0,   0,   0,   0,   0,   0,   0,   0,\n",
       "          0,  85, 252, 223,   0,   0,   0,   0,   0,   0,   0,   0,   7,\n",
       "        131, 252, 225,  71,   0,   0,   0,   0,   0,   0,   0,   0,   0,\n",
       "          0,   0,   0,  85, 252, 145,   0,   0,   0,   0,   0,   0,   0,\n",
       "         48, 165, 252, 173,   0,   0,   0,   0,   0,   0,   0,   0,   0,\n",
       "          0,   0,   0,   0,   0,  86, 253, 225,   0,   0,   0,   0,   0,\n",
       "          0, 114, 238, 253, 162,   0,   0,   0,   0,   0,   0,   0,   0,\n",
       "          0,   0,   0,   0,   0,   0,   0,  85, 252, 249, 146,  48,  29,\n",
       "         85, 178, 225, 253, 223, 167,  56,   0,   0,   0,   0,   0,   0,\n",
       "          0,   0,   0,   0,   0,   0,   0,   0,   0,  85, 252, 252, 252,\n",
       "        229, 215, 252, 252, 252, 196, 130,   0,   0,   0,   0,   0,   0,\n",
       "          0,   0,   0,   0,   0,   0,   0,   0,   0,   0,   0,  28, 199,\n",
       "        252, 252, 253, 252, 252, 233, 145,   0,   0,   0,   0,   0,   0,\n",
       "          0,   0,   0,   0,   0,   0,   0,   0,   0,   0,   0,   0,   0,\n",
       "          0,  25, 128, 252, 253, 252, 141,  37,   0,   0,   0,   0,   0,\n",
       "          0,   0,   0,   0,   0,   0,   0,   0,   0,   0,   0,   0,   0,\n",
       "          0,   0,   0,   0,   0,   0,   0,   0,   0,   0,   0,   0,   0,\n",
       "          0,   0,   0,   0,   0,   0,   0,   0,   0,   0,   0,   0,   0,\n",
       "          0,   0,   0,   0,   0,   0,   0,   0,   0,   0,   0,   0,   0,\n",
       "          0,   0,   0,   0,   0,   0,   0,   0,   0,   0,   0,   0,   0,\n",
       "          0,   0,   0,   0,   0,   0,   0,   0,   0,   0,   0,   0,   0,\n",
       "          0,   0,   0,   0,   0,   0,   0,   0,   0,   0,   0,   0,   0,\n",
       "          0,   0,   0,   0,   0,   0,   0,   0,   0,   0,   0,   0,   0,\n",
       "          0,   0,   0,   0,   0,   0,   0,   0,   0,   0,   0,   0,   0,\n",
       "          0,   0,   0,   0], dtype=uint8),\n",
       " array([146.91242847, 146.91242847, 146.91242847, 146.91242847,\n",
       "        146.91242847, 146.91242847, 146.91242847, 146.91242847,\n",
       "        146.91242847, 146.91242847, 146.91242847, 146.91242847,\n",
       "        146.91242847, 146.91242847, 146.91242847, 146.91242847,\n",
       "        146.91242847, 146.91242847, 146.91242847, 146.91242847,\n",
       "        146.91242847, 146.91242847, 146.91242847, 146.91242847,\n",
       "        146.91242847, 146.91242847, 146.91242847, 146.91242847,\n",
       "        146.91242847, 146.91242847, 146.91242847, 146.91242847,\n",
       "        146.91242847, 146.91242847, 146.91242847, 146.91242847,\n",
       "        146.91242847, 146.91242847, 146.91242847, 146.91242847,\n",
       "        146.91242847, 146.91242847, 146.91242847, 146.91242847,\n",
       "        146.91242847, 146.91242847, 146.91242847, 146.91242847,\n",
       "        146.91242847, 146.91242847, 146.91242847, 146.91242847,\n",
       "        146.91242847, 146.91242847, 146.91242847, 146.91242847,\n",
       "        146.91242847, 146.91242847, 146.91242847, 146.91242847,\n",
       "        146.91242847, 146.91242847, 146.91242847, 146.91242847,\n",
       "        146.91242847, 146.91242847, 146.91242847, 146.91242847,\n",
       "        146.91242847, 146.91242847, 146.91242847, 146.91242847,\n",
       "        146.91242847, 146.91242847, 146.91242847, 146.91242847,\n",
       "        146.91242847, 146.91242847, 146.91242847, 146.91242847,\n",
       "        146.91242847, 146.91242847, 146.91242847, 146.91242847,\n",
       "        146.91242847, 146.91242847, 146.91242847, 146.91242847,\n",
       "        146.91242847, 146.91242847, 146.91242847, 146.91242847,\n",
       "        146.91242847, 146.91242847, 146.91242847, 146.91242847,\n",
       "        146.91242847, 146.91242847, 146.91242847, 146.91242847,\n",
       "        146.91242847, 146.91242847, 146.91242847, 146.91242847,\n",
       "        146.91242847, 146.91242847, 146.91242847, 146.91242847,\n",
       "        146.91242847, 146.91242847, 146.91242847, 146.91242847,\n",
       "        146.91242847, 146.91242847, 146.91242847, 146.91242847,\n",
       "        146.91242847, 146.91242847, 146.91242847, 146.91242847,\n",
       "        146.91242847, 146.91242847, 146.91242847, 146.91242847,\n",
       "        146.91242847, 146.91242847, 146.91242847, 197.91242847,\n",
       "        305.91242847, 399.91242847, 305.91242847, 196.91242847,\n",
       "        146.91242847, 146.91242847, 146.91242847, 146.91242847,\n",
       "        146.91242847, 146.91242847, 146.91242847, 146.91242847,\n",
       "        146.91242847, 146.91242847, 146.91242847, 146.91242847,\n",
       "        146.91242847, 146.91242847, 146.91242847, 146.91242847,\n",
       "        146.91242847, 146.91242847, 146.91242847, 146.91242847,\n",
       "        146.91242847, 146.91242847, 194.91242847, 384.91242847,\n",
       "        398.91242847, 398.91242847, 398.91242847, 383.91242847,\n",
       "        146.91242847, 146.91242847, 146.91242847, 146.91242847,\n",
       "        146.91242847, 146.91242847, 146.91242847, 146.91242847,\n",
       "        146.91242847, 146.91242847, 146.91242847, 146.91242847,\n",
       "        146.91242847, 146.91242847, 146.91242847, 146.91242847,\n",
       "        146.91242847, 146.91242847, 146.91242847, 146.91242847,\n",
       "        146.91242847, 200.91242847, 373.91242847, 399.91242847,\n",
       "        398.91242847, 385.91242847, 379.91242847, 398.91242847,\n",
       "        203.91242847, 152.91242847, 146.91242847, 146.91242847,\n",
       "        146.91242847, 146.91242847, 146.91242847, 146.91242847,\n",
       "        146.91242847, 146.91242847, 146.91242847, 146.91242847,\n",
       "        146.91242847, 146.91242847, 146.91242847, 146.91242847,\n",
       "        146.91242847, 146.91242847, 146.91242847, 156.91242847,\n",
       "        206.91242847, 370.91242847, 398.91242847, 399.91242847,\n",
       "        398.91242847, 348.91242847, 230.91242847, 398.91242847,\n",
       "        399.91242847, 268.91242847, 146.91242847, 146.91242847,\n",
       "        146.91242847, 146.91242847, 146.91242847, 146.91242847,\n",
       "        146.91242847, 146.91242847, 146.91242847, 146.91242847,\n",
       "        146.91242847, 146.91242847, 146.91242847, 146.91242847,\n",
       "        146.91242847, 146.91242847, 146.91242847, 309.91242847,\n",
       "        398.91242847, 398.91242847, 398.91242847, 399.91242847,\n",
       "        398.91242847, 398.91242847, 242.91242847, 335.91242847,\n",
       "        399.91242847, 313.91242847, 146.91242847, 146.91242847,\n",
       "        146.91242847, 146.91242847, 146.91242847, 146.91242847,\n",
       "        146.91242847, 146.91242847, 146.91242847, 146.91242847,\n",
       "        146.91242847, 146.91242847, 146.91242847, 146.91242847,\n",
       "        146.91242847, 146.91242847, 197.91242847, 384.91242847,\n",
       "        399.91242847, 399.91242847, 336.91242847, 260.91242847,\n",
       "        399.91242847, 374.91242847, 193.91242847, 225.91242847,\n",
       "        401.91242847, 314.91242847, 146.91242847, 146.91242847,\n",
       "        146.91242847, 146.91242847, 146.91242847, 146.91242847,\n",
       "        146.91242847, 146.91242847, 146.91242847, 146.91242847,\n",
       "        146.91242847, 146.91242847, 146.91242847, 146.91242847,\n",
       "        146.91242847, 194.91242847, 384.91242847, 398.91242847,\n",
       "        398.91242847, 325.91242847, 158.91242847, 221.91242847,\n",
       "        267.91242847, 167.91242847, 146.91242847, 146.91242847,\n",
       "        399.91242847, 389.91242847, 196.91242847, 146.91242847,\n",
       "        146.91242847, 146.91242847, 146.91242847, 146.91242847,\n",
       "        146.91242847, 146.91242847, 146.91242847, 146.91242847,\n",
       "        146.91242847, 146.91242847, 146.91242847, 146.91242847,\n",
       "        184.91242847, 311.91242847, 399.91242847, 379.91242847,\n",
       "        354.91242847, 230.91242847, 146.91242847, 146.91242847,\n",
       "        146.91242847, 146.91242847, 146.91242847, 146.91242847,\n",
       "        399.91242847, 398.91242847, 311.91242847, 146.91242847,\n",
       "        146.91242847, 146.91242847, 146.91242847, 146.91242847,\n",
       "        146.91242847, 146.91242847, 146.91242847, 146.91242847,\n",
       "        146.91242847, 146.91242847, 146.91242847, 153.91242847,\n",
       "        324.91242847, 398.91242847, 386.91242847, 217.91242847,\n",
       "        165.91242847, 174.91242847, 146.91242847, 146.91242847,\n",
       "        146.91242847, 146.91242847, 146.91242847, 146.91242847,\n",
       "        399.91242847, 398.91242847, 341.91242847, 146.91242847,\n",
       "        146.91242847, 146.91242847, 146.91242847, 146.91242847,\n",
       "        146.91242847, 146.91242847, 146.91242847, 146.91242847,\n",
       "        146.91242847, 146.91242847, 146.91242847, 203.91242847,\n",
       "        398.91242847, 398.91242847, 209.91242847, 146.91242847,\n",
       "        146.91242847, 146.91242847, 146.91242847, 146.91242847,\n",
       "        146.91242847, 146.91242847, 146.91242847, 146.91242847,\n",
       "        399.91242847, 398.91242847, 341.91242847, 146.91242847,\n",
       "        146.91242847, 146.91242847, 146.91242847, 146.91242847,\n",
       "        146.91242847, 146.91242847, 146.91242847, 146.91242847,\n",
       "        146.91242847, 146.91242847, 146.91242847, 344.91242847,\n",
       "        399.91242847, 336.91242847, 146.91242847, 146.91242847,\n",
       "        146.91242847, 146.91242847, 146.91242847, 146.91242847,\n",
       "        146.91242847, 146.91242847, 146.91242847, 146.91242847,\n",
       "        401.91242847, 399.91242847, 342.91242847, 146.91242847,\n",
       "        146.91242847, 146.91242847, 146.91242847, 146.91242847,\n",
       "        146.91242847, 146.91242847, 146.91242847, 146.91242847,\n",
       "        146.91242847, 146.91242847, 222.91242847, 392.91242847,\n",
       "        398.91242847, 258.91242847, 146.91242847, 146.91242847,\n",
       "        146.91242847, 146.91242847, 146.91242847, 146.91242847,\n",
       "        146.91242847, 146.91242847, 146.91242847, 146.91242847,\n",
       "        399.91242847, 398.91242847, 294.91242847, 146.91242847,\n",
       "        146.91242847, 146.91242847, 146.91242847, 146.91242847,\n",
       "        146.91242847, 146.91242847, 146.91242847, 146.91242847,\n",
       "        146.91242847, 146.91242847, 231.91242847, 398.91242847,\n",
       "        376.91242847, 171.91242847, 146.91242847, 146.91242847,\n",
       "        146.91242847, 146.91242847, 146.91242847, 146.91242847,\n",
       "        146.91242847, 146.91242847, 153.91242847, 281.91242847,\n",
       "        399.91242847, 332.91242847, 158.91242847, 146.91242847,\n",
       "        146.91242847, 146.91242847, 146.91242847, 146.91242847,\n",
       "        146.91242847, 146.91242847, 146.91242847, 146.91242847,\n",
       "        146.91242847, 146.91242847, 231.91242847, 398.91242847,\n",
       "        369.91242847, 146.91242847, 146.91242847, 146.91242847,\n",
       "        146.91242847, 146.91242847, 146.91242847, 146.91242847,\n",
       "        146.91242847, 153.91242847, 277.91242847, 398.91242847,\n",
       "        371.91242847, 217.91242847, 146.91242847, 146.91242847,\n",
       "        146.91242847, 146.91242847, 146.91242847, 146.91242847,\n",
       "        146.91242847, 146.91242847, 146.91242847, 146.91242847,\n",
       "        146.91242847, 146.91242847, 231.91242847, 398.91242847,\n",
       "        291.91242847, 146.91242847, 146.91242847, 146.91242847,\n",
       "        146.91242847, 146.91242847, 146.91242847, 146.91242847,\n",
       "        194.91242847, 311.91242847, 398.91242847, 319.91242847,\n",
       "        146.91242847, 146.91242847, 146.91242847, 146.91242847,\n",
       "        146.91242847, 146.91242847, 146.91242847, 146.91242847,\n",
       "        146.91242847, 146.91242847, 146.91242847, 146.91242847,\n",
       "        146.91242847, 146.91242847, 232.91242847, 399.91242847,\n",
       "        371.91242847, 146.91242847, 146.91242847, 146.91242847,\n",
       "        146.91242847, 146.91242847, 146.91242847, 260.91242847,\n",
       "        384.91242847, 399.91242847, 308.91242847, 146.91242847,\n",
       "        146.91242847, 146.91242847, 146.91242847, 146.91242847,\n",
       "        146.91242847, 146.91242847, 146.91242847, 146.91242847,\n",
       "        146.91242847, 146.91242847, 146.91242847, 146.91242847,\n",
       "        146.91242847, 146.91242847, 231.91242847, 398.91242847,\n",
       "        395.91242847, 292.91242847, 194.91242847, 175.91242847,\n",
       "        231.91242847, 324.91242847, 371.91242847, 399.91242847,\n",
       "        369.91242847, 313.91242847, 202.91242847, 146.91242847,\n",
       "        146.91242847, 146.91242847, 146.91242847, 146.91242847,\n",
       "        146.91242847, 146.91242847, 146.91242847, 146.91242847,\n",
       "        146.91242847, 146.91242847, 146.91242847, 146.91242847,\n",
       "        146.91242847, 146.91242847, 231.91242847, 398.91242847,\n",
       "        398.91242847, 398.91242847, 375.91242847, 361.91242847,\n",
       "        398.91242847, 398.91242847, 398.91242847, 342.91242847,\n",
       "        276.91242847, 146.91242847, 146.91242847, 146.91242847,\n",
       "        146.91242847, 146.91242847, 146.91242847, 146.91242847,\n",
       "        146.91242847, 146.91242847, 146.91242847, 146.91242847,\n",
       "        146.91242847, 146.91242847, 146.91242847, 146.91242847,\n",
       "        146.91242847, 146.91242847, 174.91242847, 345.91242847,\n",
       "        398.91242847, 398.91242847, 399.91242847, 398.91242847,\n",
       "        398.91242847, 379.91242847, 291.91242847, 146.91242847,\n",
       "        146.91242847, 146.91242847, 146.91242847, 146.91242847,\n",
       "        146.91242847, 146.91242847, 146.91242847, 146.91242847,\n",
       "        146.91242847, 146.91242847, 146.91242847, 146.91242847,\n",
       "        146.91242847, 146.91242847, 146.91242847, 146.91242847,\n",
       "        146.91242847, 146.91242847, 146.91242847, 171.91242847,\n",
       "        274.91242847, 398.91242847, 399.91242847, 398.91242847,\n",
       "        287.91242847, 183.91242847, 146.91242847, 146.91242847,\n",
       "        146.91242847, 146.91242847, 146.91242847, 146.91242847,\n",
       "        146.91242847, 146.91242847, 146.91242847, 146.91242847,\n",
       "        146.91242847, 146.91242847, 146.91242847, 146.91242847,\n",
       "        146.91242847, 146.91242847, 146.91242847, 146.91242847,\n",
       "        146.91242847, 146.91242847, 146.91242847, 146.91242847,\n",
       "        146.91242847, 146.91242847, 146.91242847, 146.91242847,\n",
       "        146.91242847, 146.91242847, 146.91242847, 146.91242847,\n",
       "        146.91242847, 146.91242847, 146.91242847, 146.91242847,\n",
       "        146.91242847, 146.91242847, 146.91242847, 146.91242847,\n",
       "        146.91242847, 146.91242847, 146.91242847, 146.91242847,\n",
       "        146.91242847, 146.91242847, 146.91242847, 146.91242847,\n",
       "        146.91242847, 146.91242847, 146.91242847, 146.91242847,\n",
       "        146.91242847, 146.91242847, 146.91242847, 146.91242847,\n",
       "        146.91242847, 146.91242847, 146.91242847, 146.91242847,\n",
       "        146.91242847, 146.91242847, 146.91242847, 146.91242847,\n",
       "        146.91242847, 146.91242847, 146.91242847, 146.91242847,\n",
       "        146.91242847, 146.91242847, 146.91242847, 146.91242847,\n",
       "        146.91242847, 146.91242847, 146.91242847, 146.91242847,\n",
       "        146.91242847, 146.91242847, 146.91242847, 146.91242847,\n",
       "        146.91242847, 146.91242847, 146.91242847, 146.91242847,\n",
       "        146.91242847, 146.91242847, 146.91242847, 146.91242847,\n",
       "        146.91242847, 146.91242847, 146.91242847, 146.91242847,\n",
       "        146.91242847, 146.91242847, 146.91242847, 146.91242847,\n",
       "        146.91242847, 146.91242847, 146.91242847, 146.91242847,\n",
       "        146.91242847, 146.91242847, 146.91242847, 146.91242847,\n",
       "        146.91242847, 146.91242847, 146.91242847, 146.91242847,\n",
       "        146.91242847, 146.91242847, 146.91242847, 146.91242847,\n",
       "        146.91242847, 146.91242847, 146.91242847, 146.91242847,\n",
       "        146.91242847, 146.91242847, 146.91242847, 146.91242847,\n",
       "        146.91242847, 146.91242847, 146.91242847, 146.91242847,\n",
       "        146.91242847, 146.91242847, 146.91242847, 146.91242847]))"
      ]
     },
     "execution_count": 133,
     "metadata": {},
     "output_type": "execute_result"
    }
   ],
   "source": [
    "X[1],apply_noise(X[1])"
   ]
  },
  {
   "cell_type": "code",
   "execution_count": null,
   "metadata": {},
   "outputs": [],
   "source": []
  }
 ],
 "metadata": {
  "kernelspec": {
   "display_name": "Python 3",
   "language": "python",
   "name": "python3"
  },
  "language_info": {
   "codemirror_mode": {
    "name": "ipython",
    "version": 3
   },
   "file_extension": ".py",
   "mimetype": "text/x-python",
   "name": "python",
   "nbconvert_exporter": "python",
   "pygments_lexer": "ipython3",
   "version": "3.6.10"
  }
 },
 "nbformat": 4,
 "nbformat_minor": 4
}
