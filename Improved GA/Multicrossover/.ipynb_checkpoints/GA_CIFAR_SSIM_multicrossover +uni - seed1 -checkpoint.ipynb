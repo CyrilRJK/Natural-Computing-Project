{
 "cells": [
  {
   "cell_type": "markdown",
   "metadata": {
    "colab_type": "text",
    "id": "OmqP9iw8qi2w"
   },
   "source": [
    "# IMPORT"
   ]
  },
  {
   "cell_type": "markdown",
   "metadata": {
    "colab_type": "text",
    "id": "a4o2nRW3uHkP"
   },
   "source": [
    "In this notebook I did not normalized images before evolving, just when predicting"
   ]
  },
  {
   "cell_type": "code",
   "execution_count": 1,
   "metadata": {
    "colab": {
     "base_uri": "https://localhost:8080/",
     "height": 68
    },
    "colab_type": "code",
    "id": "lV-6sDntqd61",
    "outputId": "ffb83916-fdf4-4f3d-e692-75b0492fb415"
   },
   "outputs": [
    {
     "name": "stderr",
     "output_type": "stream",
     "text": [
      "Using TensorFlow backend.\n"
     ]
    }
   ],
   "source": [
    "import tensorflow as tf\n",
    "import numpy as np \n",
    "import matplotlib.pyplot as plt\n",
    "import seaborn as sns\n",
    "from sklearn.svm import SVC\n",
    "import pickle\n",
    "import time\n",
    "from skimage.measure import compare_ssim\n",
    "import tensorflow as tf\n",
    "from keras.models import Model,load_model\n",
    "from keras.layers import Dense, Conv2D, Dropout, Flatten, MaxPooling2D, Input, Activation\n",
    "from keras.utils import to_categorical\n",
    "import keras\n",
    "import random"
   ]
  },
  {
   "cell_type": "code",
   "execution_count": 2,
   "metadata": {
    "colab": {},
    "colab_type": "code",
    "id": "kGtAwbEMqmmv"
   },
   "outputs": [],
   "source": [
    "#Set seeds\n",
    "random.seed(1)\n",
    "np.random.seed(1)"
   ]
  },
  {
   "cell_type": "markdown",
   "metadata": {
    "colab_type": "text",
    "id": "UMYv1iroqpKy"
   },
   "source": [
    "# GLOBAL VARS"
   ]
  },
  {
   "cell_type": "code",
   "execution_count": 3,
   "metadata": {
    "colab": {},
    "colab_type": "code",
    "id": "3JLxcgMPqoDE"
   },
   "outputs": [],
   "source": [
    "INDIVIDUALS = 50\n",
    "P_CROSS = 0.8\n",
    "P_MUTATION = 0.01\n",
    "CIFAR_IMG= 32"
   ]
  },
  {
   "cell_type": "markdown",
   "metadata": {
    "colab_type": "text",
    "id": "uhUutenzqt18"
   },
   "source": [
    "# THE DATA"
   ]
  },
  {
   "cell_type": "code",
   "execution_count": 4,
   "metadata": {
    "colab": {
     "base_uri": "https://localhost:8080/",
     "height": 187
    },
    "colab_type": "code",
    "id": "ZZTtcGJAJLuM",
    "outputId": "6f4c82ab-6bd0-404f-dbbe-61250e2d8d6a"
   },
   "outputs": [
    {
     "name": "stdout",
     "output_type": "stream",
     "text": [
      "x_train shape: (50000, 32, 32, 3)\n",
      "50000 train samples\n",
      "10000 test samples\n",
      "x_train shape: (50000, 32, 32, 3)\n",
      "Number of images in x_train 50000\n",
      "Number of images in x_test 10000\n",
      "y_train shape: (50000, 10)\n",
      "input shape:  (32, 32, 1)\n"
     ]
    }
   ],
   "source": [
    "from keras.datasets import cifar10\n",
    "\n",
    "# The data, split between train and test sets:\n",
    "(x_train_C, y_train_C), (x_test_C, y_test_C) = cifar10.load_data()\n",
    "print('x_train shape:', x_train_C.shape)\n",
    "print(x_train_C.shape[0], 'train samples')\n",
    "print(x_test_C.shape[0], 'test samples')\n",
    "\n",
    "# Convert class vectors to binary class matrices.\n",
    "num_classes=10\n",
    "epochs=10\n",
    "img_shape=32 \n",
    "y_train_C = to_categorical(y_train_C, num_classes)\n",
    "y_test_C = to_categorical(y_test_C, num_classes)\n",
    "\n",
    "\n",
    "input_shape=(32,32,1)\n",
    "\n",
    "x_train_C = x_train_C.astype('float32')\n",
    "x_test_C = x_test_C.astype('float32')\n",
    "x_train_C /= 255\n",
    "x_test_C /= 255\n",
    "\n",
    "\n",
    "print('x_train shape:', x_train_C.shape)\n",
    "print('Number of images in x_train', x_train_C.shape[0])\n",
    "print('Number of images in x_test', x_test_C.shape[0])\n",
    "print('y_train shape:', y_train_C.shape)\n",
    "print(\"input shape: \",input_shape)\n",
    "\n",
    "\n",
    "# CONVERT TO GRAY SCALE\n",
    "\n",
    "import matplotlib.pyplot as plt\n",
    "import numpy as np\n",
    "\n",
    "def grayscale(data, dtype='float32'):\n",
    "    # luma coding weighted average in video systems\n",
    "    r, g, b = np.asarray(.3, dtype=dtype), np.asarray(.59, dtype=dtype), np.asarray(.11, dtype=dtype)\n",
    "    rst = r * data[:, :, :, 0] + g * data[:, :, :, 1] + b * data[:, :, :, 2]\n",
    "    # add channel dimension\n",
    "    rst = np.expand_dims(rst, axis=3)\n",
    "    return rst\n",
    "\n",
    "x_train_C = grayscale(x_train_C)\n",
    "x_test_C = grayscale(x_test_C)\n",
    "\n",
    "# now we have only one channel in the images\n",
    "img_channels = 1\n",
    "\n"
   ]
  },
  {
   "cell_type": "markdown",
   "metadata": {
    "colab_type": "text",
    "id": "_--StA9kq4mw"
   },
   "source": [
    "# READ PICKLE FILES"
   ]
  },
  {
   "cell_type": "code",
   "execution_count": 5,
   "metadata": {
    "colab": {},
    "colab_type": "code",
    "id": "F3glGbBeq2lz"
   },
   "outputs": [],
   "source": [
    "with open('../../Subsets/subset_cifar', 'rb') as f:\n",
    "    original = pickle.load(f)\n",
    "    adversarial= pickle.load(f)\n",
    "    original_y = pickle.load(f)\n",
    "    adversarial_y = pickle.load(f)"
   ]
  },
  {
   "cell_type": "code",
   "execution_count": 6,
   "metadata": {
    "colab": {
     "base_uri": "https://localhost:8080/",
     "height": 85
    },
    "colab_type": "code",
    "id": "n1LZoAPNq996",
    "outputId": "54c614df-984f-4efb-c242-1c6bb0527396"
   },
   "outputs": [
    {
     "name": "stdout",
     "output_type": "stream",
     "text": [
      "Original shape (914, 32, 32, 1)\n",
      "Adversarial shape (133, 32, 32, 1)\n",
      "Original labels shape (914, 1)\n",
      "Adversarial labels shape (133, 1)\n"
     ]
    }
   ],
   "source": [
    "print(f\"Original shape {original.shape}\")\n",
    "print(f\"Adversarial shape {adversarial.shape}\")\n",
    "print(f\"Original labels shape {original_y.shape}\")\n",
    "print(f\"Adversarial labels shape {adversarial_y.shape}\")"
   ]
  },
  {
   "cell_type": "markdown",
   "metadata": {
    "colab_type": "text",
    "id": "zr0TMOV_q_9J"
   },
   "source": [
    "# LOAD THE MODEL"
   ]
  },
  {
   "cell_type": "markdown",
   "metadata": {
    "colab_type": "text",
    "id": "JibFPCmerJwW"
   },
   "source": [
    "3. CNN v2\n",
    "\n",
    "This network is made for CIFAR 10. The network is taken from [this blog]( https://appliedmachinelearning.blog/2018/03/24/achieving-90-accuracy-in-object-recognition-task-on-cifar-10-dataset-with-keras-convolutional-neural-networks/) . In this version below I didn't use some things used in the blog e.g. z-score and data augmentation.\n",
    "\n",
    "\n",
    "This network has training accuracy: 0.8940 , validation accuracy: 0.8245.\n",
    "\n",
    "**NOTE:** Training really slow, try to avoid it."
   ]
  },
  {
   "cell_type": "code",
   "execution_count": 7,
   "metadata": {
    "colab": {
     "base_uri": "https://localhost:8080/",
     "height": 1000
    },
    "colab_type": "code",
    "id": "DjDjKgyWJwqY",
    "outputId": "2c0dc9b9-4318-489e-8cf3-43eef2f8cca7"
   },
   "outputs": [
    {
     "name": "stdout",
     "output_type": "stream",
     "text": [
      "Model: \"sequential_1\"\n",
      "_________________________________________________________________\n",
      "Layer (type)                 Output Shape              Param #   \n",
      "=================================================================\n",
      "conv2d_1 (Conv2D)            (None, 32, 32, 32)        320       \n",
      "_________________________________________________________________\n",
      "activation_1 (Activation)    (None, 32, 32, 32)        0         \n",
      "_________________________________________________________________\n",
      "batch_normalization_1 (Batch (None, 32, 32, 32)        128       \n",
      "_________________________________________________________________\n",
      "conv2d_2 (Conv2D)            (None, 32, 32, 32)        9248      \n",
      "_________________________________________________________________\n",
      "activation_2 (Activation)    (None, 32, 32, 32)        0         \n",
      "_________________________________________________________________\n",
      "batch_normalization_2 (Batch (None, 32, 32, 32)        128       \n",
      "_________________________________________________________________\n",
      "max_pooling2d_1 (MaxPooling2 (None, 16, 16, 32)        0         \n",
      "_________________________________________________________________\n",
      "dropout_1 (Dropout)          (None, 16, 16, 32)        0         \n",
      "_________________________________________________________________\n",
      "conv2d_3 (Conv2D)            (None, 16, 16, 64)        18496     \n",
      "_________________________________________________________________\n",
      "activation_3 (Activation)    (None, 16, 16, 64)        0         \n",
      "_________________________________________________________________\n",
      "batch_normalization_3 (Batch (None, 16, 16, 64)        256       \n",
      "_________________________________________________________________\n",
      "conv2d_4 (Conv2D)            (None, 16, 16, 64)        36928     \n",
      "_________________________________________________________________\n",
      "activation_4 (Activation)    (None, 16, 16, 64)        0         \n",
      "_________________________________________________________________\n",
      "batch_normalization_4 (Batch (None, 16, 16, 64)        256       \n",
      "_________________________________________________________________\n",
      "max_pooling2d_2 (MaxPooling2 (None, 8, 8, 64)          0         \n",
      "_________________________________________________________________\n",
      "dropout_2 (Dropout)          (None, 8, 8, 64)          0         \n",
      "_________________________________________________________________\n",
      "conv2d_5 (Conv2D)            (None, 8, 8, 128)         73856     \n",
      "_________________________________________________________________\n",
      "activation_5 (Activation)    (None, 8, 8, 128)         0         \n",
      "_________________________________________________________________\n",
      "batch_normalization_5 (Batch (None, 8, 8, 128)         512       \n",
      "_________________________________________________________________\n",
      "conv2d_6 (Conv2D)            (None, 8, 8, 128)         147584    \n",
      "_________________________________________________________________\n",
      "activation_6 (Activation)    (None, 8, 8, 128)         0         \n",
      "_________________________________________________________________\n",
      "batch_normalization_6 (Batch (None, 8, 8, 128)         512       \n",
      "_________________________________________________________________\n",
      "max_pooling2d_3 (MaxPooling2 (None, 4, 4, 128)         0         \n",
      "_________________________________________________________________\n",
      "dropout_3 (Dropout)          (None, 4, 4, 128)         0         \n",
      "_________________________________________________________________\n",
      "flatten_1 (Flatten)          (None, 2048)              0         \n",
      "_________________________________________________________________\n",
      "dense_1 (Dense)              (None, 10)                20490     \n",
      "=================================================================\n",
      "Total params: 308,714\n",
      "Trainable params: 307,818\n",
      "Non-trainable params: 896\n",
      "_________________________________________________________________\n"
     ]
    }
   ],
   "source": [
    "# Network 3 \n",
    "import keras\n",
    "from keras.models import Sequential\n",
    "from keras.utils import np_utils\n",
    "from keras.preprocessing.image import ImageDataGenerator\n",
    "from keras.layers import Dense, Activation, Flatten, Dropout, BatchNormalization\n",
    "from keras.layers import Conv2D, MaxPooling2D\n",
    "from keras.datasets import cifar10\n",
    "from keras import regularizers\n",
    "from keras.callbacks import LearningRateScheduler\n",
    "import numpy as np\n",
    "\n",
    "input_shape = (CIFAR_IMG,CIFAR_IMG,1)\n",
    "weight_decay = 1e-4\n",
    "model = Sequential()\n",
    "model.add(Conv2D(32, (3,3), padding='same', kernel_regularizer=regularizers.l2(weight_decay), input_shape=input_shape))\n",
    "model.add(Activation('elu'))\n",
    "model.add(BatchNormalization())\n",
    "model.add(Conv2D(32, (3,3), padding='same', kernel_regularizer=regularizers.l2(weight_decay)))\n",
    "model.add(Activation('elu'))\n",
    "model.add(BatchNormalization())\n",
    "model.add(MaxPooling2D(pool_size=(2,2)))\n",
    "model.add(Dropout(0.2))\n",
    " \n",
    "model.add(Conv2D(64, (3,3), padding='same', kernel_regularizer=regularizers.l2(weight_decay)))\n",
    "model.add(Activation('elu'))\n",
    "model.add(BatchNormalization())\n",
    "model.add(Conv2D(64, (3,3), padding='same', kernel_regularizer=regularizers.l2(weight_decay)))\n",
    "model.add(Activation('elu'))\n",
    "model.add(BatchNormalization())\n",
    "model.add(MaxPooling2D(pool_size=(2,2)))\n",
    "model.add(Dropout(0.3))\n",
    " \n",
    "model.add(Conv2D(128, (3,3), padding='same', kernel_regularizer=regularizers.l2(weight_decay)))\n",
    "model.add(Activation('elu'))\n",
    "model.add(BatchNormalization())\n",
    "model.add(Conv2D(128, (3,3), padding='same', kernel_regularizer=regularizers.l2(weight_decay)))\n",
    "model.add(Activation('elu'))\n",
    "model.add(BatchNormalization())\n",
    "model.add(MaxPooling2D(pool_size=(2,2)))\n",
    "model.add(Dropout(0.4))\n",
    " \n",
    "model.add(Flatten())\n",
    "model.add(Dense(10, activation='softmax'))\n",
    " \n",
    "model.summary()\n",
    "\n",
    "\n",
    "model.compile(loss='categorical_crossentropy', optimizer='adam', metrics=['accuracy'])\n",
    "\n",
    "\n",
    "'''\n",
    "history = model.fit(x=x_train_C,y=y_train_C, epochs=150, batch_size=64, validation_data=[x_test_C,y_test_C])\n",
    "\n",
    "score= model.evaluate(x_test_C, y_test_C,verbose=0)\n",
    "print('Test loss:', score[0])\n",
    "print('Test accuracy:', score[1])\n",
    "\n",
    "model.save_weights(\"CNN_CIFAR10_net3.h5\")\n",
    "files.download('CNN_CIFAR10_net3.h5')\n",
    "'''\n",
    "\n",
    "model = load_model(\"../../Models/CNN_CIFAR10_net3.h5\")"
   ]
  },
  {
   "cell_type": "code",
   "execution_count": 8,
   "metadata": {},
   "outputs": [
    {
     "data": {
      "text/plain": [
       "<keras.engine.sequential.Sequential at 0x1918babfeb8>"
      ]
     },
     "execution_count": 8,
     "metadata": {},
     "output_type": "execute_result"
    }
   ],
   "source": [
    "model"
   ]
  },
  {
   "cell_type": "markdown",
   "metadata": {
    "colab_type": "text",
    "id": "MGSQOJJprRG-"
   },
   "source": [
    "# GENETIC ALGORITHM FUNCTIONS"
   ]
  },
  {
   "cell_type": "code",
   "execution_count": 8,
   "metadata": {
    "colab": {},
    "colab_type": "code",
    "id": "TQuqZrKL4qqW"
   },
   "outputs": [],
   "source": [
    "\n",
    "def computing_SSIM(individual,target):\n",
    "    return compare_ssim(individual.reshape(CIFAR_IMG,CIFAR_IMG), target.reshape(CIFAR_IMG,CIFAR_IMG))\n",
    "\n",
    "def calculate_fitness(model,ind,target_image,label,l1=0.2, l2=0.8, N=50, num_classes=10):\n",
    "  # predict the population\n",
    "  predictions=model.predict(ind.reshape(1,CIFAR_IMG,CIFAR_IMG,1) / 255.0)  \n",
    "  # po is the ground truth prediction, so for label = 0, it will be prediciton[0]\n",
    "  predictions=predictions[0]\n",
    "  po=predictions[label]\n",
    "  # set that value to 0\n",
    "  predictions[label]=0\n",
    "  # take next highest one\n",
    "  pd = np.max(predictions)\n",
    "  diff=pd-po\n",
    "  return l1*computing_SSIM(ind.reshape(CIFAR_IMG,CIFAR_IMG),target_image.reshape(CIFAR_IMG,CIFAR_IMG)) +l2*(diff)\n",
    "  \n",
    "\n",
    "\n",
    "def pop_fitness(model,pop,target,label):\n",
    "    return [calculate_fitness(model, p, target, label) for p in pop]\n",
    "\n",
    "def flatten(imgs):\n",
    "    # flatten all images in np array or list\n",
    "    return np.array([im.flatten() for im in imgs])\n",
    "\n",
    "def gaussian_noise():\n",
    "    # draw one sample of noise from zero mean 1 variance Gaussian\n",
    "    return np.random.normal(0, 10)\n",
    "\n",
    "def p_noise(x):\n",
    "  if 0.01 > np.random.uniform():\n",
    "    return x + gaussian_noise()\n",
    "  else:\n",
    "    return x\n",
    "    \n",
    "def add_noise(image):\n",
    "    noise_v=np.vectorize(p_noise)\n",
    "    return noise_v(image) #np.array([x + gaussian_noise() if P_MUTATION > np.random.uniform(0.0, 1.0) else x+0 for x in image])\n",
    "\n",
    "def k_crossover(im1, im2, k=2):\n",
    "    c1, c2 = [], []\n",
    "    # get k crossover points\n",
    "    points = sorted([np.random.randint(0, CIFAR_IMG*CIFAR_IMG-1, 1) for p in range(k)])\n",
    "    points = sorted([np.random.randint(0,CIFAR_IMG*CIFAR_IMG-1,1) for p in range(k)])\n",
    "    im_1_split = np.split(im1, [int(p) for p in points])\n",
    "    im_2_split = np.split(im2, [int(p) for p in points])\n",
    "    \n",
    "    # alternate between lists to realise crossover (theres got to be a more clever way to do this)\n",
    "    for i in range(k+1):\n",
    "        if i % 2 == 0:\n",
    "            c1.append(im_1_split[i])\n",
    "            c2.append(im_2_split[i])\n",
    "        else:\n",
    "            c1.append(im_2_split[i])\n",
    "            c2.append(im_1_split[i])\n",
    "    return np.concatenate(c1, axis=0), np.concatenate(c2, axis=0)\n",
    "\n",
    "def tournament(pop, model, ground_truth, target, k=3):\n",
    "\n",
    "    indices = np.random.choice(range(len(pop)), k, replace=False) #we get 3 indxes [2 34 46]    \n",
    "    individuals = pop.take(indices,axis=0)\n",
    "    scores = pop_fitness(model,np.expand_dims(individuals.reshape(individuals.shape[0],CIFAR_IMG,CIFAR_IMG),axis=3), ground_truth.reshape(CIFAR_IMG,CIFAR_IMG), target)\n",
    "    index_max = np.argmax(scores)\n",
    "    winner = individuals[index_max]\n",
    "    return winner\n",
    "\n",
    "\n",
    "def check_adv_termination(ind, label,ground_truth, model):\n",
    "  # individual - the best one from the generation\n",
    "  # label - class we want\n",
    "  # ground_truth - the image (32,32)\n",
    "  # model we are using \n",
    "  dist = 1-compare_ssim(ind.reshape(CIFAR_IMG,CIFAR_IMG),ground_truth.reshape(CIFAR_IMG,CIFAR_IMG))\n",
    "  predictions= model.predict(ind.reshape(1,CIFAR_IMG,CIFAR_IMG,1)/255.0)\n",
    "  predicted_label= np.argmax(predictions[0])\n",
    "  if label != predicted_label and dist < 0.001:\n",
    "    print(\"FOUND ADVERSARIAL\")\n",
    "    print(f\"Fitness of the adversarial {calculate_fitness(model,ind,ground_truth,label)}\")\n",
    "    return ind\n",
    "  return []\n",
    "\n",
    "def init_pop_from_sample(n,img,label):\n",
    "    x = np.array([add_noise(img) for i in range(n)])\n",
    "    return x.reshape(n, CIFAR_IMG*CIFAR_IMG)\n",
    "\n",
    "def uniform(p1, p2):\n",
    "    LEN=1024\n",
    "    for i in range(LEN):\n",
    "        if np.random.uniform() > P_CROSS:\n",
    "            a = p1[i]\n",
    "            p1[i] = p2[i]\n",
    "            p2[i] = a\n",
    "    return p1, p2\n"
   ]
  },
  {
   "cell_type": "markdown",
   "metadata": {
    "colab_type": "text",
    "id": "-epJQRlguXyK"
   },
   "source": [
    "Functions from the past, just didn't want to erase them yet"
   ]
  },
  {
   "cell_type": "code",
   "execution_count": 10,
   "metadata": {
    "colab": {
     "base_uri": "https://localhost:8080/",
     "height": 54
    },
    "colab_type": "code",
    "id": "zlm5dKzOuXNw",
    "outputId": "00d4613d-f533-4e7a-cce0-cd5ad53ee562"
   },
   "outputs": [
    {
     "data": {
      "text/plain": [
       "'\\ndef check_adverserial(pop, model, fitness, target,ground_truth):\\n    #print(f\"this is adversarial function\")\\n    preds=model.predict(pop.reshape(pop.shape[0],28,28,1))\\n    #print(f\"These are predictions made here {preds}\")\\n    for ind, pr in zip(pop,preds): \\n      #print(f\"prediction for an individual {pr}\")\\n      preds=np.argmax(pr)\\n      #print(f\"getting the index of highest value in predictions {preds}\")\\n      #setting the value to 0\\n      pr[0]=0\\n      #print(f\"this is our target {target}\")\\n      #print(f\"this is out ground_truth {ground_truth.shape}\")\\n      fitness=computing_SSIM(ind.reshape(28,28),ground_truth.reshape(28,28))\\n      #print(f\"these are the fitness values {fitness}\")\\n      next_highest = np.argmax(pr)\\n      #print(f\"getting the next highest value {next_highest}\")\\n      if next_highest != target and fitness > 0.98:\\n          return ind, True\\n      return None, False\\n\\ndef init_pop(n, num, data, labels):\\n    indices = np.where(labels==num)[0]\\n    n_indices = np.random.choice(indices, n, replace=True)\\n    sample = np.take(data, n_indices, axis=0)\\n    return sample, np.full((n), num, dtype=int) # return sample+array of labels\\n\\n\\nCyrils model\\n\\ndef save_trained_model(model, filename=\\'SVC_model.sav\\'):\\n    pickle.dump(model, open(filename, \\'wb\\'))\\n    \\ndef load_trained_model(filename=\\'SVC_model.sav\\'):\\n    return pickle.load(open(filename, \\'rb\\'))\\n\\n'"
      ]
     },
     "execution_count": 10,
     "metadata": {},
     "output_type": "execute_result"
    }
   ],
   "source": [
    "'''\n",
    "def check_adverserial(pop, model, fitness, target,ground_truth):\n",
    "    #print(f\"this is adversarial function\")\n",
    "    preds=model.predict(pop.reshape(pop.shape[0],28,28,1))\n",
    "    #print(f\"These are predictions made here {preds}\")\n",
    "    for ind, pr in zip(pop,preds): \n",
    "      #print(f\"prediction for an individual {pr}\")\n",
    "      preds=np.argmax(pr)\n",
    "      #print(f\"getting the index of highest value in predictions {preds}\")\n",
    "      #setting the value to 0\n",
    "      pr[0]=0\n",
    "      #print(f\"this is our target {target}\")\n",
    "      #print(f\"this is out ground_truth {ground_truth.shape}\")\n",
    "      fitness=computing_SSIM(ind.reshape(28,28),ground_truth.reshape(28,28))\n",
    "      #print(f\"these are the fitness values {fitness}\")\n",
    "      next_highest = np.argmax(pr)\n",
    "      #print(f\"getting the next highest value {next_highest}\")\n",
    "      if next_highest != target and fitness > 0.98:\n",
    "          return ind, True\n",
    "      return None, False\n",
    "\n",
    "def init_pop(n, num, data, labels):\n",
    "    indices = np.where(labels==num)[0]\n",
    "    n_indices = np.random.choice(indices, n, replace=True)\n",
    "    sample = np.take(data, n_indices, axis=0)\n",
    "    return sample, np.full((n), num, dtype=int) # return sample+array of labels\n",
    "\n",
    "\n",
    "Cyrils model\n",
    "\n",
    "def save_trained_model(model, filename='SVC_model.sav'):\n",
    "    pickle.dump(model, open(filename, 'wb'))\n",
    "    \n",
    "def load_trained_model(filename='SVC_model.sav'):\n",
    "    return pickle.load(open(filename, 'rb'))\n",
    "\n",
    "'''"
   ]
  },
  {
   "cell_type": "code",
   "execution_count": 9,
   "metadata": {
    "colab": {},
    "colab_type": "code",
    "id": "FOEo4wAfggNs"
   },
   "outputs": [],
   "source": [
    "''' my part of the code ''' \n",
    "''' I know it is ugly, I will fix it . this is the intial version'''\n",
    "# from Goorge Clooney paper\n",
    "def quadrant_crossover(parent_1,parent_2):\n",
    "\n",
    "  # reshape parents\n",
    "  parent_1,parent_2= parent_1.reshape((CIFAR_IMG,CIFAR_IMG)), parent_2.reshape((CIFAR_IMG,CIFAR_IMG))\n",
    "  # quadrants for both parents\n",
    "  p1,p2,p3,p4,q1,q2,q3,q4 = [],[],[],[],[],[],[],[]\n",
    "  child1, child2 = [],[]\n",
    "  # getting random (x,y) point in 2D matrix\n",
    "  x,y = np.random.randint(0,CIFAR_IMG-1), np.random.randint(0,CIFAR_IMG-1)  \n",
    "\n",
    "  # choose which quadrant we want to crossover\n",
    "  N = np.random.randint(0,3)\n",
    "  #make quadrants\n",
    "  for i in range(CIFAR_IMG):\n",
    "    if (i<=x):\n",
    "      p1.append(parent_1[i][:y+1])\n",
    "      p2.append(parent_1[i][y+1:])\n",
    "      q1.append(parent_2[i][:y+1])\n",
    "      q2.append(parent_2[i][y+1:])\n",
    "    else:\n",
    "      p3.append(parent_1[i][:y+1])\n",
    "      p4.append(parent_1[i][y+1:])\n",
    "      q3.append(parent_2[i][:y+1])\n",
    "      q4.append(parent_2[i][y+1:])\n",
    "\n",
    "  if (N==0):\n",
    "    ch1 = connect_quadrants(p1,q2,q3,q4)\n",
    "    ch2 = connect_quadrants(q1,p2,p3,p4)\n",
    "  elif (N==1):\n",
    "    ch1 = connect_quadrants(q1,p2,q3,q4)\n",
    "    ch2 = connect_quadrants(p1,q2,p3,p4)\n",
    "  elif (N==2):\n",
    "    ch1 = connect_quadrants(q1,q2,p3,q4)\n",
    "    ch2 = connect_quadrants(p1,p2,q3,p4)\n",
    "  else:\n",
    "    ch1 = connect_quadrants(q1,q2,q3,p4)\n",
    "    ch2 = connect_quadrants(p1,p2,p3,q4)\n",
    "\n",
    "  return ch1,ch2\n",
    "\n",
    "def connect_quadrants(q1,q2,q3,q4):\n",
    "  left = np.concatenate((q1,q3))\n",
    "  right = np.concatenate((q2,q4))\n",
    "  image = np.concatenate((left,right),axis=1)\n",
    "  return image.flatten()\n",
    "\n",
    "\n",
    "def multi_crossover(parent1,parent2,target):\n",
    "  pop= []\n",
    "  # 2-k crossover\n",
    "  pop.append(k_crossover(parent1, parent2))\n",
    "  # Gorge Clooney crossover\n",
    "  pop.append(quadrant_crossover(parent1,parent2))\n",
    "  # uniform crossover\n",
    "  pop.append(k_crossover(parent1, parent2,1))\n",
    "  pop.append(uniform(parent1,parent2))\n",
    "  # SSIM similarity \n",
    "  flattened_list = [y for x in pop for y in x] # need to flatten the list because pop is list of lists, cause every crossover function returns 2 obj\n",
    "  ssim = [computing_SSIM(ind,target) for ind in flattened_list ]\n",
    "  # taking the index of largest two score\n",
    "  id1=np.argmax(ssim)\n",
    "  ssim[id1]=0\n",
    "  id2 = np.argmax(ssim)\n",
    "  #returning parents\n",
    "  return flattened_list[id1],flattened_list[id2]\n",
    "  \n"
   ]
  },
  {
   "cell_type": "code",
   "execution_count": 10,
   "metadata": {
    "colab": {},
    "colab_type": "code",
    "id": "J7Z_4b8EqUmj"
   },
   "outputs": [],
   "source": [
    "def return_best_individual(pop,fitness):\n",
    "  index = np.argmax(fitness)\n",
    "  best = pop[index]\n",
    "  return best, np.max(fitness)"
   ]
  },
  {
   "cell_type": "code",
   "execution_count": 11,
   "metadata": {
    "colab": {},
    "colab_type": "code",
    "id": "tcVTicSPvYoy"
   },
   "outputs": [],
   "source": [
    "def choose_better_child(ch1, ch2,ground_truth,label,model):\n",
    "  # I named it better child, but we choose by this parents as well\n",
    "  ch1_f = calculate_fitness(model,ch1.reshape(CIFAR_IMG,CIFAR_IMG),ground_truth.reshape(CIFAR_IMG,CIFAR_IMG),label)\n",
    "  ch2_f = calculate_fitness(model,ch2.reshape(CIFAR_IMG,CIFAR_IMG),ground_truth.reshape(CIFAR_IMG,CIFAR_IMG),label)\n",
    "  # change this into ternary operator\n",
    "  if ch1_f>ch2_f:\n",
    "    return ch1\n",
    "  else:\n",
    "    return ch2              \n"
   ]
  },
  {
   "cell_type": "markdown",
   "metadata": {
    "colab_type": "text",
    "id": "UiXxgPDmriTE"
   },
   "source": [
    "# THE MAIN LOOP"
   ]
  },
  {
   "cell_type": "code",
   "execution_count": 14,
   "metadata": {
    "colab": {
     "base_uri": "https://localhost:8080/",
     "height": 53
    },
    "colab_type": "code",
    "id": "T-8hS44GPb2B",
    "outputId": "3661aaab-b99a-4560-cacf-0335b114d94b"
   },
   "outputs": [
    {
     "data": {
      "text/plain": [
       "'\\nX = flatten(x_train)\\nX_t = flatten(x_test)\\nprint(f\"X train shape {X.shape}\")\\nprint(f\"X test shape {X_t.shape}\")\\nprint(f\"y train shape {y.shape}\")\\nprint(f\"y test shape {y_t.shape}\")\\n'"
      ]
     },
     "execution_count": 14,
     "metadata": {},
     "output_type": "execute_result"
    }
   ],
   "source": [
    "'''\n",
    "This not necessary when using subset \n",
    "'''\n",
    "'''\n",
    "X = flatten(x_train)\n",
    "X_t = flatten(x_test)\n",
    "print(f\"X train shape {X.shape}\")\n",
    "print(f\"X test shape {X_t.shape}\")\n",
    "print(f\"y train shape {y.shape}\")\n",
    "print(f\"y test shape {y_t.shape}\")\n",
    "'''"
   ]
  },
  {
   "cell_type": "code",
   "execution_count": null,
   "metadata": {
    "colab": {
     "base_uri": "https://localhost:8080/",
     "height": 1000
    },
    "colab_type": "code",
    "id": "r99NLfBt-ngX",
    "outputId": "7d79a329-77e7-484d-a066-0db3771c2b91"
   },
   "outputs": [
    {
     "name": "stdout",
     "output_type": "stream",
     "text": [
      "Initial fitness: \n",
      " [-0.6003421846829813, -0.6014233009400011, -0.6021710252132082, -0.6010787395273278, -0.6017296644445892, -0.6006246064342724, -0.6016371008769117, -0.6015986491587476, -0.6013498892158472, -0.5999955458140832, -0.601020590562576, -0.6017574466266108, -0.602747413741685, -0.6017573611414601, -0.6005499628970601, -0.6009253942964956, -0.6012076525904644, -0.6017729240012388, -0.601591565086971, -0.6002356500571928, -0.6020833207438715, -0.6014473382482549, -0.6047364836056387, -0.6036656071764964, -0.6028087296464472, -0.6002553189157103, -0.6011277407964598, -0.600873706128894, -0.6002998612753933, -0.5999804860611871, -0.6004737955634604, -0.6011875444301396, -0.6008069189157474, -0.6019352034546327, -0.6000528284646404, -0.6013990531717441, -0.600529128618289, -0.6021990828935389, -0.5999799240095858, -0.6013059022818715, -0.6010262546795597, -0.6028610166065058, -0.6013173335334538, -0.6016748774691136, -0.6015680422549939, -0.6016282783645052, -0.6015389422224486, -0.6002344390427716, -0.60037182666477, -0.602540684945236]\n"
     ]
    },
    {
     "name": "stderr",
     "output_type": "stream",
     "text": [
      "C:\\Users\\Lora\\Anaconda3\\lib\\site-packages\\skimage\\measure\\_structural_similarity.py:155: UserWarning: Inputs have mismatched dtype.  Setting data_range based on X.dtype.\n",
      "  warn(\"Inputs have mismatched dtype.  Setting data_range based on \"\n"
     ]
    },
    {
     "name": "stdout",
     "output_type": "stream",
     "text": [
      "Generation 0\n",
      "Max fitness value -0.5999799240095858\n",
      "Generation 10\n",
      "Max fitness value -0.5999799240095858\n"
     ]
    }
   ],
   "source": [
    "# for each image and label in adversarial\n",
    "n=50\n",
    "import time\n",
    "# these are the examples that are found as adversarialwe will save these at the end in a file\n",
    "evolved_examples= []\n",
    "# fitness of the adversarials\n",
    "fitness_of_evolved=[]\n",
    "# time necessary to evolve the adversarial\n",
    "times=[]\n",
    "# the distance between the original image and the adversarial\n",
    "ssim_values=[]\n",
    "# number of round necessary to produce adversarial \n",
    "number_of_rounds=[]\n",
    "# this will serve to see if the fitness changes or not \n",
    "best_fitness = 0\n",
    "\n",
    "\n",
    "numb_of_found_after30=0\n",
    "numb_of_adv_found=0\n",
    "\n",
    "#dictionary to keep the best individual to check if the fitness is improving or not \n",
    "\n",
    "\n",
    "predicted_class= []\n",
    "for img,label in zip(adversarial,adversarial_y):\n",
    "  winner_of_gen = {\"image\":[],\"label\": None, \"fitness\": None}\n",
    "  #temporary variable to check generations:\n",
    "  fitness_no_change = 0\n",
    "  start = time.time()\n",
    "  label=label[0]\n",
    "  #intialize population from the image and with the given label\n",
    "  population = init_pop_from_sample(n,img,label)\n",
    "  # calculate fitness of these individuals\n",
    "  fitness = pop_fitness(model,np.expand_dims(population.reshape(population.shape[0],CIFAR_IMG,CIFAR_IMG),axis=3),img.reshape(CIFAR_IMG,CIFAR_IMG),label)\n",
    "  print(f\"Initial fitness: \\n {fitness}\")\n",
    "  #retun the best one from the population\n",
    "  best,fit_max = return_best_individual(population,fitness)\n",
    "  #check if adversarial\n",
    "  check_adv = check_adv_termination(best,label,img, model)\n",
    "  #define max generation\n",
    "  max_gen=0\n",
    "  winner_of_gen.update(image= best)\n",
    "  winner_of_gen.update(label= label)\n",
    "  winner_of_gen.update(fitness= fit_max)\n",
    "  while (len(check_adv)==0 or max_gen<10000):\n",
    "      new_pop=[]\n",
    "      for i in range(50):\n",
    "        parent1= tournament(population, model, img, label) \n",
    "        parent2 = tournament(population, model, img, label)\n",
    "        if 0.8 > np.random.uniform(0.0, 1.0):\n",
    "          child1, child2 = multi_crossover(parent1, parent2,img) # crossover\n",
    "          new_pop.append(add_noise(choose_better_child(child1, child2,img,label,model)))\n",
    "        else:\n",
    "          new_pop.append(add_noise(choose_better_child(parent1, parent2,img,label,model)))\n",
    "\n",
    "      # to reshape into an array \n",
    "      population= np.array(new_pop)\n",
    "      #check fitness of the generation\n",
    "      fitness = pop_fitness(model,np.expand_dims(population.reshape(population.shape[0],CIFAR_IMG,CIFAR_IMG),axis=3),img.reshape(CIFAR_IMG,CIFAR_IMG),label) \n",
    "      #find the highest fitness\n",
    "      best,fit_max1 = return_best_individual(population,fitness)\n",
    "      # check adversarial - check if pred != target, distance < 0.001 or fitness didn't improve 0.001 after 30 generations(this is in else condition)\n",
    "      check_adv = check_adv_termination(best,label,img,model)\n",
    "\n",
    "      #check if the first termination true \n",
    "      if(len(check_adv) != 0):\n",
    "        print(\"Adversarial example image: \\n\")\n",
    "        evolved_examples.append(check_adv) #add evolved example\n",
    "        ssim_values.append(1-compare_ssim(check_adv.reshape(CIFAR_IMG,CIFAR_IMG),img.reshape(CIFAR_IMG,CIFAR_IMG))) #add the distance\n",
    "        end=time.time()\n",
    "        times.append(end-start) #add the time \n",
    "        fitness_of_evolved.append(calculate_fitness(model,check_adv,img,label)) #add the fitness value of adversarial\n",
    "        number_of_rounds.append(max_gen)\n",
    "        pred_l=np.argmax(model.predict(check_adv.reshape(1,CIFAR_IMG,CIFAR_IMG,1)/255.0))\n",
    "        predicted_class.append(pred_l)\n",
    "        print(\"Left: adversarial \\t Right: ground truth\")\n",
    "        fd, idx = plt.subplots(1,2)\n",
    "        idx[0].imshow(check_adv.reshape(CIFAR_IMG,CIFAR_IMG),cmap='gray')\n",
    "        idx[1].imshow(img.reshape(CIFAR_IMG,CIFAR_IMG),cmap='gray')\n",
    "        plt.show()\n",
    "        print(f\"True label: {label}\")\n",
    "        print(f\"predicted label: {pred_l}\") \n",
    "        print(\"Time: \",end-start ,\" seconds\")\n",
    "        numb_of_adv_found+=1\n",
    "        break\n",
    "      #check the second termination \n",
    "      else:\n",
    "          #check if fitness increases, if not , add +1 to temporary var\n",
    "        if fit_max1>fit_max:\n",
    "          fit_max=fit_max1\n",
    "          winner_of_gen.update(image= best)\n",
    "          winner_of_gen.update(label= label)\n",
    "          winner_of_gen.update(fitness= fit_max1)\n",
    "          fitness_no_change=0\n",
    "        else:\n",
    "          fitness_no_change+=1\n",
    "      \n",
    "      #print after every 10 generations to see the progress\n",
    "      if (max_gen % 10 == 0):\n",
    "        print(f\"Generation {max_gen}\")\n",
    "        print(f\"Max fitness value {fit_max}\")\n",
    "      max_gen+=1\n",
    "\n",
    "      # if fitness did not improve for 30 generations, save the image that was best , saved it in a dicitonary\n",
    "      if fitness_no_change==30:\n",
    "        print(\"FITNESS DID NOT IMPROVE FOR 30 GENERATIONS\")\n",
    "        print(\"Best adversarial image we could find: \\n\")\n",
    "        evolved_examples.append(winner_of_gen[\"image\"])\n",
    "        ssim_values.append(1-compare_ssim(np.array(winner_of_gen[\"image\"]).reshape(CIFAR_IMG,CIFAR_IMG),img.reshape(CIFAR_IMG,CIFAR_IMG)))\n",
    "        number_of_rounds.append(max_gen)\n",
    "        end=time.time()\n",
    "        times.append(end-start)\n",
    "        fitness_of_evolved.append(winner_of_gen[\"fitness\"])\n",
    "        pred_l=np.argmax(model.predict(np.array(winner_of_gen[\"image\"]).reshape(1,CIFAR_IMG,CIFAR_IMG,1)/255.0))\n",
    "        predicted_class.append(pred_l)\n",
    "        print(\"Left: adversarial \\t Right: ground truth\")\n",
    "        fd, idx = plt.subplots(1,2)\n",
    "        idx[0].imshow(np.array(winner_of_gen[\"image\"]).reshape(CIFAR_IMG,CIFAR_IMG),cmap='gray')\n",
    "        idx[1].imshow(img.reshape(CIFAR_IMG,CIFAR_IMG),cmap='gray')\n",
    "        plt.show()\n",
    "        print(f\"True label: {label}\")\n",
    "        print(f\"predicted label: {pred_l}\")\n",
    "        print(\"Time: \",end-start ,\" seconds\")\n",
    "        numb_of_found_after30 +=1\n",
    "        break\n",
    "\n",
    "\n"
   ]
  },
  {
   "cell_type": "markdown",
   "metadata": {
    "colab_type": "text",
    "id": "XEMXgasB3Llv"
   },
   "source": [
    "# Save files\n"
   ]
  },
  {
   "cell_type": "code",
   "execution_count": 16,
   "metadata": {
    "colab": {},
    "colab_type": "code",
    "id": "u43v4fe33RGZ"
   },
   "outputs": [
    {
     "name": "stdout",
     "output_type": "stream",
     "text": [
      "Max time: 1156.6763889789581\n",
      "Min time: 1.9638023376464844\n",
      "Mean time: 417.7622298244247\n",
      "Std time: 229.2042221482553\n",
      "\n",
      "Max fitness evolved: 0.998783635723865\n",
      "Min fitness evolved:: -0.6022439641919571\n",
      "Mean fitness evolved: 0.8545252948084725\n",
      "Std fitness evolved:: 0.4410646831327256\n",
      "\n",
      "Max ssim: 0.265159994831463\n",
      "Min ssim: 1.7113638396515363e-05\n",
      "Mean ssim: 0.027153931511297455\n",
      "Std ssim: 0.032421658245761396\n",
      "\n",
      "Max rounds: 280\n",
      "Min rounds: 0\n",
      "Mean rounds: 100.23308270676692\n",
      "Std rounds: 54.66052268430095\n",
      "\n",
      "Percentage of adversarial founds sucessfully : 0.022556390977443608 %\n",
      "Percentage of adversarial founds after fitness not improving for 30 generations: 0.9774436090225563 %\n"
     ]
    }
   ],
   "source": [
    "import pickle\n",
    "file_ = open('GA_adv_cifar_multicrossover_seed1', 'wb')\n",
    "pickle.dump(evolved_examples, file_)\n",
    "pickle.dump(times, file_)\n",
    "pickle.dump(ssim_values, file_)\n",
    "pickle.dump(fitness_of_evolved , file_)\n",
    "pickle.dump(predicted_class, file_)\n",
    "pickle.dump(number_of_rounds, file_)\n",
    "file_.close()\n",
    "\n",
    "print(f\"Max time: {np.max(times)}\")\n",
    "print(f\"Min time: {np.min(times)}\")\n",
    "print(f\"Mean time: {np.mean(times)}\")\n",
    "print(f\"Std time: {np.std(times)}\\n\")\n",
    "\n",
    "print(f\"Max fitness evolved: {np.max(fitness_of_evolved)}\")\n",
    "print(f\"Min fitness evolved:: {np.min(fitness_of_evolved)}\")\n",
    "print(f\"Mean fitness evolved: {np.mean(fitness_of_evolved)}\")\n",
    "print(f\"Std fitness evolved:: {np.std(fitness_of_evolved)}\\n\")\n",
    "\n",
    "print(f\"Max ssim: {np.max(ssim_values)}\")\n",
    "print(f\"Min ssim: {np.min(ssim_values)}\")\n",
    "print(f\"Mean ssim: {np.mean(ssim_values)}\")\n",
    "print(f\"Std ssim: {np.std(ssim_values)}\\n\")\n",
    "\n",
    "print(f\"Max rounds: {np.max(number_of_rounds)}\")\n",
    "print(f\"Min rounds: {np.min(number_of_rounds)}\")\n",
    "print(f\"Mean rounds: {np.mean(number_of_rounds)}\")\n",
    "print(f\"Std rounds: {np.std(number_of_rounds)}\\n\")\n",
    "\n",
    "\n",
    "\n",
    "\n",
    "print(f\"Percentage of adversarial founds sucessfully : {numb_of_adv_found/len(adversarial_y)} %\")\n",
    "print(f\"Percentage of adversarial founds after fitness not improving for 30 generations: {numb_of_found_after30/len(adversarial_y)} %\")\n"
   ]
  },
  {
   "cell_type": "markdown",
   "metadata": {
    "colab_type": "text",
    "id": "uQoHNMX_8nor"
   },
   "source": [
    "Open adversarial"
   ]
  },
  {
   "cell_type": "code",
   "execution_count": 17,
   "metadata": {
    "colab": {},
    "colab_type": "code",
    "id": "rEK7GsD78oq5"
   },
   "outputs": [],
   "source": [
    "with open('GA_adv_cifar_multicrossover_seed1', 'rb') as f:\n",
    "    evolved_examples = pickle.load(f)\n",
    "    times= pickle.load(f)\n",
    "    ssim_values = pickle.load(f)\n",
    "    fitness_of_evolved = pickle.load(f)\n",
    "    predicted_class = pickle.load(f)\n",
    "    number_of_rounds = pickle.load(f)"
   ]
  },
  {
   "cell_type": "code",
   "execution_count": 18,
   "metadata": {},
   "outputs": [
    {
     "name": "stdout",
     "output_type": "stream",
     "text": [
      "Max ssim: 0.9999828863616035\n",
      "Min ssim: 0.734840005168537\n",
      "Mean ssim: 0.9728460684887026\n",
      "Std ssim: 0.032421658245761396\n",
      "\n"
     ]
    }
   ],
   "source": [
    "#Correction of ssim values\n",
    "new_ssim=[]\n",
    "for s in ssim_values:\n",
    "    new_ssim.append(1-s)\n",
    "    \n",
    "print(f\"Max ssim: {np.max(new_ssim)}\")\n",
    "print(f\"Min ssim: {np.min(new_ssim)}\")\n",
    "print(f\"Mean ssim: {np.mean(new_ssim)}\")\n",
    "print(f\"Std ssim: {np.std(new_ssim)}\\n\")"
   ]
  },
  {
   "cell_type": "code",
   "execution_count": 19,
   "metadata": {},
   "outputs": [],
   "source": [
    "#Correctionf of rounds  (replacing 0 with 1)\n",
    "number_of_rounds = np.where(np.array(number_of_rounds)==0, 1, number_of_rounds) "
   ]
  },
  {
   "cell_type": "code",
   "execution_count": 20,
   "metadata": {},
   "outputs": [
    {
     "data": {
      "text/plain": [
       "array([118,  87,  77, 151,  71,  57, 163, 138,  83,  54,  61,  53,  78,\n",
       "       104,  62,  31,  94,  61,  76,  30, 108,  30,  80,  30,  30, 134,\n",
       "        58,  62,   2, 208,  55,  75,  85, 125, 254,  64,  31,  30, 147,\n",
       "        42,  66, 142, 147,  61,  92, 115,  70,  88, 112, 196,  63,  68,\n",
       "        30,  64,  78, 116,  54,  82,  67,   1, 106,  86, 109, 103, 111,\n",
       "        48,  59, 166,  66, 158,  66,  72, 155, 162, 137, 113,  91, 164,\n",
       "       119,  56,  30, 115,  52, 275,  82, 164, 167,  68, 162, 118, 185,\n",
       "        78, 154, 142,  73, 280,  77,  89, 162,  88,  95,  59, 119, 157,\n",
       "       132,  71, 111,  92,  70,  98, 137, 167,  60,  87,  59,  73,  30,\n",
       "       137,  55, 237, 164, 140,  69,  74,  30, 152, 194, 195, 221,  89,\n",
       "        72, 167,   1])"
      ]
     },
     "execution_count": 20,
     "metadata": {},
     "output_type": "execute_result"
    }
   ],
   "source": [
    "number_of_rounds"
   ]
  },
  {
   "cell_type": "code",
   "execution_count": 21,
   "metadata": {},
   "outputs": [
    {
     "name": "stdout",
     "output_type": "stream",
     "text": [
      "Max rounds: 280\n",
      "Min rounds: 1\n",
      "Mean rounds: 100.24812030075188\n",
      "Std rounds: 54.6330762705389\n",
      "\n"
     ]
    }
   ],
   "source": [
    "print(f\"Max rounds: {np.max(number_of_rounds)}\")\n",
    "print(f\"Min rounds: {np.min(number_of_rounds)}\")\n",
    "print(f\"Mean rounds: {np.mean(number_of_rounds)}\")\n",
    "print(f\"Std rounds: {np.std(number_of_rounds)}\\n\")"
   ]
  },
  {
   "cell_type": "markdown",
   "metadata": {
    "colab_type": "text",
    "id": "0e9R7ACErtqK"
   },
   "source": [
    "# Examples of what functions do"
   ]
  },
  {
   "cell_type": "code",
   "execution_count": 22,
   "metadata": {
    "colab": {},
    "colab_type": "code",
    "id": "cpEVAzR7rtK8"
   },
   "outputs": [
    {
     "name": "stdout",
     "output_type": "stream",
     "text": [
      "[-0.7985892726591407, -0.7986649463807212, -0.7985705252188005, -0.7986603324640114, -0.7986640443846431, -0.7983015319368282, -0.798545200422354, -0.7983238295714443, -0.7986448602525132, -0.7986523954988857, -0.7985887420905552, -0.7985393478998531, -0.7989564462911779, -0.7988277150040406, -0.7989882228910968, -0.7986940212720168, -0.7988727765084926, -0.7987316295436042, -0.7984438426216252, -0.7990896847279569, -0.7988467516858758, -0.7984860210372816, -0.7986454906217331, -0.7986385435250732, -0.7987805617963863, -0.7986695314192882, -0.7987035827823399, -0.7987494380575793, -0.7989881134607149, -0.798920478946215, -0.7986249369840608, -0.7985955019172958, -0.7982727963182844, -0.7987309617863311, -0.7986727631087088, -0.7987490886114068, -0.7987777222228992, -0.7989488590725383, -0.7987275123124932, -0.7984690902712791, -0.7985118906684375, -0.7987075963889337, -0.7986641486373497, -0.7986463555893116, -0.7985731207770441, -0.7987383184102791, -0.7986167203393824, -0.7988712274292329, -0.7987522211469823, -0.7989383692241568]\n"
     ]
    }
   ],
   "source": [
    "population = init_pop_from_sample(50,adversarial[15],adversarial_y[15][0])\n",
    "fitness = pop_fitness(model,np.expand_dims(population.reshape(population.shape[0],CIFAR_IMG,CIFAR_IMG),axis=3),img.reshape(CIFAR_IMG,CIFAR_IMG),adversarial_y[15][0])\n",
    "print(fitness)"
   ]
  },
  {
   "cell_type": "code",
   "execution_count": 23,
   "metadata": {
    "colab": {
     "base_uri": "https://localhost:8080/",
     "height": 317
    },
    "colab_type": "code",
    "id": "0aYxCQLEu1BB",
    "outputId": "6a29e5dc-27d0-4479-81b7-6e1288329285"
   },
   "outputs": [
    {
     "data": {
      "image/png": "[encoded data removed]",
      "text/plain": [
       "<Figure size 432x288 with 1 Axes>"
      ]
     },
     "metadata": {
      "needs_background": "light"
     },
     "output_type": "display_data"
    },
    {
     "name": "stdout",
     "output_type": "stream",
     "text": [
      "Class for this 1\n",
      "[[2.3925936e-10 1.0000000e+00 5.6845797e-14 4.3043689e-12 4.4440273e-13\n",
      "  1.9210852e-13 1.0372402e-12 5.7237066e-13 2.6933677e-13 5.6719582e-08]]\n"
     ]
    }
   ],
   "source": [
    "plt.imshow(population[0].reshape(CIFAR_IMG,CIFAR_IMG))\n",
    "plt.show()\n",
    "print(f\"Class for this {adversarial_y[15][0]}\")\n",
    "print(model.predict(population[0].reshape(1,CIFAR_IMG,CIFAR_IMG,1) /255.0))"
   ]
  },
  {
   "cell_type": "code",
   "execution_count": 24,
   "metadata": {
    "colab": {
     "base_uri": "https://localhost:8080/",
     "height": 85
    },
    "colab_type": "code",
    "id": "xhxCaFZPGPpe",
    "outputId": "35163672-1426-46f3-d021-b87dc280c722"
   },
   "outputs": [],
   "source": [
    "parent1 = tournament(population, model, adversarial[15], adversarial_y[15]) \n",
    "parent2 = tournament(population, model, adversarial[15], adversarial_y[15])"
   ]
  },
  {
   "cell_type": "code",
   "execution_count": 25,
   "metadata": {
    "colab": {
     "base_uri": "https://localhost:8080/",
     "height": 219
    },
    "colab_type": "code",
    "id": "gORkePYLv4EW",
    "outputId": "17422d1a-b936-43f2-a2c2-33f4cb500bf4"
   },
   "outputs": [
    {
     "data": {
      "text/plain": [
       "<matplotlib.image.AxesImage at 0x19191f89630>"
      ]
     },
     "execution_count": 25,
     "metadata": {},
     "output_type": "execute_result"
    },
    {
     "data": {
      "image/png": "[encoded data removed]",
      "text/plain": [
       "<Figure size 432x288 with 2 Axes>"
      ]
     },
     "metadata": {
      "needs_background": "light"
     },
     "output_type": "display_data"
    }
   ],
   "source": [
    "fd, idx =  plt.subplots(1,2)\n",
    "idx[0].imshow(parent1.reshape(CIFAR_IMG,CIFAR_IMG),cmap=\"gray\")\n",
    "idx[1].imshow(parent2.reshape(CIFAR_IMG,CIFAR_IMG),cmap=\"gray\")"
   ]
  },
  {
   "cell_type": "code",
   "execution_count": 26,
   "metadata": {
    "colab": {
     "base_uri": "https://localhost:8080/",
     "height": 85
    },
    "colab_type": "code",
    "id": "HZJXShUyHIrS",
    "outputId": "c26ae352-d1a1-4510-9da7-ae5e01d1ec43"
   },
   "outputs": [],
   "source": [
    "child1, child2 = multi_crossover(parent1, parent2,adversarial[15]) # crossover \n",
    "#child1, child2 = add_noise(child1), add_noise(child2) # apply mutation to pixels "
   ]
  },
  {
   "cell_type": "code",
   "execution_count": 27,
   "metadata": {
    "colab": {
     "base_uri": "https://localhost:8080/",
     "height": 219
    },
    "colab_type": "code",
    "id": "72tQ7R_RHZzZ",
    "outputId": "c81cdb63-ed10-42c2-d477-894c5e91bcf7"
   },
   "outputs": [
    {
     "data": {
      "text/plain": [
       "<matplotlib.image.AxesImage at 0x191919e6fd0>"
      ]
     },
     "execution_count": 27,
     "metadata": {},
     "output_type": "execute_result"
    },
    {
     "data": {
      "image/png": "[encoded data removed]",
      "text/plain": [
       "<Figure size 432x288 with 2 Axes>"
      ]
     },
     "metadata": {
      "needs_background": "light"
     },
     "output_type": "display_data"
    }
   ],
   "source": [
    "fd, idx =  plt.subplots(1,2)\n",
    "idx[0].imshow(child1.reshape(CIFAR_IMG,CIFAR_IMG),cmap=\"gray\")\n",
    "idx[1].imshow(child2.reshape(CIFAR_IMG,CIFAR_IMG),cmap=\"gray\")\n"
   ]
  },
  {
   "cell_type": "code",
   "execution_count": 28,
   "metadata": {
    "colab": {},
    "colab_type": "code",
    "id": "4a3pXLQSwZlT"
   },
   "outputs": [
    {
     "name": "stdout",
     "output_type": "stream",
     "text": [
      "diff between children [-5.633789  -4.149948  -3.062912   0.         5.7095413  9.564171 ]\n",
      "diff between parents [-16.72924    -9.685455   -9.564171   -8.706863   -5.7095413  -4.29274\n",
      "  -3.8920288  -2.7790756  -1.6091766   0.          1.1050491   2.2260437\n",
      "   3.0292664   3.062912    4.149948    4.1768646   5.633789    6.016098\n",
      "   6.0724335  10.647095   17.198486   21.725456 ]\n",
      "diff between p1 and c1 [-16.72924    -9.685455   -9.564171   -5.7095413  -4.29274    -3.8920288\n",
      "  -2.7790756  -1.6091766   0.          1.1050491   2.2260437   3.0292664\n",
      "   3.062912    4.149948    4.1768646   5.633789    6.016098    6.0724335\n",
      "  10.647095   17.198486   21.725456 ]\n",
      "diff between p1 and c2 [-16.72924    -9.685455   -4.29274    -3.8920288  -2.7790756  -1.6091766\n",
      "   0.          1.1050491   2.2260437   3.0292664   4.1768646   6.016098\n",
      "   6.0724335  10.647095   17.198486   21.725456 ]\n",
      "diff between p2 and c1 [0.       8.706863]\n",
      "diff between p2 and c2 [-5.633789  -4.149948  -3.062912   0.         5.7095413  8.706863\n",
      "  9.564171 ]\n"
     ]
    }
   ],
   "source": [
    "print(f\"diff between children {np.unique(child1-child2)}\")\n",
    "print(f\"diff between parents {np.unique(parent1-parent2)}\")\n",
    "print(f\"diff between p1 and c1 {np.unique(parent1-child1)}\")\n",
    "print(f\"diff between p1 and c2 {np.unique(parent1-child2)}\")\n",
    "print(f\"diff between p2 and c1 {np.unique(parent2-child1)}\")\n",
    "print(f\"diff between p2 and c2 {np.unique(parent2-child2)}\")"
   ]
  },
  {
   "cell_type": "code",
   "execution_count": 29,
   "metadata": {
    "colab": {
     "base_uri": "https://localhost:8080/",
     "height": 85
    },
    "colab_type": "code",
    "id": "xEPQapUpILBr",
    "outputId": "ac694765-e044-4f9f-82ee-9c599a2eb431"
   },
   "outputs": [],
   "source": [
    "bb = choose_better_child(child1, child2,adversarial[15],adversarial_y[15][0],model)"
   ]
  },
  {
   "cell_type": "code",
   "execution_count": 30,
   "metadata": {
    "colab": {
     "base_uri": "https://localhost:8080/",
     "height": 122
    },
    "colab_type": "code",
    "id": "UCl4mvK99XYj",
    "outputId": "fd9867bc-0c0a-486e-c393-ad74b8ef6298"
   },
   "outputs": [
    {
     "name": "stdout",
     "output_type": "stream",
     "text": [
      "[0.8014106319734277, 0.8013349582518472, 0.8014293794137679, 0.8013389999639673, 0.801335669513062, 0.8016970375516973, 0.8014547042102144, 0.8016758843262608, 0.8013547582777604, 0.801347223031388, 0.8014111625420132, 0.8014605567327152, 0.8010434583413905, 0.8011719988936645, 0.8010114910066083, 0.8013058833605515, 0.8011271281240757, 0.8012682750889641, 0.8015560620109432, 0.8009099338023167, 0.8011529622118293, 0.8015138835952867, 0.8013537464388139, 0.8013613611074951, 0.8012191521013188, 0.8013303732132802, 0.8012963218502285, 0.8012501804726944, 0.8010117911718535, 0.8010794256863534, 0.8013749676485076, 0.8014044027152726, 0.801727108314284, 0.801269038213669, 0.8013271415238595, 0.8012508160211615, 0.8012221824096691, 0.80105104556003, 0.801272201585212, 0.8015308143612893, 0.8014880139641308, 0.8012923082436346, 0.8013355652603554, 0.8013535490432567, 0.8014264977532295, 0.8012615862222893, 0.801383184293186, 0.8011283911010407, 0.8012473973832913, 0.8010615354084115]\n"
     ]
    }
   ],
   "source": [
    "fitness = pop_fitness(model,np.expand_dims(population.reshape(population.shape[0],CIFAR_IMG,CIFAR_IMG),axis=3),img.reshape(CIFAR_IMG,CIFAR_IMG),label) \n",
    "print(fitness)"
   ]
  }
 ],
 "metadata": {
  "colab": {
   "collapsed_sections": [],
   "name": "GA_CIFAR_SSIM_multicrossover.ipynb",
   "provenance": []
  },
  "kernelspec": {
   "display_name": "Python 3",
   "language": "python",
   "name": "python3"
  },
  "language_info": {
   "codemirror_mode": {
    "name": "ipython",
    "version": 3
   },
   "file_extension": ".py",
   "mimetype": "text/x-python",
   "name": "python",
   "nbconvert_exporter": "python",
   "pygments_lexer": "ipython3",
   "version": "3.7.3"
  }
 },
 "nbformat": 4,
 "nbformat_minor": 1
}
