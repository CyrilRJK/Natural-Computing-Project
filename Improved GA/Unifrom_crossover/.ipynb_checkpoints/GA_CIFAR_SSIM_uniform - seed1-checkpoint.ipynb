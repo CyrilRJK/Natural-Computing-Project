{
 "cells": [
  {
   "cell_type": "markdown",
   "metadata": {
    "colab_type": "text",
    "id": "OmqP9iw8qi2w"
   },
   "source": [
    "# IMPORT"
   ]
  },
  {
   "cell_type": "markdown",
   "metadata": {
    "colab_type": "text",
    "id": "a4o2nRW3uHkP"
   },
   "source": [
    "In this notebook I did not normalized images before evolving, just when predicting"
   ]
  },
  {
   "cell_type": "code",
   "execution_count": 1,
   "metadata": {
    "colab": {
     "base_uri": "https://localhost:8080/",
     "height": 68
    },
    "colab_type": "code",
    "id": "lV-6sDntqd61",
    "outputId": "0cbc2ce7-49b2-4fbc-ebea-609b58207590"
   },
   "outputs": [
    {
     "name": "stderr",
     "output_type": "stream",
     "text": [
      "Using TensorFlow backend.\n"
     ]
    }
   ],
   "source": [
    "import tensorflow as tf\n",
    "import numpy as np \n",
    "import matplotlib.pyplot as plt\n",
    "import seaborn as sns\n",
    "from sklearn.svm import SVC\n",
    "import pickle\n",
    "import time\n",
    "from skimage.measure import compare_ssim\n",
    "import tensorflow as tf\n",
    "from keras.models import Model,load_model\n",
    "from keras.layers import Dense, Conv2D, Dropout, Flatten, MaxPooling2D, Input, Activation\n",
    "from keras.utils import to_categorical\n",
    "import keras"
   ]
  },
  {
   "cell_type": "code",
   "execution_count": 2,
   "metadata": {
    "colab": {},
    "colab_type": "code",
    "id": "kGtAwbEMqmmv"
   },
   "outputs": [
    {
     "ename": "NameError",
     "evalue": "name 'random' is not defined",
     "output_type": "error",
     "traceback": [
      "\u001b[1;31m---------------------------------------------------------------------------\u001b[0m",
      "\u001b[1;31mNameError\u001b[0m                                 Traceback (most recent call last)",
      "\u001b[1;32m<ipython-input-2-51197199c029>\u001b[0m in \u001b[0;36m<module>\u001b[1;34m\u001b[0m\n\u001b[0;32m      1\u001b[0m \u001b[1;31m#Set seeds\u001b[0m\u001b[1;33m\u001b[0m\u001b[1;33m\u001b[0m\u001b[1;33m\u001b[0m\u001b[0m\n\u001b[1;32m----> 2\u001b[1;33m \u001b[0mrandom\u001b[0m\u001b[1;33m.\u001b[0m\u001b[0mseed\u001b[0m\u001b[1;33m(\u001b[0m\u001b[1;36m1\u001b[0m\u001b[1;33m)\u001b[0m\u001b[1;33m\u001b[0m\u001b[1;33m\u001b[0m\u001b[0m\n\u001b[0m\u001b[0;32m      3\u001b[0m \u001b[0mnp\u001b[0m\u001b[1;33m.\u001b[0m\u001b[0mrandom\u001b[0m\u001b[1;33m.\u001b[0m\u001b[0mseed\u001b[0m\u001b[1;33m(\u001b[0m\u001b[1;36m1\u001b[0m\u001b[1;33m)\u001b[0m\u001b[1;33m\u001b[0m\u001b[1;33m\u001b[0m\u001b[0m\n",
      "\u001b[1;31mNameError\u001b[0m: name 'random' is not defined"
     ]
    }
   ],
   "source": [
    "#Set seeds\n",
    "random.seed(1)\n",
    "np.random.seed(1)"
   ]
  },
  {
   "cell_type": "markdown",
   "metadata": {
    "colab_type": "text",
    "id": "UMYv1iroqpKy"
   },
   "source": [
    "# GLOBAL VARS"
   ]
  },
  {
   "cell_type": "code",
   "execution_count": 7,
   "metadata": {
    "colab": {},
    "colab_type": "code",
    "id": "3JLxcgMPqoDE"
   },
   "outputs": [],
   "source": [
    "INDIVIDUALS = 50\n",
    "P_CROSS = 0.6\n",
    "P_MUTATION = 0.01\n",
    "CIFAR_IMG= 32"
   ]
  },
  {
   "cell_type": "markdown",
   "metadata": {
    "colab_type": "text",
    "id": "uhUutenzqt18"
   },
   "source": [
    "# THE DATA"
   ]
  },
  {
   "cell_type": "code",
   "execution_count": null,
   "metadata": {
    "colab": {
     "base_uri": "https://localhost:8080/",
     "height": 187
    },
    "colab_type": "code",
    "id": "ZZTtcGJAJLuM",
    "outputId": "2cbc5552-7adf-47f3-eb0c-3c949c60c25c"
   },
   "outputs": [],
   "source": [
    "from keras.datasets import cifar10\n",
    "\n",
    "# The data, split between train and test sets:\n",
    "(x_train_C, y_train_C), (x_test_C, y_test_C) = cifar10.load_data()\n",
    "print('x_train shape:', x_train_C.shape)\n",
    "print(x_train_C.shape[0], 'train samples')\n",
    "print(x_test_C.shape[0], 'test samples')\n",
    "\n",
    "# Convert class vectors to binary class matrices.\n",
    "num_classes=10\n",
    "epochs=10\n",
    "img_shape=32 \n",
    "y_train_C = to_categorical(y_train_C, num_classes)\n",
    "y_test_C = to_categorical(y_test_C, num_classes)\n",
    "\n",
    "\n",
    "input_shape=(32,32,1)\n",
    "\n",
    "x_train_C = x_train_C.astype('float32')\n",
    "x_test_C = x_test_C.astype('float32')\n",
    "x_train_C /= 255\n",
    "x_test_C /= 255\n",
    "\n",
    "\n",
    "print('x_train shape:', x_train_C.shape)\n",
    "print('Number of images in x_train', x_train_C.shape[0])\n",
    "print('Number of images in x_test', x_test_C.shape[0])\n",
    "print('y_train shape:', y_train_C.shape)\n",
    "print(\"input shape: \",input_shape)\n",
    "\n",
    "\n",
    "# CONVERT TO GRAY SCALE\n",
    "\n",
    "import matplotlib.pyplot as plt\n",
    "import numpy as np\n",
    "\n",
    "def grayscale(data, dtype='float32'):\n",
    "    # luma coding weighted average in video systems\n",
    "    r, g, b = np.asarray(.3, dtype=dtype), np.asarray(.59, dtype=dtype), np.asarray(.11, dtype=dtype)\n",
    "    rst = r * data[:, :, :, 0] + g * data[:, :, :, 1] + b * data[:, :, :, 2]\n",
    "    # add channel dimension\n",
    "    rst = np.expand_dims(rst, axis=3)\n",
    "    return rst\n",
    "\n",
    "x_train_C = grayscale(x_train_C)\n",
    "x_test_C = grayscale(x_test_C)\n",
    "\n",
    "# now we have only one channel in the images\n",
    "img_channels = 1\n",
    "\n"
   ]
  },
  {
   "cell_type": "markdown",
   "metadata": {
    "colab_type": "text",
    "id": "_--StA9kq4mw"
   },
   "source": [
    "# READ PICKLE FILES"
   ]
  },
  {
   "cell_type": "code",
   "execution_count": 4,
   "metadata": {
    "colab": {},
    "colab_type": "code",
    "id": "F3glGbBeq2lz"
   },
   "outputs": [],
   "source": [
    "with open('../../Subsets/subset_cifar', 'rb') as f:\n",
    "    original = pickle.load(f)\n",
    "    adversarial= pickle.load(f)\n",
    "    original_y = pickle.load(f)\n",
    "    adversarial_y = pickle.load(f)"
   ]
  },
  {
   "cell_type": "code",
   "execution_count": 5,
   "metadata": {
    "colab": {
     "base_uri": "https://localhost:8080/",
     "height": 85
    },
    "colab_type": "code",
    "id": "n1LZoAPNq996",
    "outputId": "02f5a576-8da4-4b94-ebee-630982d4884b"
   },
   "outputs": [
    {
     "name": "stdout",
     "output_type": "stream",
     "text": [
      "Original shape (914, 32, 32, 1)\n",
      "Adversarial shape (133, 32, 32, 1)\n",
      "Original labels shape (914, 1)\n",
      "Adversarial labels shape (133, 1)\n"
     ]
    }
   ],
   "source": [
    "print(f\"Original shape {original.shape}\")\n",
    "print(f\"Adversarial shape {adversarial.shape}\")\n",
    "print(f\"Original labels shape {original_y.shape}\")\n",
    "print(f\"Adversarial labels shape {adversarial_y.shape}\")"
   ]
  },
  {
   "cell_type": "markdown",
   "metadata": {
    "colab_type": "text",
    "id": "zr0TMOV_q_9J"
   },
   "source": [
    "# LOAD THE MODEL"
   ]
  },
  {
   "cell_type": "markdown",
   "metadata": {
    "colab_type": "text",
    "id": "JibFPCmerJwW"
   },
   "source": [
    "3. CNN v2\n",
    "\n",
    "This network is made for CIFAR 10. The network is taken from [this blog]( https://appliedmachinelearning.blog/2018/03/24/achieving-90-accuracy-in-object-recognition-task-on-cifar-10-dataset-with-keras-convolutional-neural-networks/) . In this version below I didn't use some things used in the blog e.g. z-score and data augmentation.\n",
    "\n",
    "\n",
    "This network has training accuracy: 0.8940 , validation accuracy: 0.8245.\n",
    "\n",
    "**NOTE:** Training really slow, try to avoid it."
   ]
  },
  {
   "cell_type": "code",
   "execution_count": 8,
   "metadata": {
    "colab": {
     "base_uri": "https://localhost:8080/",
     "height": 1000
    },
    "colab_type": "code",
    "id": "DjDjKgyWJwqY",
    "outputId": "12e3326d-926a-4871-80ff-dc618756132c"
   },
   "outputs": [
    {
     "name": "stdout",
     "output_type": "stream",
     "text": [
      "Model: \"sequential_1\"\n",
      "_________________________________________________________________\n",
      "Layer (type)                 Output Shape              Param #   \n",
      "=================================================================\n",
      "conv2d_1 (Conv2D)            (None, 32, 32, 32)        320       \n",
      "_________________________________________________________________\n",
      "activation_1 (Activation)    (None, 32, 32, 32)        0         \n",
      "_________________________________________________________________\n",
      "batch_normalization_1 (Batch (None, 32, 32, 32)        128       \n",
      "_________________________________________________________________\n",
      "conv2d_2 (Conv2D)            (None, 32, 32, 32)        9248      \n",
      "_________________________________________________________________\n",
      "activation_2 (Activation)    (None, 32, 32, 32)        0         \n",
      "_________________________________________________________________\n",
      "batch_normalization_2 (Batch (None, 32, 32, 32)        128       \n",
      "_________________________________________________________________\n",
      "max_pooling2d_1 (MaxPooling2 (None, 16, 16, 32)        0         \n",
      "_________________________________________________________________\n",
      "dropout_1 (Dropout)          (None, 16, 16, 32)        0         \n",
      "_________________________________________________________________\n",
      "conv2d_3 (Conv2D)            (None, 16, 16, 64)        18496     \n",
      "_________________________________________________________________\n",
      "activation_3 (Activation)    (None, 16, 16, 64)        0         \n",
      "_________________________________________________________________\n",
      "batch_normalization_3 (Batch (None, 16, 16, 64)        256       \n",
      "_________________________________________________________________\n",
      "conv2d_4 (Conv2D)            (None, 16, 16, 64)        36928     \n",
      "_________________________________________________________________\n",
      "activation_4 (Activation)    (None, 16, 16, 64)        0         \n",
      "_________________________________________________________________\n",
      "batch_normalization_4 (Batch (None, 16, 16, 64)        256       \n",
      "_________________________________________________________________\n",
      "max_pooling2d_2 (MaxPooling2 (None, 8, 8, 64)          0         \n",
      "_________________________________________________________________\n",
      "dropout_2 (Dropout)          (None, 8, 8, 64)          0         \n",
      "_________________________________________________________________\n",
      "conv2d_5 (Conv2D)            (None, 8, 8, 128)         73856     \n",
      "_________________________________________________________________\n",
      "activation_5 (Activation)    (None, 8, 8, 128)         0         \n",
      "_________________________________________________________________\n",
      "batch_normalization_5 (Batch (None, 8, 8, 128)         512       \n",
      "_________________________________________________________________\n",
      "conv2d_6 (Conv2D)            (None, 8, 8, 128)         147584    \n",
      "_________________________________________________________________\n",
      "activation_6 (Activation)    (None, 8, 8, 128)         0         \n",
      "_________________________________________________________________\n",
      "batch_normalization_6 (Batch (None, 8, 8, 128)         512       \n",
      "_________________________________________________________________\n",
      "max_pooling2d_3 (MaxPooling2 (None, 4, 4, 128)         0         \n",
      "_________________________________________________________________\n",
      "dropout_3 (Dropout)          (None, 4, 4, 128)         0         \n",
      "_________________________________________________________________\n",
      "flatten_1 (Flatten)          (None, 2048)              0         \n",
      "_________________________________________________________________\n",
      "dense_1 (Dense)              (None, 10)                20490     \n",
      "=================================================================\n",
      "Total params: 308,714\n",
      "Trainable params: 307,818\n",
      "Non-trainable params: 896\n",
      "_________________________________________________________________\n"
     ]
    }
   ],
   "source": [
    "# Network 3 \n",
    "import keras\n",
    "from keras.models import Sequential\n",
    "from keras.utils import np_utils\n",
    "from keras.preprocessing.image import ImageDataGenerator\n",
    "from keras.layers import Dense, Activation, Flatten, Dropout, BatchNormalization\n",
    "from keras.layers import Conv2D, MaxPooling2D\n",
    "from keras.datasets import cifar10\n",
    "from keras import regularizers\n",
    "from keras.callbacks import LearningRateScheduler\n",
    "import numpy as np\n",
    "\n",
    "input_shape = (CIFAR_IMG,CIFAR_IMG,1)\n",
    "weight_decay = 1e-4\n",
    "model = Sequential()\n",
    "model.add(Conv2D(32, (3,3), padding='same', kernel_regularizer=regularizers.l2(weight_decay), input_shape=input_shape))\n",
    "model.add(Activation('elu'))\n",
    "model.add(BatchNormalization())\n",
    "model.add(Conv2D(32, (3,3), padding='same', kernel_regularizer=regularizers.l2(weight_decay)))\n",
    "model.add(Activation('elu'))\n",
    "model.add(BatchNormalization())\n",
    "model.add(MaxPooling2D(pool_size=(2,2)))\n",
    "model.add(Dropout(0.2))\n",
    " \n",
    "model.add(Conv2D(64, (3,3), padding='same', kernel_regularizer=regularizers.l2(weight_decay)))\n",
    "model.add(Activation('elu'))\n",
    "model.add(BatchNormalization())\n",
    "model.add(Conv2D(64, (3,3), padding='same', kernel_regularizer=regularizers.l2(weight_decay)))\n",
    "model.add(Activation('elu'))\n",
    "model.add(BatchNormalization())\n",
    "model.add(MaxPooling2D(pool_size=(2,2)))\n",
    "model.add(Dropout(0.3))\n",
    " \n",
    "model.add(Conv2D(128, (3,3), padding='same', kernel_regularizer=regularizers.l2(weight_decay)))\n",
    "model.add(Activation('elu'))\n",
    "model.add(BatchNormalization())\n",
    "model.add(Conv2D(128, (3,3), padding='same', kernel_regularizer=regularizers.l2(weight_decay)))\n",
    "model.add(Activation('elu'))\n",
    "model.add(BatchNormalization())\n",
    "model.add(MaxPooling2D(pool_size=(2,2)))\n",
    "model.add(Dropout(0.4))\n",
    " \n",
    "model.add(Flatten())\n",
    "model.add(Dense(10, activation='softmax'))\n",
    " \n",
    "model.summary()\n",
    "\n",
    "\n",
    "model.compile(loss='categorical_crossentropy', optimizer='adam', metrics=['accuracy'])\n",
    "\n",
    "\n",
    "'''\n",
    "history = model.fit(x=x_train_C,y=y_train_C, epochs=150, batch_size=64, validation_data=[x_test_C,y_test_C])\n",
    "\n",
    "score= model.evaluate(x_test_C, y_test_C,verbose=0)\n",
    "print('Test loss:', score[0])\n",
    "print('Test accuracy:', score[1])\n",
    "\n",
    "model.save_weights(\"CNN_CIFAR10_net3.h5\")\n",
    "files.download('CNN_CIFAR10_net3.h5')\n",
    "'''\n",
    "\n",
    "model = load_model(\"../../Models/CNN_CIFAR10_net3.h5\")"
   ]
  },
  {
   "cell_type": "markdown",
   "metadata": {
    "colab_type": "text",
    "id": "MGSQOJJprRG-"
   },
   "source": [
    "# GENETIC ALGORITHM FUNCTIONS"
   ]
  },
  {
   "cell_type": "code",
   "execution_count": 9,
   "metadata": {
    "colab": {},
    "colab_type": "code",
    "id": "TQuqZrKL4qqW"
   },
   "outputs": [],
   "source": [
    "\n",
    "def computing_SSIM(individual,target):\n",
    "    return compare_ssim(individual.reshape(CIFAR_IMG,CIFAR_IMG), target.reshape(CIFAR_IMG,CIFAR_IMG))\n",
    "\n",
    "def calculate_fitness(model,ind,target_image,label,l1=0.2, l2=0.8, N=50, num_classes=10):\n",
    "  # predict the population\n",
    "  predictions=model.predict(ind.reshape(1,CIFAR_IMG,CIFAR_IMG,1) / 255.0)  \n",
    "  # po is the ground truth prediction, so for label = 0, it will be prediciton[0]\n",
    "  predictions=predictions[0]\n",
    "  po=predictions[label]\n",
    "  # set that value to 0\n",
    "  predictions[label]=0\n",
    "  # take next highest one\n",
    "  pd = np.max(predictions)\n",
    "  diff=pd-po\n",
    "  return l1*computing_SSIM(ind.reshape(CIFAR_IMG,CIFAR_IMG),target_image.reshape(CIFAR_IMG,CIFAR_IMG)) +l2*(diff)\n",
    "  \n",
    "\n",
    "\n",
    "def pop_fitness(model,pop,target,label):\n",
    "    return [calculate_fitness(model, p, target, label) for p in pop]\n",
    "\n",
    "def flatten(imgs):\n",
    "    # flatten all images in np array or list\n",
    "    return np.array([im.flatten() for im in imgs])\n",
    "\n",
    "def gaussian_noise():\n",
    "    # draw one sample of noise from zero mean 1 variance Gaussian\n",
    "    return np.random.normal(0, 10)\n",
    "\n",
    "def p_noise(x):\n",
    "  if 0.01 > np.random.uniform():\n",
    "    return x + gaussian_noise()\n",
    "  else:\n",
    "    return x\n",
    "    \n",
    "def add_noise(image):\n",
    "    noise_v=np.vectorize(p_noise)\n",
    "    return noise_v(image) #np.array([x + gaussian_noise() if P_MUTATION > np.random.uniform(0.0, 1.0) else x+0 for x in image])\n",
    "\n",
    "def k_crossover(im1, im2, k=1):\n",
    "    c1, c2 = [], []\n",
    "    # get k crossover points\n",
    "    points = sorted([np.random.randint(0, CIFAR_IMG*CIFAR_IMG-1, 1) for p in range(k)])\n",
    "    points = sorted([np.random.randint(0,CIFAR_IMG*CIFAR_IMG-1,1) for p in range(k)])\n",
    "    im_1_split = np.split(im1, [int(p) for p in points])\n",
    "    im_2_split = np.split(im2, [int(p) for p in points])\n",
    "    \n",
    "    # alternate between lists to realise crossover (theres got to be a more clever way to do this)\n",
    "    for i in range(k+1):\n",
    "        if i % 2 == 0:\n",
    "            c1.append(im_1_split[i])\n",
    "            c2.append(im_2_split[i])\n",
    "        else:\n",
    "            c1.append(im_2_split[i])\n",
    "            c2.append(im_1_split[i])\n",
    "    return np.concatenate(c1, axis=0), np.concatenate(c2, axis=0)\n",
    "\n",
    "def tournament(pop, model, ground_truth, target, k=3):\n",
    "\n",
    "    indices = np.random.choice(range(len(pop)), k, replace=False) #we get 3 indxes [2 34 46]    \n",
    "    individuals = pop.take(indices,axis=0)\n",
    "    scores = pop_fitness(model,np.expand_dims(individuals.reshape(individuals.shape[0],CIFAR_IMG,CIFAR_IMG),axis=3), ground_truth.reshape(CIFAR_IMG,CIFAR_IMG), target)\n",
    "    index_max = np.argmax(scores)\n",
    "    winner = individuals[index_max]\n",
    "    return winner\n",
    "\n",
    "\n",
    "def check_adv_termination(ind, label,ground_truth, model):\n",
    "  # individual - the best one from the generation\n",
    "  # label - class we want\n",
    "  # ground_truth - the image (32,32)\n",
    "  # model we are using \n",
    "  dist = 1-compare_ssim(ind.reshape(CIFAR_IMG,CIFAR_IMG),ground_truth.reshape(CIFAR_IMG,CIFAR_IMG))\n",
    "  predictions= model.predict(ind.reshape(1,CIFAR_IMG,CIFAR_IMG,1)/255.0)\n",
    "  predicted_label= np.argmax(predictions[0])\n",
    "  if label != predicted_label and dist < 0.001:\n",
    "    print(\"FOUND ADVERSARIAL\")\n",
    "    print(f\"Fitness of the adversarial {calculate_fitness(model,ind,ground_truth,label)}\")\n",
    "    return ind\n",
    "  return []\n",
    "\n",
    "def init_pop_from_sample(n,img,label):\n",
    "    x = np.array([add_noise(img) for i in range(n)])\n",
    "    return x.reshape(n, CIFAR_IMG*CIFAR_IMG)\n",
    "\n"
   ]
  },
  {
   "cell_type": "markdown",
   "metadata": {
    "colab_type": "text",
    "id": "-epJQRlguXyK"
   },
   "source": [
    "Functions from the past, just didn't want to erase them yet"
   ]
  },
  {
   "cell_type": "code",
   "execution_count": 9,
   "metadata": {
    "colab": {
     "base_uri": "https://localhost:8080/",
     "height": 54
    },
    "colab_type": "code",
    "id": "zlm5dKzOuXNw",
    "outputId": "00d4613d-f533-4e7a-cce0-cd5ad53ee562"
   },
   "outputs": [
    {
     "data": {
      "text/plain": [
       "'\\ndef check_adverserial(pop, model, fitness, target,ground_truth):\\n    #print(f\"this is adversarial function\")\\n    preds=model.predict(pop.reshape(pop.shape[0],28,28,1))\\n    #print(f\"These are predictions made here {preds}\")\\n    for ind, pr in zip(pop,preds): \\n      #print(f\"prediction for an individual {pr}\")\\n      preds=np.argmax(pr)\\n      #print(f\"getting the index of highest value in predictions {preds}\")\\n      #setting the value to 0\\n      pr[0]=0\\n      #print(f\"this is our target {target}\")\\n      #print(f\"this is out ground_truth {ground_truth.shape}\")\\n      fitness=computing_SSIM(ind.reshape(28,28),ground_truth.reshape(28,28))\\n      #print(f\"these are the fitness values {fitness}\")\\n      next_highest = np.argmax(pr)\\n      #print(f\"getting the next highest value {next_highest}\")\\n      if next_highest != target and fitness > 0.98:\\n          return ind, True\\n      return None, False\\n\\ndef init_pop(n, num, data, labels):\\n    indices = np.where(labels==num)[0]\\n    n_indices = np.random.choice(indices, n, replace=True)\\n    sample = np.take(data, n_indices, axis=0)\\n    return sample, np.full((n), num, dtype=int) # return sample+array of labels\\n\\n\\nCyrils model\\n\\ndef save_trained_model(model, filename=\\'SVC_model.sav\\'):\\n    pickle.dump(model, open(filename, \\'wb\\'))\\n    \\ndef load_trained_model(filename=\\'SVC_model.sav\\'):\\n    return pickle.load(open(filename, \\'rb\\'))\\n\\n'"
      ]
     },
     "execution_count": 9,
     "metadata": {},
     "output_type": "execute_result"
    }
   ],
   "source": [
    "'''\n",
    "def check_adverserial(pop, model, fitness, target,ground_truth):\n",
    "    #print(f\"this is adversarial function\")\n",
    "    preds=model.predict(pop.reshape(pop.shape[0],28,28,1))\n",
    "    #print(f\"These are predictions made here {preds}\")\n",
    "    for ind, pr in zip(pop,preds): \n",
    "      #print(f\"prediction for an individual {pr}\")\n",
    "      preds=np.argmax(pr)\n",
    "      #print(f\"getting the index of highest value in predictions {preds}\")\n",
    "      #setting the value to 0\n",
    "      pr[0]=0\n",
    "      #print(f\"this is our target {target}\")\n",
    "      #print(f\"this is out ground_truth {ground_truth.shape}\")\n",
    "      fitness=computing_SSIM(ind.reshape(28,28),ground_truth.reshape(28,28))\n",
    "      #print(f\"these are the fitness values {fitness}\")\n",
    "      next_highest = np.argmax(pr)\n",
    "      #print(f\"getting the next highest value {next_highest}\")\n",
    "      if next_highest != target and fitness > 0.98:\n",
    "          return ind, True\n",
    "      return None, False\n",
    "\n",
    "def init_pop(n, num, data, labels):\n",
    "    indices = np.where(labels==num)[0]\n",
    "    n_indices = np.random.choice(indices, n, replace=True)\n",
    "    sample = np.take(data, n_indices, axis=0)\n",
    "    return sample, np.full((n), num, dtype=int) # return sample+array of labels\n",
    "\n",
    "\n",
    "Cyrils model\n",
    "\n",
    "def save_trained_model(model, filename='SVC_model.sav'):\n",
    "    pickle.dump(model, open(filename, 'wb'))\n",
    "    \n",
    "def load_trained_model(filename='SVC_model.sav'):\n",
    "    return pickle.load(open(filename, 'rb'))\n",
    "\n",
    "'''"
   ]
  },
  {
   "cell_type": "code",
   "execution_count": 10,
   "metadata": {
    "colab": {},
    "colab_type": "code",
    "id": "FOEo4wAfggNs"
   },
   "outputs": [],
   "source": [
    "''' my part of the code ''' \n",
    "''' I know it is ugly, I will fix it . this is the intial version'''\n",
    "# from Goorge Clooney paper\n",
    "def quadrant_crossover(parent_1,parent_2):\n",
    "\n",
    "  # reshape parents\n",
    "  parent_1,parent_2= parent_1.reshape((CIFAR_IMG,CIFAR_IMG)), parent_2.reshape((CIFAR_IMG,CIFAR_IMG))\n",
    "  # quadrants for both parents\n",
    "  p1,p2,p3,p4,q1,q2,q3,q4 = [],[],[],[],[],[],[],[]\n",
    "  child1, child2 = [],[]\n",
    "  # getting random (x,y) point in 2D matrix\n",
    "  x,y = np.random.randint(0,CIFAR_IMG-1), np.random.randint(0,CIFAR_IMG-1)  \n",
    "\n",
    "  # choose which quadrant we want to crossover\n",
    "  N = np.random.randint(0,3)\n",
    "  #make quadrants\n",
    "  for i in range(CIFAR_IMG):\n",
    "    if (i<=x):\n",
    "      p1.append(parent_1[i][:y+1])\n",
    "      p2.append(parent_1[i][y+1:])\n",
    "      q1.append(parent_2[i][:y+1])\n",
    "      q2.append(parent_2[i][y+1:])\n",
    "    else:\n",
    "      p3.append(parent_1[i][:y+1])\n",
    "      p4.append(parent_1[i][y+1:])\n",
    "      q3.append(parent_2[i][:y+1])\n",
    "      q4.append(parent_2[i][y+1:])\n",
    "\n",
    "  if (N==0):\n",
    "    ch1 = connect_quadrants(p1,q2,q3,q4)\n",
    "    ch2 = connect_quadrants(q1,p2,p3,p4)\n",
    "  elif (N==1):\n",
    "    ch1 = connect_quadrants(q1,p2,q3,q4)\n",
    "    ch2 = connect_quadrants(p1,q2,p3,p4)\n",
    "  elif (N==2):\n",
    "    ch1 = connect_quadrants(q1,q2,p3,q4)\n",
    "    ch2 = connect_quadrants(p1,p2,q3,p4)\n",
    "  else:\n",
    "    ch1 = connect_quadrants(q1,q2,q3,p4)\n",
    "    ch2 = connect_quadrants(p1,p2,p3,q4)\n",
    "\n",
    "  return ch1,ch2\n",
    "\n",
    "def connect_quadrants(q1,q2,q3,q4):\n",
    "  left = np.concatenate((q1,q3))\n",
    "  right = np.concatenate((q2,q4))\n",
    "  image = np.concatenate((left,right),axis=1)\n",
    "  return image.flatten()\n",
    "\n",
    "\n",
    "def multi_crossover(parent1,parent2,target):\n",
    "  pop= []\n",
    "  # 2-k crossover\n",
    "  pop.append(k_crossover(parent1, parent2))\n",
    "  # Gorge Clooney crossover\n",
    "  pop.append(quadrant_crossover(parent1,parent2))\n",
    "  # uniform crossover\n",
    "  pop.append(k_crossover(parent1, parent2,1))\n",
    "  # SSIM similarity \n",
    "  flattened_list = [y for x in pop for y in x] # need to flatten the list because pop is list of lists, cause every crossover function returns 2 obj\n",
    "  ssim = [computing_SSIM(ind,target) for ind in flattened_list ]\n",
    "  # taking the index of largest two score\n",
    "  id1=np.argmax(ssim)\n",
    "  ssim[id1]=0\n",
    "  id2 = np.argmax(ssim)\n",
    "  #returning parents\n",
    "  return flattened_list[id1],flattened_list[id2]\n",
    "  \n"
   ]
  },
  {
   "cell_type": "code",
   "execution_count": 11,
   "metadata": {
    "colab": {},
    "colab_type": "code",
    "id": "J7Z_4b8EqUmj"
   },
   "outputs": [],
   "source": [
    "def return_best_individual(pop,fitness):\n",
    "  index = np.argmax(fitness)\n",
    "  best = pop[index]\n",
    "  return best, np.max(fitness)"
   ]
  },
  {
   "cell_type": "code",
   "execution_count": 12,
   "metadata": {
    "colab": {},
    "colab_type": "code",
    "id": "tcVTicSPvYoy"
   },
   "outputs": [],
   "source": [
    "def choose_better_child(ch1, ch2,ground_truth,label,model):\n",
    "  # I named it better child, but we choose by this parents as well\n",
    "  ch1_f = calculate_fitness(model,ch1.reshape(CIFAR_IMG,CIFAR_IMG),ground_truth.reshape(CIFAR_IMG,CIFAR_IMG),label)\n",
    "  ch2_f = calculate_fitness(model,ch2.reshape(CIFAR_IMG,CIFAR_IMG),ground_truth.reshape(CIFAR_IMG,CIFAR_IMG),label)\n",
    "  # change this into ternary operator\n",
    "  if ch1_f>ch2_f:\n",
    "    return ch1\n",
    "  else:\n",
    "    return ch2              \n"
   ]
  },
  {
   "cell_type": "markdown",
   "metadata": {
    "colab_type": "text",
    "id": "UiXxgPDmriTE"
   },
   "source": [
    "# THE MAIN LOOP"
   ]
  },
  {
   "cell_type": "code",
   "execution_count": 0,
   "metadata": {
    "colab": {
     "base_uri": "https://localhost:8080/",
     "height": 53
    },
    "colab_type": "code",
    "id": "T-8hS44GPb2B",
    "outputId": "3661aaab-b99a-4560-cacf-0335b114d94b"
   },
   "outputs": [
    {
     "data": {
      "text/plain": [
       "'\\nX = flatten(x_train)\\nX_t = flatten(x_test)\\nprint(f\"X train shape {X.shape}\")\\nprint(f\"X test shape {X_t.shape}\")\\nprint(f\"y train shape {y.shape}\")\\nprint(f\"y test shape {y_t.shape}\")\\n'"
      ]
     },
     "execution_count": 51,
     "metadata": {
      "tags": []
     },
     "output_type": "execute_result"
    }
   ],
   "source": [
    "'''\n",
    "This not necessary when using subset \n",
    "'''\n",
    "'''\n",
    "X = flatten(x_train)\n",
    "X_t = flatten(x_test)\n",
    "print(f\"X train shape {X.shape}\")\n",
    "print(f\"X test shape {X_t.shape}\")\n",
    "print(f\"y train shape {y.shape}\")\n",
    "print(f\"y test shape {y_t.shape}\")\n",
    "'''"
   ]
  },
  {
   "cell_type": "code",
   "execution_count": null,
   "metadata": {
    "colab": {
     "base_uri": "https://localhost:8080/",
     "height": 1000
    },
    "colab_type": "code",
    "id": "r99NLfBt-ngX",
    "outputId": "1dafbbc7-39cb-4cc7-b99f-ef47d32210bc"
   },
   "outputs": [
    {
     "name": "stdout",
     "output_type": "stream",
     "text": [
      "Initial fitness: \n",
      " [-0.6006210911634455, -0.6033665414899362, -0.6000092788656581, -0.601905365322793, -0.6023987949459152, -0.6000117650669052, -0.6024779959503466, -0.6046547917537709, -0.6037307333614155, -0.6018327048650227, -0.6002572973396729, -0.6002903173907451, -0.60068366437832, -0.6006401269071266, -0.601300964043418, -0.6003358421658718, -0.6029363446411603, -0.601913841588911, -0.6004406922865849, -0.6007119537957029, -0.6011580784678078, -0.6005336588540756, -0.6017376098804634, -0.6027593639162852, -0.6040432220364483, -0.6018395693930101, -0.602305928487546, -0.6032444673638473, -0.6018614359417083, -0.6006953041160611, -0.6022465517467009, -0.6039030312803849, -0.6004588905657975, -0.6040282956050167, -0.6010398065958062, -0.6004793957997006, -0.6021921684021161, -0.6009060829571182, -0.603490547272519, -0.5999164444712171, -0.6017285575680191, -0.6013266442675094, -0.6008129890729035, -0.6016326870149112, -0.6009182339088968, -0.600529908070906, -0.6018194977819847, -0.6013998422839033, -0.6006149930895315, -0.6022747113769917]\n"
     ]
    }
   ],
   "source": [
    "# for each image and label in adversarial\n",
    "n=50\n",
    "import time\n",
    "# these are the examples that are found as adversarialwe will save these at the end in a file\n",
    "evolved_examples= []\n",
    "# fitness of the adversarials\n",
    "fitness_of_evolved=[]\n",
    "# time necessary to evolve the adversarial\n",
    "times=[]\n",
    "# the distance between the original image and the adversarial\n",
    "ssim_values=[]\n",
    "# number of round necessary to produce adversarial \n",
    "number_of_rounds=[]\n",
    "# this will serve to see if the fitness changes or not \n",
    "best_fitness = 0\n",
    "\n",
    "\n",
    "numb_of_found_after30=0\n",
    "numb_of_adv_found=0\n",
    "\n",
    "#dictionary to keep the best individual to check if the fitness is improving or not \n",
    "\n",
    "\n",
    "predicted_class= []\n",
    "for img,label in zip(adversarial,adversarial_y):\n",
    "  winner_of_gen = {\"image\":[],\"label\": None, \"fitness\": None}\n",
    "  #temporary variable to check generations:\n",
    "  fitness_no_change = 0\n",
    "  start = time.time()\n",
    "  label=label[0]\n",
    "  #intialize population from the image and with the given label\n",
    "  population = init_pop_from_sample(n,img,label)\n",
    "  # calculate fitness of these individuals\n",
    "  fitness = pop_fitness(model,np.expand_dims(population.reshape(population.shape[0],CIFAR_IMG,CIFAR_IMG),axis=3),img.reshape(CIFAR_IMG,CIFAR_IMG),label)\n",
    "  print(f\"Initial fitness: \\n {fitness}\")\n",
    "  #retun the best one from the population\n",
    "  best,fit_max = return_best_individual(population,fitness)\n",
    "  #check if adversarial\n",
    "  check_adv = check_adv_termination(best,label,img, model)\n",
    "  #define max generation\n",
    "  max_gen=0\n",
    "  winner_of_gen.update(image= best)\n",
    "  winner_of_gen.update(label= label)\n",
    "  winner_of_gen.update(fitness= fit_max)\n",
    "\n",
    "  while (len(check_adv)==0 or max_gen<10000):\n",
    "      new_pop=[]\n",
    "      for i in range(50):\n",
    "        parent1= tournament(population, model, img, label) \n",
    "        parent2 = tournament(population, model, img, label)\n",
    "        if 0.8 > np.random.uniform(0.0, 1.0):\n",
    "          child1, child2 = k_crossover(parent1, parent2) # crossover\n",
    "          new_pop.append(add_noise(choose_better_child(child1, child2,img,label,model)))\n",
    "        else:\n",
    "          new_pop.append(add_noise(choose_better_child(parent1, parent2,img,label,model)))\n",
    "\n",
    "      # to reshape into an array \n",
    "      population= np.array(new_pop)\n",
    "      #check fitness of the generation\n",
    "      fitness = pop_fitness(model,np.expand_dims(population.reshape(population.shape[0],CIFAR_IMG,CIFAR_IMG),axis=3),img.reshape(CIFAR_IMG,CIFAR_IMG),label) \n",
    "      #find the highest fitness\n",
    "      best,fit_max1 = return_best_individual(population,fitness)\n",
    "      # check adversarial - check if pred != target, distance < 0.001 or fitness didn't improve 0.001 after 30 generations(this is in else condition)\n",
    "      check_adv = check_adv_termination(best,label,img,model)\n",
    "\n",
    "      #check if the first termination true \n",
    "      if(len(check_adv) != 0):\n",
    "        print(\"Adversarial example image: \\n\")\n",
    "        evolved_examples.append(check_adv) #add evolved example\n",
    "        ssim_values.append(1-compare_ssim(check_adv.reshape(CIFAR_IMG,CIFAR_IMG),img.reshape(CIFAR_IMG,CIFAR_IMG))) #add the distance\n",
    "        end=time.time()\n",
    "        times.append(end-start) #add the time \n",
    "        fitness_of_evolved.append(calculate_fitness(model,check_adv,img,label)) #add the fitness value of adversarial\n",
    "        number_of_rounds.append(max_gen)\n",
    "        pred_l=np.argmax(model.predict(check_adv.reshape(1,CIFAR_IMG,CIFAR_IMG,1)/255.0))\n",
    "        predicted_class.append(pred_l)\n",
    "        print(\"Left: adversarial \\t Right: ground truth\")\n",
    "        fd, idx = plt.subplots(1,2)\n",
    "        idx[0].imshow(check_adv.reshape(CIFAR_IMG,CIFAR_IMG),cmap='gray')\n",
    "        idx[1].imshow(img.reshape(CIFAR_IMG,CIFAR_IMG),cmap='gray')\n",
    "        plt.show()\n",
    "        print(f\"True label: {label}\")\n",
    "        print(f\"predicted label: {pred_l}\") \n",
    "        print(\"Time: \",end-start ,\" seconds\")\n",
    "        numb_of_adv_found+=1\n",
    "        break\n",
    "      #check the second termination \n",
    "      else:\n",
    "          #check if fitness increases, if not , add +1 to temporary var\n",
    "        if fit_max1>fit_max:\n",
    "          fit_max=fit_max1\n",
    "          winner_of_gen.update(image= best)\n",
    "          winner_of_gen.update(label= label)\n",
    "          winner_of_gen.update(fitness= fit_max1)\n",
    "          fitness_no_change=0\n",
    "        else:\n",
    "          fitness_no_change+=1\n",
    "      \n",
    "      #print after every 10 generations to see the progress\n",
    "      if (max_gen % 10 == 0):\n",
    "        print(f\"Generation {max_gen}\")\n",
    "        print(f\"Max fitness value {fit_max}\")\n",
    "      max_gen+=1\n",
    "\n",
    "      # if fitness did not improve for 30 generations, save the image that was best , saved it in a dicitonary\n",
    "      if fitness_no_change==30:\n",
    "        print(\"FITNESS DID NOT IMPROVE FOR 30 GENERATIONS\")\n",
    "        print(\"Best adversarial image we could find: \\n\")\n",
    "        evolved_examples.append(winner_of_gen[\"image\"])\n",
    "        ssim_values.append(1-compare_ssim(np.array(winner_of_gen[\"image\"]).reshape(CIFAR_IMG,CIFAR_IMG),img.reshape(CIFAR_IMG,CIFAR_IMG)))\n",
    "        number_of_rounds.append(max_gen)\n",
    "        end=time.time()\n",
    "        times.append(end-start)\n",
    "        fitness_of_evolved.append(winner_of_gen[\"fitness\"])\n",
    "        pred_l=np.argmax(model.predict(np.array(winner_of_gen[\"image\"]).reshape(1,CIFAR_IMG,CIFAR_IMG,1)/255.0))\n",
    "        predicted_class.append(pred_l)\n",
    "        print(\"Left: adversarial \\t Right: ground truth\")\n",
    "        fd, idx = plt.subplots(1,2)\n",
    "        idx[0].imshow(np.array(winner_of_gen[\"image\"]).reshape(CIFAR_IMG,CIFAR_IMG),cmap='gray')\n",
    "        idx[1].imshow(img.reshape(CIFAR_IMG,CIFAR_IMG),cmap='gray')\n",
    "        plt.show()\n",
    "        print(f\"True label: {label}\")\n",
    "        print(f\"predicted label: {pred_l}\")\n",
    "        print(\"Time: \",end-start ,\" seconds\")\n",
    "        numb_of_found_after30 +=1\n",
    "        break\n",
    "\n",
    "\n"
   ]
  },
  {
   "cell_type": "markdown",
   "metadata": {
    "colab_type": "text",
    "id": "XEMXgasB3Llv"
   },
   "source": [
    "# Save files\n"
   ]
  },
  {
   "cell_type": "code",
   "execution_count": 12,
   "metadata": {
    "colab": {
     "base_uri": "https://localhost:8080/",
     "height": 391
    },
    "colab_type": "code",
    "id": "u43v4fe33RGZ",
    "outputId": "5118cd4e-ecb9-4967-c242-6b95df84ceb5"
   },
   "outputs": [
    {
     "name": "stdout",
     "output_type": "stream",
     "text": [
      "Max time: 689.0073523521423\n",
      "Min time: 1.920302391052246\n",
      "Mean time: 192.19042799347326\n",
      "Std time: 119.84222304055714\n",
      "\n",
      "Max fitness evolved: 0.9988023444329798\n",
      "Min fitness evolved:: -0.6013678319995003\n",
      "Mean fitness evolved: 0.8901382661300241\n",
      "Std fitness evolved:: 0.37869671290260337\n",
      "\n",
      "Max ssim: 0.33835804611293985\n",
      "Min ssim: 4.730621262938328e-06\n",
      "Mean ssim: 0.04467366696985318\n",
      "Std ssim: 0.04788750218727948\n",
      "\n",
      "Max round: 339\n",
      "Min rounds: 0\n",
      "Mean rounds: 97.73684210526316\n",
      "Std rounds: 60.55642925290664\n",
      "\n",
      "Percentage of adversarial founds sucessfully : 0.022556390977443608 %\n",
      "Percentage of adversarial founds after fitness not improving for 30 generations: 0.9774436090225563 %\n"
     ]
    }
   ],
   "source": [
    "import pickle\n",
    "file_ = open('GA_adv_cifar_ssim_uniform', 'wb')\n",
    "pickle.dump(evolved_examples, file_)\n",
    "pickle.dump(times, file_)\n",
    "pickle.dump(ssim_values, file_)\n",
    "pickle.dump(fitness_of_evolved , file_)\n",
    "pickle.dump(predicted_class, file_)\n",
    "pickle.dump(number_of_rounds, file_)\n",
    "file_.close()\n",
    "\n",
    "print(f\"Max time: {np.max(times)}\")\n",
    "print(f\"Min time: {np.min(times)}\")\n",
    "print(f\"Mean time: {np.mean(times)}\")\n",
    "print(f\"Std time: {np.std(times)}\\n\")\n",
    "\n",
    "print(f\"Max fitness evolved: {np.max(fitness_of_evolved)}\")\n",
    "print(f\"Min fitness evolved:: {np.min(fitness_of_evolved)}\")\n",
    "print(f\"Mean fitness evolved: {np.mean(fitness_of_evolved)}\")\n",
    "print(f\"Std fitness evolved:: {np.std(fitness_of_evolved)}\\n\")\n",
    "\n",
    "print(f\"Max ssim: {np.max(ssim_values)}\")\n",
    "print(f\"Min ssim: {np.min(ssim_values)}\")\n",
    "print(f\"Mean ssim: {np.mean(ssim_values)}\")\n",
    "print(f\"Std ssim: {np.std(ssim_values)}\\n\")\n",
    "\n",
    "print(f\"Max round: {np.max(number_of_rounds)}\")\n",
    "print(f\"Min rounds: {np.min(number_of_rounds)}\")\n",
    "print(f\"Mean rounds: {np.mean(number_of_rounds)}\")\n",
    "print(f\"Std rounds: {np.std(number_of_rounds)}\\n\")\n",
    "\n",
    "\n",
    "\n",
    "\n",
    "print(f\"Percentage of adversarial founds sucessfully : {numb_of_adv_found/len(adversarial_y)} %\")\n",
    "print(f\"Percentage of adversarial founds after fitness not improving for 30 generations: {numb_of_found_after30/len(adversarial_y)} %\")\n"
   ]
  },
  {
   "cell_type": "markdown",
   "metadata": {
    "colab_type": "text",
    "id": "uQoHNMX_8nor"
   },
   "source": [
    "Open adversarial"
   ]
  },
  {
   "cell_type": "code",
   "execution_count": 20,
   "metadata": {
    "colab": {},
    "colab_type": "code",
    "id": "rEK7GsD78oq5"
   },
   "outputs": [],
   "source": [
    "with open('./results/GA_adv_cifar_ssim_Kcrossover', 'rb') as f:\n",
    "    evolved_examples = pickle.load(f)\n",
    "    times= pickle.load(f)\n",
    "    ssim_values = pickle.load(f)\n",
    "    fitness_of_evolved = pickle.load(f)\n",
    "    predicted_class = pickle.load(f)\n",
    "    number_of_rounds = pickle.load(f)"
   ]
  },
  {
   "cell_type": "code",
   "execution_count": 21,
   "metadata": {},
   "outputs": [
    {
     "name": "stdout",
     "output_type": "stream",
     "text": [
      "Max ssim: 0.9999719092126748\n",
      "Min ssim: 0.6997527243063725\n",
      "Mean ssim: 0.9594270743027448\n",
      "Std ssim: 0.04437958341615912\n",
      "\n"
     ]
    }
   ],
   "source": [
    "#Correction of ssim values\n",
    "new_ssim=[]\n",
    "for s in ssim_values:\n",
    "    new_ssim.append(1-s)\n",
    "    \n",
    "print(f\"Max ssim: {np.max(new_ssim)}\")\n",
    "print(f\"Min ssim: {np.min(new_ssim)}\")\n",
    "print(f\"Mean ssim: {np.mean(new_ssim)}\")\n",
    "print(f\"Std ssim: {np.std(new_ssim)}\\n\")"
   ]
  },
  {
   "cell_type": "code",
   "execution_count": 24,
   "metadata": {},
   "outputs": [
    {
     "data": {
      "text/plain": [
       "array([ 96,  67,  48, 155, 134,  47, 171, 254, 115,  43,  65,  50,  68,\n",
       "       158,  66,  30,  68,  45,  95, 183,  55,  31,  63,  30,  30, 219,\n",
       "        44,  50,  70, 157,  43,  56,  62, 153, 158,  50,  30,  30, 157,\n",
       "        37,  57,  72, 117,  71,  79,  77,  53,  64,  65, 182,  59,  59,\n",
       "       113,   1,  72,  89,  39,  47,  53,  35,  78, 105,  52,  98,  58,\n",
       "        53,  46,  88,  66, 183,  54,  74,  96,  57, 166, 120, 105, 230,\n",
       "       110,  52,  30,  76,  47, 232,  94, 128, 170,  77, 174, 105, 283,\n",
       "        69, 109, 142,  49, 150,  80,  85,  87,  52,  55,  51, 102,  84,\n",
       "       120,  73, 161, 127,  64, 147, 170, 166,  51, 126,  58,  63,  30,\n",
       "        94,  49, 124, 141,  98,  56,  79,  30, 260, 165, 129, 104,   1,\n",
       "        58, 173,  73])"
      ]
     },
     "execution_count": 24,
     "metadata": {},
     "output_type": "execute_result"
    }
   ],
   "source": [
    "#Correctionf of rounds  (replacing 0 with 1)\n",
    "number_of_rounds = np.where(np.array(number_of_rounds)==0, 1, number_of_rounds) \n",
    "number_of_rounds"
   ]
  },
  {
   "cell_type": "code",
   "execution_count": 25,
   "metadata": {},
   "outputs": [
    {
     "name": "stdout",
     "output_type": "stream",
     "text": [
      "Max round: 283\n",
      "Min rounds: 1\n",
      "Mean rounds: 92.47368421052632\n",
      "Std rounds: 54.939690645571574\n",
      "\n"
     ]
    }
   ],
   "source": [
    "print(f\"Max round: {np.max(number_of_rounds)}\")\n",
    "print(f\"Min rounds: {np.min(number_of_rounds)}\")\n",
    "print(f\"Mean rounds: {np.mean(number_of_rounds)}\")\n",
    "print(f\"Std rounds: {np.std(number_of_rounds)}\\n\")\n",
    "\n"
   ]
  },
  {
   "cell_type": "markdown",
   "metadata": {
    "colab_type": "text",
    "id": "0e9R7ACErtqK"
   },
   "source": [
    "# Examples of what functions do"
   ]
  },
  {
   "cell_type": "code",
   "execution_count": 0,
   "metadata": {
    "colab": {},
    "colab_type": "code",
    "id": "cpEVAzR7rtK8"
   },
   "outputs": [],
   "source": [
    "population = init_pop_from_sample(50,adversarial[15],adversarial_y[15][0])\n",
    "fitness = pop_fitness(model,np.expand_dims(population.reshape(population.shape[0],CIFAR_IMG,CIFAR_IMG),axis=3),img.reshape(CIFAR_IMG,CIFAR_IMG),adversarial_y[15][0])\n",
    "print(fitness)"
   ]
  },
  {
   "cell_type": "code",
   "execution_count": 0,
   "metadata": {
    "colab": {
     "base_uri": "https://localhost:8080/",
     "height": 317
    },
    "colab_type": "code",
    "id": "0aYxCQLEu1BB",
    "outputId": "6a29e5dc-27d0-4479-81b7-6e1288329285"
   },
   "outputs": [
    {
     "data": {
      "image/png": "[encoded data removed]",
      "text/plain": [
       "<Figure size 432x288 with 1 Axes>"
      ]
     },
     "metadata": {
      "needs_background": "light",
      "tags": []
     },
     "output_type": "display_data"
    },
    {
     "name": "stdout",
     "output_type": "stream",
     "text": [
      "Class for this 1\n",
      "[[2.2063480e-10 1.0000000e+00 6.6041472e-14 3.5760719e-12 3.9276270e-13\n",
      "  1.1313486e-13 8.8119643e-13 6.8588521e-13 1.9681285e-13 3.7839783e-08]]\n"
     ]
    }
   ],
   "source": [
    "plt.imshow(population[0].reshape(CIFAR_IMG,CIFAR_IMG))\n",
    "plt.show()\n",
    "print(f\"Class for this {adversarial_y[15][0]}\")\n",
    "print(model.predict(population[0].reshape(1,CIFAR_IMG,CIFAR_IMG,1) /255.0))"
   ]
  },
  {
   "cell_type": "code",
   "execution_count": 0,
   "metadata": {
    "colab": {
     "base_uri": "https://localhost:8080/",
     "height": 85
    },
    "colab_type": "code",
    "id": "xhxCaFZPGPpe",
    "outputId": "35163672-1426-46f3-d021-b87dc280c722"
   },
   "outputs": [
    {
     "name": "stderr",
     "output_type": "stream",
     "text": [
      "/usr/local/lib/python3.6/dist-packages/ipykernel_launcher.py:16: UserWarning: DEPRECATED: skimage.measure.compare_ssim has been moved to skimage.metrics.structural_similarity. It will be removed from skimage.measure in version 0.18.\n",
      "  app.launch_new_instance()\n",
      "/usr/local/lib/python3.6/dist-packages/skimage/measure/_structural_similarity.py:17: UserWarning: Inputs have mismatched dtype.  Setting data_range based on im1.dtype.\n",
      "  **kwargs)\n"
     ]
    }
   ],
   "source": [
    "parent1 = tournament(population, model, adversarial[15], adversarial_y[15]) \n",
    "parent2 = tournament(population, model, adversarial[15], adversarial_y[15])"
   ]
  },
  {
   "cell_type": "code",
   "execution_count": 0,
   "metadata": {
    "colab": {
     "base_uri": "https://localhost:8080/",
     "height": 219
    },
    "colab_type": "code",
    "id": "gORkePYLv4EW",
    "outputId": "17422d1a-b936-43f2-a2c2-33f4cb500bf4"
   },
   "outputs": [
    {
     "data": {
      "text/plain": [
       "<matplotlib.image.AxesImage at 0x7f8f5ea68dd8>"
      ]
     },
     "execution_count": 47,
     "metadata": {
      "tags": []
     },
     "output_type": "execute_result"
    },
    {
     "data": {
      "image/png": "[encoded data removed]",
      "text/plain": [
       "<Figure size 432x288 with 2 Axes>"
      ]
     },
     "metadata": {
      "needs_background": "light",
      "tags": []
     },
     "output_type": "display_data"
    }
   ],
   "source": [
    "fd, idx =  plt.subplots(1,2)\n",
    "idx[0].imshow(parent1.reshape(CIFAR_IMG,CIFAR_IMG),cmap=\"gray\")\n",
    "idx[1].imshow(parent2.reshape(CIFAR_IMG,CIFAR_IMG),cmap=\"gray\")"
   ]
  },
  {
   "cell_type": "code",
   "execution_count": 0,
   "metadata": {
    "colab": {
     "base_uri": "https://localhost:8080/",
     "height": 85
    },
    "colab_type": "code",
    "id": "HZJXShUyHIrS",
    "outputId": "c26ae352-d1a1-4510-9da7-ae5e01d1ec43"
   },
   "outputs": [
    {
     "name": "stderr",
     "output_type": "stream",
     "text": [
      "/usr/local/lib/python3.6/dist-packages/ipykernel_launcher.py:16: UserWarning: DEPRECATED: skimage.measure.compare_ssim has been moved to skimage.metrics.structural_similarity. It will be removed from skimage.measure in version 0.18.\n",
      "  app.launch_new_instance()\n",
      "/usr/local/lib/python3.6/dist-packages/skimage/measure/_structural_similarity.py:17: UserWarning: Inputs have mismatched dtype.  Setting data_range based on im1.dtype.\n",
      "  **kwargs)\n"
     ]
    }
   ],
   "source": [
    "child1, child2 = multi_crossover(parent1, parent2,adversarial[15]) # crossover \n",
    "#child1, child2 = add_noise(child1), add_noise(child2) # apply mutation to pixels "
   ]
  },
  {
   "cell_type": "code",
   "execution_count": 0,
   "metadata": {
    "colab": {
     "base_uri": "https://localhost:8080/",
     "height": 219
    },
    "colab_type": "code",
    "id": "72tQ7R_RHZzZ",
    "outputId": "c81cdb63-ed10-42c2-d477-894c5e91bcf7"
   },
   "outputs": [
    {
     "data": {
      "text/plain": [
       "<matplotlib.image.AxesImage at 0x7f8f5e585550>"
      ]
     },
     "execution_count": 58,
     "metadata": {
      "tags": []
     },
     "output_type": "execute_result"
    },
    {
     "data": {
      "image/png": "[encoded data removed]",
      "text/plain": [
       "<Figure size 432x288 with 2 Axes>"
      ]
     },
     "metadata": {
      "needs_background": "light",
      "tags": []
     },
     "output_type": "display_data"
    }
   ],
   "source": [
    "fd, idx =  plt.subplots(1,2)\n",
    "idx[0].imshow(child1.reshape(CIFAR_IMG,CIFAR_IMG),cmap=\"gray\")\n",
    "idx[1].imshow(child2.reshape(CIFAR_IMG,CIFAR_IMG),cmap=\"gray\")\n"
   ]
  },
  {
   "cell_type": "code",
   "execution_count": 0,
   "metadata": {
    "colab": {},
    "colab_type": "code",
    "id": "4a3pXLQSwZlT"
   },
   "outputs": [],
   "source": [
    "print(f\"diff between children {np.unique(child1-child2)}\")\n",
    "print(f\"diff between parents {np.unique(parent1-parent2)}\")\n",
    "print(f\"diff between p1 and c1 {np.unique(parent1-child1)}\")\n",
    "print(f\"diff between p1 and c2 {np.unique(parent1-child2)}\")\n",
    "print(f\"diff between p2 and c1 {np.unique(parent2-child1)}\")\n",
    "print(f\"diff between p2 and c2 {np.unique(parent2-child2)}\")"
   ]
  },
  {
   "cell_type": "code",
   "execution_count": 0,
   "metadata": {
    "colab": {
     "base_uri": "https://localhost:8080/",
     "height": 85
    },
    "colab_type": "code",
    "id": "xEPQapUpILBr",
    "outputId": "ac694765-e044-4f9f-82ee-9c599a2eb431"
   },
   "outputs": [
    {
     "name": "stderr",
     "output_type": "stream",
     "text": [
      "/usr/local/lib/python3.6/dist-packages/ipykernel_launcher.py:16: UserWarning: DEPRECATED: skimage.measure.compare_ssim has been moved to skimage.metrics.structural_similarity. It will be removed from skimage.measure in version 0.18.\n",
      "  app.launch_new_instance()\n",
      "/usr/local/lib/python3.6/dist-packages/skimage/measure/_structural_similarity.py:17: UserWarning: Inputs have mismatched dtype.  Setting data_range based on im1.dtype.\n",
      "  **kwargs)\n"
     ]
    }
   ],
   "source": [
    "bb = choose_better_child(child1, child2,adversarial[15],adversarial_y[15][0],model)"
   ]
  },
  {
   "cell_type": "code",
   "execution_count": 0,
   "metadata": {
    "colab": {
     "base_uri": "https://localhost:8080/",
     "height": 122
    },
    "colab_type": "code",
    "id": "UCl4mvK99XYj",
    "outputId": "fd9867bc-0c0a-486e-c393-ad74b8ef6298"
   },
   "outputs": [
    {
     "name": "stderr",
     "output_type": "stream",
     "text": [
      "/usr/local/lib/python3.6/dist-packages/ipykernel_launcher.py:16: UserWarning: DEPRECATED: skimage.measure.compare_ssim has been moved to skimage.metrics.structural_similarity. It will be removed from skimage.measure in version 0.18.\n",
      "  app.launch_new_instance()\n",
      "/usr/local/lib/python3.6/dist-packages/skimage/measure/_structural_similarity.py:17: UserWarning: Inputs have mismatched dtype.  Setting data_range based on im1.dtype.\n",
      "  **kwargs)\n"
     ]
    },
    {
     "name": "stdout",
     "output_type": "stream",
     "text": [
      "[-0.26002962878595726, -0.25999958545736684, -0.26007314251448344, -0.26004007622401076, -0.26003266487525345, -0.26011373574731095, -0.2599816460817825, -0.25998496480763594, -0.2600353571926644, -0.2600021864303609, -0.260040721413234, -0.2600228430135187, -0.26003768485830203, -0.26002701209750284, -0.26006302743228543, -0.2599796432991168, -0.2600043346069123, -0.26003024147792836, -0.2600466627237271, -0.26003812318804226, -0.2600652442884724, -0.2600447098702882, -0.2600085762943468, -0.26001327339828323, -0.2599806557454484, -0.26007237070197037, -0.25996000471207786, -0.2600457997287944, -0.2600101441535663, -0.26005323947618036, -0.2600554130353725, -0.2600860828123626, -0.26003997918862914, -0.26004537198733424, -0.2600515291553301, -0.2600503663988854, -0.26001231736237695, -0.2600170667581806, -0.2600851316879575, -0.2599960477747653, -0.260017809873727, -0.2600171997460062, -0.2600455137861651, -0.26001145913341955, -0.2600466317811507, -0.2600557191632309, -0.26006128108305554, -0.2599700462660023, -0.26005349311420517, -0.2600591984831575]\n"
     ]
    }
   ],
   "source": [
    "fitness = pop_fitness(model,np.expand_dims(population.reshape(population.shape[0],CIFAR_IMG,CIFAR_IMG),axis=3),img.reshape(CIFAR_IMG,CIFAR_IMG),label) \n",
    "print(fitness)"
   ]
  }
 ],
 "metadata": {
  "colab": {
   "collapsed_sections": [],
   "name": "GA_CIFAR_SSIM_k_crossover.ipynb",
   "provenance": []
  },
  "kernelspec": {
   "display_name": "Python 3",
   "language": "python",
   "name": "python3"
  },
  "language_info": {
   "codemirror_mode": {
    "name": "ipython",
    "version": 3
   },
   "file_extension": ".py",
   "mimetype": "text/x-python",
   "name": "python",
   "nbconvert_exporter": "python",
   "pygments_lexer": "ipython3",
   "version": "3.7.3"
  }
 },
 "nbformat": 4,
 "nbformat_minor": 1
}
