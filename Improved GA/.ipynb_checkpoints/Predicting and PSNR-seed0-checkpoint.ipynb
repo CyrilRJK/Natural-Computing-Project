{
 "cells": [
  {
   "cell_type": "markdown",
   "metadata": {},
   "source": [
    "This notebook is just for computing the accuracy on the adversarial examples. "
   ]
  },
  {
   "cell_type": "code",
   "execution_count": 27,
   "metadata": {},
   "outputs": [],
   "source": [
    "import tensorflow as tf\n",
    "import numpy as np \n",
    "import matplotlib.pyplot as plt\n",
    "import seaborn as sns\n",
    "from sklearn.svm import SVC\n",
    "import pickle\n",
    "import time\n",
    "from skimage.measure import compare_ssim\n",
    "import tensorflow as tf\n",
    "from keras.models import Model,load_model\n",
    "from keras.layers import Dense, Conv2D, Dropout, Flatten, MaxPooling2D, Input, Activation\n",
    "from keras.utils import to_categorical\n",
    "import keras\n",
    "from sklearn.metrics import accuracy_score\n",
    "import random"
   ]
  },
  {
   "cell_type": "code",
   "execution_count": 2,
   "metadata": {},
   "outputs": [],
   "source": [
    "np.random.seed(0)\n",
    "random.seed(0)"
   ]
  },
  {
   "cell_type": "code",
   "execution_count": 3,
   "metadata": {},
   "outputs": [],
   "source": [
    "## run the model cell downstairs first!"
   ]
  },
  {
   "cell_type": "code",
   "execution_count": 8,
   "metadata": {},
   "outputs": [
    {
     "name": "stdout",
     "output_type": "stream",
     "text": [
      "Model: \"sequential_1\"\n",
      "_________________________________________________________________\n",
      "Layer (type)                 Output Shape              Param #   \n",
      "=================================================================\n",
      "conv2d_1 (Conv2D)            (None, 32, 32, 32)        320       \n",
      "_________________________________________________________________\n",
      "activation_1 (Activation)    (None, 32, 32, 32)        0         \n",
      "_________________________________________________________________\n",
      "batch_normalization_1 (Batch (None, 32, 32, 32)        128       \n",
      "_________________________________________________________________\n",
      "conv2d_2 (Conv2D)            (None, 32, 32, 32)        9248      \n",
      "_________________________________________________________________\n",
      "activation_2 (Activation)    (None, 32, 32, 32)        0         \n",
      "_________________________________________________________________\n",
      "batch_normalization_2 (Batch (None, 32, 32, 32)        128       \n",
      "_________________________________________________________________\n",
      "max_pooling2d_1 (MaxPooling2 (None, 16, 16, 32)        0         \n",
      "_________________________________________________________________\n",
      "dropout_1 (Dropout)          (None, 16, 16, 32)        0         \n",
      "_________________________________________________________________\n",
      "conv2d_3 (Conv2D)            (None, 16, 16, 64)        18496     \n",
      "_________________________________________________________________\n",
      "activation_3 (Activation)    (None, 16, 16, 64)        0         \n",
      "_________________________________________________________________\n",
      "batch_normalization_3 (Batch (None, 16, 16, 64)        256       \n",
      "_________________________________________________________________\n",
      "conv2d_4 (Conv2D)            (None, 16, 16, 64)        36928     \n",
      "_________________________________________________________________\n",
      "activation_4 (Activation)    (None, 16, 16, 64)        0         \n",
      "_________________________________________________________________\n",
      "batch_normalization_4 (Batch (None, 16, 16, 64)        256       \n",
      "_________________________________________________________________\n",
      "max_pooling2d_2 (MaxPooling2 (None, 8, 8, 64)          0         \n",
      "_________________________________________________________________\n",
      "dropout_2 (Dropout)          (None, 8, 8, 64)          0         \n",
      "_________________________________________________________________\n",
      "conv2d_5 (Conv2D)            (None, 8, 8, 128)         73856     \n",
      "_________________________________________________________________\n",
      "activation_5 (Activation)    (None, 8, 8, 128)         0         \n",
      "_________________________________________________________________\n",
      "batch_normalization_5 (Batch (None, 8, 8, 128)         512       \n",
      "_________________________________________________________________\n",
      "conv2d_6 (Conv2D)            (None, 8, 8, 128)         147584    \n",
      "_________________________________________________________________\n",
      "activation_6 (Activation)    (None, 8, 8, 128)         0         \n",
      "_________________________________________________________________\n",
      "batch_normalization_6 (Batch (None, 8, 8, 128)         512       \n",
      "_________________________________________________________________\n",
      "max_pooling2d_3 (MaxPooling2 (None, 4, 4, 128)         0         \n",
      "_________________________________________________________________\n",
      "dropout_3 (Dropout)          (None, 4, 4, 128)         0         \n",
      "_________________________________________________________________\n",
      "flatten_1 (Flatten)          (None, 2048)              0         \n",
      "_________________________________________________________________\n",
      "dense_1 (Dense)              (None, 10)                20490     \n",
      "=================================================================\n",
      "Total params: 308,714\n",
      "Trainable params: 307,818\n",
      "Non-trainable params: 896\n",
      "_________________________________________________________________\n"
     ]
    }
   ],
   "source": [
    "# Network 3 \n",
    "import keras\n",
    "from keras.models import Sequential\n",
    "from keras.utils import np_utils\n",
    "from keras.preprocessing.image import ImageDataGenerator\n",
    "from keras.layers import Dense, Activation, Flatten, Dropout, BatchNormalization\n",
    "from keras.layers import Conv2D, MaxPooling2D\n",
    "from keras.datasets import cifar10\n",
    "from keras import regularizers\n",
    "from keras.callbacks import LearningRateScheduler\n",
    "import numpy as np\n",
    "\n",
    "CIFAR_IMG= 32\n",
    "\n",
    "input_shape = (CIFAR_IMG,CIFAR_IMG,1)\n",
    "weight_decay = 1e-4\n",
    "model = Sequential()\n",
    "model.add(Conv2D(32, (3,3), padding='same', kernel_regularizer=regularizers.l2(weight_decay), input_shape=input_shape))\n",
    "model.add(Activation('elu'))\n",
    "model.add(BatchNormalization())\n",
    "model.add(Conv2D(32, (3,3), padding='same', kernel_regularizer=regularizers.l2(weight_decay)))\n",
    "model.add(Activation('elu'))\n",
    "model.add(BatchNormalization())\n",
    "model.add(MaxPooling2D(pool_size=(2,2)))\n",
    "model.add(Dropout(0.2))\n",
    " \n",
    "model.add(Conv2D(64, (3,3), padding='same', kernel_regularizer=regularizers.l2(weight_decay)))\n",
    "model.add(Activation('elu'))\n",
    "model.add(BatchNormalization())\n",
    "model.add(Conv2D(64, (3,3), padding='same', kernel_regularizer=regularizers.l2(weight_decay)))\n",
    "model.add(Activation('elu'))\n",
    "model.add(BatchNormalization())\n",
    "model.add(MaxPooling2D(pool_size=(2,2)))\n",
    "model.add(Dropout(0.3))\n",
    " \n",
    "model.add(Conv2D(128, (3,3), padding='same', kernel_regularizer=regularizers.l2(weight_decay)))\n",
    "model.add(Activation('elu'))\n",
    "model.add(BatchNormalization())\n",
    "model.add(Conv2D(128, (3,3), padding='same', kernel_regularizer=regularizers.l2(weight_decay)))\n",
    "model.add(Activation('elu'))\n",
    "model.add(BatchNormalization())\n",
    "model.add(MaxPooling2D(pool_size=(2,2)))\n",
    "model.add(Dropout(0.4))\n",
    " \n",
    "model.add(Flatten())\n",
    "model.add(Dense(10, activation='softmax'))\n",
    " \n",
    "model.summary()\n",
    "\n",
    "\n",
    "model.compile(loss='categorical_crossentropy', optimizer='adam', metrics=['accuracy'])\n",
    "\n",
    "\n",
    "'''\n",
    "history = model.fit(x=x_train_C,y=y_train_C, epochs=150, batch_size=64, validation_data=[x_test_C,y_test_C])\n",
    "\n",
    "score= model.evaluate(x_test_C, y_test_C,verbose=0)\n",
    "print('Test loss:', score[0])\n",
    "print('Test accuracy:', score[1])\n",
    "\n",
    "model.save_weights(\"CNN_CIFAR10_net3.h5\")\n",
    "files.download('CNN_CIFAR10_net3.h5')\n",
    "'''\n",
    "\n",
    "model = load_model(\"../Models/CNN_CIFAR10_net3.h5\")"
   ]
  },
  {
   "cell_type": "code",
   "execution_count": 9,
   "metadata": {},
   "outputs": [],
   "source": [
    "(X_train, y_train), (X_test, y_test) = tf.keras.datasets.cifar10.load_data()\n",
    "X_sc = X_train / 255.0\n",
    "X_test_sc = X_test / 255.0\n",
    "y_cat = to_categorical(y_train)\n",
    "\n",
    "def grayscale(data, dtype='float32'):\n",
    "    # luma coding weighted average in video systems\n",
    "    r, g, b = np.asarray(.3, dtype=dtype), np.asarray(.59, dtype=dtype), np.asarray(.11, dtype=dtype)\n",
    "    rst = r * data[:, :, :, 0] + g * data[:, :, :, 1] + b * data[:, :, :, 2]\n",
    "    # add channel dimension\n",
    "    rst = np.expand_dims(rst, axis=3)\n",
    "    return rst\n",
    "\n",
    "X_sc = grayscale(X_sc)\n",
    "X_test_sc = grayscale(X_test_sc)\n",
    "X_train = grayscale(X_train)\n",
    "X_test = grayscale(X_test)\n",
    "\n",
    "y_pred_test = model.predict(np.expand_dims(X_test_sc.reshape(X_test_sc.shape[0],32,32),axis=3))\n",
    "y_pred_train = model.predict(np.expand_dims(X_sc.reshape(X_sc.shape[0],32,32),axis=3))\n"
   ]
  },
  {
   "cell_type": "code",
   "execution_count": 10,
   "metadata": {},
   "outputs": [
    {
     "name": "stdout",
     "output_type": "stream",
     "text": [
      "Training accuracy:  0.958\n",
      "Test accuracy:  0.824\n"
     ]
    }
   ],
   "source": [
    "print(\"Training accuracy: \",round(accuracy_score(y_train,np.argmax(y_pred_train,axis=1)),3))\n",
    "print(\"Test accuracy: \",round(accuracy_score(y_test,np.argmax(y_pred_test,axis=1)),3))"
   ]
  },
  {
   "cell_type": "code",
   "execution_count": 11,
   "metadata": {},
   "outputs": [],
   "source": [
    "from sklearn.cluster import KMeans\n",
    "from sklearn.model_selection import train_test_split"
   ]
  },
  {
   "cell_type": "code",
   "execution_count": 12,
   "metadata": {},
   "outputs": [],
   "source": [
    "# make subset \n",
    "def sample_test_set(percentage,X_test,X_test_scaled,y_test,imsize,channels,num_clusters, num_classes,num_samples):\n",
    "    \n",
    "    original = []\n",
    "    adversarial = []\n",
    "    original_y = []\n",
    "    adversarial_y = []\n",
    "    for sample_class in range(num_classes):\n",
    "        labels = y_test[(y_test==sample_class).reshape(num_samples)]\n",
    "        samples_orig = X_test[(y_test==sample_class).reshape(num_samples)]\n",
    "        samples = X_test_scaled[(y_test==sample_class).reshape(num_samples)]\n",
    "        samples = samples.reshape((samples.shape[0],imsize*imsize*channels))\n",
    "        kmeans = KMeans(n_clusters=num_clusters, random_state=0).fit_predict(samples)\n",
    "        for cluster in range(num_clusters):  \n",
    "            subsamples = np.where(kmeans==cluster)[0]\n",
    "            ori, adv = train_test_split(subsamples,random_state=0, test_size = percentage ,shuffle=True)\n",
    "            original.extend(samples_orig[ori])\n",
    "            original_y.extend(labels[ori])\n",
    "            adversarial.extend(samples_orig[adv])\n",
    "            adversarial_y.extend(labels[adv])\n",
    "    return np.array(original), np.array(adversarial), np.array(original_y), np.array(adversarial_y)"
   ]
  },
  {
   "cell_type": "code",
   "execution_count": 13,
   "metadata": {},
   "outputs": [],
   "source": [
    "discard,subsample, discard_y, subsample_y = sample_test_set(0.1,X_test,X_test_sc,y_test,32,1,10,10,10000)"
   ]
  },
  {
   "cell_type": "code",
   "execution_count": 14,
   "metadata": {},
   "outputs": [
    {
     "name": "stdout",
     "output_type": "stream",
     "text": [
      "Subsample : (1047, 32, 32, 1)\n",
      "Subsample_y: (1047, 1)\n"
     ]
    }
   ],
   "source": [
    "print(f\"Subsample : {subsample.shape}\")\n",
    "print(f\"Subsample_y: {subsample_y.shape}\")\n"
   ]
  },
  {
   "cell_type": "code",
   "execution_count": 15,
   "metadata": {},
   "outputs": [
    {
     "name": "stdout",
     "output_type": "stream",
     "text": [
      "Accuracy on subsample:  0.824\n"
     ]
    }
   ],
   "source": [
    "subsample_sc = subsample / 255.0\n",
    "y_pred_subsample = model.predict(np.expand_dims(subsample_sc.reshape(subsample_sc.shape[0],32,32),axis=3))\n",
    "print(\"Accuracy on subsample: \", round(accuracy_score(subsample_y,np.argmax(y_pred_subsample,axis=1)),3))"
   ]
  },
  {
   "cell_type": "code",
   "execution_count": 16,
   "metadata": {},
   "outputs": [],
   "source": [
    "original,adversarial, original_y, adversarial_y = sample_test_set(0.1,subsample,subsample_sc,subsample_y,32,1,6,10,1047)"
   ]
  },
  {
   "cell_type": "code",
   "execution_count": 18,
   "metadata": {},
   "outputs": [
    {
     "name": "stdout",
     "output_type": "stream",
     "text": [
      "Original shape (914, 32, 32, 1)\n",
      "Adversarial shape (133, 32, 32, 1)\n",
      "Original labels shape (914, 1)\n",
      "Adversarial labels shape (133, 1)\n"
     ]
    }
   ],
   "source": [
    "with open('../subsets/subset_cifar', 'rb') as f:\n",
    "    original = pickle.load(f)\n",
    "    adversarial= pickle.load(f)\n",
    "    original_y = pickle.load(f)\n",
    "    adversarial_y = pickle.load(f)\n",
    "\n",
    "print(f\"Original shape {original.shape}\")\n",
    "print(f\"Adversarial shape {adversarial.shape}\")\n",
    "print(f\"Original labels shape {original_y.shape}\")\n",
    "print(f\"Adversarial labels shape {adversarial_y.shape}\")"
   ]
  },
  {
   "cell_type": "code",
   "execution_count": 19,
   "metadata": {},
   "outputs": [
    {
     "name": "stdout",
     "output_type": "stream",
     "text": [
      "Accuracy on original before:  0.825\n",
      "Accuracy on adversarial before:  0.82\n"
     ]
    }
   ],
   "source": [
    "original_sc = original / 255.0\n",
    "y_pred_original = model.predict(np.expand_dims(original_sc.reshape(original_sc.shape[0],32,32),axis=3))\n",
    "print(\"Accuracy on original before: \", round(accuracy_score(original_y,np.argmax(y_pred_original,axis=1)),3))\n",
    "\n",
    "adversarial_sc = adversarial / 255.0\n",
    "y_pred_adversarial = model.predict(np.expand_dims(adversarial_sc.reshape(adversarial_sc.shape[0],32,32),axis=3))\n",
    "print(\"Accuracy on adversarial before: \", round(accuracy_score(adversarial_y,np.argmax(y_pred_adversarial,axis=1)),3))"
   ]
  },
  {
   "cell_type": "markdown",
   "metadata": {},
   "source": [
    "PSNR"
   ]
  },
  {
   "cell_type": "code",
   "execution_count": 20,
   "metadata": {},
   "outputs": [],
   "source": [
    "\n",
    "import cv2 \n",
    "def PSNR(original,evolved):\n",
    "    psnr=[]\n",
    "    for i in range(original.shape[0]):\n",
    "        psnr_original = cv2.PSNR(original[i],original[i])\n",
    "        psnr_adv_org = cv2.PSNR(original[i],np.array(evolved[i],dtype=\"float32\"))\n",
    "        psnr.append(round((psnr_adv_org/psnr_original)*100,4))\n",
    "    return psnr"
   ]
  },
  {
   "cell_type": "markdown",
   "metadata": {},
   "source": [
    "MULTICROSSOVER"
   ]
  },
  {
   "cell_type": "code",
   "execution_count": 28,
   "metadata": {},
   "outputs": [],
   "source": [
    "with open('./results/GA_cifar_ssim_multicrossover', 'rb') as f:\n",
    "    evolved_examples = pickle.load(f)\n",
    "    times= pickle.load(f)\n",
    "    ssim_values = pickle.load(f)\n",
    "    fitness_of_evolved = pickle.load(f)\n",
    "    predicted_class = pickle.load(f)\n",
    "    number_of_rounds = pickle.load(f)\n",
    "evolved_examples = np.array(evolved_examples)"
   ]
  },
  {
   "cell_type": "code",
   "execution_count": 22,
   "metadata": {},
   "outputs": [
    {
     "data": {
      "text/plain": [
       "(133, 1024)"
      ]
     },
     "execution_count": 22,
     "metadata": {},
     "output_type": "execute_result"
    }
   ],
   "source": [
    "np.array(evolved_examples).shape"
   ]
  },
  {
   "cell_type": "code",
   "execution_count": 23,
   "metadata": {},
   "outputs": [
    {
     "name": "stdout",
     "output_type": "stream",
     "text": [
      "Accuracy on adversarial after:  0.0902\n"
     ]
    }
   ],
   "source": [
    "# computing accuracy on adversarial after \n",
    "evolved_examples = np.array(evolved_examples)\n",
    "ev=evolved_examples/ 255.0\n",
    "y_pred_adversarial = model.predict(np.expand_dims(ev.reshape(ev.shape[0],32,32),axis=3))\n",
    "print(\"Accuracy on adversarial after: \", round(accuracy_score(adversarial_y,np.argmax(y_pred_adversarial,axis=1)),4))"
   ]
  },
  {
   "cell_type": "code",
   "execution_count": 24,
   "metadata": {},
   "outputs": [
    {
     "name": "stdout",
     "output_type": "stream",
     "text": [
      "(1047, 32, 32, 1)\n",
      "Accuracy on subsample:  0.7316\n"
     ]
    }
   ],
   "source": [
    "subsample = np.concatenate((original,evolved_examples.reshape(evolved_examples.shape[0],32,32,1)))\n",
    "print(subsample.shape)\n",
    "\n",
    "subsample_sc = subsample / 255.0\n",
    "subsample_y = np.concatenate((original_y,adversarial_y))\n",
    "y_pred_subsample = model.predict(np.expand_dims(subsample_sc.reshape(subsample_sc.shape[0],32,32),axis=3))\n",
    "print(\"Accuracy on subsample: \", round(accuracy_score(subsample_y,np.argmax(y_pred_subsample,axis=1)),4))"
   ]
  },
  {
   "cell_type": "code",
   "execution_count": 25,
   "metadata": {},
   "outputs": [
    {
     "name": "stdout",
     "output_type": "stream",
     "text": [
      "Mean psnr 10.0528\n",
      "Std psnr 1.9517\n",
      "Min psnr 8.1894\n",
      "Max psnr 18.2997\n",
      "10.0528+-1.9517, (8.1894,18.2997)\n"
     ]
    }
   ],
   "source": [
    "# computing PSNR\n",
    "psnr = PSNR(adversarial.reshape(adversarial.shape[0],32,32),evolved_examples.reshape(evolved_examples.shape[0],32,32))\n",
    "\n",
    "print(f\"Mean psnr {round(np.mean(psnr),4)}\")\n",
    "print(f\"Std psnr {round(np.std(psnr),4)}\")\n",
    "print(f\"Min psnr {round(np.min(psnr),4)}\")\n",
    "print(f\"Max psnr {round(np.max(psnr),4)}\")\n",
    "\n",
    "print(f\"{round(np.mean(psnr),4)}+-{round(np.std(psnr),4)}, ({round(np.min(psnr),4)},{round(np.max(psnr),4)})\")"
   ]
  },
  {
   "cell_type": "code",
   "execution_count": 26,
   "metadata": {},
   "outputs": [
    {
     "name": "stdout",
     "output_type": "stream",
     "text": [
      "Ssim\n",
      "0.9774+-0.0281, (0.7637,1.0)\n",
      "\n",
      "Rounds:\n",
      "109.9173+-59.6026, (0,275)\n",
      "\n",
      "Times:\n",
      "565.3738+-773.2276, (4.6041,8764.8666)\n"
     ]
    }
   ],
   "source": [
    "s = [1-x for x in ssim_values]\n",
    "print(\"Ssim\")\n",
    "print(f\"{round(np.mean(s),4)}+-{round(np.std(s),4)}, ({round(np.min(s),4)},{round(np.max(s),4)})\\n\")\n",
    "print(\"Rounds:\")\n",
    "print(f\"{round(np.mean(number_of_rounds),4)}+-{round(np.std(number_of_rounds),4)}, ({round(np.min(number_of_rounds),4)},{round(np.max(number_of_rounds),4)})\\n\")\n",
    "print(\"Times:\")\n",
    "print(f\"{round(np.mean(times),4)}+-{round(np.std(times),4)}, ({round(np.min(times),4)},{round(np.max(times),4)})\")"
   ]
  },
  {
   "cell_type": "markdown",
   "metadata": {},
   "source": [
    "2-K CROSSOVER"
   ]
  },
  {
   "cell_type": "code",
   "execution_count": 29,
   "metadata": {},
   "outputs": [],
   "source": [
    "with open('./results/GA_cifar_ssim_2K', 'rb') as f:\n",
    "    evolved_examples = pickle.load(f)\n",
    "    times= pickle.load(f)\n",
    "    ssim_values = pickle.load(f)\n",
    "    fitness_of_evolved = pickle.load(f)\n",
    "    predicted_class = pickle.load(f)\n",
    "    number_of_rounds = pickle.load(f)\n",
    "evolved_examples = np.array(evolved_examples)"
   ]
  },
  {
   "cell_type": "code",
   "execution_count": 44,
   "metadata": {},
   "outputs": [
    {
     "name": "stdout",
     "output_type": "stream",
     "text": [
      "Accuracy on adversarial after:  0.0677\n"
     ]
    }
   ],
   "source": [
    "# computing accuracy on adversarial after \n",
    "\n",
    "ev=evolved_examples/ 255.0\n",
    "y_pred_adversarial = model.predict(np.expand_dims(ev.reshape(ev.shape[0],32,32),axis=3))\n",
    "print(\"Accuracy on adversarial after: \", round(accuracy_score(adversarial_y,np.argmax(y_pred_adversarial,axis=1)),4))"
   ]
  },
  {
   "cell_type": "code",
   "execution_count": 46,
   "metadata": {},
   "outputs": [
    {
     "name": "stdout",
     "output_type": "stream",
     "text": [
      "(1047, 32, 32, 1)\n",
      "Accuracy on subsample:  0.7287\n"
     ]
    }
   ],
   "source": [
    "subsample = np.concatenate((original,evolved_examples.reshape(evolved_examples.shape[0],32,32,1)))\n",
    "print(subsample.shape)\n",
    "\n",
    "subsample_sc = subsample / 255.0\n",
    "subsample_y = np.concatenate((original_y,adversarial_y))\n",
    "y_pred_subsample = model.predict(np.expand_dims(subsample_sc.reshape(subsample_sc.shape[0],32,32),axis=3))\n",
    "print(\"Accuracy on subsample: \", round(accuracy_score(subsample_y,np.argmax(y_pred_subsample,axis=1)),4))"
   ]
  },
  {
   "cell_type": "code",
   "execution_count": 80,
   "metadata": {},
   "outputs": [
    {
     "name": "stdout",
     "output_type": "stream",
     "text": [
      "Mean psnr 9.6256\n",
      "Std psnr 1.8555\n",
      "Min psnr 7.8594\n",
      "Max psnr 17.4943\n"
     ]
    }
   ],
   "source": [
    "# computing PSNR\n",
    "psnr = PSNR(adversarial.reshape(adversarial.shape[0],32,32),evolved_examples.reshape(evolved_examples.shape[0],32,32))\n",
    "\n",
    "print(f\"Mean psnr {round(np.mean(psnr),4)}\")\n",
    "print(f\"Std psnr {round(np.std(psnr),4)}\")\n",
    "print(f\"Min psnr {round(np.min(psnr),4)}\")\n",
    "print(f\"Max psnr {round(np.max(psnr),4)}\")\n"
   ]
  },
  {
   "cell_type": "markdown",
   "metadata": {},
   "source": [
    "QUADRANT CROSSOVER "
   ]
  },
  {
   "cell_type": "code",
   "execution_count": 30,
   "metadata": {},
   "outputs": [],
   "source": [
    "with open('./results/GA_adv_cifar_quadrant', 'rb') as f:\n",
    "    evolved_examples = pickle.load(f)\n",
    "    times= pickle.load(f)\n",
    "    ssim_values = pickle.load(f)\n",
    "    fitness_of_evolved = pickle.load(f)\n",
    "    predicted_class = pickle.load(f)\n",
    "    number_of_rounds = pickle.load(f)\n",
    "evolved_examples = np.array(evolved_examples)"
   ]
  },
  {
   "cell_type": "code",
   "execution_count": 60,
   "metadata": {},
   "outputs": [
    {
     "name": "stdout",
     "output_type": "stream",
     "text": [
      "Accuracy on adversarial after:  0.0827\n"
     ]
    }
   ],
   "source": [
    "# computing accuracy on adversarial after \n",
    "evolved_examples = np.array(evolved_examples)\n",
    "ev=evolved_examples/ 255.0\n",
    "y_pred_adversarial = model.predict(np.expand_dims(ev.reshape(ev.shape[0],32,32),axis=3))\n",
    "print(\"Accuracy on adversarial after: \", round(accuracy_score(adversarial_y,np.argmax(y_pred_adversarial,axis=1)),4))"
   ]
  },
  {
   "cell_type": "code",
   "execution_count": 61,
   "metadata": {},
   "outputs": [
    {
     "name": "stdout",
     "output_type": "stream",
     "text": [
      "(1047, 32, 32, 1)\n",
      "Accuracy on subsample after:  0.7307\n"
     ]
    }
   ],
   "source": [
    "# computing accuracy on subset after\n",
    "#concatenating original and evolved images\n",
    "subsample = np.concatenate((original,evolved_examples.reshape(evolved_examples.shape[0],32,32,1)))\n",
    "print(subsample.shape)\n",
    "\n",
    "subsample_sc = subsample / 255.0\n",
    "#concatenating the ground truth labels original + adversarial\n",
    "subsample_y = np.concatenate((original_y,adversarial_y))\n",
    "y_pred_subsample = model.predict(np.expand_dims(subsample_sc.reshape(subsample_sc.shape[0],32,32),axis=3))\n",
    "print(\"Accuracy on subsample after: \", round(accuracy_score(subsample_y,np.argmax(y_pred_subsample,axis=1)),4))"
   ]
  },
  {
   "cell_type": "code",
   "execution_count": 82,
   "metadata": {},
   "outputs": [
    {
     "name": "stdout",
     "output_type": "stream",
     "text": [
      "Mean psnr 9.7047\n",
      "Std psnr 1.8492\n",
      "Min psnr 7.7131\n",
      "Max psnr 16.6249\n"
     ]
    }
   ],
   "source": [
    "# computing PSNR\n",
    "psnr = PSNR(adversarial.reshape(adversarial.shape[0],32,32),evolved_examples.reshape(evolved_examples.shape[0],32,32))\n",
    "\n",
    "print(f\"Mean psnr {round(np.mean(psnr),4)}\")\n",
    "print(f\"Std psnr {round(np.std(psnr),4)}\")\n",
    "print(f\"Min psnr {round(np.min(psnr),4)}\")\n",
    "print(f\"Max psnr {round(np.max(psnr),4)}\")\n",
    "\n"
   ]
  },
  {
   "cell_type": "markdown",
   "metadata": {},
   "source": [
    " 1-K CROSSOVER\n"
   ]
  },
  {
   "cell_type": "code",
   "execution_count": 83,
   "metadata": {},
   "outputs": [],
   "source": [
    "with open('./results/GA_cifar_ssim_1K, 'rb') as f:\n",
    "    evolved_examples = pickle.load(f)\n",
    "    times= pickle.load(f)\n",
    "    ssim_values = pickle.load(f)\n",
    "    fitness_of_evolved = pickle.load(f)\n",
    "    predicted_class = pickle.load(f)\n",
    "    number_of_rounds = pickle.load(f)"
   ]
  },
  {
   "cell_type": "code",
   "execution_count": 84,
   "metadata": {},
   "outputs": [
    {
     "name": "stdout",
     "output_type": "stream",
     "text": [
      "Accuracy on adversarial after:  0.0602\n"
     ]
    }
   ],
   "source": [
    "# computing accuracy on adversarial after \n",
    "evolved_examples = np.array(evolved_examples)\n",
    "ev=evolved_examples/ 255.0\n",
    "y_pred_adversarial = model.predict(np.expand_dims(ev.reshape(ev.shape[0],32,32),axis=3))\n",
    "print(\"Accuracy on adversarial after: \", round(accuracy_score(adversarial_y,np.argmax(y_pred_adversarial,axis=1)),4))"
   ]
  },
  {
   "cell_type": "code",
   "execution_count": 85,
   "metadata": {},
   "outputs": [
    {
     "name": "stdout",
     "output_type": "stream",
     "text": [
      "(1047, 32, 32, 1)\n",
      "Accuracy on subsample after:  0.7278\n"
     ]
    }
   ],
   "source": [
    "# computing accuracy on subset after\n",
    "#concatenating original and evolved images\n",
    "subsample = np.concatenate((original,evolved_examples.reshape(evolved_examples.shape[0],32,32,1)))\n",
    "print(subsample.shape)\n",
    "\n",
    "subsample_sc = subsample / 255.0\n",
    "#concatenating the ground truth labels original + adversarial\n",
    "subsample_y = np.concatenate((original_y,adversarial_y))\n",
    "y_pred_subsample = model.predict(np.expand_dims(subsample_sc.reshape(subsample_sc.shape[0],32,32),axis=3))\n",
    "print(\"Accuracy on subsample after: \", round(accuracy_score(subsample_y,np.argmax(y_pred_subsample,axis=1)),4))"
   ]
  },
  {
   "cell_type": "code",
   "execution_count": 86,
   "metadata": {},
   "outputs": [
    {
     "name": "stdout",
     "output_type": "stream",
     "text": [
      "Mean psnr 9.4886\n",
      "Std psnr 1.756\n",
      "Min psnr 7.6144\n",
      "Max psnr 17.9436\n"
     ]
    }
   ],
   "source": [
    "# computing PSNR\n",
    "psnr = PSNR(adversarial.reshape(adversarial.shape[0],32,32),evolved_examples.reshape(ev.shape[0],32,32))\n",
    "\n",
    "print(f\"Mean psnr {round(np.mean(psnr),4)}\")\n",
    "print(f\"Std psnr {round(np.std(psnr),4)}\")\n",
    "print(f\"Min psnr {round(np.min(psnr),4)}\")\n",
    "print(f\"Max psnr {round(np.max(psnr),4)}\")\n",
    "\n"
   ]
  },
  {
   "cell_type": "markdown",
   "metadata": {},
   "source": [
    "UNIFORM REAL "
   ]
  },
  {
   "cell_type": "code",
   "execution_count": 31,
   "metadata": {},
   "outputs": [],
   "source": [
    "with open('./results/GA_cifar_ssim_uniform', 'rb') as f:\n",
    "    evolved_examples = pickle.load(f)\n",
    "    times= pickle.load(f)\n",
    "    ssim_values = pickle.load(f)\n",
    "    fitness_of_evolved = pickle.load(f)\n",
    "    predicted_class = pickle.load(f)\n",
    "    number_of_rounds = pickle.load(f)"
   ]
  },
  {
   "cell_type": "code",
   "execution_count": 101,
   "metadata": {
    "collapsed": true
   },
   "outputs": [
    {
     "name": "stdout",
     "output_type": "stream",
     "text": [
      "Mean ssim 0.9635\n",
      "Std ssim 0.0413\n",
      "Min ssim 0.6811\n",
      "Max ssim 1.0\n"
     ]
    }
   ],
   "source": [
    "s = [1-x for x in ssim_values]\n",
    "print(f\"Mean ssim {round(np.mean(s),4)}\")\n",
    "print(f\"Std ssim {round(np.std(s),4)}\")\n",
    "print(f\"Min ssim {round(np.min(s),4)}\")\n",
    "print(f\"Max ssim {round(np.max(s),4)}\")\n"
   ]
  },
  {
   "cell_type": "code",
   "execution_count": 102,
   "metadata": {
    "collapsed": true
   },
   "outputs": [
    {
     "name": "stdout",
     "output_type": "stream",
     "text": [
      "Mean time 539.6948\n",
      "Std time 776.7679\n",
      "Min time 5.3151\n",
      "Max time 8776.4016\n"
     ]
    }
   ],
   "source": [
    "print(f\"Mean time {round(np.mean(times),4)}\")\n",
    "print(f\"Std time {round(np.std(times),4)}\")\n",
    "print(f\"Min time {round(np.min(times),4)}\")\n",
    "print(f\"Max time {round(np.max(times),4)}\")\n"
   ]
  },
  {
   "cell_type": "code",
   "execution_count": 103,
   "metadata": {},
   "outputs": [
    {
     "name": "stdout",
     "output_type": "stream",
     "text": [
      "Mean number_of_rounds 113.3233\n",
      "Std number_of_rounds 66.8618\n",
      "Min number_of_rounds 0\n",
      "Max number_of_rounds 396\n"
     ]
    }
   ],
   "source": [
    "print(f\"Mean number_of_rounds {round(np.mean(number_of_rounds),4)}\")\n",
    "print(f\"Std number_of_rounds {round(np.std(number_of_rounds),4)}\")\n",
    "print(f\"Min number_of_rounds {round(np.min(number_of_rounds),4)}\")\n",
    "print(f\"Max number_of_rounds {round(np.max(number_of_rounds),4)}\")\n"
   ]
  },
  {
   "cell_type": "code",
   "execution_count": 95,
   "metadata": {},
   "outputs": [
    {
     "name": "stdout",
     "output_type": "stream",
     "text": [
      "Accuracy on adversarial after:  0.0677\n"
     ]
    }
   ],
   "source": [
    "# computing accuracy on adversarial after \n",
    "evolved_examples = np.array(evolved_examples)\n",
    "ev=evolved_examples/ 255.0\n",
    "y_pred_adversarial = model.predict(np.expand_dims(ev.reshape(ev.shape[0],32,32),axis=3))\n",
    "print(\"Accuracy on adversarial after: \", round(accuracy_score(adversarial_y,np.argmax(y_pred_adversarial,axis=1)),4))"
   ]
  },
  {
   "cell_type": "code",
   "execution_count": 97,
   "metadata": {},
   "outputs": [
    {
     "name": "stdout",
     "output_type": "stream",
     "text": [
      "(1047, 32, 32, 1)\n",
      "Accuracy on subsample after:  0.7287\n"
     ]
    }
   ],
   "source": [
    "# computing accuracy on subset after\n",
    "#concatenating original and evolved images\n",
    "subsample = np.concatenate((original,evolved_examples.reshape(evolved_examples.shape[0],32,32,1)))\n",
    "print(subsample.shape)\n",
    "\n",
    "subsample_sc = subsample / 255.0\n",
    "#concatenating the ground truth labels original + adversarial\n",
    "subsample_y = np.concatenate((original_y,adversarial_y))\n",
    "y_pred_subsample = model.predict(np.expand_dims(subsample_sc.reshape(subsample_sc.shape[0],32,32),axis=3))\n",
    "print(\"Accuracy on subsample after: \", round(accuracy_score(subsample_y,np.argmax(y_pred_subsample,axis=1)),4))"
   ]
  },
  {
   "cell_type": "code",
   "execution_count": 98,
   "metadata": {},
   "outputs": [
    {
     "name": "stdout",
     "output_type": "stream",
     "text": [
      "Mean psnr 9.5506\n",
      "Std psnr 1.8654\n",
      "Min psnr 7.8119\n",
      "Max psnr 20.4498\n"
     ]
    }
   ],
   "source": [
    "# computing PSNR\n",
    "psnr = PSNR(adversarial.reshape(adversarial.shape[0],32,32),evolved_examples.reshape(evolved_examples.shape[0],32,32))\n",
    "\n",
    "print(f\"Mean psnr {round(np.mean(psnr),4)}\")\n",
    "print(f\"Std psnr {round(np.std(psnr),4)}\")\n",
    "print(f\"Min psnr {round(np.min(psnr),4)}\")\n",
    "print(f\"Max psnr {round(np.max(psnr),4)}\")\n"
   ]
  },
  {
   "cell_type": "code",
   "execution_count": null,
   "metadata": {},
   "outputs": [],
   "source": []
  }
 ],
 "metadata": {
  "kernelspec": {
   "display_name": "Python 3",
   "language": "python",
   "name": "python3"
  },
  "language_info": {
   "codemirror_mode": {
    "name": "ipython",
    "version": 3
   },
   "file_extension": ".py",
   "mimetype": "text/x-python",
   "name": "python",
   "nbconvert_exporter": "python",
   "pygments_lexer": "ipython3",
   "version": "3.7.3"
  }
 },
 "nbformat": 4,
 "nbformat_minor": 2
}
