{
  "nbformat": 4,
  "nbformat_minor": 0,
  "metadata": {
    "colab": {
      "name": "GA_CIFAR_SSIM_quadrant_crossover.ipynb",
      "provenance": [],
      "collapsed_sections": []
    },
    "kernelspec": {
      "name": "python3",
      "display_name": "Python 3"
    }
  },
  "cells": [
    {
      "cell_type": "markdown",
      "metadata": {
        "id": "OmqP9iw8qi2w",
        "colab_type": "text"
      },
      "source": [
        "# IMPORT"
      ]
    },
    {
      "cell_type": "markdown",
      "metadata": {
        "id": "a4o2nRW3uHkP",
        "colab_type": "text"
      },
      "source": [
        "In this notebook I did not normalized images before evolving, just when predicting"
      ]
    },
    {
      "cell_type": "code",
      "metadata": {
        "id": "lV-6sDntqd61",
        "colab_type": "code",
        "outputId": "17ca5e70-d828-4376-87e2-69afad4e5924",
        "colab": {
          "base_uri": "https://localhost:8080/",
          "height": 68
        }
      },
      "source": [
        "import tensorflow as tf\n",
        "import numpy as np \n",
        "import matplotlib.pyplot as plt\n",
        "import seaborn as sns\n",
        "from sklearn.svm import SVC\n",
        "import pickle\n",
        "import time\n",
        "from skimage.measure import compare_ssim\n",
        "import tensorflow as tf\n",
        "from keras.models import Model,load_model\n",
        "from keras.layers import Dense, Conv2D, Dropout, Flatten, MaxPooling2D, Input, Activation\n",
        "from keras.utils import to_categorical\n",
        "import keras"
      ],
      "execution_count": 1,
      "outputs": [
        {
          "output_type": "stream",
          "text": [
            "/usr/local/lib/python3.6/dist-packages/statsmodels/tools/_testing.py:19: FutureWarning: pandas.util.testing is deprecated. Use the functions in the public API at pandas.testing instead.\n",
            "  import pandas.util.testing as tm\n",
            "Using TensorFlow backend.\n"
          ],
          "name": "stderr"
        }
      ]
    },
    {
      "cell_type": "code",
      "metadata": {
        "id": "kGtAwbEMqmmv",
        "colab_type": "code",
        "colab": {}
      },
      "source": [
        "np.random.seed(0)"
      ],
      "execution_count": 0,
      "outputs": []
    },
    {
      "cell_type": "markdown",
      "metadata": {
        "id": "UMYv1iroqpKy",
        "colab_type": "text"
      },
      "source": [
        "# GLOBAL VARS"
      ]
    },
    {
      "cell_type": "code",
      "metadata": {
        "id": "3JLxcgMPqoDE",
        "colab_type": "code",
        "colab": {}
      },
      "source": [
        "INDIVIDUALS = 50\n",
        "P_CROSS = 0.6\n",
        "P_MUTATION = 0.01\n",
        "CIFAR_IMG= 32"
      ],
      "execution_count": 0,
      "outputs": []
    },
    {
      "cell_type": "markdown",
      "metadata": {
        "id": "uhUutenzqt18",
        "colab_type": "text"
      },
      "source": [
        "# THE DATA"
      ]
    },
    {
      "cell_type": "code",
      "metadata": {
        "id": "ZZTtcGJAJLuM",
        "colab_type": "code",
        "outputId": "06b09766-13ae-4802-a68e-3b5bef46a6c3",
        "colab": {
          "base_uri": "https://localhost:8080/",
          "height": 187
        }
      },
      "source": [
        "from keras.datasets import cifar10\n",
        "\n",
        "# The data, split between train and test sets:\n",
        "(x_train_C, y_train_C), (x_test_C, y_test_C) = cifar10.load_data()\n",
        "print('x_train shape:', x_train_C.shape)\n",
        "print(x_train_C.shape[0], 'train samples')\n",
        "print(x_test_C.shape[0], 'test samples')\n",
        "\n",
        "# Convert class vectors to binary class matrices.\n",
        "num_classes=10\n",
        "epochs=10\n",
        "img_shape=32 \n",
        "y_train_C = to_categorical(y_train_C, num_classes)\n",
        "y_test_C = to_categorical(y_test_C, num_classes)\n",
        "\n",
        "\n",
        "input_shape=(32,32,1)\n",
        "\n",
        "x_train_C = x_train_C.astype('float32')\n",
        "x_test_C = x_test_C.astype('float32')\n",
        "x_train_C /= 255\n",
        "x_test_C /= 255\n",
        "\n",
        "\n",
        "print('x_train shape:', x_train_C.shape)\n",
        "print('Number of images in x_train', x_train_C.shape[0])\n",
        "print('Number of images in x_test', x_test_C.shape[0])\n",
        "print('y_train shape:', y_train_C.shape)\n",
        "print(\"input shape: \",input_shape)\n",
        "\n",
        "\n",
        "# CONVERT TO GRAY SCALE\n",
        "\n",
        "import matplotlib.pyplot as plt\n",
        "import numpy as np\n",
        "\n",
        "def grayscale(data, dtype='float32'):\n",
        "    # luma coding weighted average in video systems\n",
        "    r, g, b = np.asarray(.3, dtype=dtype), np.asarray(.59, dtype=dtype), np.asarray(.11, dtype=dtype)\n",
        "    rst = r * data[:, :, :, 0] + g * data[:, :, :, 1] + b * data[:, :, :, 2]\n",
        "    # add channel dimension\n",
        "    rst = np.expand_dims(rst, axis=3)\n",
        "    return rst\n",
        "\n",
        "x_train_C = grayscale(x_train_C)\n",
        "x_test_C = grayscale(x_test_C)\n",
        "\n",
        "# now we have only one channel in the images\n",
        "img_channels = 1\n",
        "\n"
      ],
      "execution_count": 4,
      "outputs": [
        {
          "output_type": "stream",
          "text": [
            "Downloading data from https://www.cs.toronto.edu/~kriz/cifar-10-python.tar.gz\n",
            "170500096/170498071 [==============================] - 2s 0us/step\n",
            "x_train shape: (50000, 32, 32, 3)\n",
            "50000 train samples\n",
            "10000 test samples\n",
            "x_train shape: (50000, 32, 32, 3)\n",
            "Number of images in x_train 50000\n",
            "Number of images in x_test 10000\n",
            "y_train shape: (50000, 10)\n",
            "input shape:  (32, 32, 1)\n"
          ],
          "name": "stdout"
        }
      ]
    },
    {
      "cell_type": "markdown",
      "metadata": {
        "id": "_--StA9kq4mw",
        "colab_type": "text"
      },
      "source": [
        "# READ PICKLE FILES"
      ]
    },
    {
      "cell_type": "code",
      "metadata": {
        "id": "F3glGbBeq2lz",
        "colab_type": "code",
        "colab": {}
      },
      "source": [
        "with open('subset_cifar', 'rb') as f:\n",
        "    original = pickle.load(f)\n",
        "    adversarial= pickle.load(f)\n",
        "    original_y = pickle.load(f)\n",
        "    adversarial_y = pickle.load(f)"
      ],
      "execution_count": 0,
      "outputs": []
    },
    {
      "cell_type": "code",
      "metadata": {
        "id": "n1LZoAPNq996",
        "colab_type": "code",
        "outputId": "7e1afde5-6d0a-4c39-a4d9-c00af27d5465",
        "colab": {
          "base_uri": "https://localhost:8080/",
          "height": 85
        }
      },
      "source": [
        "print(f\"Original shape {original.shape}\")\n",
        "print(f\"Adversarial shape {adversarial.shape}\")\n",
        "print(f\"Original labels shape {original_y.shape}\")\n",
        "print(f\"Adversarial labels shape {adversarial_y.shape}\")"
      ],
      "execution_count": 6,
      "outputs": [
        {
          "output_type": "stream",
          "text": [
            "Original shape (914, 32, 32, 1)\n",
            "Adversarial shape (133, 32, 32, 1)\n",
            "Original labels shape (914, 1)\n",
            "Adversarial labels shape (133, 1)\n"
          ],
          "name": "stdout"
        }
      ]
    },
    {
      "cell_type": "markdown",
      "metadata": {
        "id": "zr0TMOV_q_9J",
        "colab_type": "text"
      },
      "source": [
        "# LOAD THE MODEL"
      ]
    },
    {
      "cell_type": "markdown",
      "metadata": {
        "id": "JibFPCmerJwW",
        "colab_type": "text"
      },
      "source": [
        "3. CNN v2\n",
        "\n",
        "This network is made for CIFAR 10. The network is taken from [this blog]( https://appliedmachinelearning.blog/2018/03/24/achieving-90-accuracy-in-object-recognition-task-on-cifar-10-dataset-with-keras-convolutional-neural-networks/) . In this version below I didn't use some things used in the blog e.g. z-score and data augmentation.\n",
        "\n",
        "\n",
        "This network has training accuracy: 0.8940 , validation accuracy: 0.8245.\n",
        "\n",
        "**NOTE:** Training really slow, try to avoid it."
      ]
    },
    {
      "cell_type": "code",
      "metadata": {
        "id": "DjDjKgyWJwqY",
        "colab_type": "code",
        "outputId": "dd0287a4-c00a-4dea-b3d9-8620c0c30b90",
        "colab": {
          "base_uri": "https://localhost:8080/",
          "height": 1000
        }
      },
      "source": [
        "# Network 3 \n",
        "import keras\n",
        "from keras.models import Sequential\n",
        "from keras.utils import np_utils\n",
        "from keras.preprocessing.image import ImageDataGenerator\n",
        "from keras.layers import Dense, Activation, Flatten, Dropout, BatchNormalization\n",
        "from keras.layers import Conv2D, MaxPooling2D\n",
        "from keras.datasets import cifar10\n",
        "from keras import regularizers\n",
        "from keras.callbacks import LearningRateScheduler\n",
        "import numpy as np\n",
        "\n",
        "input_shape = (CIFAR_IMG,CIFAR_IMG,1)\n",
        "weight_decay = 1e-4\n",
        "model = Sequential()\n",
        "model.add(Conv2D(32, (3,3), padding='same', kernel_regularizer=regularizers.l2(weight_decay), input_shape=input_shape))\n",
        "model.add(Activation('elu'))\n",
        "model.add(BatchNormalization())\n",
        "model.add(Conv2D(32, (3,3), padding='same', kernel_regularizer=regularizers.l2(weight_decay)))\n",
        "model.add(Activation('elu'))\n",
        "model.add(BatchNormalization())\n",
        "model.add(MaxPooling2D(pool_size=(2,2)))\n",
        "model.add(Dropout(0.2))\n",
        " \n",
        "model.add(Conv2D(64, (3,3), padding='same', kernel_regularizer=regularizers.l2(weight_decay)))\n",
        "model.add(Activation('elu'))\n",
        "model.add(BatchNormalization())\n",
        "model.add(Conv2D(64, (3,3), padding='same', kernel_regularizer=regularizers.l2(weight_decay)))\n",
        "model.add(Activation('elu'))\n",
        "model.add(BatchNormalization())\n",
        "model.add(MaxPooling2D(pool_size=(2,2)))\n",
        "model.add(Dropout(0.3))\n",
        " \n",
        "model.add(Conv2D(128, (3,3), padding='same', kernel_regularizer=regularizers.l2(weight_decay)))\n",
        "model.add(Activation('elu'))\n",
        "model.add(BatchNormalization())\n",
        "model.add(Conv2D(128, (3,3), padding='same', kernel_regularizer=regularizers.l2(weight_decay)))\n",
        "model.add(Activation('elu'))\n",
        "model.add(BatchNormalization())\n",
        "model.add(MaxPooling2D(pool_size=(2,2)))\n",
        "model.add(Dropout(0.4))\n",
        " \n",
        "model.add(Flatten())\n",
        "model.add(Dense(10, activation='softmax'))\n",
        " \n",
        "model.summary()\n",
        "\n",
        "\n",
        "model.compile(loss='categorical_crossentropy', optimizer='adam', metrics=['accuracy'])\n",
        "\n",
        "\n",
        "'''\n",
        "history = model.fit(x=x_train_C,y=y_train_C, epochs=150, batch_size=64, validation_data=[x_test_C,y_test_C])\n",
        "\n",
        "score= model.evaluate(x_test_C, y_test_C,verbose=0)\n",
        "print('Test loss:', score[0])\n",
        "print('Test accuracy:', score[1])\n",
        "\n",
        "model.save_weights(\"CNN_CIFAR10_net3.h5\")\n",
        "files.download('CNN_CIFAR10_net3.h5')\n",
        "'''\n",
        "\n",
        "model = load_model(\"CNN_CIFAR10_net3.h5\")"
      ],
      "execution_count": 7,
      "outputs": [
        {
          "output_type": "stream",
          "text": [
            "Model: \"sequential_1\"\n",
            "_________________________________________________________________\n",
            "Layer (type)                 Output Shape              Param #   \n",
            "=================================================================\n",
            "conv2d_1 (Conv2D)            (None, 32, 32, 32)        320       \n",
            "_________________________________________________________________\n",
            "activation_1 (Activation)    (None, 32, 32, 32)        0         \n",
            "_________________________________________________________________\n",
            "batch_normalization_1 (Batch (None, 32, 32, 32)        128       \n",
            "_________________________________________________________________\n",
            "conv2d_2 (Conv2D)            (None, 32, 32, 32)        9248      \n",
            "_________________________________________________________________\n",
            "activation_2 (Activation)    (None, 32, 32, 32)        0         \n",
            "_________________________________________________________________\n",
            "batch_normalization_2 (Batch (None, 32, 32, 32)        128       \n",
            "_________________________________________________________________\n",
            "max_pooling2d_1 (MaxPooling2 (None, 16, 16, 32)        0         \n",
            "_________________________________________________________________\n",
            "dropout_1 (Dropout)          (None, 16, 16, 32)        0         \n",
            "_________________________________________________________________\n",
            "conv2d_3 (Conv2D)            (None, 16, 16, 64)        18496     \n",
            "_________________________________________________________________\n",
            "activation_3 (Activation)    (None, 16, 16, 64)        0         \n",
            "_________________________________________________________________\n",
            "batch_normalization_3 (Batch (None, 16, 16, 64)        256       \n",
            "_________________________________________________________________\n",
            "conv2d_4 (Conv2D)            (None, 16, 16, 64)        36928     \n",
            "_________________________________________________________________\n",
            "activation_4 (Activation)    (None, 16, 16, 64)        0         \n",
            "_________________________________________________________________\n",
            "batch_normalization_4 (Batch (None, 16, 16, 64)        256       \n",
            "_________________________________________________________________\n",
            "max_pooling2d_2 (MaxPooling2 (None, 8, 8, 64)          0         \n",
            "_________________________________________________________________\n",
            "dropout_2 (Dropout)          (None, 8, 8, 64)          0         \n",
            "_________________________________________________________________\n",
            "conv2d_5 (Conv2D)            (None, 8, 8, 128)         73856     \n",
            "_________________________________________________________________\n",
            "activation_5 (Activation)    (None, 8, 8, 128)         0         \n",
            "_________________________________________________________________\n",
            "batch_normalization_5 (Batch (None, 8, 8, 128)         512       \n",
            "_________________________________________________________________\n",
            "conv2d_6 (Conv2D)            (None, 8, 8, 128)         147584    \n",
            "_________________________________________________________________\n",
            "activation_6 (Activation)    (None, 8, 8, 128)         0         \n",
            "_________________________________________________________________\n",
            "batch_normalization_6 (Batch (None, 8, 8, 128)         512       \n",
            "_________________________________________________________________\n",
            "max_pooling2d_3 (MaxPooling2 (None, 4, 4, 128)         0         \n",
            "_________________________________________________________________\n",
            "dropout_3 (Dropout)          (None, 4, 4, 128)         0         \n",
            "_________________________________________________________________\n",
            "flatten_1 (Flatten)          (None, 2048)              0         \n",
            "_________________________________________________________________\n",
            "dense_1 (Dense)              (None, 10)                20490     \n",
            "=================================================================\n",
            "Total params: 308,714\n",
            "Trainable params: 307,818\n",
            "Non-trainable params: 896\n",
            "_________________________________________________________________\n"
          ],
          "name": "stdout"
        }
      ]
    },
    {
      "cell_type": "markdown",
      "metadata": {
        "id": "MGSQOJJprRG-",
        "colab_type": "text"
      },
      "source": [
        "# GENETIC ALGORITHM FUNCTIONS"
      ]
    },
    {
      "cell_type": "code",
      "metadata": {
        "id": "TQuqZrKL4qqW",
        "colab_type": "code",
        "colab": {}
      },
      "source": [
        "\n",
        "def computing_SSIM(individual,target):\n",
        "    return compare_ssim(individual.reshape(CIFAR_IMG,CIFAR_IMG), target.reshape(CIFAR_IMG,CIFAR_IMG))\n",
        "\n",
        "def calculate_fitness(model,ind,target_image,label,l1=0.2, l2=0.8, N=50, num_classes=10):\n",
        "  # predict the population\n",
        "  predictions=model.predict(ind.reshape(1,CIFAR_IMG,CIFAR_IMG,1) / 255.0)  \n",
        "  # po is the ground truth prediction, so for label = 0, it will be prediciton[0]\n",
        "  predictions=predictions[0]\n",
        "  po=predictions[label]\n",
        "  # set that value to 0\n",
        "  predictions[label]=0\n",
        "  # take next highest one\n",
        "  pd = np.max(predictions)\n",
        "  diff=pd-po\n",
        "  return l1*computing_SSIM(ind.reshape(CIFAR_IMG,CIFAR_IMG),target_image.reshape(CIFAR_IMG,CIFAR_IMG)) +l2*(diff)\n",
        "  \n",
        "\n",
        "\n",
        "def pop_fitness(model,pop,target,label):\n",
        "    return [calculate_fitness(model, p, target, label) for p in pop]\n",
        "\n",
        "def flatten(imgs):\n",
        "    # flatten all images in np array or list\n",
        "    return np.array([im.flatten() for im in imgs])\n",
        "\n",
        "def gaussian_noise():\n",
        "    # draw one sample of noise from zero mean 1 variance Gaussian\n",
        "    return np.random.normal(0, 10)\n",
        "\n",
        "def p_noise(x):\n",
        "  if 0.01 > np.random.uniform():\n",
        "    return x + gaussian_noise()\n",
        "  else:\n",
        "    return x\n",
        "    \n",
        "def add_noise(image):\n",
        "    noise_v=np.vectorize(p_noise)\n",
        "    return noise_v(image) #np.array([x + gaussian_noise() if P_MUTATION > np.random.uniform(0.0, 1.0) else x+0 for x in image])\n",
        "\n",
        "def k_crossover(im1, im2, k=2):\n",
        "    c1, c2 = [], []\n",
        "    # get k crossover points\n",
        "    points = sorted([np.random.randint(0, CIFAR_IMG*CIFAR_IMG-1, 1) for p in range(k)])\n",
        "    points = sorted([np.random.randint(0,CIFAR_IMG*CIFAR_IMG-1,1) for p in range(k)])\n",
        "    im_1_split = np.split(im1, [int(p) for p in points])\n",
        "    im_2_split = np.split(im2, [int(p) for p in points])\n",
        "    \n",
        "    # alternate between lists to realise crossover (theres got to be a more clever way to do this)\n",
        "    for i in range(k+1):\n",
        "        if i % 2 == 0:\n",
        "            c1.append(im_1_split[i])\n",
        "            c2.append(im_2_split[i])\n",
        "        else:\n",
        "            c1.append(im_2_split[i])\n",
        "            c2.append(im_1_split[i])\n",
        "    return np.concatenate(c1, axis=0), np.concatenate(c2, axis=0)\n",
        "\n",
        "def tournament(pop, model, ground_truth, target, k=3):\n",
        "\n",
        "    indices = np.random.choice(range(len(pop)), k, replace=False) #we get 3 indxes [2 34 46]    \n",
        "    individuals = pop.take(indices,axis=0)\n",
        "    scores = pop_fitness(model,np.expand_dims(individuals.reshape(individuals.shape[0],CIFAR_IMG,CIFAR_IMG),axis=3), ground_truth.reshape(CIFAR_IMG,CIFAR_IMG), target)\n",
        "    index_max = np.argmax(scores)\n",
        "    winner = individuals[index_max]\n",
        "    return winner\n",
        "\n",
        "\n",
        "def check_adv_termination(ind, label,ground_truth, model):\n",
        "  # individual - the best one from the generation\n",
        "  # label - class we want\n",
        "  # ground_truth - the image (32,32)\n",
        "  # model we are using \n",
        "  dist = 1-compare_ssim(ind.reshape(CIFAR_IMG,CIFAR_IMG),ground_truth.reshape(CIFAR_IMG,CIFAR_IMG))\n",
        "  predictions= model.predict(ind.reshape(1,CIFAR_IMG,CIFAR_IMG,1)/255.0)\n",
        "  predicted_label= np.argmax(predictions[0])\n",
        "  if label != predicted_label and dist < 0.001:\n",
        "    print(\"FOUND ADVERSARIAL\")\n",
        "    print(f\"Fitness of the adversarial {calculate_fitness(model,ind,ground_truth,label)}\")\n",
        "    return ind\n",
        "  return []\n",
        "\n",
        "def init_pop_from_sample(n,img,label):\n",
        "    x = np.array([add_noise(img) for i in range(n)])\n",
        "    return x.reshape(n, CIFAR_IMG*CIFAR_IMG)\n",
        "\n"
      ],
      "execution_count": 0,
      "outputs": []
    },
    {
      "cell_type": "markdown",
      "metadata": {
        "id": "-epJQRlguXyK",
        "colab_type": "text"
      },
      "source": [
        "Functions from the past, just didn't want to erase them yet"
      ]
    },
    {
      "cell_type": "code",
      "metadata": {
        "id": "zlm5dKzOuXNw",
        "colab_type": "code",
        "outputId": "00d4613d-f533-4e7a-cce0-cd5ad53ee562",
        "colab": {
          "base_uri": "https://localhost:8080/",
          "height": 54
        }
      },
      "source": [
        "'''\n",
        "def check_adverserial(pop, model, fitness, target,ground_truth):\n",
        "    #print(f\"this is adversarial function\")\n",
        "    preds=model.predict(pop.reshape(pop.shape[0],28,28,1))\n",
        "    #print(f\"These are predictions made here {preds}\")\n",
        "    for ind, pr in zip(pop,preds): \n",
        "      #print(f\"prediction for an individual {pr}\")\n",
        "      preds=np.argmax(pr)\n",
        "      #print(f\"getting the index of highest value in predictions {preds}\")\n",
        "      #setting the value to 0\n",
        "      pr[0]=0\n",
        "      #print(f\"this is our target {target}\")\n",
        "      #print(f\"this is out ground_truth {ground_truth.shape}\")\n",
        "      fitness=computing_SSIM(ind.reshape(28,28),ground_truth.reshape(28,28))\n",
        "      #print(f\"these are the fitness values {fitness}\")\n",
        "      next_highest = np.argmax(pr)\n",
        "      #print(f\"getting the next highest value {next_highest}\")\n",
        "      if next_highest != target and fitness > 0.98:\n",
        "          return ind, True\n",
        "      return None, False\n",
        "\n",
        "def init_pop(n, num, data, labels):\n",
        "    indices = np.where(labels==num)[0]\n",
        "    n_indices = np.random.choice(indices, n, replace=True)\n",
        "    sample = np.take(data, n_indices, axis=0)\n",
        "    return sample, np.full((n), num, dtype=int) # return sample+array of labels\n",
        "\n",
        "\n",
        "Cyrils model\n",
        "\n",
        "def save_trained_model(model, filename='SVC_model.sav'):\n",
        "    pickle.dump(model, open(filename, 'wb'))\n",
        "    \n",
        "def load_trained_model(filename='SVC_model.sav'):\n",
        "    return pickle.load(open(filename, 'rb'))\n",
        "\n",
        "'''"
      ],
      "execution_count": 0,
      "outputs": [
        {
          "output_type": "execute_result",
          "data": {
            "text/plain": [
              "'\\ndef check_adverserial(pop, model, fitness, target,ground_truth):\\n    #print(f\"this is adversarial function\")\\n    preds=model.predict(pop.reshape(pop.shape[0],28,28,1))\\n    #print(f\"These are predictions made here {preds}\")\\n    for ind, pr in zip(pop,preds): \\n      #print(f\"prediction for an individual {pr}\")\\n      preds=np.argmax(pr)\\n      #print(f\"getting the index of highest value in predictions {preds}\")\\n      #setting the value to 0\\n      pr[0]=0\\n      #print(f\"this is our target {target}\")\\n      #print(f\"this is out ground_truth {ground_truth.shape}\")\\n      fitness=computing_SSIM(ind.reshape(28,28),ground_truth.reshape(28,28))\\n      #print(f\"these are the fitness values {fitness}\")\\n      next_highest = np.argmax(pr)\\n      #print(f\"getting the next highest value {next_highest}\")\\n      if next_highest != target and fitness > 0.98:\\n          return ind, True\\n      return None, False\\n\\ndef init_pop(n, num, data, labels):\\n    indices = np.where(labels==num)[0]\\n    n_indices = np.random.choice(indices, n, replace=True)\\n    sample = np.take(data, n_indices, axis=0)\\n    return sample, np.full((n), num, dtype=int) # return sample+array of labels\\n\\n\\nCyrils model\\n\\ndef save_trained_model(model, filename=\\'SVC_model.sav\\'):\\n    pickle.dump(model, open(filename, \\'wb\\'))\\n    \\ndef load_trained_model(filename=\\'SVC_model.sav\\'):\\n    return pickle.load(open(filename, \\'rb\\'))\\n\\n'"
            ]
          },
          "metadata": {
            "tags": []
          },
          "execution_count": 18
        }
      ]
    },
    {
      "cell_type": "code",
      "metadata": {
        "id": "FOEo4wAfggNs",
        "colab_type": "code",
        "colab": {}
      },
      "source": [
        "''' my part of the code ''' \n",
        "''' I know it is ugly, I will fix it . this is the intial version'''\n",
        "# from Goorge Clooney paper\n",
        "def quadrant_crossover(parent_1,parent_2):\n",
        "\n",
        "  # reshape parents\n",
        "  parent_1,parent_2= parent_1.reshape((CIFAR_IMG,CIFAR_IMG)), parent_2.reshape((CIFAR_IMG,CIFAR_IMG))\n",
        "  # quadrants for both parents\n",
        "  p1,p2,p3,p4,q1,q2,q3,q4 = [],[],[],[],[],[],[],[]\n",
        "  child1, child2 = [],[]\n",
        "  # getting random (x,y) point in 2D matrix\n",
        "  x,y = np.random.randint(0,CIFAR_IMG-1), np.random.randint(0,CIFAR_IMG-1)  \n",
        "\n",
        "  # choose which quadrant we want to crossover\n",
        "  N = np.random.randint(0,3)\n",
        "  #make quadrants\n",
        "  for i in range(CIFAR_IMG):\n",
        "    if (i<=x):\n",
        "      p1.append(parent_1[i][:y+1])\n",
        "      p2.append(parent_1[i][y+1:])\n",
        "      q1.append(parent_2[i][:y+1])\n",
        "      q2.append(parent_2[i][y+1:])\n",
        "    else:\n",
        "      p3.append(parent_1[i][:y+1])\n",
        "      p4.append(parent_1[i][y+1:])\n",
        "      q3.append(parent_2[i][:y+1])\n",
        "      q4.append(parent_2[i][y+1:])\n",
        "\n",
        "  if (N==0):\n",
        "    ch1 = connect_quadrants(p1,q2,q3,q4)\n",
        "    ch2 = connect_quadrants(q1,p2,p3,p4)\n",
        "  elif (N==1):\n",
        "    ch1 = connect_quadrants(q1,p2,q3,q4)\n",
        "    ch2 = connect_quadrants(p1,q2,p3,p4)\n",
        "  elif (N==2):\n",
        "    ch1 = connect_quadrants(q1,q2,p3,q4)\n",
        "    ch2 = connect_quadrants(p1,p2,q3,p4)\n",
        "  else:\n",
        "    ch1 = connect_quadrants(q1,q2,q3,p4)\n",
        "    ch2 = connect_quadrants(p1,p2,p3,q4)\n",
        "\n",
        "  return ch1,ch2\n",
        "\n",
        "def connect_quadrants(q1,q2,q3,q4):\n",
        "  left = np.concatenate((q1,q3))\n",
        "  right = np.concatenate((q2,q4))\n",
        "  image = np.concatenate((left,right),axis=1)\n",
        "  return image.flatten()\n",
        "\n",
        "\n",
        "def multi_crossover(parent1,parent2,target):\n",
        "  pop= []\n",
        "  # 2-k crossover\n",
        "  pop.append(k_crossover(parent1, parent2))\n",
        "  # Gorge Clooney crossover\n",
        "  pop.append(quadrant_crossover(parent1,parent2))\n",
        "  # uniform crossover\n",
        "  pop.append(k_crossover(parent1, parent2,1))\n",
        "  # SSIM similarity \n",
        "  flattened_list = [y for x in pop for y in x] # need to flatten the list because pop is list of lists, cause every crossover function returns 2 obj\n",
        "  ssim = [computing_SSIM(ind,target) for ind in flattened_list ]\n",
        "  # taking the index of largest two score\n",
        "  id1=np.argmax(ssim)\n",
        "  ssim[id1]=0\n",
        "  id2 = np.argmax(ssim)\n",
        "  #returning parents\n",
        "  return flattened_list[id1],flattened_list[id2]\n",
        "  \n"
      ],
      "execution_count": 0,
      "outputs": []
    },
    {
      "cell_type": "code",
      "metadata": {
        "id": "J7Z_4b8EqUmj",
        "colab_type": "code",
        "colab": {}
      },
      "source": [
        "def return_best_individual(pop,fitness):\n",
        "  index = np.argmax(fitness)\n",
        "  best = pop[index]\n",
        "  return best, np.max(fitness)"
      ],
      "execution_count": 0,
      "outputs": []
    },
    {
      "cell_type": "code",
      "metadata": {
        "id": "tcVTicSPvYoy",
        "colab_type": "code",
        "colab": {}
      },
      "source": [
        "def choose_better_child(ch1, ch2,ground_truth,label,model):\n",
        "  # I named it better child, but we choose by this parents as well\n",
        "  ch1_f = calculate_fitness(model,ch1.reshape(CIFAR_IMG,CIFAR_IMG),ground_truth.reshape(CIFAR_IMG,CIFAR_IMG),label)\n",
        "  ch2_f = calculate_fitness(model,ch2.reshape(CIFAR_IMG,CIFAR_IMG),ground_truth.reshape(CIFAR_IMG,CIFAR_IMG),label)\n",
        "  # change this into ternary operator\n",
        "  if ch1_f>ch2_f:\n",
        "    return ch1\n",
        "  else:\n",
        "    return ch2              \n"
      ],
      "execution_count": 0,
      "outputs": []
    },
    {
      "cell_type": "markdown",
      "metadata": {
        "id": "UiXxgPDmriTE",
        "colab_type": "text"
      },
      "source": [
        "# THE MAIN LOOP"
      ]
    },
    {
      "cell_type": "code",
      "metadata": {
        "id": "T-8hS44GPb2B",
        "colab_type": "code",
        "outputId": "3661aaab-b99a-4560-cacf-0335b114d94b",
        "colab": {
          "base_uri": "https://localhost:8080/",
          "height": 53
        }
      },
      "source": [
        "'''\n",
        "This not necessary when using subset \n",
        "'''\n",
        "'''\n",
        "X = flatten(x_train)\n",
        "X_t = flatten(x_test)\n",
        "print(f\"X train shape {X.shape}\")\n",
        "print(f\"X test shape {X_t.shape}\")\n",
        "print(f\"y train shape {y.shape}\")\n",
        "print(f\"y test shape {y_t.shape}\")\n",
        "'''"
      ],
      "execution_count": 0,
      "outputs": [
        {
          "output_type": "execute_result",
          "data": {
            "text/plain": [
              "'\\nX = flatten(x_train)\\nX_t = flatten(x_test)\\nprint(f\"X train shape {X.shape}\")\\nprint(f\"X test shape {X_t.shape}\")\\nprint(f\"y train shape {y.shape}\")\\nprint(f\"y test shape {y_t.shape}\")\\n'"
            ]
          },
          "metadata": {
            "tags": []
          },
          "execution_count": 51
        }
      ]
    },
    {
      "cell_type": "code",
      "metadata": {
        "id": "r99NLfBt-ngX",
        "colab_type": "code",
        "outputId": "8685d05f-e1ee-4c0c-e8bb-c46349d8acbf",
        "colab": {
          "base_uri": "https://localhost:8080/",
          "height": 953
        }
      },
      "source": [
        "# for each image and label in adversarial\n",
        "n=50\n",
        "import time\n",
        "# these are the examples that are found as adversarialwe will save these at the end in a file\n",
        "evolved_examples= []\n",
        "# fitness of the adversarials\n",
        "fitness_of_evolved=[]\n",
        "# time necessary to evolve the adversarial\n",
        "times=[]\n",
        "# the distance between the original image and the adversarial\n",
        "ssim_values=[]\n",
        "# number of round necessary to produce adversarial \n",
        "number_of_rounds=[]\n",
        "# this will serve to see if the fitness changes or not \n",
        "best_fitness = 0\n",
        "\n",
        "\n",
        "numb_of_found_after30=0\n",
        "numb_of_adv_found=0\n",
        "\n",
        "#dictionary to keep the best individual to check if the fitness is improving or not \n",
        "\n",
        "\n",
        "predicted_class= []\n",
        "for img,label in zip(adversarial,adversarial_y):\n",
        "  winner_of_gen = {\"image\":[],\"label\": None, \"fitness\": None}\n",
        "  #temporary variable to check generations:\n",
        "  fitness_no_change = 0\n",
        "  start = time.time()\n",
        "  label=label[0]\n",
        "  #intialize population from the image and with the given label\n",
        "  population = init_pop_from_sample(n,img,label)\n",
        "  # calculate fitness of these individuals\n",
        "  fitness = pop_fitness(model,np.expand_dims(population.reshape(population.shape[0],CIFAR_IMG,CIFAR_IMG),axis=3),img.reshape(CIFAR_IMG,CIFAR_IMG),label)\n",
        "  print(f\"Initial fitness: \\n {fitness}\")\n",
        "  #retun the best one from the population\n",
        "  best,fit_max = return_best_individual(population,fitness)\n",
        "  #check if adversarial\n",
        "  check_adv = check_adv_termination(best,label,img, model)\n",
        "  #define max generation\n",
        "  max_gen=0\n",
        "\n",
        "  while (len(check_adv)==0 or max_gen<10000):\n",
        "      new_pop=[]\n",
        "      for i in range(50):\n",
        "        parent1= tournament(population, model, img, label) \n",
        "        parent2 = tournament(population, model, img, label)\n",
        "        if 0.8 > np.random.uniform(0.0, 1.0):\n",
        "          child1, child2 = quadrant_crossover(parent1, parent2) # crossover\n",
        "          new_pop.append(add_noise(choose_better_child(child1, child2,img,label,model)))\n",
        "        else:\n",
        "          new_pop.append(add_noise(choose_better_child(parent1, parent2,img,label,model)))\n",
        "\n",
        "      # to reshape into an array \n",
        "      population= np.array(new_pop)\n",
        "      #check fitness of the generation\n",
        "      fitness = pop_fitness(model,np.expand_dims(population.reshape(population.shape[0],CIFAR_IMG,CIFAR_IMG),axis=3),img.reshape(CIFAR_IMG,CIFAR_IMG),label) \n",
        "      #find the highest fitness\n",
        "      best,fit_max1 = return_best_individual(population,fitness)\n",
        "      # check adversarial - check if pred != target, distance < 0.001 or fitness didn't improve 0.001 after 30 generations(this is in else condition)\n",
        "      check_adv = check_adv_termination(best,label,img,model)\n",
        "\n",
        "      #check if the first termination true \n",
        "      if(len(check_adv) != 0):\n",
        "        print(\"Adversarial example image: \\n\")\n",
        "        evolved_examples.append(check_adv) #add evolved example\n",
        "        ssim_values.append(1-compare_ssim(check_adv.rehspe(CIFAR_IMG,CIFAR_IMG),img.reshape(CIFAR_IMG,CIFAR_IMG))) #add the distance\n",
        "        end=time.time()\n",
        "        times.append(end-start) #add the time \n",
        "        fitness_of_evolved.append(calculate_fitness(model,check_adv,img,label)) #add the fitness value of adversarial\n",
        "        number_of_rounds.append(max_gen)\n",
        "        pred_l=np.argmax(model.predict(check_adv.reshape(1,CIFAR_IMG,CIFAR_IMG,1)/255.0))\n",
        "        predicted_class.append(pred_l)\n",
        "        print(\"Left: adversarial \\t Right: ground truth\")\n",
        "        fd, idx = plt.subplots(1,2)\n",
        "        idx[0].imshow(check_adv.reshape(CIFAR_IMG,CIFAR_IMG),cmap='gray')\n",
        "        idx[1].imshow(img.reshape(CIFAR_IMG,CIFAR_IMG),cmap='gray')\n",
        "        plt.show()\n",
        "        print(f\"True label: {label}\")\n",
        "        print(f\"predicted label: {pred_l}\") \n",
        "        print(\"Time: \",end-start ,\" seconds\")\n",
        "        numb_of_adv_found+=1\n",
        "        break\n",
        "      #check the second termination \n",
        "      else:\n",
        "          #check if fitness increases, if not , add +1 to temporary var\n",
        "        if fit_max1>fit_max:\n",
        "          fit_max=fit_max1\n",
        "          winner_of_gen.update(image= best)\n",
        "          winner_of_gen.update(label= label)\n",
        "          winner_of_gen.update(fitness= fit_max1)\n",
        "          fitness_no_change=0\n",
        "        else:\n",
        "          fitness_no_change+=1\n",
        "      \n",
        "      #print after every 10 generations to see the progress\n",
        "      if (max_gen % 10 == 0):\n",
        "        print(f\"Generation {max_gen}\")\n",
        "        print(f\"Max fitness value {fit_max}\")\n",
        "      max_gen+=1\n",
        "\n",
        "      # if fitness did not improve for 30 generations, save the image that was best , saved it in a dicitonary\n",
        "      if fitness_no_change==30:\n",
        "        print(\"FITNESS DID NOT IMPROVE FOR 30 GENERATIONS\")\n",
        "        print(\"Best adversarial image we could find: \\n\")\n",
        "        evolved_examples.append(winner_of_gen[\"image\"])\n",
        "        ssim_values.append(1-compare_ssim(np.array(winner_of_gen[\"image\"]).reshape(CIFAR_IMG,CIFAR_IMG),img.reshape(CIFAR_IMG,CIFAR_IMG)))\n",
        "        number_of_rounds.append(max_gen)\n",
        "        end=time.time()\n",
        "        times.append(end-start)\n",
        "        fitness_of_evolved.append(winner_of_gen[\"fitness\"])\n",
        "        pred_l=np.argmax(model.predict(np.array(winner_of_gen[\"image\"]).reshape(1,CIFAR_IMG,CIFAR_IMG,1)/255.0))\n",
        "        predicted_class.append(pred_l)\n",
        "        print(\"Left: adversarial \\t Right: ground truth\")\n",
        "        fd, idx = plt.subplots(1,2)\n",
        "        idx[0].imshow(np.array(winner_of_gen[\"image\"]).reshape(CIFAR_IMG,CIFAR_IMG),cmap='gray')\n",
        "        idx[1].imshow(img.reshape(CIFAR_IMG,CIFAR_IMG),cmap='gray')\n",
        "        plt.show()\n",
        "        print(f\"True label: {label}\")\n",
        "        print(f\"predicted label: {pred_l}\")\n",
        "        print(\"Time: \",end-start ,\" seconds\")\n",
        "        numb_of_found_after30 +=1\n",
        "        break\n",
        "\n",
        "\n"
      ],
      "execution_count": 0,
      "outputs": [
        {
          "output_type": "stream",
          "text": [
            "/usr/local/lib/python3.6/dist-packages/ipykernel_launcher.py:3: UserWarning: DEPRECATED: skimage.measure.compare_ssim has been moved to skimage.metrics.structural_similarity. It will be removed from skimage.measure in version 0.18.\n",
            "  This is separate from the ipykernel package so we can avoid doing imports until\n"
          ],
          "name": "stderr"
        },
        {
          "output_type": "stream",
          "text": [
            "Initial fitness: \n",
            " [-0.6010976456294307, -0.6022689701523863, -0.602735085941775, -0.600263577518728, -0.6004837724653709, -0.6001231147149579, -0.6004651497793057, -0.6005222574354647, -0.5998941929190198, -0.6034711283498593, -0.6032364779574653, -0.6017120308282579, -0.6027275385881912, -0.6013435297556654, -0.6007687433088569, -0.6007116198844941, -0.6045636483108575, -0.6013854053890274, -0.6003963202277068, -0.602256690671736, -0.6008555136517845, -0.6000661861240545, -0.6002978818096093, -0.600411770646208, -0.602347152632159, -0.6010247078277335, -0.6003311551125605, -0.6024765107085656, -0.6014261367251998, -0.6004568278739513, -0.6002165397766208, -0.6007035253772012, -0.6019765282742845, -0.6018680460156803, -0.6010888438668501, -0.601701768908935, -0.5998234114610749, -0.600542318833699, -0.6013584281022999, -0.6001534594812556, -0.6018259178867369, -0.6006751201175372, -0.6003416806244822, -0.6008784457132075, -0.6008489912861967, -0.6031788222475647, -0.6007272496199317, -0.603386702572797, -0.5998847547580053, -0.6012337369670537]\n"
          ],
          "name": "stdout"
        },
        {
          "output_type": "stream",
          "text": [
            "/usr/local/lib/python3.6/dist-packages/ipykernel_launcher.py:74: UserWarning: DEPRECATED: skimage.measure.compare_ssim has been moved to skimage.metrics.structural_similarity. It will be removed from skimage.measure in version 0.18.\n"
          ],
          "name": "stderr"
        },
        {
          "output_type": "stream",
          "text": [
            "Generation 0\n",
            "Max fitness value -0.5998234114610749\n"
          ],
          "name": "stdout"
        },
        {
          "output_type": "stream",
          "text": [
            "/usr/local/lib/python3.6/dist-packages/skimage/measure/_structural_similarity.py:17: UserWarning: Inputs have mismatched dtype.  Setting data_range based on im1.dtype.\n",
            "  **kwargs)\n"
          ],
          "name": "stderr"
        },
        {
          "output_type": "stream",
          "text": [
            "Generation 10\n",
            "Max fitness value -0.2092300900118719\n",
            "Generation 20\n",
            "Max fitness value 0.9690052197033905\n",
            "Generation 30\n",
            "Max fitness value 0.9714973333452399\n",
            "Generation 40\n",
            "Max fitness value 0.9720817110292501\n",
            "Generation 50\n",
            "Max fitness value 0.9727539288863118\n",
            "Generation 60\n",
            "Max fitness value 0.9727539288863118\n",
            "Generation 70\n",
            "Max fitness value 0.9730438725139803\n",
            "Generation 80\n",
            "Max fitness value 0.9730438725139803\n",
            "Generation 90\n",
            "Max fitness value 0.9730438725139803\n",
            "FITNESS DID NOT IMPROVE FOR 30 GENERATIONS\n",
            "Best adversarial image we could find: \n",
            "\n",
            "Left: adversarial \t Right: ground truth\n"
          ],
          "name": "stdout"
        },
        {
          "output_type": "stream",
          "text": [
            "/usr/local/lib/python3.6/dist-packages/ipykernel_launcher.py:134: UserWarning: DEPRECATED: skimage.measure.compare_ssim has been moved to skimage.metrics.structural_similarity. It will be removed from skimage.measure in version 0.18.\n"
          ],
          "name": "stderr"
        },
        {
          "output_type": "display_data",
          "data": {
            "image/png": "[encoded data removed]",
            "text/plain": [
              "<Figure size 432x288 with 2 Axes>"
            ]
          },
          "metadata": {
            "tags": [],
            "needs_background": "light"
          }
        },
        {
          "output_type": "stream",
          "text": [
            "True label: 0\n",
            "predicted label: 2\n",
            "Time:  231.70782327651978  seconds\n",
            "Initial fitness: \n",
            " [-0.48622379010637495, -0.5439337374844601, -0.42773517246128434, -0.5302037573714499, -0.5079860545827883, -0.5008313774115405, -0.4800257889835421, -0.49472101859386597, -0.44224987998031484, -0.5124167960747891, -0.5437820776264932, -0.4442677775951278, -0.49101346847251737, -0.5106837714997077, -0.49620921398386486, -0.523387280797339, -0.562502000331222, -0.4879150719728623, -0.4750806979608897, -0.5056282208683844, -0.5213454523445296, -0.4792421179296522, -0.507027451240475, -0.5002687300482511, -0.48790276693540024, -0.521736159059263, -0.5135958828122484, -0.4455860830392424, -0.500595549088564, -0.5504735545977997, -0.45787015599565106, -0.5378466423098346, -0.4590451047392202, -0.4820391633104478, -0.4693870184358587, -0.4622230330415975, -0.5105102920034233, -0.5146691764845727, -0.4398960281979063, -0.4654981700160424, -0.4339285312503377, -0.5370728951716593, -0.527158486613633, -0.47083027258204413, -0.5204621483150628, -0.4614868997096586, -0.5396127803154059, -0.5216759523294363, -0.5305950769205132, -0.5404695759469992]\n",
            "Generation 0\n",
            "Max fitness value -0.24985655837860624\n",
            "Generation 10\n",
            "Max fitness value 0.9335856097730612\n",
            "Generation 20\n",
            "Max fitness value 0.9940046188401017\n"
          ],
          "name": "stdout"
        }
      ]
    },
    {
      "cell_type": "markdown",
      "metadata": {
        "id": "XEMXgasB3Llv",
        "colab_type": "text"
      },
      "source": [
        "# Save files\n"
      ]
    },
    {
      "cell_type": "code",
      "metadata": {
        "id": "u43v4fe33RGZ",
        "colab_type": "code",
        "colab": {}
      },
      "source": [
        "import pickle\n",
        "file_ = open('GA_adv_cifar_QUADRANT_multicrossover', 'wb')\n",
        "pickle.dump(evolved_examples, file_)\n",
        "pickle.dump(times, file_)\n",
        "pickle.dump(ssim_values, file_)\n",
        "pickle.dump(fitness_of_evolved , file_)\n",
        "pickle.dump(predicted_class, file_)\n",
        "pickle.dump(number_of_rounds, file_)\n",
        "file_.close()\n",
        "\n",
        "print(f\"Max time: {np.max(times)}\")\n",
        "print(f\"Min time: {np.min(times)}\")\n",
        "print(f\"Mean time: {np.mean(times)}\")\n",
        "print(f\"Std time: {np.std(times)}\\n\")\n",
        "\n",
        "print(f\"Max fitness evolved: {np.max(fitness_of_evolved)}\")\n",
        "print(f\"Min fitness evolved:: {np.min(fitness_of_evolved)}\")\n",
        "print(f\"Mean fitness evolved: {np.mean(fitness_of_evolved)}\")\n",
        "print(f\"Std fitness evolved:: {np.std(fitness_of_evolved)}\\n\")\n",
        "\n",
        "print(f\"Max ssim: {np.max(ssim_values)}\")\n",
        "print(f\"Min ssim: {np.min(ssim_values)}\")\n",
        "print(f\"Mean ssim: {np.mean(ssim_values)}\")\n",
        "print(f\"Std ssim: {np.std(ssim_values)}\\n\")\n",
        "\n",
        "print(f\"Max ssim: {np.max(number_of_rounds)}\")\n",
        "print(f\"Min ssim: {np.min(number_of_rounds)}\")\n",
        "print(f\"Mean ssim: {np.mean(number_of_rounds)}\")\n",
        "print(f\"Std ssim: {np.std(number_of_rounds)}\\n\")\n",
        "\n",
        "\n",
        "\n",
        "\n",
        "print(f\"Percentage of adversarial founds sucessfully : {numb_of_adv_found/len(adversarial_y)} %\")\n",
        "print(f\"Percentage of adversarial founds after fitness not improving for 30 generations: {numb_of_found_after30/len(adversarial_y)} %\")\n"
      ],
      "execution_count": 0,
      "outputs": []
    },
    {
      "cell_type": "markdown",
      "metadata": {
        "id": "uQoHNMX_8nor",
        "colab_type": "text"
      },
      "source": [
        "Open adversarial"
      ]
    },
    {
      "cell_type": "code",
      "metadata": {
        "id": "rEK7GsD78oq5",
        "colab_type": "code",
        "colab": {}
      },
      "source": [
        "with open('GA_adv_cifar_QUADRANT_multicrossover', 'rb') as f:\n",
        "    evolved_examples = pickle.load(f)\n",
        "    times= pickle.load(f)\n",
        "    ssim_values = pickle.load(f)\n",
        "    fitness_of_evolved = pickle.load(f)\n",
        "    predicted_class = pickle.load(f)\n",
        "    number_of_rounds = pickle.load(f)"
      ],
      "execution_count": 0,
      "outputs": []
    },
    {
      "cell_type": "markdown",
      "metadata": {
        "id": "0e9R7ACErtqK",
        "colab_type": "text"
      },
      "source": [
        "# Examples of what functions do"
      ]
    },
    {
      "cell_type": "code",
      "metadata": {
        "id": "cpEVAzR7rtK8",
        "colab_type": "code",
        "colab": {}
      },
      "source": [
        "population = init_pop_from_sample(50,adversarial[15],adversarial_y[15][0])\n",
        "fitness = pop_fitness(model,np.expand_dims(population.reshape(population.shape[0],CIFAR_IMG,CIFAR_IMG),axis=3),img.reshape(CIFAR_IMG,CIFAR_IMG),adversarial_y[15][0])\n",
        "print(fitness)"
      ],
      "execution_count": 0,
      "outputs": []
    },
    {
      "cell_type": "code",
      "metadata": {
        "id": "0aYxCQLEu1BB",
        "colab_type": "code",
        "outputId": "6a29e5dc-27d0-4479-81b7-6e1288329285",
        "colab": {
          "base_uri": "https://localhost:8080/",
          "height": 317
        }
      },
      "source": [
        "plt.imshow(population[0].reshape(CIFAR_IMG,CIFAR_IMG))\n",
        "plt.show()\n",
        "print(f\"Class for this {adversarial_y[15][0]}\")\n",
        "print(model.predict(population[0].reshape(1,CIFAR_IMG,CIFAR_IMG,1) /255.0))"
      ],
      "execution_count": 0,
      "outputs": [
        {
          "output_type": "display_data",
          "data": {
            "image/png": "[encoded data removed]",
            "text/plain": [
              "<Figure size 432x288 with 1 Axes>"
            ]
          },
          "metadata": {
            "tags": [],
            "needs_background": "light"
          }
        },
        {
          "output_type": "stream",
          "text": [
            "Class for this 1\n",
            "[[2.2063480e-10 1.0000000e+00 6.6041472e-14 3.5760719e-12 3.9276270e-13\n",
            "  1.1313486e-13 8.8119643e-13 6.8588521e-13 1.9681285e-13 3.7839783e-08]]\n"
          ],
          "name": "stdout"
        }
      ]
    },
    {
      "cell_type": "code",
      "metadata": {
        "id": "xhxCaFZPGPpe",
        "colab_type": "code",
        "outputId": "35163672-1426-46f3-d021-b87dc280c722",
        "colab": {
          "base_uri": "https://localhost:8080/",
          "height": 85
        }
      },
      "source": [
        "parent1 = tournament(population, model, adversarial[15], adversarial_y[15]) \n",
        "parent2 = tournament(population, model, adversarial[15], adversarial_y[15])"
      ],
      "execution_count": 0,
      "outputs": [
        {
          "output_type": "stream",
          "text": [
            "/usr/local/lib/python3.6/dist-packages/ipykernel_launcher.py:16: UserWarning: DEPRECATED: skimage.measure.compare_ssim has been moved to skimage.metrics.structural_similarity. It will be removed from skimage.measure in version 0.18.\n",
            "  app.launch_new_instance()\n",
            "/usr/local/lib/python3.6/dist-packages/skimage/measure/_structural_similarity.py:17: UserWarning: Inputs have mismatched dtype.  Setting data_range based on im1.dtype.\n",
            "  **kwargs)\n"
          ],
          "name": "stderr"
        }
      ]
    },
    {
      "cell_type": "code",
      "metadata": {
        "id": "gORkePYLv4EW",
        "colab_type": "code",
        "outputId": "17422d1a-b936-43f2-a2c2-33f4cb500bf4",
        "colab": {
          "base_uri": "https://localhost:8080/",
          "height": 219
        }
      },
      "source": [
        "fd, idx =  plt.subplots(1,2)\n",
        "idx[0].imshow(parent1.reshape(CIFAR_IMG,CIFAR_IMG),cmap=\"gray\")\n",
        "idx[1].imshow(parent2.reshape(CIFAR_IMG,CIFAR_IMG),cmap=\"gray\")"
      ],
      "execution_count": 0,
      "outputs": [
        {
          "output_type": "execute_result",
          "data": {
            "text/plain": [
              "<matplotlib.image.AxesImage at 0x7f8f5ea68dd8>"
            ]
          },
          "metadata": {
            "tags": []
          },
          "execution_count": 47
        },
        {
          "output_type": "display_data",
          "data": {
            "image/png": "[encoded data removed]",
            "text/plain": [
              "<Figure size 432x288 with 2 Axes>"
            ]
          },
          "metadata": {
            "tags": [],
            "needs_background": "light"
          }
        }
      ]
    },
    {
      "cell_type": "code",
      "metadata": {
        "id": "HZJXShUyHIrS",
        "colab_type": "code",
        "outputId": "c26ae352-d1a1-4510-9da7-ae5e01d1ec43",
        "colab": {
          "base_uri": "https://localhost:8080/",
          "height": 85
        }
      },
      "source": [
        "child1, child2 = multi_crossover(parent1, parent2,adversarial[15]) # crossover \n",
        "#child1, child2 = add_noise(child1), add_noise(child2) # apply mutation to pixels "
      ],
      "execution_count": 0,
      "outputs": [
        {
          "output_type": "stream",
          "text": [
            "/usr/local/lib/python3.6/dist-packages/ipykernel_launcher.py:16: UserWarning: DEPRECATED: skimage.measure.compare_ssim has been moved to skimage.metrics.structural_similarity. It will be removed from skimage.measure in version 0.18.\n",
            "  app.launch_new_instance()\n",
            "/usr/local/lib/python3.6/dist-packages/skimage/measure/_structural_similarity.py:17: UserWarning: Inputs have mismatched dtype.  Setting data_range based on im1.dtype.\n",
            "  **kwargs)\n"
          ],
          "name": "stderr"
        }
      ]
    },
    {
      "cell_type": "code",
      "metadata": {
        "id": "72tQ7R_RHZzZ",
        "colab_type": "code",
        "outputId": "c81cdb63-ed10-42c2-d477-894c5e91bcf7",
        "colab": {
          "base_uri": "https://localhost:8080/",
          "height": 219
        }
      },
      "source": [
        "fd, idx =  plt.subplots(1,2)\n",
        "idx[0].imshow(child1.reshape(CIFAR_IMG,CIFAR_IMG),cmap=\"gray\")\n",
        "idx[1].imshow(child2.reshape(CIFAR_IMG,CIFAR_IMG),cmap=\"gray\")\n"
      ],
      "execution_count": 0,
      "outputs": [
        {
          "output_type": "execute_result",
          "data": {
            "text/plain": [
              "<matplotlib.image.AxesImage at 0x7f8f5e585550>"
            ]
          },
          "metadata": {
            "tags": []
          },
          "execution_count": 58
        },
        {
          "output_type": "display_data",
          "data": {
            "image/png": "[encoded data removed]",
            "text/plain": [
              "<Figure size 432x288 with 2 Axes>"
            ]
          },
          "metadata": {
            "tags": [],
            "needs_background": "light"
          }
        }
      ]
    },
    {
      "cell_type": "code",
      "metadata": {
        "id": "4a3pXLQSwZlT",
        "colab_type": "code",
        "colab": {}
      },
      "source": [
        "print(f\"diff between children {np.unique(child1-child2)}\")\n",
        "print(f\"diff between parents {np.unique(parent1-parent2)}\")\n",
        "print(f\"diff between p1 and c1 {np.unique(parent1-child1)}\")\n",
        "print(f\"diff between p1 and c2 {np.unique(parent1-child2)}\")\n",
        "print(f\"diff between p2 and c1 {np.unique(parent2-child1)}\")\n",
        "print(f\"diff between p2 and c2 {np.unique(parent2-child2)}\")"
      ],
      "execution_count": 0,
      "outputs": []
    },
    {
      "cell_type": "code",
      "metadata": {
        "id": "xEPQapUpILBr",
        "colab_type": "code",
        "outputId": "ac694765-e044-4f9f-82ee-9c599a2eb431",
        "colab": {
          "base_uri": "https://localhost:8080/",
          "height": 85
        }
      },
      "source": [
        "bb = choose_better_child(child1, child2,adversarial[15],adversarial_y[15][0],model)"
      ],
      "execution_count": 0,
      "outputs": [
        {
          "output_type": "stream",
          "text": [
            "/usr/local/lib/python3.6/dist-packages/ipykernel_launcher.py:16: UserWarning: DEPRECATED: skimage.measure.compare_ssim has been moved to skimage.metrics.structural_similarity. It will be removed from skimage.measure in version 0.18.\n",
            "  app.launch_new_instance()\n",
            "/usr/local/lib/python3.6/dist-packages/skimage/measure/_structural_similarity.py:17: UserWarning: Inputs have mismatched dtype.  Setting data_range based on im1.dtype.\n",
            "  **kwargs)\n"
          ],
          "name": "stderr"
        }
      ]
    },
    {
      "cell_type": "code",
      "metadata": {
        "id": "UCl4mvK99XYj",
        "colab_type": "code",
        "outputId": "fd9867bc-0c0a-486e-c393-ad74b8ef6298",
        "colab": {
          "base_uri": "https://localhost:8080/",
          "height": 122
        }
      },
      "source": [
        "fitness = pop_fitness(model,np.expand_dims(population.reshape(population.shape[0],CIFAR_IMG,CIFAR_IMG),axis=3),img.reshape(CIFAR_IMG,CIFAR_IMG),label) \n",
        "print(fitness)"
      ],
      "execution_count": 0,
      "outputs": [
        {
          "output_type": "stream",
          "text": [
            "/usr/local/lib/python3.6/dist-packages/ipykernel_launcher.py:16: UserWarning: DEPRECATED: skimage.measure.compare_ssim has been moved to skimage.metrics.structural_similarity. It will be removed from skimage.measure in version 0.18.\n",
            "  app.launch_new_instance()\n",
            "/usr/local/lib/python3.6/dist-packages/skimage/measure/_structural_similarity.py:17: UserWarning: Inputs have mismatched dtype.  Setting data_range based on im1.dtype.\n",
            "  **kwargs)\n"
          ],
          "name": "stderr"
        },
        {
          "output_type": "stream",
          "text": [
            "[-0.26002962878595726, -0.25999958545736684, -0.26007314251448344, -0.26004007622401076, -0.26003266487525345, -0.26011373574731095, -0.2599816460817825, -0.25998496480763594, -0.2600353571926644, -0.2600021864303609, -0.260040721413234, -0.2600228430135187, -0.26003768485830203, -0.26002701209750284, -0.26006302743228543, -0.2599796432991168, -0.2600043346069123, -0.26003024147792836, -0.2600466627237271, -0.26003812318804226, -0.2600652442884724, -0.2600447098702882, -0.2600085762943468, -0.26001327339828323, -0.2599806557454484, -0.26007237070197037, -0.25996000471207786, -0.2600457997287944, -0.2600101441535663, -0.26005323947618036, -0.2600554130353725, -0.2600860828123626, -0.26003997918862914, -0.26004537198733424, -0.2600515291553301, -0.2600503663988854, -0.26001231736237695, -0.2600170667581806, -0.2600851316879575, -0.2599960477747653, -0.260017809873727, -0.2600171997460062, -0.2600455137861651, -0.26001145913341955, -0.2600466317811507, -0.2600557191632309, -0.26006128108305554, -0.2599700462660023, -0.26005349311420517, -0.2600591984831575]\n"
          ],
          "name": "stdout"
        }
      ]
    }
  ]
}